{
 "cells": [
  {
   "cell_type": "code",
   "execution_count": 1,
   "id": "db038553",
   "metadata": {},
   "outputs": [
    {
     "name": "stdout",
     "output_type": "stream",
     "text": [
      "Model: EfficientNetb1 with 58 classes running on: tsrd\n",
      "The input image size is:(240, 240)\n"
     ]
    }
   ],
   "source": [
    "import torch\n",
    "import torchvision \n",
    "import os\n",
    "from torch.utils import data\n",
    "from PIL import Image\n",
    "import torchvision.datasets as dset\n",
    "import numpy as np\n",
    "\n",
    "import matplotlib.pyplot as plt\n",
    "import torch.nn as nn\n",
    "import torch.optim as optim\n",
    "import torch.nn.functional as F\n",
    "import torchvision.transforms as transforms\n",
    "from tqdm.notebook import tqdm\n",
    "import torchvision.models as models\n",
    "from torch.utils.tensorboard import SummaryWriter\n",
    "from datetime import datetime\n",
    "import matplotlib.pyplot as plt\n",
    "import math\n",
    "import pickle\n",
    "from torchsummary import summary\n",
    "\n",
    "device=torch.device('cuda' if torch.cuda.is_available() else 'cpu')\n",
    "#vital params\n",
    "\n",
    "\n",
    "\n",
    "dataset_name=\"tsrd\"\n",
    " \n",
    "model_name=\"EfficientNetb1\"\n",
    "version = \"b1\"\n",
    "\n",
    "base_model = [\n",
    "    # expand_ratio, channels, repeats, stride, kernel_size\n",
    "    [1, 16, 1, 1, 3],\n",
    "    [6, 24, 2, 2, 3],\n",
    "    [6, 40, 2, 2, 5],\n",
    "    [6, 80, 3, 2, 3],\n",
    "    [6, 112, 3, 1, 5],\n",
    "    [6, 192, 4, 2, 5],\n",
    "    [6, 320, 1, 1, 3],\n",
    "]\n",
    "\n",
    "phi_values = {\n",
    "    # tuple of: (phi_value, resolution, drop_rate)\n",
    "    \"b0\": (0, 224, 0.2),  # alpha, beta, gamma, depth = alpha ** phi\n",
    "    \"b1\": (0.5, 240, 0.2),\n",
    "    \"b2\": (1, 260, 0.3),\n",
    "    \"b3\": (2, 300, 0.3),\n",
    "    \"b4\": (3, 380, 0.4),\n",
    "    \"b5\": (4, 456, 0.4),\n",
    "    \"b6\": (5, 528, 0.5),\n",
    "    \"b7\": (6, 600, 0.5),\n",
    "}\n",
    "\n",
    "phi, res, drop_rate = phi_values[version]\n",
    "#hyperparameters\n",
    "batch_size=20\n",
    "num_classes=-1\n",
    "learning_rate=0.001\n",
    "image_size=(res,res)\n",
    "\n",
    "if dataset_name == \"tsrd\":\n",
    "    num_classes=58\n",
    "elif dataset_name == \"cifar10\":\n",
    "    num_classes=10\n",
    "\n",
    "\n",
    "print(\"Model: \"+model_name +\" with {} classes\".format(num_classes)+\n",
    "      \" running on: \"+dataset_name)\n",
    "print(\"The input image size is:{}\".format(image_size))"
   ]
  },
  {
   "cell_type": "code",
   "execution_count": 2,
   "id": "38958e92",
   "metadata": {},
   "outputs": [
    {
     "name": "stdout",
     "output_type": "stream",
     "text": [
      "Dataset size: Train: 4000, Valid: 998, Test: 1000\n",
      "{'0': 0, '1': 1, '10': 2, '11': 3, '12': 4, '13': 5, '14': 6, '15': 7, '16': 8, '17': 9, '18': 10, '19': 11, '2': 12, '20': 13, '21': 14, '22': 15, '23': 16, '24': 17, '25': 18, '26': 19, '27': 20, '28': 21, '29': 22, '3': 23, '30': 24, '31': 25, '32': 26, '33': 27, '34': 28, '35': 29, '36': 30, '37': 31, '38': 32, '39': 33, '4': 34, '40': 35, '41': 36, '42': 37, '43': 38, '44': 39, '45': 40, '46': 41, '47': 42, '48': 43, '49': 44, '5': 45, '50': 46, '51': 47, '52': 48, '53': 49, '54': 50, '55': 51, '56': 52, '57': 53, '6': 54, '7': 55, '8': 56, '9': 57}\n",
      "torch.Size([3, 240, 240])\n",
      "Datasets loaded and prepared\n"
     ]
    }
   ],
   "source": [
    "# load data through imagefolder\n",
    "if dataset_name == \"tsrd\":\n",
    "    main_transforms=transforms.Compose([\n",
    "        transforms.Resize(image_size),\n",
    "        transforms.ToTensor(),\n",
    "        transforms.Normalize(mean = [0.485, 0.456, 0.406] , std = [0.229, 0.224, 0.225]),\n",
    "\n",
    "    ])\n",
    "\n",
    "    train_dir = \"../../dataset/data\"\n",
    "    head_train_set = dset.ImageFolder(train_dir,transform=main_transforms)\n",
    "    train_set, valid_set = data.random_split(head_train_set, [5000, 998])\n",
    "    train_set, test_set = data.random_split(train_set,[4000, 1000])\n",
    "\n",
    "\n",
    "    train_dataloader=torch.utils.data.DataLoader(train_set,\n",
    "                                                 batch_size=batch_size,\n",
    "                                                 shuffle=True)\n",
    "\n",
    "    val_dataloader=torch.utils.data.DataLoader(valid_set,\n",
    "                                                 batch_size=batch_size,\n",
    "                                                 shuffle=True)\n",
    "\n",
    "    test_dataloader=torch.utils.data.DataLoader(test_set,\n",
    "                                                 batch_size=1,\n",
    "                                                 shuffle=True)\n",
    "elif dataset_name == \"cifar10\":\n",
    "    \n",
    "    main_transforms=transforms.Compose([\n",
    "        transforms.Resize(image_size),\n",
    "        transforms.ToTensor(),\n",
    "        transforms.Normalize(mean = [0.5, 0.5, 0.5] , std = [0.5, 0.5, 0.5]),\n",
    "\n",
    "    ])\n",
    "\n",
    "    bigtrain_set = torchvision.datasets.CIFAR10(root='./data', train=True, download=True, transform=main_transforms)\n",
    "    train_set, valid_set = data.random_split(bigtrain_set, [40000, 10000])\n",
    "    test_set = torchvision.datasets.CIFAR10(root='./data', train=False, download=True, transform=main_transforms)\n",
    "\n",
    "\n",
    "    train_dataloader = torch.utils.data.DataLoader(train_set, \n",
    "                                                   batch_size=batch_size, \n",
    "                                                   shuffle=True, num_workers=2)\n",
    "\n",
    "    val_dataloader = torch.utils.data.DataLoader(valid_set, \n",
    "                                                   batch_size=batch_size, \n",
    "                                                   shuffle=True, num_workers=2)\n",
    "\n",
    "    test_dataloader = torch.utils.data.DataLoader(test_set,\n",
    "                                                  batch_size=batch_size,\n",
    "                                                  shuffle=False, num_workers=2)\n",
    "\n",
    "\n",
    "\n",
    "\n",
    "print(\"Dataset size: Train: {}, Valid: {}, Test: {}\"\n",
    "      .format(len(train_set),len(valid_set),len(test_set)))\n",
    "\n",
    "print(head_train_set.class_to_idx)\n",
    "print(train_set[0][0].shape)\n",
    "print(\"Datasets loaded and prepared\")"
   ]
  },
  {
   "cell_type": "code",
   "execution_count": 3,
   "id": "1d6cfba4",
   "metadata": {},
   "outputs": [],
   "source": [
    "class CNNBlock(nn.Module):\n",
    "    def __init__(\n",
    "            self, in_channels, out_channels, kernel_size, stride, padding, groups=1\n",
    "    ):\n",
    "        super(CNNBlock, self).__init__()\n",
    "        self.cnn = nn.Conv2d(\n",
    "            in_channels,\n",
    "            out_channels,\n",
    "            kernel_size,\n",
    "            stride,\n",
    "            padding,\n",
    "            groups=groups,\n",
    "            bias=False,\n",
    "        )\n",
    "        self.bn = nn.BatchNorm2d(out_channels)\n",
    "        self.silu = nn.SiLU() # SiLU <-> Swish\n",
    "\n",
    "    def forward(self, x):\n",
    "        return self.silu(self.bn(self.cnn(x)))\n",
    "\n",
    "class SqueezeExcitation(nn.Module):\n",
    "    def __init__(self, in_channels, reduced_dim):\n",
    "        super(SqueezeExcitation, self).__init__()\n",
    "        self.se = nn.Sequential(\n",
    "            nn.AdaptiveAvgPool2d(1), # C x H x W -> C x 1 x 1\n",
    "            nn.Conv2d(in_channels, reduced_dim, 1),\n",
    "            nn.SiLU(),\n",
    "            nn.Conv2d(reduced_dim, in_channels, 1),\n",
    "            nn.Sigmoid(),\n",
    "        )\n",
    "\n",
    "    def forward(self, x):\n",
    "        return x * self.se(x)\n",
    "\n",
    "class InvertedResidualBlock(nn.Module):\n",
    "    def __init__(\n",
    "            self,\n",
    "            in_channels,\n",
    "            out_channels,\n",
    "            kernel_size,\n",
    "            stride,\n",
    "            padding,\n",
    "            expand_ratio,\n",
    "            reduction=4, # squeeze excitation\n",
    "            survival_prob=0.8, # for stochastic depth\n",
    "    ):\n",
    "        super(InvertedResidualBlock, self).__init__()\n",
    "        self.survival_prob = 0.8\n",
    "        self.use_residual = in_channels == out_channels and stride == 1\n",
    "        hidden_dim = in_channels * expand_ratio\n",
    "        self.expand = in_channels != hidden_dim\n",
    "        reduced_dim = int(in_channels / reduction)\n",
    "\n",
    "        if self.expand:\n",
    "            self.expand_conv = CNNBlock(\n",
    "                in_channels, hidden_dim, kernel_size=3, stride=1, padding=1,\n",
    "            )\n",
    "\n",
    "        self.conv = nn.Sequential(\n",
    "            CNNBlock(\n",
    "                hidden_dim, hidden_dim, kernel_size, stride, padding, groups=hidden_dim,\n",
    "            ),\n",
    "            SqueezeExcitation(hidden_dim, reduced_dim),\n",
    "            nn.Conv2d(hidden_dim, out_channels, 1, bias=False),\n",
    "            nn.BatchNorm2d(out_channels),\n",
    "        )\n",
    "\n",
    "    def stochastic_depth(self, x):\n",
    "        if not self.training:\n",
    "            return x\n",
    "\n",
    "        binary_tensor = torch.rand(x.shape[0], 1, 1, 1, device=x.device) < self.survival_prob\n",
    "        return torch.div(x, self.survival_prob) * binary_tensor\n",
    "\n",
    "    def forward(self, inputs):\n",
    "        x = self.expand_conv(inputs) if self.expand else inputs\n",
    "\n",
    "        if self.use_residual:\n",
    "            return self.stochastic_depth(self.conv(x)) + inputs\n",
    "        else:\n",
    "            return self.conv(x)\n",
    "\n",
    "\n",
    "class EfficientNet(nn.Module):\n",
    "    def __init__(self, version, num_classes):\n",
    "        super(EfficientNet, self).__init__()\n",
    "        width_factor, depth_factor, dropout_rate = self.calculate_factors(version)\n",
    "        last_channels = math.ceil(1280 * width_factor)\n",
    "        self.pool = nn.AdaptiveAvgPool2d(1)\n",
    "        self.features = self.create_features(width_factor, depth_factor, last_channels)\n",
    "        self.classifier = nn.Sequential(\n",
    "            nn.Dropout(dropout_rate),\n",
    "            nn.Linear(last_channels, num_classes),\n",
    "        )\n",
    "\n",
    "    def calculate_factors(self, version, alpha=1.2, beta=1.1):\n",
    "        phi, res, drop_rate = phi_values[version]\n",
    "        depth_factor = alpha ** phi\n",
    "        width_factor = beta ** phi\n",
    "        return width_factor, depth_factor, drop_rate\n",
    "\n",
    "    def create_features(self, width_factor, depth_factor, last_channels):\n",
    "        channels = int(32 * width_factor)\n",
    "        features = [CNNBlock(3, channels, 3, stride=2, padding=1)]\n",
    "        in_channels = channels\n",
    "\n",
    "        for expand_ratio, channels, repeats, stride, kernel_size in base_model:\n",
    "            out_channels = 4*math.ceil(int(channels*width_factor) / 4)\n",
    "            layers_repeats = math.ceil(repeats * depth_factor)\n",
    "\n",
    "            for layer in range(layers_repeats):\n",
    "                features.append(\n",
    "                    InvertedResidualBlock(\n",
    "                        in_channels,\n",
    "                        out_channels,\n",
    "                        expand_ratio=expand_ratio,\n",
    "                        stride = stride if layer == 0 else 1,\n",
    "                        kernel_size=kernel_size,\n",
    "                        padding=kernel_size//2, # if k=1:pad=0, k=3:pad=1, k=5:pad=2\n",
    "                    )\n",
    "                )\n",
    "                in_channels = out_channels\n",
    "\n",
    "        features.append(\n",
    "            CNNBlock(in_channels, last_channels, kernel_size=1, stride=1, padding=0)\n",
    "        )\n",
    "\n",
    "        return nn.Sequential(*features)\n",
    "\n",
    "    def forward(self, x):\n",
    "        x = self.pool(self.features(x))\n",
    "        return self.classifier(x.view(x.shape[0], -1))"
   ]
  },
  {
   "cell_type": "code",
   "execution_count": 4,
   "id": "fe94e559",
   "metadata": {},
   "outputs": [
    {
     "name": "stdout",
     "output_type": "stream",
     "text": [
      "[INFO] Register count_adap_avgpool() for <class 'torch.nn.modules.pooling.AdaptiveAvgPool2d'>.\n",
      "[INFO] Register count_convNd() for <class 'torch.nn.modules.conv.Conv2d'>.\n",
      "[INFO] Register count_bn() for <class 'torch.nn.modules.batchnorm.BatchNorm2d'>.\n",
      "\u001b[91m[WARN] Cannot find rule for <class 'torch.nn.modules.activation.SiLU'>. Treat it as zero Macs and zero Params.\u001b[00m\n",
      "\u001b[91m[WARN] Cannot find rule for <class '__main__.CNNBlock'>. Treat it as zero Macs and zero Params.\u001b[00m\n",
      "\u001b[91m[WARN] Cannot find rule for <class 'torch.nn.modules.activation.Sigmoid'>. Treat it as zero Macs and zero Params.\u001b[00m\n",
      "\u001b[91m[WARN] Cannot find rule for <class 'torch.nn.modules.container.Sequential'>. Treat it as zero Macs and zero Params.\u001b[00m\n",
      "\u001b[91m[WARN] Cannot find rule for <class '__main__.SqueezeExcitation'>. Treat it as zero Macs and zero Params.\u001b[00m\n",
      "\u001b[91m[WARN] Cannot find rule for <class '__main__.InvertedResidualBlock'>. Treat it as zero Macs and zero Params.\u001b[00m\n",
      "[INFO] Register zero_ops() for <class 'torch.nn.modules.dropout.Dropout'>.\n",
      "[INFO] Register count_linear() for <class 'torch.nn.modules.linear.Linear'>.\n",
      "\u001b[91m[WARN] Cannot find rule for <class '__main__.EfficientNet'>. Treat it as zero Macs and zero Params.\u001b[00m\n"
     ]
    },
    {
     "name": "stderr",
     "output_type": "stream",
     "text": [
      "C:\\Users\\2080Ti\\Anaconda3\\envs\\pytorch\\lib\\site-packages\\torch\\_tensor.py:575: UserWarning: floor_divide is deprecated, and will be removed in a future version of pytorch. It currently rounds toward 0 (like the 'trunc' function NOT 'floor'). This results in incorrect rounding for negative values.\n",
      "To keep the current behavior, use torch.div(a, b, rounding_mode='trunc'), or for actual floor division, use torch.div(a, b, rounding_mode='floor'). (Triggered internally at  ..\\aten\\src\\ATen\\native\\BinaryOps.cpp:467.)\n",
      "  return torch.floor_divide(self, other)\n"
     ]
    },
    {
     "name": "stdout",
     "output_type": "stream",
     "text": [
      "\u001b[34mThe model requires: 3.5580 GFLOPS\n",
      "\u001b[0m\n",
      "torch.Size([64, 3, 240, 240])\n",
      "torch.Size([64, 58])\n",
      "model shape ready\n",
      "----------------------------------------------------------------\n",
      "        Layer (type)               Output Shape         Param #\n",
      "================================================================\n",
      "            Conv2d-1         [-1, 33, 120, 120]             891\n",
      "       BatchNorm2d-2         [-1, 33, 120, 120]              66\n",
      "              SiLU-3         [-1, 33, 120, 120]               0\n",
      "          CNNBlock-4         [-1, 33, 120, 120]               0\n",
      "            Conv2d-5         [-1, 33, 120, 120]             297\n",
      "       BatchNorm2d-6         [-1, 33, 120, 120]              66\n",
      "              SiLU-7         [-1, 33, 120, 120]               0\n",
      "          CNNBlock-8         [-1, 33, 120, 120]               0\n",
      " AdaptiveAvgPool2d-9             [-1, 33, 1, 1]               0\n",
      "           Conv2d-10              [-1, 8, 1, 1]             272\n",
      "             SiLU-11              [-1, 8, 1, 1]               0\n",
      "           Conv2d-12             [-1, 33, 1, 1]             297\n",
      "          Sigmoid-13             [-1, 33, 1, 1]               0\n",
      "SqueezeExcitation-14         [-1, 33, 120, 120]               0\n",
      "           Conv2d-15         [-1, 16, 120, 120]             528\n",
      "      BatchNorm2d-16         [-1, 16, 120, 120]              32\n",
      "InvertedResidualBlock-17         [-1, 16, 120, 120]               0\n",
      "           Conv2d-18         [-1, 16, 120, 120]             144\n",
      "      BatchNorm2d-19         [-1, 16, 120, 120]              32\n",
      "             SiLU-20         [-1, 16, 120, 120]               0\n",
      "         CNNBlock-21         [-1, 16, 120, 120]               0\n",
      "AdaptiveAvgPool2d-22             [-1, 16, 1, 1]               0\n",
      "           Conv2d-23              [-1, 4, 1, 1]              68\n",
      "             SiLU-24              [-1, 4, 1, 1]               0\n",
      "           Conv2d-25             [-1, 16, 1, 1]              80\n",
      "          Sigmoid-26             [-1, 16, 1, 1]               0\n",
      "SqueezeExcitation-27         [-1, 16, 120, 120]               0\n",
      "           Conv2d-28         [-1, 16, 120, 120]             256\n",
      "      BatchNorm2d-29         [-1, 16, 120, 120]              32\n",
      "InvertedResidualBlock-30         [-1, 16, 120, 120]               0\n",
      "           Conv2d-31         [-1, 96, 120, 120]          13,824\n",
      "      BatchNorm2d-32         [-1, 96, 120, 120]             192\n",
      "             SiLU-33         [-1, 96, 120, 120]               0\n",
      "         CNNBlock-34         [-1, 96, 120, 120]               0\n",
      "           Conv2d-35           [-1, 96, 60, 60]             864\n",
      "      BatchNorm2d-36           [-1, 96, 60, 60]             192\n",
      "             SiLU-37           [-1, 96, 60, 60]               0\n",
      "         CNNBlock-38           [-1, 96, 60, 60]               0\n",
      "AdaptiveAvgPool2d-39             [-1, 96, 1, 1]               0\n",
      "           Conv2d-40              [-1, 4, 1, 1]             388\n",
      "             SiLU-41              [-1, 4, 1, 1]               0\n",
      "           Conv2d-42             [-1, 96, 1, 1]             480\n",
      "          Sigmoid-43             [-1, 96, 1, 1]               0\n",
      "SqueezeExcitation-44           [-1, 96, 60, 60]               0\n",
      "           Conv2d-45           [-1, 28, 60, 60]           2,688\n",
      "      BatchNorm2d-46           [-1, 28, 60, 60]              56\n",
      "InvertedResidualBlock-47           [-1, 28, 60, 60]               0\n",
      "           Conv2d-48          [-1, 168, 60, 60]          42,336\n",
      "      BatchNorm2d-49          [-1, 168, 60, 60]             336\n",
      "             SiLU-50          [-1, 168, 60, 60]               0\n",
      "         CNNBlock-51          [-1, 168, 60, 60]               0\n",
      "           Conv2d-52          [-1, 168, 60, 60]           1,512\n",
      "      BatchNorm2d-53          [-1, 168, 60, 60]             336\n",
      "             SiLU-54          [-1, 168, 60, 60]               0\n",
      "         CNNBlock-55          [-1, 168, 60, 60]               0\n",
      "AdaptiveAvgPool2d-56            [-1, 168, 1, 1]               0\n",
      "           Conv2d-57              [-1, 7, 1, 1]           1,183\n",
      "             SiLU-58              [-1, 7, 1, 1]               0\n",
      "           Conv2d-59            [-1, 168, 1, 1]           1,344\n",
      "          Sigmoid-60            [-1, 168, 1, 1]               0\n",
      "SqueezeExcitation-61          [-1, 168, 60, 60]               0\n",
      "           Conv2d-62           [-1, 28, 60, 60]           4,704\n",
      "      BatchNorm2d-63           [-1, 28, 60, 60]              56\n",
      "InvertedResidualBlock-64           [-1, 28, 60, 60]               0\n",
      "           Conv2d-65          [-1, 168, 60, 60]          42,336\n",
      "      BatchNorm2d-66          [-1, 168, 60, 60]             336\n",
      "             SiLU-67          [-1, 168, 60, 60]               0\n",
      "         CNNBlock-68          [-1, 168, 60, 60]               0\n",
      "           Conv2d-69          [-1, 168, 60, 60]           1,512\n",
      "      BatchNorm2d-70          [-1, 168, 60, 60]             336\n",
      "             SiLU-71          [-1, 168, 60, 60]               0\n",
      "         CNNBlock-72          [-1, 168, 60, 60]               0\n",
      "AdaptiveAvgPool2d-73            [-1, 168, 1, 1]               0\n",
      "           Conv2d-74              [-1, 7, 1, 1]           1,183\n",
      "             SiLU-75              [-1, 7, 1, 1]               0\n",
      "           Conv2d-76            [-1, 168, 1, 1]           1,344\n",
      "          Sigmoid-77            [-1, 168, 1, 1]               0\n",
      "SqueezeExcitation-78          [-1, 168, 60, 60]               0\n",
      "           Conv2d-79           [-1, 28, 60, 60]           4,704\n",
      "      BatchNorm2d-80           [-1, 28, 60, 60]              56\n",
      "InvertedResidualBlock-81           [-1, 28, 60, 60]               0\n",
      "           Conv2d-82          [-1, 168, 60, 60]          42,336\n",
      "      BatchNorm2d-83          [-1, 168, 60, 60]             336\n",
      "             SiLU-84          [-1, 168, 60, 60]               0\n",
      "         CNNBlock-85          [-1, 168, 60, 60]               0\n",
      "           Conv2d-86          [-1, 168, 30, 30]           4,200\n",
      "      BatchNorm2d-87          [-1, 168, 30, 30]             336\n",
      "             SiLU-88          [-1, 168, 30, 30]               0\n",
      "         CNNBlock-89          [-1, 168, 30, 30]               0\n",
      "AdaptiveAvgPool2d-90            [-1, 168, 1, 1]               0\n",
      "           Conv2d-91              [-1, 7, 1, 1]           1,183\n",
      "             SiLU-92              [-1, 7, 1, 1]               0\n",
      "           Conv2d-93            [-1, 168, 1, 1]           1,344\n",
      "          Sigmoid-94            [-1, 168, 1, 1]               0\n",
      "SqueezeExcitation-95          [-1, 168, 30, 30]               0\n",
      "           Conv2d-96           [-1, 44, 30, 30]           7,392\n",
      "      BatchNorm2d-97           [-1, 44, 30, 30]              88\n",
      "InvertedResidualBlock-98           [-1, 44, 30, 30]               0\n",
      "           Conv2d-99          [-1, 264, 30, 30]         104,544\n",
      "     BatchNorm2d-100          [-1, 264, 30, 30]             528\n",
      "            SiLU-101          [-1, 264, 30, 30]               0\n",
      "        CNNBlock-102          [-1, 264, 30, 30]               0\n",
      "          Conv2d-103          [-1, 264, 30, 30]           6,600\n",
      "     BatchNorm2d-104          [-1, 264, 30, 30]             528\n",
      "            SiLU-105          [-1, 264, 30, 30]               0\n",
      "        CNNBlock-106          [-1, 264, 30, 30]               0\n",
      "AdaptiveAvgPool2d-107            [-1, 264, 1, 1]               0\n",
      "          Conv2d-108             [-1, 11, 1, 1]           2,915\n",
      "            SiLU-109             [-1, 11, 1, 1]               0\n",
      "          Conv2d-110            [-1, 264, 1, 1]           3,168\n",
      "         Sigmoid-111            [-1, 264, 1, 1]               0\n",
      "SqueezeExcitation-112          [-1, 264, 30, 30]               0\n",
      "          Conv2d-113           [-1, 44, 30, 30]          11,616\n",
      "     BatchNorm2d-114           [-1, 44, 30, 30]              88\n",
      "InvertedResidualBlock-115           [-1, 44, 30, 30]               0\n",
      "          Conv2d-116          [-1, 264, 30, 30]         104,544\n",
      "     BatchNorm2d-117          [-1, 264, 30, 30]             528\n",
      "            SiLU-118          [-1, 264, 30, 30]               0\n",
      "        CNNBlock-119          [-1, 264, 30, 30]               0\n",
      "          Conv2d-120          [-1, 264, 30, 30]           6,600\n",
      "     BatchNorm2d-121          [-1, 264, 30, 30]             528\n",
      "            SiLU-122          [-1, 264, 30, 30]               0\n",
      "        CNNBlock-123          [-1, 264, 30, 30]               0\n",
      "AdaptiveAvgPool2d-124            [-1, 264, 1, 1]               0\n",
      "          Conv2d-125             [-1, 11, 1, 1]           2,915\n",
      "            SiLU-126             [-1, 11, 1, 1]               0\n",
      "          Conv2d-127            [-1, 264, 1, 1]           3,168\n",
      "         Sigmoid-128            [-1, 264, 1, 1]               0\n",
      "SqueezeExcitation-129          [-1, 264, 30, 30]               0\n",
      "          Conv2d-130           [-1, 44, 30, 30]          11,616\n",
      "     BatchNorm2d-131           [-1, 44, 30, 30]              88\n",
      "InvertedResidualBlock-132           [-1, 44, 30, 30]               0\n",
      "          Conv2d-133          [-1, 264, 30, 30]         104,544\n",
      "     BatchNorm2d-134          [-1, 264, 30, 30]             528\n",
      "            SiLU-135          [-1, 264, 30, 30]               0\n",
      "        CNNBlock-136          [-1, 264, 30, 30]               0\n",
      "          Conv2d-137          [-1, 264, 15, 15]           2,376\n",
      "     BatchNorm2d-138          [-1, 264, 15, 15]             528\n",
      "            SiLU-139          [-1, 264, 15, 15]               0\n",
      "        CNNBlock-140          [-1, 264, 15, 15]               0\n",
      "AdaptiveAvgPool2d-141            [-1, 264, 1, 1]               0\n",
      "          Conv2d-142             [-1, 11, 1, 1]           2,915\n",
      "            SiLU-143             [-1, 11, 1, 1]               0\n",
      "          Conv2d-144            [-1, 264, 1, 1]           3,168\n",
      "         Sigmoid-145            [-1, 264, 1, 1]               0\n",
      "SqueezeExcitation-146          [-1, 264, 15, 15]               0\n",
      "          Conv2d-147           [-1, 84, 15, 15]          22,176\n",
      "     BatchNorm2d-148           [-1, 84, 15, 15]             168\n",
      "InvertedResidualBlock-149           [-1, 84, 15, 15]               0\n",
      "          Conv2d-150          [-1, 504, 15, 15]         381,024\n",
      "     BatchNorm2d-151          [-1, 504, 15, 15]           1,008\n",
      "            SiLU-152          [-1, 504, 15, 15]               0\n",
      "        CNNBlock-153          [-1, 504, 15, 15]               0\n",
      "          Conv2d-154          [-1, 504, 15, 15]           4,536\n",
      "     BatchNorm2d-155          [-1, 504, 15, 15]           1,008\n",
      "            SiLU-156          [-1, 504, 15, 15]               0\n",
      "        CNNBlock-157          [-1, 504, 15, 15]               0\n",
      "AdaptiveAvgPool2d-158            [-1, 504, 1, 1]               0\n",
      "          Conv2d-159             [-1, 21, 1, 1]          10,605\n",
      "            SiLU-160             [-1, 21, 1, 1]               0\n",
      "          Conv2d-161            [-1, 504, 1, 1]          11,088\n",
      "         Sigmoid-162            [-1, 504, 1, 1]               0\n",
      "SqueezeExcitation-163          [-1, 504, 15, 15]               0\n",
      "          Conv2d-164           [-1, 84, 15, 15]          42,336\n",
      "     BatchNorm2d-165           [-1, 84, 15, 15]             168\n",
      "InvertedResidualBlock-166           [-1, 84, 15, 15]               0\n",
      "          Conv2d-167          [-1, 504, 15, 15]         381,024\n",
      "     BatchNorm2d-168          [-1, 504, 15, 15]           1,008\n",
      "            SiLU-169          [-1, 504, 15, 15]               0\n",
      "        CNNBlock-170          [-1, 504, 15, 15]               0\n",
      "          Conv2d-171          [-1, 504, 15, 15]           4,536\n",
      "     BatchNorm2d-172          [-1, 504, 15, 15]           1,008\n",
      "            SiLU-173          [-1, 504, 15, 15]               0\n",
      "        CNNBlock-174          [-1, 504, 15, 15]               0\n",
      "AdaptiveAvgPool2d-175            [-1, 504, 1, 1]               0\n",
      "          Conv2d-176             [-1, 21, 1, 1]          10,605\n",
      "            SiLU-177             [-1, 21, 1, 1]               0\n",
      "          Conv2d-178            [-1, 504, 1, 1]          11,088\n",
      "         Sigmoid-179            [-1, 504, 1, 1]               0\n",
      "SqueezeExcitation-180          [-1, 504, 15, 15]               0\n",
      "          Conv2d-181           [-1, 84, 15, 15]          42,336\n",
      "     BatchNorm2d-182           [-1, 84, 15, 15]             168\n",
      "InvertedResidualBlock-183           [-1, 84, 15, 15]               0\n",
      "          Conv2d-184          [-1, 504, 15, 15]         381,024\n",
      "     BatchNorm2d-185          [-1, 504, 15, 15]           1,008\n",
      "            SiLU-186          [-1, 504, 15, 15]               0\n",
      "        CNNBlock-187          [-1, 504, 15, 15]               0\n",
      "          Conv2d-188          [-1, 504, 15, 15]           4,536\n",
      "     BatchNorm2d-189          [-1, 504, 15, 15]           1,008\n",
      "            SiLU-190          [-1, 504, 15, 15]               0\n",
      "        CNNBlock-191          [-1, 504, 15, 15]               0\n",
      "AdaptiveAvgPool2d-192            [-1, 504, 1, 1]               0\n",
      "          Conv2d-193             [-1, 21, 1, 1]          10,605\n",
      "            SiLU-194             [-1, 21, 1, 1]               0\n",
      "          Conv2d-195            [-1, 504, 1, 1]          11,088\n",
      "         Sigmoid-196            [-1, 504, 1, 1]               0\n",
      "SqueezeExcitation-197          [-1, 504, 15, 15]               0\n",
      "          Conv2d-198           [-1, 84, 15, 15]          42,336\n",
      "     BatchNorm2d-199           [-1, 84, 15, 15]             168\n",
      "InvertedResidualBlock-200           [-1, 84, 15, 15]               0\n",
      "          Conv2d-201          [-1, 504, 15, 15]         381,024\n",
      "     BatchNorm2d-202          [-1, 504, 15, 15]           1,008\n",
      "            SiLU-203          [-1, 504, 15, 15]               0\n",
      "        CNNBlock-204          [-1, 504, 15, 15]               0\n",
      "          Conv2d-205          [-1, 504, 15, 15]          12,600\n",
      "     BatchNorm2d-206          [-1, 504, 15, 15]           1,008\n",
      "            SiLU-207          [-1, 504, 15, 15]               0\n",
      "        CNNBlock-208          [-1, 504, 15, 15]               0\n",
      "AdaptiveAvgPool2d-209            [-1, 504, 1, 1]               0\n",
      "          Conv2d-210             [-1, 21, 1, 1]          10,605\n",
      "            SiLU-211             [-1, 21, 1, 1]               0\n",
      "          Conv2d-212            [-1, 504, 1, 1]          11,088\n",
      "         Sigmoid-213            [-1, 504, 1, 1]               0\n",
      "SqueezeExcitation-214          [-1, 504, 15, 15]               0\n",
      "          Conv2d-215          [-1, 120, 15, 15]          60,480\n",
      "     BatchNorm2d-216          [-1, 120, 15, 15]             240\n",
      "InvertedResidualBlock-217          [-1, 120, 15, 15]               0\n",
      "          Conv2d-218          [-1, 720, 15, 15]         777,600\n",
      "     BatchNorm2d-219          [-1, 720, 15, 15]           1,440\n",
      "            SiLU-220          [-1, 720, 15, 15]               0\n",
      "        CNNBlock-221          [-1, 720, 15, 15]               0\n",
      "          Conv2d-222          [-1, 720, 15, 15]          18,000\n",
      "     BatchNorm2d-223          [-1, 720, 15, 15]           1,440\n",
      "            SiLU-224          [-1, 720, 15, 15]               0\n",
      "        CNNBlock-225          [-1, 720, 15, 15]               0\n",
      "AdaptiveAvgPool2d-226            [-1, 720, 1, 1]               0\n",
      "          Conv2d-227             [-1, 30, 1, 1]          21,630\n",
      "            SiLU-228             [-1, 30, 1, 1]               0\n",
      "          Conv2d-229            [-1, 720, 1, 1]          22,320\n",
      "         Sigmoid-230            [-1, 720, 1, 1]               0\n",
      "SqueezeExcitation-231          [-1, 720, 15, 15]               0\n",
      "          Conv2d-232          [-1, 120, 15, 15]          86,400\n",
      "     BatchNorm2d-233          [-1, 120, 15, 15]             240\n",
      "InvertedResidualBlock-234          [-1, 120, 15, 15]               0\n",
      "          Conv2d-235          [-1, 720, 15, 15]         777,600\n",
      "     BatchNorm2d-236          [-1, 720, 15, 15]           1,440\n",
      "            SiLU-237          [-1, 720, 15, 15]               0\n",
      "        CNNBlock-238          [-1, 720, 15, 15]               0\n",
      "          Conv2d-239          [-1, 720, 15, 15]          18,000\n",
      "     BatchNorm2d-240          [-1, 720, 15, 15]           1,440\n",
      "            SiLU-241          [-1, 720, 15, 15]               0\n",
      "        CNNBlock-242          [-1, 720, 15, 15]               0\n",
      "AdaptiveAvgPool2d-243            [-1, 720, 1, 1]               0\n",
      "          Conv2d-244             [-1, 30, 1, 1]          21,630\n",
      "            SiLU-245             [-1, 30, 1, 1]               0\n",
      "          Conv2d-246            [-1, 720, 1, 1]          22,320\n",
      "         Sigmoid-247            [-1, 720, 1, 1]               0\n",
      "SqueezeExcitation-248          [-1, 720, 15, 15]               0\n",
      "          Conv2d-249          [-1, 120, 15, 15]          86,400\n",
      "     BatchNorm2d-250          [-1, 120, 15, 15]             240\n",
      "InvertedResidualBlock-251          [-1, 120, 15, 15]               0\n",
      "          Conv2d-252          [-1, 720, 15, 15]         777,600\n",
      "     BatchNorm2d-253          [-1, 720, 15, 15]           1,440\n",
      "            SiLU-254          [-1, 720, 15, 15]               0\n",
      "        CNNBlock-255          [-1, 720, 15, 15]               0\n",
      "          Conv2d-256          [-1, 720, 15, 15]          18,000\n",
      "     BatchNorm2d-257          [-1, 720, 15, 15]           1,440\n",
      "            SiLU-258          [-1, 720, 15, 15]               0\n",
      "        CNNBlock-259          [-1, 720, 15, 15]               0\n",
      "AdaptiveAvgPool2d-260            [-1, 720, 1, 1]               0\n",
      "          Conv2d-261             [-1, 30, 1, 1]          21,630\n",
      "            SiLU-262             [-1, 30, 1, 1]               0\n",
      "          Conv2d-263            [-1, 720, 1, 1]          22,320\n",
      "         Sigmoid-264            [-1, 720, 1, 1]               0\n",
      "SqueezeExcitation-265          [-1, 720, 15, 15]               0\n",
      "          Conv2d-266          [-1, 120, 15, 15]          86,400\n",
      "     BatchNorm2d-267          [-1, 120, 15, 15]             240\n",
      "InvertedResidualBlock-268          [-1, 120, 15, 15]               0\n",
      "          Conv2d-269          [-1, 720, 15, 15]         777,600\n",
      "     BatchNorm2d-270          [-1, 720, 15, 15]           1,440\n",
      "            SiLU-271          [-1, 720, 15, 15]               0\n",
      "        CNNBlock-272          [-1, 720, 15, 15]               0\n",
      "          Conv2d-273            [-1, 720, 8, 8]          18,000\n",
      "     BatchNorm2d-274            [-1, 720, 8, 8]           1,440\n",
      "            SiLU-275            [-1, 720, 8, 8]               0\n",
      "        CNNBlock-276            [-1, 720, 8, 8]               0\n",
      "AdaptiveAvgPool2d-277            [-1, 720, 1, 1]               0\n",
      "          Conv2d-278             [-1, 30, 1, 1]          21,630\n",
      "            SiLU-279             [-1, 30, 1, 1]               0\n",
      "          Conv2d-280            [-1, 720, 1, 1]          22,320\n",
      "         Sigmoid-281            [-1, 720, 1, 1]               0\n",
      "SqueezeExcitation-282            [-1, 720, 8, 8]               0\n",
      "          Conv2d-283            [-1, 204, 8, 8]         146,880\n",
      "     BatchNorm2d-284            [-1, 204, 8, 8]             408\n",
      "InvertedResidualBlock-285            [-1, 204, 8, 8]               0\n",
      "          Conv2d-286           [-1, 1224, 8, 8]       2,247,264\n",
      "     BatchNorm2d-287           [-1, 1224, 8, 8]           2,448\n",
      "            SiLU-288           [-1, 1224, 8, 8]               0\n",
      "        CNNBlock-289           [-1, 1224, 8, 8]               0\n",
      "          Conv2d-290           [-1, 1224, 8, 8]          30,600\n",
      "     BatchNorm2d-291           [-1, 1224, 8, 8]           2,448\n",
      "            SiLU-292           [-1, 1224, 8, 8]               0\n",
      "        CNNBlock-293           [-1, 1224, 8, 8]               0\n",
      "AdaptiveAvgPool2d-294           [-1, 1224, 1, 1]               0\n",
      "          Conv2d-295             [-1, 51, 1, 1]          62,475\n",
      "            SiLU-296             [-1, 51, 1, 1]               0\n",
      "          Conv2d-297           [-1, 1224, 1, 1]          63,648\n",
      "         Sigmoid-298           [-1, 1224, 1, 1]               0\n",
      "SqueezeExcitation-299           [-1, 1224, 8, 8]               0\n",
      "          Conv2d-300            [-1, 204, 8, 8]         249,696\n",
      "     BatchNorm2d-301            [-1, 204, 8, 8]             408\n",
      "InvertedResidualBlock-302            [-1, 204, 8, 8]               0\n",
      "          Conv2d-303           [-1, 1224, 8, 8]       2,247,264\n",
      "     BatchNorm2d-304           [-1, 1224, 8, 8]           2,448\n",
      "            SiLU-305           [-1, 1224, 8, 8]               0\n",
      "        CNNBlock-306           [-1, 1224, 8, 8]               0\n",
      "          Conv2d-307           [-1, 1224, 8, 8]          30,600\n",
      "     BatchNorm2d-308           [-1, 1224, 8, 8]           2,448\n",
      "            SiLU-309           [-1, 1224, 8, 8]               0\n",
      "        CNNBlock-310           [-1, 1224, 8, 8]               0\n",
      "AdaptiveAvgPool2d-311           [-1, 1224, 1, 1]               0\n",
      "          Conv2d-312             [-1, 51, 1, 1]          62,475\n",
      "            SiLU-313             [-1, 51, 1, 1]               0\n",
      "          Conv2d-314           [-1, 1224, 1, 1]          63,648\n",
      "         Sigmoid-315           [-1, 1224, 1, 1]               0\n",
      "SqueezeExcitation-316           [-1, 1224, 8, 8]               0\n",
      "          Conv2d-317            [-1, 204, 8, 8]         249,696\n",
      "     BatchNorm2d-318            [-1, 204, 8, 8]             408\n",
      "InvertedResidualBlock-319            [-1, 204, 8, 8]               0\n",
      "          Conv2d-320           [-1, 1224, 8, 8]       2,247,264\n",
      "     BatchNorm2d-321           [-1, 1224, 8, 8]           2,448\n",
      "            SiLU-322           [-1, 1224, 8, 8]               0\n",
      "        CNNBlock-323           [-1, 1224, 8, 8]               0\n",
      "          Conv2d-324           [-1, 1224, 8, 8]          30,600\n",
      "     BatchNorm2d-325           [-1, 1224, 8, 8]           2,448\n",
      "            SiLU-326           [-1, 1224, 8, 8]               0\n",
      "        CNNBlock-327           [-1, 1224, 8, 8]               0\n",
      "AdaptiveAvgPool2d-328           [-1, 1224, 1, 1]               0\n",
      "          Conv2d-329             [-1, 51, 1, 1]          62,475\n",
      "            SiLU-330             [-1, 51, 1, 1]               0\n",
      "          Conv2d-331           [-1, 1224, 1, 1]          63,648\n",
      "         Sigmoid-332           [-1, 1224, 1, 1]               0\n",
      "SqueezeExcitation-333           [-1, 1224, 8, 8]               0\n",
      "          Conv2d-334            [-1, 204, 8, 8]         249,696\n",
      "     BatchNorm2d-335            [-1, 204, 8, 8]             408\n",
      "InvertedResidualBlock-336            [-1, 204, 8, 8]               0\n",
      "          Conv2d-337           [-1, 1224, 8, 8]       2,247,264\n",
      "     BatchNorm2d-338           [-1, 1224, 8, 8]           2,448\n",
      "            SiLU-339           [-1, 1224, 8, 8]               0\n",
      "        CNNBlock-340           [-1, 1224, 8, 8]               0\n",
      "          Conv2d-341           [-1, 1224, 8, 8]          30,600\n",
      "     BatchNorm2d-342           [-1, 1224, 8, 8]           2,448\n",
      "            SiLU-343           [-1, 1224, 8, 8]               0\n",
      "        CNNBlock-344           [-1, 1224, 8, 8]               0\n",
      "AdaptiveAvgPool2d-345           [-1, 1224, 1, 1]               0\n",
      "          Conv2d-346             [-1, 51, 1, 1]          62,475\n",
      "            SiLU-347             [-1, 51, 1, 1]               0\n",
      "          Conv2d-348           [-1, 1224, 1, 1]          63,648\n",
      "         Sigmoid-349           [-1, 1224, 1, 1]               0\n",
      "SqueezeExcitation-350           [-1, 1224, 8, 8]               0\n",
      "          Conv2d-351            [-1, 204, 8, 8]         249,696\n",
      "     BatchNorm2d-352            [-1, 204, 8, 8]             408\n",
      "InvertedResidualBlock-353            [-1, 204, 8, 8]               0\n",
      "          Conv2d-354           [-1, 1224, 8, 8]       2,247,264\n",
      "     BatchNorm2d-355           [-1, 1224, 8, 8]           2,448\n",
      "            SiLU-356           [-1, 1224, 8, 8]               0\n",
      "        CNNBlock-357           [-1, 1224, 8, 8]               0\n",
      "          Conv2d-358           [-1, 1224, 8, 8]          11,016\n",
      "     BatchNorm2d-359           [-1, 1224, 8, 8]           2,448\n",
      "            SiLU-360           [-1, 1224, 8, 8]               0\n",
      "        CNNBlock-361           [-1, 1224, 8, 8]               0\n",
      "AdaptiveAvgPool2d-362           [-1, 1224, 1, 1]               0\n",
      "          Conv2d-363             [-1, 51, 1, 1]          62,475\n",
      "            SiLU-364             [-1, 51, 1, 1]               0\n",
      "          Conv2d-365           [-1, 1224, 1, 1]          63,648\n",
      "         Sigmoid-366           [-1, 1224, 1, 1]               0\n",
      "SqueezeExcitation-367           [-1, 1224, 8, 8]               0\n",
      "          Conv2d-368            [-1, 336, 8, 8]         411,264\n",
      "     BatchNorm2d-369            [-1, 336, 8, 8]             672\n",
      "InvertedResidualBlock-370            [-1, 336, 8, 8]               0\n",
      "          Conv2d-371           [-1, 2016, 8, 8]       6,096,384\n",
      "     BatchNorm2d-372           [-1, 2016, 8, 8]           4,032\n",
      "            SiLU-373           [-1, 2016, 8, 8]               0\n",
      "        CNNBlock-374           [-1, 2016, 8, 8]               0\n",
      "          Conv2d-375           [-1, 2016, 8, 8]          18,144\n",
      "     BatchNorm2d-376           [-1, 2016, 8, 8]           4,032\n",
      "            SiLU-377           [-1, 2016, 8, 8]               0\n",
      "        CNNBlock-378           [-1, 2016, 8, 8]               0\n",
      "AdaptiveAvgPool2d-379           [-1, 2016, 1, 1]               0\n",
      "          Conv2d-380             [-1, 84, 1, 1]         169,428\n",
      "            SiLU-381             [-1, 84, 1, 1]               0\n",
      "          Conv2d-382           [-1, 2016, 1, 1]         171,360\n",
      "         Sigmoid-383           [-1, 2016, 1, 1]               0\n",
      "SqueezeExcitation-384           [-1, 2016, 8, 8]               0\n",
      "          Conv2d-385            [-1, 336, 8, 8]         677,376\n",
      "     BatchNorm2d-386            [-1, 336, 8, 8]             672\n",
      "InvertedResidualBlock-387            [-1, 336, 8, 8]               0\n",
      "          Conv2d-388           [-1, 1343, 8, 8]         451,248\n",
      "     BatchNorm2d-389           [-1, 1343, 8, 8]           2,686\n",
      "            SiLU-390           [-1, 1343, 8, 8]               0\n",
      "        CNNBlock-391           [-1, 1343, 8, 8]               0\n",
      "AdaptiveAvgPool2d-392           [-1, 1343, 1, 1]               0\n",
      "         Dropout-393                 [-1, 1343]               0\n",
      "          Linear-394                   [-1, 58]          77,952\n",
      "================================================================\n",
      "Total params: 27,299,748\n",
      "Trainable params: 27,299,748\n",
      "Non-trainable params: 0\n",
      "----------------------------------------------------------------\n",
      "Input size (MB): 0.66\n",
      "Forward/backward pass size (MB): 383.04\n",
      "Params size (MB): 104.14\n",
      "Estimated Total Size (MB): 487.84\n",
      "----------------------------------------------------------------\n",
      "None\n",
      "model initialised\n"
     ]
    }
   ],
   "source": [
    "model = EfficientNet(\n",
    "    version=version,\n",
    "    num_classes=num_classes,\n",
    ").to(device)\n",
    "model = model.to(device)\n",
    "from thop import profile\n",
    "import colorama\n",
    "from colorama import Fore,Style\n",
    "def getGFLOPS(test_model):\n",
    "    model=test_model.to(device)\n",
    "    input = torch.randn(1, 3, res, res).to(device)\n",
    "    macs, params = profile(model, inputs=(input, ))\n",
    "\n",
    "    print(Fore.BLUE + \"The model requires: {:.4f} GFLOPS\".format(macs/1000_000_000))\n",
    "    print(Style.RESET_ALL)\n",
    "    return macs\n",
    "getGFLOPS(model)\n",
    "#pretesting model for shape\n",
    "x=torch.randn(64,3,res,res)\n",
    "x=x.to(device)\n",
    "print(x.shape)\n",
    "print(model(x).shape)\n",
    "print(\"model shape ready\")\n",
    "print(summary(model, input_size=(3, res, res)))\n",
    "#initailise network\n",
    "\n",
    "\n",
    "#loss and optimizer\n",
    "criterion=nn.CrossEntropyLoss()\n",
    "optimizer=optim.Adam(model.parameters(),lr=learning_rate)\n",
    "print(\"model initialised\")"
   ]
  },
  {
   "cell_type": "code",
   "execution_count": 6,
   "id": "592a8158",
   "metadata": {},
   "outputs": [
    {
     "name": "stdout",
     "output_type": "stream",
     "text": [
      "test defined\n",
      "early stop defined\n"
     ]
    }
   ],
   "source": [
    "# This is the testing part\n",
    "def get_n_params(model):\n",
    "    pp=0\n",
    "    for p in list(model.parameters()):\n",
    "        nn=1\n",
    "        for s in list(p.size()):\n",
    "            nn = nn*s\n",
    "        pp += nn\n",
    "    return pp\n",
    "get_n_params(model)\n",
    "\n",
    "def test(model, test_loader, istest= False, doprint=True):\n",
    "    model.eval()\n",
    "    test_loss = 0\n",
    "    correct = 0\n",
    "    TP=0\n",
    "    TN=0\n",
    "    FN=0\n",
    "    FP=0\n",
    "    test_loss = 0.0\n",
    "    \n",
    "    with torch.no_grad(): # disable gradient calculation for efficiency\n",
    "        for data, target in tqdm(test_loader):\n",
    "            # Prediction\n",
    "            data=data.to(device=device)\n",
    "            target=target.to(device=device)\n",
    "            optimizer.zero_grad()\n",
    "            \n",
    "            output = model(data)\n",
    "            loss=criterion(output,target)\n",
    "            \n",
    "            # Compute loss & accuracy\n",
    "            test_loss+=loss.item()*data.size(0)\n",
    "\n",
    "            \n",
    "            #test_loss += F.nll_loss(output, target, reduction='sum').item()  # sum up batch loss\n",
    "            pred = output.argmax(dim=1, keepdim=True)  # get the index of the max log-probability\n",
    "            correct += pred.eq(target.view_as(pred)).sum().item() # how many predictions in this batch are correct\n",
    "            \n",
    "            #print(\"pred={} , target={} , judge={}\".format(pred.item(),target.item(),pred.eq(target.view_as(pred)).sum().item()))\n",
    "\n",
    "            \n",
    "    #test_loss /= len(test_loader.dataset)\n",
    "\n",
    "        \n",
    "    # Log testing info\n",
    "    if istest and doprint:\n",
    "        \n",
    "        print('Loss: {}   Accuracy: {}/{} ({:.0f}%)'.format(test_loss,\n",
    "        correct, len(test_loader.dataset),\n",
    "        100. * correct / len(test_loader.dataset)))\n",
    "        print(\"Total parameters: {}\".format(get_n_params(model)))\n",
    "    elif doprint:\n",
    "        print('Accuracy: {}/{} ({:.0f}%)'.format(\n",
    "        correct, len(test_loader.dataset),\n",
    "        100. * correct / len(test_loader.dataset)))\n",
    "    return 100.0 * correct / len(test_loader.dataset)\n",
    "        \n",
    "\n",
    "print(\"test defined\")\n",
    "\n",
    "def testshouldearlystop(acclist,minepoch,epochwindow,accwindow):\n",
    "    runlen=len(acclist)\n",
    "    if(runlen<minepoch):\n",
    "        return False\n",
    "    elif(acclist[-1]>acclist[-2]):\n",
    "        return False\n",
    "    \n",
    "    watchwindow=acclist[-epochwindow:]\n",
    "    shouldjump=True\n",
    "    sum=0\n",
    "    for i in watchwindow:\n",
    "        sum+=i\n",
    "    avg = sum/epochwindow\n",
    "    for i in watchwindow:\n",
    "        if abs(i-avg)>(accwindow):\n",
    "            shouldjump=False\n",
    "    return shouldjump\n",
    "print(\"early stop defined\")"
   ]
  },
  {
   "cell_type": "code",
   "execution_count": 7,
   "id": "49606c1c",
   "metadata": {},
   "outputs": [
    {
     "name": "stdout",
     "output_type": "stream",
     "text": [
      "tensorboard_string:\n",
      "runs/EfficientNetb120211020203626\n",
      "grandstore_string:\n",
      "grandstore/tsrd_EfficientNetb120211020203626.pkl\n"
     ]
    }
   ],
   "source": [
    "now=datetime.now()\n",
    "dt_string = now.strftime(\"%Y%m%d%H%M%S\")\n",
    "\n",
    "tensorboard_string=\"runs/\"+model_name+dt_string\n",
    "grandstore_string=\"grandstore/\"+dataset_name+\"_\"+model_name+dt_string+\".pkl\"\n",
    "print(\"tensorboard_string:\")\n",
    "print(tensorboard_string)\n",
    "print(\"grandstore_string:\")\n",
    "print(grandstore_string)\n",
    "\n",
    "\n",
    "writer = SummaryWriter(tensorboard_string)\n"
   ]
  },
  {
   "cell_type": "code",
   "execution_count": 9,
   "id": "3316dc2c",
   "metadata": {},
   "outputs": [
    {
     "name": "stdout",
     "output_type": "stream",
     "text": [
      "Trainig prepared, check trainig params!\n"
     ]
    }
   ],
   "source": [
    "#This is the training part\n",
    "\n",
    "# Grand_store={\n",
    "#     'total_epoch_run':-1\n",
    "#     'topmodels':-1\n",
    "#     'lastmodel':-1\n",
    "#     'acclog':[]\n",
    "#     'maxacc':-1\n",
    "#     'minacc':101\n",
    "# }\n",
    "# train_epoch={\n",
    "#     \"numofepoch\":-1\n",
    "#     \"accuracy\":-1\n",
    "#     \"model_state\":model.state_dict(),\n",
    "#     \"optim_state\":optimizer.state_dict(),\n",
    "#     \"totaltrain_loss\":totaltrain_loss,\n",
    "#     \"totalvalid_loss\":totalvalid_loss\n",
    "# }\n",
    "\n",
    "def training(max_epoch=120, top_accuracy_track=3, grandstore={},\n",
    "             minepoch=30,epochwindow=10,accwindow=0.35):\n",
    "\n",
    "    grandstore['total_epoch_run']=0\n",
    "    grandstore['topmodels']=[]\n",
    "    grandstore['acclog']=[]\n",
    "    grandstore['maxacc']=-1\n",
    "    grandstore['minacc']=101\n",
    "    \n",
    "    for epoch in range(0,max_epoch):\n",
    "        \n",
    "        grandstore['total_epoch_run']=epoch+1\n",
    "        \n",
    "        train_epoch={\n",
    "        \"numofepoch\":grandstore['total_epoch_run']\n",
    "        }\n",
    "    \n",
    "        train_loss=0.0\n",
    "        valid_loss=0.0\n",
    "        print(\"Running epoch: {}\".format(epoch+1))\n",
    "\n",
    "        model.train()\n",
    "        totaltrain_loss=0\n",
    "        \n",
    "        #this is the training part\n",
    "        for data,target in tqdm(train_dataloader):\n",
    "            data=data.to(device=device)\n",
    "            target=target.to(device=device)\n",
    "            output = model(data)\n",
    "            loss = criterion(output, target)\n",
    "            optimizer.zero_grad()\n",
    "            loss.backward()\n",
    "            optimizer.step()\n",
    "            train_loss += loss.item()*data.size(0)\n",
    "            totaltrain_loss += train_loss\n",
    "\n",
    "        #this is the validation part\n",
    "        model.eval()\n",
    "        totalvalid_loss=0;\n",
    "        correct = 0\n",
    "        for data,target in tqdm(val_dataloader):\n",
    "            data=data.to(device=device)\n",
    "            target=target.to(device=device)\n",
    "            output=model(data)\n",
    "            loss=criterion(output,target)\n",
    "            valid_loss=loss.item()*data.size(0)\n",
    "            #train_loss = train_loss/len(train_dataloader.dataset)\n",
    "            #valid_loss = valid_loss/len(val_dataloader.dataset)\n",
    "            totalvalid_loss+=valid_loss\n",
    "            \n",
    "            pred = output.argmax(dim=1, keepdim=True)  # get the index of the max log-probability\n",
    "            correct += pred.eq(target.view_as(pred)).sum().item() # how many predictions in t\n",
    "        \n",
    "\n",
    "        training_accuracy=100. * correct / len(val_dataloader.dataset)\n",
    "        train_epoch[\"accuracy\"]=training_accuracy\n",
    "        train_epoch[\"totaltrain_loss\"]=totaltrain_loss\n",
    "        train_epoch[\"totalvalid_loss\"]=totalvalid_loss\n",
    "        \n",
    "        #writings to the GrandStore\n",
    "        \n",
    "        grandstore['acclog'].append(training_accuracy)\n",
    "        \n",
    "        if training_accuracy < grandstore['minacc']:\n",
    "            grandstore['minacc'] = training_accuracy\n",
    "            \n",
    "        if training_accuracy > grandstore['maxacc']:\n",
    "            grandstore['maxacc'] = training_accuracy\n",
    "        \n",
    "\n",
    "        if epoch < top_accuracy_track:\n",
    "            thisepochtestresult=test(model,test_dataloader,istest = True,doprint=False)\n",
    "            grandstore['topmodels'].append((training_accuracy,thisepochtestresult,epoch+1,train_epoch))\n",
    "            #if error print this\n",
    "            grandstore['topmodels'].sort()\n",
    "\n",
    "        elif training_accuracy > grandstore['topmodels'][0][0]:\n",
    "            thisepochtestresult=test(model,test_dataloader,istest = True,doprint=False)\n",
    "            grandstore['topmodels'][0]=(training_accuracy,thisepochtestresult,epoch+1,train_epoch)\n",
    "            #if error print this\n",
    "            grandstore['topmodels'].sort()\n",
    "\n",
    "        if epoch == (max_epoch-1):\n",
    "            thisepochtestresult=test(model,test_dataloader,istest = True,doprint=False)\n",
    "            grandstore['lastmodel']=(training_accuracy,thisepochtestresult,epoch+1,train_epoch)\n",
    "                     \n",
    "        writer.add_scalar('Training Loss',totaltrain_loss,global_step = epoch)\n",
    "        writer.add_scalar('Valid Loss',totalvalid_loss,global_step = epoch)\n",
    "        writer.add_scalar('Accuracy',training_accuracy,global_step = epoch)\n",
    "        \n",
    "        print('Accuracy: {:.2f}'.format(training_accuracy))\n",
    "        print('Training Loss: {:.6f} \\tValidation Loss: {:.6f}\\n'.format(totaltrain_loss, totalvalid_loss))\n",
    "        \n",
    "        #early stopping criteria\n",
    "        if(testshouldearlystop(acclist=grandstore['acclog'],\n",
    "                               minepoch = minepoch,\n",
    "                               epochwindow = epochwindow,\n",
    "                               accwindow = accwindow)):\n",
    "            print(\"early stop occured!!\")\n",
    "            thisepochtestresult=test(model,test_dataloader,istest = True,doprint=False)\n",
    "            grandstore['lastmodel']=(training_accuracy,thisepochtestresult,epoch+1,train_epoch)\n",
    "            return grandstore\n",
    "    \n",
    "    return grandstore\n",
    "        \n",
    "print(\"Trainig prepared, check trainig params!\")"
   ]
  },
  {
   "cell_type": "code",
   "execution_count": 10,
   "id": "d1f494cd",
   "metadata": {},
   "outputs": [
    {
     "name": "stdout",
     "output_type": "stream",
     "text": [
      "Running epoch: 1\n"
     ]
    },
    {
     "data": {
      "application/vnd.jupyter.widget-view+json": {
       "model_id": "55adf98215a04d06874dadf2c6b99705",
       "version_major": 2,
       "version_minor": 0
      },
      "text/plain": [
       "  0%|          | 0/200 [00:00<?, ?it/s]"
      ]
     },
     "metadata": {},
     "output_type": "display_data"
    },
    {
     "data": {
      "application/vnd.jupyter.widget-view+json": {
       "model_id": "dcf88561efb4411fb51939aa7954f024",
       "version_major": 2,
       "version_minor": 0
      },
      "text/plain": [
       "  0%|          | 0/50 [00:00<?, ?it/s]"
      ]
     },
     "metadata": {},
     "output_type": "display_data"
    },
    {
     "data": {
      "application/vnd.jupyter.widget-view+json": {
       "model_id": "6e43338c41f2415c86b44ee3dec3f3bd",
       "version_major": 2,
       "version_minor": 0
      },
      "text/plain": [
       "  0%|          | 0/1000 [00:00<?, ?it/s]"
      ]
     },
     "metadata": {},
     "output_type": "display_data"
    },
    {
     "name": "stdout",
     "output_type": "stream",
     "text": [
      "Accuracy: 21.64\n",
      "Training Loss: 1375363.682861 \tValidation Loss: 3242.682046\n",
      "\n",
      "Running epoch: 2\n"
     ]
    },
    {
     "data": {
      "application/vnd.jupyter.widget-view+json": {
       "model_id": "ff65c8d59e644332947d64ff9427391c",
       "version_major": 2,
       "version_minor": 0
      },
      "text/plain": [
       "  0%|          | 0/200 [00:00<?, ?it/s]"
      ]
     },
     "metadata": {},
     "output_type": "display_data"
    },
    {
     "data": {
      "application/vnd.jupyter.widget-view+json": {
       "model_id": "1869e305959d47c585169765246d4265",
       "version_major": 2,
       "version_minor": 0
      },
      "text/plain": [
       "  0%|          | 0/50 [00:00<?, ?it/s]"
      ]
     },
     "metadata": {},
     "output_type": "display_data"
    },
    {
     "data": {
      "application/vnd.jupyter.widget-view+json": {
       "model_id": "7a6fe737f2614d1282e76bfdb2027579",
       "version_major": 2,
       "version_minor": 0
      },
      "text/plain": [
       "  0%|          | 0/1000 [00:00<?, ?it/s]"
      ]
     },
     "metadata": {},
     "output_type": "display_data"
    },
    {
     "name": "stdout",
     "output_type": "stream",
     "text": [
      "Accuracy: 38.48\n",
      "Training Loss: 1070131.687982 \tValidation Loss: 2180.779894\n",
      "\n",
      "Running epoch: 3\n"
     ]
    },
    {
     "data": {
      "application/vnd.jupyter.widget-view+json": {
       "model_id": "6d7b626d14394db09b944c9a9e29b90a",
       "version_major": 2,
       "version_minor": 0
      },
      "text/plain": [
       "  0%|          | 0/200 [00:00<?, ?it/s]"
      ]
     },
     "metadata": {},
     "output_type": "display_data"
    },
    {
     "data": {
      "application/vnd.jupyter.widget-view+json": {
       "model_id": "302b3f2836204432a4cf17fce203f2fa",
       "version_major": 2,
       "version_minor": 0
      },
      "text/plain": [
       "  0%|          | 0/50 [00:00<?, ?it/s]"
      ]
     },
     "metadata": {},
     "output_type": "display_data"
    },
    {
     "data": {
      "application/vnd.jupyter.widget-view+json": {
       "model_id": "15d1574900b046a8b2bb1bc72f5c8235",
       "version_major": 2,
       "version_minor": 0
      },
      "text/plain": [
       "  0%|          | 0/1000 [00:00<?, ?it/s]"
      ]
     },
     "metadata": {},
     "output_type": "display_data"
    },
    {
     "name": "stdout",
     "output_type": "stream",
     "text": [
      "Accuracy: 63.23\n",
      "Training Loss: 799609.494432 \tValidation Loss: 1207.129499\n",
      "\n",
      "Running epoch: 4\n"
     ]
    },
    {
     "data": {
      "application/vnd.jupyter.widget-view+json": {
       "model_id": "bea815c8b294407384b2cf16a18a77e9",
       "version_major": 2,
       "version_minor": 0
      },
      "text/plain": [
       "  0%|          | 0/200 [00:00<?, ?it/s]"
      ]
     },
     "metadata": {},
     "output_type": "display_data"
    },
    {
     "data": {
      "application/vnd.jupyter.widget-view+json": {
       "model_id": "405bf2d7b97a4784a79fdcb0c6050e27",
       "version_major": 2,
       "version_minor": 0
      },
      "text/plain": [
       "  0%|          | 0/50 [00:00<?, ?it/s]"
      ]
     },
     "metadata": {},
     "output_type": "display_data"
    },
    {
     "data": {
      "application/vnd.jupyter.widget-view+json": {
       "model_id": "f1fae399a0eb485ea527485aeb5c01d5",
       "version_major": 2,
       "version_minor": 0
      },
      "text/plain": [
       "  0%|          | 0/1000 [00:00<?, ?it/s]"
      ]
     },
     "metadata": {},
     "output_type": "display_data"
    },
    {
     "name": "stdout",
     "output_type": "stream",
     "text": [
      "Accuracy: 81.26\n",
      "Training Loss: 450525.919155 \tValidation Loss: 643.492267\n",
      "\n",
      "Running epoch: 5\n"
     ]
    },
    {
     "data": {
      "application/vnd.jupyter.widget-view+json": {
       "model_id": "8ece5ef05a7b4a609f69aa17cba9aba7",
       "version_major": 2,
       "version_minor": 0
      },
      "text/plain": [
       "  0%|          | 0/200 [00:00<?, ?it/s]"
      ]
     },
     "metadata": {},
     "output_type": "display_data"
    },
    {
     "data": {
      "application/vnd.jupyter.widget-view+json": {
       "model_id": "c59d45ee78c8497ba40b332eab206d88",
       "version_major": 2,
       "version_minor": 0
      },
      "text/plain": [
       "  0%|          | 0/50 [00:00<?, ?it/s]"
      ]
     },
     "metadata": {},
     "output_type": "display_data"
    },
    {
     "data": {
      "application/vnd.jupyter.widget-view+json": {
       "model_id": "748f42e3debb44fea6eb355605f83be8",
       "version_major": 2,
       "version_minor": 0
      },
      "text/plain": [
       "  0%|          | 0/1000 [00:00<?, ?it/s]"
      ]
     },
     "metadata": {},
     "output_type": "display_data"
    },
    {
     "name": "stdout",
     "output_type": "stream",
     "text": [
      "Accuracy: 88.28\n",
      "Training Loss: 306117.106713 \tValidation Loss: 367.296510\n",
      "\n",
      "Running epoch: 6\n"
     ]
    },
    {
     "data": {
      "application/vnd.jupyter.widget-view+json": {
       "model_id": "0da206b1bdf04d9896caf97572c353b9",
       "version_major": 2,
       "version_minor": 0
      },
      "text/plain": [
       "  0%|          | 0/200 [00:00<?, ?it/s]"
      ]
     },
     "metadata": {},
     "output_type": "display_data"
    },
    {
     "data": {
      "application/vnd.jupyter.widget-view+json": {
       "model_id": "3d30697851a342c3b2de4548704eef97",
       "version_major": 2,
       "version_minor": 0
      },
      "text/plain": [
       "  0%|          | 0/50 [00:00<?, ?it/s]"
      ]
     },
     "metadata": {},
     "output_type": "display_data"
    },
    {
     "data": {
      "application/vnd.jupyter.widget-view+json": {
       "model_id": "a18815cf99e7451d9ab28c6ca5d1d231",
       "version_major": 2,
       "version_minor": 0
      },
      "text/plain": [
       "  0%|          | 0/1000 [00:00<?, ?it/s]"
      ]
     },
     "metadata": {},
     "output_type": "display_data"
    },
    {
     "name": "stdout",
     "output_type": "stream",
     "text": [
      "Accuracy: 92.79\n",
      "Training Loss: 199112.799070 \tValidation Loss: 235.332568\n",
      "\n",
      "Running epoch: 7\n"
     ]
    },
    {
     "data": {
      "application/vnd.jupyter.widget-view+json": {
       "model_id": "efc4eb225ab342e79588b0232044fb67",
       "version_major": 2,
       "version_minor": 0
      },
      "text/plain": [
       "  0%|          | 0/200 [00:00<?, ?it/s]"
      ]
     },
     "metadata": {},
     "output_type": "display_data"
    },
    {
     "data": {
      "application/vnd.jupyter.widget-view+json": {
       "model_id": "c8c1bcbd2f5040baa577428ff41e5528",
       "version_major": 2,
       "version_minor": 0
      },
      "text/plain": [
       "  0%|          | 0/50 [00:00<?, ?it/s]"
      ]
     },
     "metadata": {},
     "output_type": "display_data"
    },
    {
     "data": {
      "application/vnd.jupyter.widget-view+json": {
       "model_id": "4343e2ad9c564c12b39d9b67ab416070",
       "version_major": 2,
       "version_minor": 0
      },
      "text/plain": [
       "  0%|          | 0/1000 [00:00<?, ?it/s]"
      ]
     },
     "metadata": {},
     "output_type": "display_data"
    },
    {
     "name": "stdout",
     "output_type": "stream",
     "text": [
      "Accuracy: 92.18\n",
      "Training Loss: 145509.997029 \tValidation Loss: 222.894567\n",
      "\n",
      "Running epoch: 8\n"
     ]
    },
    {
     "data": {
      "application/vnd.jupyter.widget-view+json": {
       "model_id": "7390b62782f44faab26f914d38687b47",
       "version_major": 2,
       "version_minor": 0
      },
      "text/plain": [
       "  0%|          | 0/200 [00:00<?, ?it/s]"
      ]
     },
     "metadata": {},
     "output_type": "display_data"
    },
    {
     "data": {
      "application/vnd.jupyter.widget-view+json": {
       "model_id": "5d34da5e313f44e4a214fc968b15ecaa",
       "version_major": 2,
       "version_minor": 0
      },
      "text/plain": [
       "  0%|          | 0/50 [00:00<?, ?it/s]"
      ]
     },
     "metadata": {},
     "output_type": "display_data"
    },
    {
     "data": {
      "application/vnd.jupyter.widget-view+json": {
       "model_id": "becc7be40d8e4fc0b5460bc8c4480e77",
       "version_major": 2,
       "version_minor": 0
      },
      "text/plain": [
       "  0%|          | 0/1000 [00:00<?, ?it/s]"
      ]
     },
     "metadata": {},
     "output_type": "display_data"
    },
    {
     "name": "stdout",
     "output_type": "stream",
     "text": [
      "Accuracy: 95.69\n",
      "Training Loss: 102907.155250 \tValidation Loss: 132.914027\n",
      "\n",
      "Running epoch: 9\n"
     ]
    },
    {
     "data": {
      "application/vnd.jupyter.widget-view+json": {
       "model_id": "63e041c1914e47989a7918d7510ec349",
       "version_major": 2,
       "version_minor": 0
      },
      "text/plain": [
       "  0%|          | 0/200 [00:00<?, ?it/s]"
      ]
     },
     "metadata": {},
     "output_type": "display_data"
    },
    {
     "data": {
      "application/vnd.jupyter.widget-view+json": {
       "model_id": "ef64d9326c284437bb0569105fe0c85b",
       "version_major": 2,
       "version_minor": 0
      },
      "text/plain": [
       "  0%|          | 0/50 [00:00<?, ?it/s]"
      ]
     },
     "metadata": {},
     "output_type": "display_data"
    },
    {
     "data": {
      "application/vnd.jupyter.widget-view+json": {
       "model_id": "2dcd03bcded54e6ca2f947428a872192",
       "version_major": 2,
       "version_minor": 0
      },
      "text/plain": [
       "  0%|          | 0/1000 [00:00<?, ?it/s]"
      ]
     },
     "metadata": {},
     "output_type": "display_data"
    },
    {
     "name": "stdout",
     "output_type": "stream",
     "text": [
      "Accuracy: 96.59\n",
      "Training Loss: 85990.004765 \tValidation Loss: 110.131738\n",
      "\n",
      "Running epoch: 10\n"
     ]
    },
    {
     "data": {
      "application/vnd.jupyter.widget-view+json": {
       "model_id": "fe5c1f36afbc401c8b9232e5d5a6f7c0",
       "version_major": 2,
       "version_minor": 0
      },
      "text/plain": [
       "  0%|          | 0/200 [00:00<?, ?it/s]"
      ]
     },
     "metadata": {},
     "output_type": "display_data"
    },
    {
     "data": {
      "application/vnd.jupyter.widget-view+json": {
       "model_id": "d9ea193e9cf64deba3216dd1d3c3d723",
       "version_major": 2,
       "version_minor": 0
      },
      "text/plain": [
       "  0%|          | 0/50 [00:00<?, ?it/s]"
      ]
     },
     "metadata": {},
     "output_type": "display_data"
    },
    {
     "data": {
      "application/vnd.jupyter.widget-view+json": {
       "model_id": "ceaa9bf9b8a64cc6891cfcc021ed4115",
       "version_major": 2,
       "version_minor": 0
      },
      "text/plain": [
       "  0%|          | 0/1000 [00:00<?, ?it/s]"
      ]
     },
     "metadata": {},
     "output_type": "display_data"
    },
    {
     "name": "stdout",
     "output_type": "stream",
     "text": [
      "Accuracy: 95.99\n",
      "Training Loss: 72140.367720 \tValidation Loss: 105.958380\n",
      "\n",
      "Running epoch: 11\n"
     ]
    },
    {
     "data": {
      "application/vnd.jupyter.widget-view+json": {
       "model_id": "64a53f155fa44b6c91754b7f2f5ec8ad",
       "version_major": 2,
       "version_minor": 0
      },
      "text/plain": [
       "  0%|          | 0/200 [00:00<?, ?it/s]"
      ]
     },
     "metadata": {},
     "output_type": "display_data"
    },
    {
     "data": {
      "application/vnd.jupyter.widget-view+json": {
       "model_id": "84ff5f820d9e467182df58f625223075",
       "version_major": 2,
       "version_minor": 0
      },
      "text/plain": [
       "  0%|          | 0/50 [00:00<?, ?it/s]"
      ]
     },
     "metadata": {},
     "output_type": "display_data"
    },
    {
     "data": {
      "application/vnd.jupyter.widget-view+json": {
       "model_id": "66008c7f214c4998b9413ad04c1eb7fb",
       "version_major": 2,
       "version_minor": 0
      },
      "text/plain": [
       "  0%|          | 0/1000 [00:00<?, ?it/s]"
      ]
     },
     "metadata": {},
     "output_type": "display_data"
    },
    {
     "name": "stdout",
     "output_type": "stream",
     "text": [
      "Accuracy: 95.89\n",
      "Training Loss: 51887.649871 \tValidation Loss: 111.529167\n",
      "\n",
      "Running epoch: 12\n"
     ]
    },
    {
     "data": {
      "application/vnd.jupyter.widget-view+json": {
       "model_id": "8028e3a9e4764f77b5375dd0a6351779",
       "version_major": 2,
       "version_minor": 0
      },
      "text/plain": [
       "  0%|          | 0/200 [00:00<?, ?it/s]"
      ]
     },
     "metadata": {},
     "output_type": "display_data"
    },
    {
     "data": {
      "application/vnd.jupyter.widget-view+json": {
       "model_id": "2863ba7395cb48ddb06bfc12705b1c18",
       "version_major": 2,
       "version_minor": 0
      },
      "text/plain": [
       "  0%|          | 0/50 [00:00<?, ?it/s]"
      ]
     },
     "metadata": {},
     "output_type": "display_data"
    },
    {
     "data": {
      "application/vnd.jupyter.widget-view+json": {
       "model_id": "7958bd35029543a4974f312f0f999d89",
       "version_major": 2,
       "version_minor": 0
      },
      "text/plain": [
       "  0%|          | 0/1000 [00:00<?, ?it/s]"
      ]
     },
     "metadata": {},
     "output_type": "display_data"
    },
    {
     "name": "stdout",
     "output_type": "stream",
     "text": [
      "Accuracy: 99.10\n",
      "Training Loss: 42785.443180 \tValidation Loss: 53.263962\n",
      "\n",
      "Running epoch: 13\n"
     ]
    },
    {
     "data": {
      "application/vnd.jupyter.widget-view+json": {
       "model_id": "5c0bb30923d7445c85d77bff1c4d2a71",
       "version_major": 2,
       "version_minor": 0
      },
      "text/plain": [
       "  0%|          | 0/200 [00:00<?, ?it/s]"
      ]
     },
     "metadata": {},
     "output_type": "display_data"
    },
    {
     "data": {
      "application/vnd.jupyter.widget-view+json": {
       "model_id": "38b554408d354d6cbbe0dd731541a122",
       "version_major": 2,
       "version_minor": 0
      },
      "text/plain": [
       "  0%|          | 0/50 [00:00<?, ?it/s]"
      ]
     },
     "metadata": {},
     "output_type": "display_data"
    },
    {
     "data": {
      "application/vnd.jupyter.widget-view+json": {
       "model_id": "0455aa8a294543cb89579c7ae52852aa",
       "version_major": 2,
       "version_minor": 0
      },
      "text/plain": [
       "  0%|          | 0/1000 [00:00<?, ?it/s]"
      ]
     },
     "metadata": {},
     "output_type": "display_data"
    },
    {
     "name": "stdout",
     "output_type": "stream",
     "text": [
      "Accuracy: 98.10\n",
      "Training Loss: 40658.556282 \tValidation Loss: 49.290308\n",
      "\n",
      "Running epoch: 14\n"
     ]
    },
    {
     "data": {
      "application/vnd.jupyter.widget-view+json": {
       "model_id": "e846dc20ce4d44beac192b75f4dc6e70",
       "version_major": 2,
       "version_minor": 0
      },
      "text/plain": [
       "  0%|          | 0/200 [00:00<?, ?it/s]"
      ]
     },
     "metadata": {},
     "output_type": "display_data"
    },
    {
     "data": {
      "application/vnd.jupyter.widget-view+json": {
       "model_id": "2271d2e5c08a479d9f7db3206358677e",
       "version_major": 2,
       "version_minor": 0
      },
      "text/plain": [
       "  0%|          | 0/50 [00:00<?, ?it/s]"
      ]
     },
     "metadata": {},
     "output_type": "display_data"
    },
    {
     "data": {
      "application/vnd.jupyter.widget-view+json": {
       "model_id": "4f5b562201754c3cac4f000a4d60327c",
       "version_major": 2,
       "version_minor": 0
      },
      "text/plain": [
       "  0%|          | 0/1000 [00:00<?, ?it/s]"
      ]
     },
     "metadata": {},
     "output_type": "display_data"
    },
    {
     "name": "stdout",
     "output_type": "stream",
     "text": [
      "Accuracy: 96.99\n",
      "Training Loss: 26709.512357 \tValidation Loss: 98.638548\n",
      "\n",
      "Running epoch: 15\n"
     ]
    },
    {
     "data": {
      "application/vnd.jupyter.widget-view+json": {
       "model_id": "83d6fc5ff11448f0a1dcbc3d1aea2772",
       "version_major": 2,
       "version_minor": 0
      },
      "text/plain": [
       "  0%|          | 0/200 [00:00<?, ?it/s]"
      ]
     },
     "metadata": {},
     "output_type": "display_data"
    },
    {
     "data": {
      "application/vnd.jupyter.widget-view+json": {
       "model_id": "68c95ac6c2f24adfbaa64502bc820cfd",
       "version_major": 2,
       "version_minor": 0
      },
      "text/plain": [
       "  0%|          | 0/50 [00:00<?, ?it/s]"
      ]
     },
     "metadata": {},
     "output_type": "display_data"
    },
    {
     "data": {
      "application/vnd.jupyter.widget-view+json": {
       "model_id": "8c829c30e9864fddb79db08c6da173c5",
       "version_major": 2,
       "version_minor": 0
      },
      "text/plain": [
       "  0%|          | 0/1000 [00:00<?, ?it/s]"
      ]
     },
     "metadata": {},
     "output_type": "display_data"
    },
    {
     "name": "stdout",
     "output_type": "stream",
     "text": [
      "Accuracy: 98.60\n",
      "Training Loss: 37489.996780 \tValidation Loss: 53.629508\n",
      "\n",
      "Running epoch: 16\n"
     ]
    },
    {
     "data": {
      "application/vnd.jupyter.widget-view+json": {
       "model_id": "8154f440a50b4a9cb6b6813af91ff9a5",
       "version_major": 2,
       "version_minor": 0
      },
      "text/plain": [
       "  0%|          | 0/200 [00:00<?, ?it/s]"
      ]
     },
     "metadata": {},
     "output_type": "display_data"
    },
    {
     "data": {
      "application/vnd.jupyter.widget-view+json": {
       "model_id": "99985458a9014804a94b4ffc9410b1e3",
       "version_major": 2,
       "version_minor": 0
      },
      "text/plain": [
       "  0%|          | 0/50 [00:00<?, ?it/s]"
      ]
     },
     "metadata": {},
     "output_type": "display_data"
    },
    {
     "data": {
      "application/vnd.jupyter.widget-view+json": {
       "model_id": "9f12f2929ced480183daec6454335aa0",
       "version_major": 2,
       "version_minor": 0
      },
      "text/plain": [
       "  0%|          | 0/1000 [00:00<?, ?it/s]"
      ]
     },
     "metadata": {},
     "output_type": "display_data"
    },
    {
     "name": "stdout",
     "output_type": "stream",
     "text": [
      "Accuracy: 98.60\n",
      "Training Loss: 25174.047192 \tValidation Loss: 63.512824\n",
      "\n",
      "Running epoch: 17\n"
     ]
    },
    {
     "data": {
      "application/vnd.jupyter.widget-view+json": {
       "model_id": "b918b5365c9a40c3a06bae62893cbe2a",
       "version_major": 2,
       "version_minor": 0
      },
      "text/plain": [
       "  0%|          | 0/200 [00:00<?, ?it/s]"
      ]
     },
     "metadata": {},
     "output_type": "display_data"
    },
    {
     "data": {
      "application/vnd.jupyter.widget-view+json": {
       "model_id": "8c86c9d522954837a7f0a8cfea56f48e",
       "version_major": 2,
       "version_minor": 0
      },
      "text/plain": [
       "  0%|          | 0/50 [00:00<?, ?it/s]"
      ]
     },
     "metadata": {},
     "output_type": "display_data"
    },
    {
     "data": {
      "application/vnd.jupyter.widget-view+json": {
       "model_id": "0b50af10a9e6413c9c5bf16558eb2569",
       "version_major": 2,
       "version_minor": 0
      },
      "text/plain": [
       "  0%|          | 0/1000 [00:00<?, ?it/s]"
      ]
     },
     "metadata": {},
     "output_type": "display_data"
    },
    {
     "name": "stdout",
     "output_type": "stream",
     "text": [
      "Accuracy: 97.90\n",
      "Training Loss: 31209.520721 \tValidation Loss: 73.255356\n",
      "\n",
      "Running epoch: 18\n"
     ]
    },
    {
     "data": {
      "application/vnd.jupyter.widget-view+json": {
       "model_id": "6cfb991532bf42ec9bf335910ea47cd8",
       "version_major": 2,
       "version_minor": 0
      },
      "text/plain": [
       "  0%|          | 0/200 [00:00<?, ?it/s]"
      ]
     },
     "metadata": {},
     "output_type": "display_data"
    },
    {
     "data": {
      "application/vnd.jupyter.widget-view+json": {
       "model_id": "f613b32985e84300b8728a28fa65f720",
       "version_major": 2,
       "version_minor": 0
      },
      "text/plain": [
       "  0%|          | 0/50 [00:00<?, ?it/s]"
      ]
     },
     "metadata": {},
     "output_type": "display_data"
    },
    {
     "data": {
      "application/vnd.jupyter.widget-view+json": {
       "model_id": "37cf25d0eddf4823bfac3aace3b9c932",
       "version_major": 2,
       "version_minor": 0
      },
      "text/plain": [
       "  0%|          | 0/1000 [00:00<?, ?it/s]"
      ]
     },
     "metadata": {},
     "output_type": "display_data"
    },
    {
     "name": "stdout",
     "output_type": "stream",
     "text": [
      "Accuracy: 98.50\n",
      "Training Loss: 27968.078565 \tValidation Loss: 70.151200\n",
      "\n",
      "Running epoch: 19\n"
     ]
    },
    {
     "data": {
      "application/vnd.jupyter.widget-view+json": {
       "model_id": "59f3e40743bb4f6ab476d4c8d4adcfa3",
       "version_major": 2,
       "version_minor": 0
      },
      "text/plain": [
       "  0%|          | 0/200 [00:00<?, ?it/s]"
      ]
     },
     "metadata": {},
     "output_type": "display_data"
    },
    {
     "data": {
      "application/vnd.jupyter.widget-view+json": {
       "model_id": "6a7ecabf09654b72879ba81a3e3bc528",
       "version_major": 2,
       "version_minor": 0
      },
      "text/plain": [
       "  0%|          | 0/50 [00:00<?, ?it/s]"
      ]
     },
     "metadata": {},
     "output_type": "display_data"
    },
    {
     "data": {
      "application/vnd.jupyter.widget-view+json": {
       "model_id": "cc1ce87b97594a9aa1f9714e51e9eb3e",
       "version_major": 2,
       "version_minor": 0
      },
      "text/plain": [
       "  0%|          | 0/1000 [00:00<?, ?it/s]"
      ]
     },
     "metadata": {},
     "output_type": "display_data"
    },
    {
     "name": "stdout",
     "output_type": "stream",
     "text": [
      "Accuracy: 98.60\n",
      "Training Loss: 21274.166812 \tValidation Loss: 33.568034\n",
      "\n",
      "Running epoch: 20\n"
     ]
    },
    {
     "data": {
      "application/vnd.jupyter.widget-view+json": {
       "model_id": "7124955f08e24fb2b43db03d8acb8446",
       "version_major": 2,
       "version_minor": 0
      },
      "text/plain": [
       "  0%|          | 0/200 [00:00<?, ?it/s]"
      ]
     },
     "metadata": {},
     "output_type": "display_data"
    },
    {
     "data": {
      "application/vnd.jupyter.widget-view+json": {
       "model_id": "23067bf7f3e74ed4abdb4265d49efa64",
       "version_major": 2,
       "version_minor": 0
      },
      "text/plain": [
       "  0%|          | 0/50 [00:00<?, ?it/s]"
      ]
     },
     "metadata": {},
     "output_type": "display_data"
    },
    {
     "data": {
      "application/vnd.jupyter.widget-view+json": {
       "model_id": "ce18724653a144f1918662c4fd6132c9",
       "version_major": 2,
       "version_minor": 0
      },
      "text/plain": [
       "  0%|          | 0/1000 [00:00<?, ?it/s]"
      ]
     },
     "metadata": {},
     "output_type": "display_data"
    },
    {
     "name": "stdout",
     "output_type": "stream",
     "text": [
      "Accuracy: 98.80\n",
      "Training Loss: 14291.219191 \tValidation Loss: 28.185022\n",
      "\n",
      "Running epoch: 21\n"
     ]
    },
    {
     "data": {
      "application/vnd.jupyter.widget-view+json": {
       "model_id": "90e661aee28542719b9dccbe61fda85b",
       "version_major": 2,
       "version_minor": 0
      },
      "text/plain": [
       "  0%|          | 0/200 [00:00<?, ?it/s]"
      ]
     },
     "metadata": {},
     "output_type": "display_data"
    },
    {
     "data": {
      "application/vnd.jupyter.widget-view+json": {
       "model_id": "c3826257568b451ba6ca124f51bb5c70",
       "version_major": 2,
       "version_minor": 0
      },
      "text/plain": [
       "  0%|          | 0/50 [00:00<?, ?it/s]"
      ]
     },
     "metadata": {},
     "output_type": "display_data"
    },
    {
     "data": {
      "application/vnd.jupyter.widget-view+json": {
       "model_id": "5aeb8a7c7e084b3493695296577baaa5",
       "version_major": 2,
       "version_minor": 0
      },
      "text/plain": [
       "  0%|          | 0/1000 [00:00<?, ?it/s]"
      ]
     },
     "metadata": {},
     "output_type": "display_data"
    },
    {
     "name": "stdout",
     "output_type": "stream",
     "text": [
      "Accuracy: 99.20\n",
      "Training Loss: 20509.919627 \tValidation Loss: 22.469980\n",
      "\n",
      "Running epoch: 22\n"
     ]
    },
    {
     "data": {
      "application/vnd.jupyter.widget-view+json": {
       "model_id": "45f43e881d5e473195bc1f4bb434500e",
       "version_major": 2,
       "version_minor": 0
      },
      "text/plain": [
       "  0%|          | 0/200 [00:00<?, ?it/s]"
      ]
     },
     "metadata": {},
     "output_type": "display_data"
    },
    {
     "data": {
      "application/vnd.jupyter.widget-view+json": {
       "model_id": "211ecf6312d34822bb33fbc5786245ea",
       "version_major": 2,
       "version_minor": 0
      },
      "text/plain": [
       "  0%|          | 0/50 [00:00<?, ?it/s]"
      ]
     },
     "metadata": {},
     "output_type": "display_data"
    },
    {
     "data": {
      "application/vnd.jupyter.widget-view+json": {
       "model_id": "258d4f5df1334a1f8fc29a3eff6ff595",
       "version_major": 2,
       "version_minor": 0
      },
      "text/plain": [
       "  0%|          | 0/1000 [00:00<?, ?it/s]"
      ]
     },
     "metadata": {},
     "output_type": "display_data"
    },
    {
     "name": "stdout",
     "output_type": "stream",
     "text": [
      "Accuracy: 99.30\n",
      "Training Loss: 17199.567156 \tValidation Loss: 31.413655\n",
      "\n",
      "Running epoch: 23\n"
     ]
    },
    {
     "data": {
      "application/vnd.jupyter.widget-view+json": {
       "model_id": "30d5b7adc2254153a4342bbaa62807a3",
       "version_major": 2,
       "version_minor": 0
      },
      "text/plain": [
       "  0%|          | 0/200 [00:00<?, ?it/s]"
      ]
     },
     "metadata": {},
     "output_type": "display_data"
    },
    {
     "data": {
      "application/vnd.jupyter.widget-view+json": {
       "model_id": "84f0e6eac8e849c5a4c068ce2ebacf8b",
       "version_major": 2,
       "version_minor": 0
      },
      "text/plain": [
       "  0%|          | 0/50 [00:00<?, ?it/s]"
      ]
     },
     "metadata": {},
     "output_type": "display_data"
    },
    {
     "name": "stdout",
     "output_type": "stream",
     "text": [
      "Accuracy: 98.60\n",
      "Training Loss: 10100.450523 \tValidation Loss: 40.253435\n",
      "\n",
      "Running epoch: 24\n"
     ]
    },
    {
     "data": {
      "application/vnd.jupyter.widget-view+json": {
       "model_id": "464e54c20b244e819bc705b3fdc2a1c4",
       "version_major": 2,
       "version_minor": 0
      },
      "text/plain": [
       "  0%|          | 0/200 [00:00<?, ?it/s]"
      ]
     },
     "metadata": {},
     "output_type": "display_data"
    },
    {
     "data": {
      "application/vnd.jupyter.widget-view+json": {
       "model_id": "9de9ea4ae6ec4320b0d60a1f414fc10b",
       "version_major": 2,
       "version_minor": 0
      },
      "text/plain": [
       "  0%|          | 0/50 [00:00<?, ?it/s]"
      ]
     },
     "metadata": {},
     "output_type": "display_data"
    },
    {
     "name": "stdout",
     "output_type": "stream",
     "text": [
      "Accuracy: 98.50\n",
      "Training Loss: 26621.787208 \tValidation Loss: 58.681133\n",
      "\n",
      "Running epoch: 25\n"
     ]
    },
    {
     "data": {
      "application/vnd.jupyter.widget-view+json": {
       "model_id": "42b42a35b0114c74a56925e4420b3f83",
       "version_major": 2,
       "version_minor": 0
      },
      "text/plain": [
       "  0%|          | 0/200 [00:00<?, ?it/s]"
      ]
     },
     "metadata": {},
     "output_type": "display_data"
    },
    {
     "data": {
      "application/vnd.jupyter.widget-view+json": {
       "model_id": "f6d5bc1fc23244d3bd297af6714dab21",
       "version_major": 2,
       "version_minor": 0
      },
      "text/plain": [
       "  0%|          | 0/50 [00:00<?, ?it/s]"
      ]
     },
     "metadata": {},
     "output_type": "display_data"
    },
    {
     "data": {
      "application/vnd.jupyter.widget-view+json": {
       "model_id": "3460972ee331445587646b08393c9b4a",
       "version_major": 2,
       "version_minor": 0
      },
      "text/plain": [
       "  0%|          | 0/1000 [00:00<?, ?it/s]"
      ]
     },
     "metadata": {},
     "output_type": "display_data"
    },
    {
     "name": "stdout",
     "output_type": "stream",
     "text": [
      "Accuracy: 99.70\n",
      "Training Loss: 13177.953667 \tValidation Loss: 13.443736\n",
      "\n",
      "Running epoch: 26\n"
     ]
    },
    {
     "data": {
      "application/vnd.jupyter.widget-view+json": {
       "model_id": "3cbd5d0065084e0abf8086bb3d201c74",
       "version_major": 2,
       "version_minor": 0
      },
      "text/plain": [
       "  0%|          | 0/200 [00:00<?, ?it/s]"
      ]
     },
     "metadata": {},
     "output_type": "display_data"
    },
    {
     "data": {
      "application/vnd.jupyter.widget-view+json": {
       "model_id": "32a1a04a24b8405499c60a9e50b20b9a",
       "version_major": 2,
       "version_minor": 0
      },
      "text/plain": [
       "  0%|          | 0/50 [00:00<?, ?it/s]"
      ]
     },
     "metadata": {},
     "output_type": "display_data"
    },
    {
     "data": {
      "application/vnd.jupyter.widget-view+json": {
       "model_id": "e5f39d133abc4bee92e8507ab9250959",
       "version_major": 2,
       "version_minor": 0
      },
      "text/plain": [
       "  0%|          | 0/1000 [00:00<?, ?it/s]"
      ]
     },
     "metadata": {},
     "output_type": "display_data"
    },
    {
     "name": "stdout",
     "output_type": "stream",
     "text": [
      "Accuracy: 99.00\n",
      "Training Loss: 8262.826373 \tValidation Loss: 26.008474\n",
      "\n",
      "Running epoch: 27\n"
     ]
    },
    {
     "data": {
      "application/vnd.jupyter.widget-view+json": {
       "model_id": "35b5a086a35645499519cf419ff2c5e9",
       "version_major": 2,
       "version_minor": 0
      },
      "text/plain": [
       "  0%|          | 0/200 [00:00<?, ?it/s]"
      ]
     },
     "metadata": {},
     "output_type": "display_data"
    },
    {
     "data": {
      "application/vnd.jupyter.widget-view+json": {
       "model_id": "46513cdf0808496eb6e72debe12d90a2",
       "version_major": 2,
       "version_minor": 0
      },
      "text/plain": [
       "  0%|          | 0/50 [00:00<?, ?it/s]"
      ]
     },
     "metadata": {},
     "output_type": "display_data"
    },
    {
     "name": "stdout",
     "output_type": "stream",
     "text": [
      "Accuracy: 99.00\n",
      "Training Loss: 22507.469573 \tValidation Loss: 23.704202\n",
      "\n",
      "Running epoch: 28\n"
     ]
    },
    {
     "data": {
      "application/vnd.jupyter.widget-view+json": {
       "model_id": "424209dd81f3462ab65b3827f2419aac",
       "version_major": 2,
       "version_minor": 0
      },
      "text/plain": [
       "  0%|          | 0/200 [00:00<?, ?it/s]"
      ]
     },
     "metadata": {},
     "output_type": "display_data"
    },
    {
     "data": {
      "application/vnd.jupyter.widget-view+json": {
       "model_id": "64bd797e40d1447ca8f35bdb768e88b6",
       "version_major": 2,
       "version_minor": 0
      },
      "text/plain": [
       "  0%|          | 0/50 [00:00<?, ?it/s]"
      ]
     },
     "metadata": {},
     "output_type": "display_data"
    },
    {
     "data": {
      "application/vnd.jupyter.widget-view+json": {
       "model_id": "f69533fc74b443cdb8dd786abec13080",
       "version_major": 2,
       "version_minor": 0
      },
      "text/plain": [
       "  0%|          | 0/1000 [00:00<?, ?it/s]"
      ]
     },
     "metadata": {},
     "output_type": "display_data"
    },
    {
     "name": "stdout",
     "output_type": "stream",
     "text": [
      "Accuracy: 99.70\n",
      "Training Loss: 18328.498835 \tValidation Loss: 9.188541\n",
      "\n",
      "Running epoch: 29\n"
     ]
    },
    {
     "data": {
      "application/vnd.jupyter.widget-view+json": {
       "model_id": "235ae0a297f1490d87bc7dd2cd99ffa1",
       "version_major": 2,
       "version_minor": 0
      },
      "text/plain": [
       "  0%|          | 0/200 [00:00<?, ?it/s]"
      ]
     },
     "metadata": {},
     "output_type": "display_data"
    },
    {
     "data": {
      "application/vnd.jupyter.widget-view+json": {
       "model_id": "dd38c7abbfe143169648a1d1dc20f449",
       "version_major": 2,
       "version_minor": 0
      },
      "text/plain": [
       "  0%|          | 0/50 [00:00<?, ?it/s]"
      ]
     },
     "metadata": {},
     "output_type": "display_data"
    },
    {
     "name": "stdout",
     "output_type": "stream",
     "text": [
      "Accuracy: 98.00\n",
      "Training Loss: 19687.382367 \tValidation Loss: 64.586623\n",
      "\n",
      "Running epoch: 30\n"
     ]
    },
    {
     "data": {
      "application/vnd.jupyter.widget-view+json": {
       "model_id": "97b357c5fa804b6193d65c5088b19dfd",
       "version_major": 2,
       "version_minor": 0
      },
      "text/plain": [
       "  0%|          | 0/200 [00:00<?, ?it/s]"
      ]
     },
     "metadata": {},
     "output_type": "display_data"
    },
    {
     "data": {
      "application/vnd.jupyter.widget-view+json": {
       "model_id": "3dfc6bb90c9846e5ac8f4b0791aa0c27",
       "version_major": 2,
       "version_minor": 0
      },
      "text/plain": [
       "  0%|          | 0/50 [00:00<?, ?it/s]"
      ]
     },
     "metadata": {},
     "output_type": "display_data"
    },
    {
     "data": {
      "application/vnd.jupyter.widget-view+json": {
       "model_id": "e5079ab1718d4b14a3dd3fdae436d962",
       "version_major": 2,
       "version_minor": 0
      },
      "text/plain": [
       "  0%|          | 0/1000 [00:00<?, ?it/s]"
      ]
     },
     "metadata": {},
     "output_type": "display_data"
    },
    {
     "name": "stdout",
     "output_type": "stream",
     "text": [
      "Accuracy: 99.90\n",
      "Training Loss: 15483.842388 \tValidation Loss: 7.113281\n",
      "\n",
      "Running epoch: 31\n"
     ]
    },
    {
     "data": {
      "application/vnd.jupyter.widget-view+json": {
       "model_id": "3f506bbc3cf341c5b9d0203207f9d241",
       "version_major": 2,
       "version_minor": 0
      },
      "text/plain": [
       "  0%|          | 0/200 [00:00<?, ?it/s]"
      ]
     },
     "metadata": {},
     "output_type": "display_data"
    },
    {
     "data": {
      "application/vnd.jupyter.widget-view+json": {
       "model_id": "5494769578d546c59153d5002bcae05a",
       "version_major": 2,
       "version_minor": 0
      },
      "text/plain": [
       "  0%|          | 0/50 [00:00<?, ?it/s]"
      ]
     },
     "metadata": {},
     "output_type": "display_data"
    },
    {
     "name": "stdout",
     "output_type": "stream",
     "text": [
      "Accuracy: 98.50\n",
      "Training Loss: 8424.992169 \tValidation Loss: 28.005992\n",
      "\n",
      "Running epoch: 32\n"
     ]
    },
    {
     "data": {
      "application/vnd.jupyter.widget-view+json": {
       "model_id": "e84d089fd044471584352ff0966b5caa",
       "version_major": 2,
       "version_minor": 0
      },
      "text/plain": [
       "  0%|          | 0/200 [00:00<?, ?it/s]"
      ]
     },
     "metadata": {},
     "output_type": "display_data"
    },
    {
     "data": {
      "application/vnd.jupyter.widget-view+json": {
       "model_id": "33697e805b0140e68aa67277d02ee57d",
       "version_major": 2,
       "version_minor": 0
      },
      "text/plain": [
       "  0%|          | 0/50 [00:00<?, ?it/s]"
      ]
     },
     "metadata": {},
     "output_type": "display_data"
    },
    {
     "name": "stdout",
     "output_type": "stream",
     "text": [
      "Accuracy: 98.70\n",
      "Training Loss: 22352.220782 \tValidation Loss: 56.324646\n",
      "\n",
      "Running epoch: 33\n"
     ]
    },
    {
     "data": {
      "application/vnd.jupyter.widget-view+json": {
       "model_id": "1c0a9e230cae4f7caeeb03d01adf0bd0",
       "version_major": 2,
       "version_minor": 0
      },
      "text/plain": [
       "  0%|          | 0/200 [00:00<?, ?it/s]"
      ]
     },
     "metadata": {},
     "output_type": "display_data"
    },
    {
     "data": {
      "application/vnd.jupyter.widget-view+json": {
       "model_id": "da80628f4e514a1d9219fd6cd873d27c",
       "version_major": 2,
       "version_minor": 0
      },
      "text/plain": [
       "  0%|          | 0/50 [00:00<?, ?it/s]"
      ]
     },
     "metadata": {},
     "output_type": "display_data"
    },
    {
     "data": {
      "application/vnd.jupyter.widget-view+json": {
       "model_id": "5a0406507b504cf1a38515350b394681",
       "version_major": 2,
       "version_minor": 0
      },
      "text/plain": [
       "  0%|          | 0/1000 [00:00<?, ?it/s]"
      ]
     },
     "metadata": {},
     "output_type": "display_data"
    },
    {
     "name": "stdout",
     "output_type": "stream",
     "text": [
      "Accuracy: 99.40\n",
      "Training Loss: 13685.204034 \tValidation Loss: 18.870169\n",
      "\n",
      "Running epoch: 34\n"
     ]
    },
    {
     "data": {
      "application/vnd.jupyter.widget-view+json": {
       "model_id": "97e38fcb6a7a42eb86dd7323b2054190",
       "version_major": 2,
       "version_minor": 0
      },
      "text/plain": [
       "  0%|          | 0/200 [00:00<?, ?it/s]"
      ]
     },
     "metadata": {},
     "output_type": "display_data"
    },
    {
     "data": {
      "application/vnd.jupyter.widget-view+json": {
       "model_id": "c49aedb977af49039b7e046f420c2d4a",
       "version_major": 2,
       "version_minor": 0
      },
      "text/plain": [
       "  0%|          | 0/50 [00:00<?, ?it/s]"
      ]
     },
     "metadata": {},
     "output_type": "display_data"
    },
    {
     "data": {
      "application/vnd.jupyter.widget-view+json": {
       "model_id": "ca26f33755dd4d589b97aa9ca555d4a1",
       "version_major": 2,
       "version_minor": 0
      },
      "text/plain": [
       "  0%|          | 0/1000 [00:00<?, ?it/s]"
      ]
     },
     "metadata": {},
     "output_type": "display_data"
    },
    {
     "name": "stdout",
     "output_type": "stream",
     "text": [
      "Accuracy: 99.60\n",
      "Training Loss: 6348.941128 \tValidation Loss: 15.980854\n",
      "\n",
      "Running epoch: 35\n"
     ]
    },
    {
     "data": {
      "application/vnd.jupyter.widget-view+json": {
       "model_id": "22dd3b63b6d347a89d0fccdb88ed1f27",
       "version_major": 2,
       "version_minor": 0
      },
      "text/plain": [
       "  0%|          | 0/200 [00:00<?, ?it/s]"
      ]
     },
     "metadata": {},
     "output_type": "display_data"
    },
    {
     "data": {
      "application/vnd.jupyter.widget-view+json": {
       "model_id": "e67ed67c92f7488f8582d4205971426d",
       "version_major": 2,
       "version_minor": 0
      },
      "text/plain": [
       "  0%|          | 0/50 [00:00<?, ?it/s]"
      ]
     },
     "metadata": {},
     "output_type": "display_data"
    },
    {
     "data": {
      "application/vnd.jupyter.widget-view+json": {
       "model_id": "7d69798a16c74149aa6350bc1936adab",
       "version_major": 2,
       "version_minor": 0
      },
      "text/plain": [
       "  0%|          | 0/1000 [00:00<?, ?it/s]"
      ]
     },
     "metadata": {},
     "output_type": "display_data"
    },
    {
     "name": "stdout",
     "output_type": "stream",
     "text": [
      "Accuracy: 99.90\n",
      "Training Loss: 10269.445534 \tValidation Loss: 4.264467\n",
      "\n",
      "Running epoch: 36\n"
     ]
    },
    {
     "data": {
      "application/vnd.jupyter.widget-view+json": {
       "model_id": "df2126549fd14814b822a94d150910c8",
       "version_major": 2,
       "version_minor": 0
      },
      "text/plain": [
       "  0%|          | 0/200 [00:00<?, ?it/s]"
      ]
     },
     "metadata": {},
     "output_type": "display_data"
    },
    {
     "data": {
      "application/vnd.jupyter.widget-view+json": {
       "model_id": "8b44555972144b5e8c6805fc7dfeb7ed",
       "version_major": 2,
       "version_minor": 0
      },
      "text/plain": [
       "  0%|          | 0/50 [00:00<?, ?it/s]"
      ]
     },
     "metadata": {},
     "output_type": "display_data"
    },
    {
     "name": "stdout",
     "output_type": "stream",
     "text": [
      "Accuracy: 99.50\n",
      "Training Loss: 5546.306241 \tValidation Loss: 21.630313\n",
      "\n",
      "Running epoch: 37\n"
     ]
    },
    {
     "data": {
      "application/vnd.jupyter.widget-view+json": {
       "model_id": "87491577be0f48c38c396e9f648203ad",
       "version_major": 2,
       "version_minor": 0
      },
      "text/plain": [
       "  0%|          | 0/200 [00:00<?, ?it/s]"
      ]
     },
     "metadata": {},
     "output_type": "display_data"
    },
    {
     "data": {
      "application/vnd.jupyter.widget-view+json": {
       "model_id": "df6eaf1d99fa44c5842a2f2089ef36d9",
       "version_major": 2,
       "version_minor": 0
      },
      "text/plain": [
       "  0%|          | 0/50 [00:00<?, ?it/s]"
      ]
     },
     "metadata": {},
     "output_type": "display_data"
    },
    {
     "data": {
      "application/vnd.jupyter.widget-view+json": {
       "model_id": "d1b31f77aaeb465c9bee2e2a1cd6cf14",
       "version_major": 2,
       "version_minor": 0
      },
      "text/plain": [
       "  0%|          | 0/1000 [00:00<?, ?it/s]"
      ]
     },
     "metadata": {},
     "output_type": "display_data"
    },
    {
     "name": "stdout",
     "output_type": "stream",
     "text": [
      "Accuracy: 99.80\n",
      "Training Loss: 4299.707336 \tValidation Loss: 5.118983\n",
      "\n",
      "Running epoch: 38\n"
     ]
    },
    {
     "data": {
      "application/vnd.jupyter.widget-view+json": {
       "model_id": "c07f9434e87e4b468c56eb6171dcaef8",
       "version_major": 2,
       "version_minor": 0
      },
      "text/plain": [
       "  0%|          | 0/200 [00:00<?, ?it/s]"
      ]
     },
     "metadata": {},
     "output_type": "display_data"
    },
    {
     "data": {
      "application/vnd.jupyter.widget-view+json": {
       "model_id": "0613c09f3c404f109ce1b7ef6c6192af",
       "version_major": 2,
       "version_minor": 0
      },
      "text/plain": [
       "  0%|          | 0/50 [00:00<?, ?it/s]"
      ]
     },
     "metadata": {},
     "output_type": "display_data"
    },
    {
     "name": "stdout",
     "output_type": "stream",
     "text": [
      "Accuracy: 99.20\n",
      "Training Loss: 6858.504861 \tValidation Loss: 23.692814\n",
      "\n",
      "Running epoch: 39\n"
     ]
    },
    {
     "data": {
      "application/vnd.jupyter.widget-view+json": {
       "model_id": "1266d5531f5c4d90b296dc13f656ea01",
       "version_major": 2,
       "version_minor": 0
      },
      "text/plain": [
       "  0%|          | 0/200 [00:00<?, ?it/s]"
      ]
     },
     "metadata": {},
     "output_type": "display_data"
    },
    {
     "data": {
      "application/vnd.jupyter.widget-view+json": {
       "model_id": "eefdbe6f932044f29c5c3ca95ec0fd10",
       "version_major": 2,
       "version_minor": 0
      },
      "text/plain": [
       "  0%|          | 0/50 [00:00<?, ?it/s]"
      ]
     },
     "metadata": {},
     "output_type": "display_data"
    },
    {
     "name": "stdout",
     "output_type": "stream",
     "text": [
      "Accuracy: 99.10\n",
      "Training Loss: 33387.282793 \tValidation Loss: 33.411273\n",
      "\n",
      "Running epoch: 40\n"
     ]
    },
    {
     "data": {
      "application/vnd.jupyter.widget-view+json": {
       "model_id": "8e7f2e7415d54325b2ccfb96849a181d",
       "version_major": 2,
       "version_minor": 0
      },
      "text/plain": [
       "  0%|          | 0/200 [00:00<?, ?it/s]"
      ]
     },
     "metadata": {},
     "output_type": "display_data"
    },
    {
     "data": {
      "application/vnd.jupyter.widget-view+json": {
       "model_id": "8d1dc1eb0a5d495fafaf8ce9dda69832",
       "version_major": 2,
       "version_minor": 0
      },
      "text/plain": [
       "  0%|          | 0/50 [00:00<?, ?it/s]"
      ]
     },
     "metadata": {},
     "output_type": "display_data"
    },
    {
     "name": "stdout",
     "output_type": "stream",
     "text": [
      "Accuracy: 99.40\n",
      "Training Loss: 11955.892691 \tValidation Loss: 24.131333\n",
      "\n",
      "Running epoch: 41\n"
     ]
    },
    {
     "data": {
      "application/vnd.jupyter.widget-view+json": {
       "model_id": "6b8585a50cdf44c389844fb08273bda6",
       "version_major": 2,
       "version_minor": 0
      },
      "text/plain": [
       "  0%|          | 0/200 [00:00<?, ?it/s]"
      ]
     },
     "metadata": {},
     "output_type": "display_data"
    },
    {
     "data": {
      "application/vnd.jupyter.widget-view+json": {
       "model_id": "06a9d21257e14390bde58da07ac78123",
       "version_major": 2,
       "version_minor": 0
      },
      "text/plain": [
       "  0%|          | 0/50 [00:00<?, ?it/s]"
      ]
     },
     "metadata": {},
     "output_type": "display_data"
    },
    {
     "name": "stdout",
     "output_type": "stream",
     "text": [
      "Accuracy: 99.30\n",
      "Training Loss: 16513.675944 \tValidation Loss: 20.263753\n",
      "\n",
      "Running epoch: 42\n"
     ]
    },
    {
     "data": {
      "application/vnd.jupyter.widget-view+json": {
       "model_id": "d3946d7ff48045cd928f0bbcb3553e16",
       "version_major": 2,
       "version_minor": 0
      },
      "text/plain": [
       "  0%|          | 0/200 [00:00<?, ?it/s]"
      ]
     },
     "metadata": {},
     "output_type": "display_data"
    },
    {
     "data": {
      "application/vnd.jupyter.widget-view+json": {
       "model_id": "33d43c5fe2ce47ee87d8052540da85eb",
       "version_major": 2,
       "version_minor": 0
      },
      "text/plain": [
       "  0%|          | 0/50 [00:00<?, ?it/s]"
      ]
     },
     "metadata": {},
     "output_type": "display_data"
    },
    {
     "name": "stdout",
     "output_type": "stream",
     "text": [
      "Accuracy: 99.70\n",
      "Training Loss: 8801.418769 \tValidation Loss: 16.530180\n",
      "\n",
      "Running epoch: 43\n"
     ]
    },
    {
     "data": {
      "application/vnd.jupyter.widget-view+json": {
       "model_id": "8ff28099d5404e88a70cd14823cd1734",
       "version_major": 2,
       "version_minor": 0
      },
      "text/plain": [
       "  0%|          | 0/200 [00:00<?, ?it/s]"
      ]
     },
     "metadata": {},
     "output_type": "display_data"
    },
    {
     "data": {
      "application/vnd.jupyter.widget-view+json": {
       "model_id": "db9844f284b54cad8e1bffde0e79a71a",
       "version_major": 2,
       "version_minor": 0
      },
      "text/plain": [
       "  0%|          | 0/50 [00:00<?, ?it/s]"
      ]
     },
     "metadata": {},
     "output_type": "display_data"
    },
    {
     "data": {
      "application/vnd.jupyter.widget-view+json": {
       "model_id": "be86ad04be644fa1938795f83096723d",
       "version_major": 2,
       "version_minor": 0
      },
      "text/plain": [
       "  0%|          | 0/1000 [00:00<?, ?it/s]"
      ]
     },
     "metadata": {},
     "output_type": "display_data"
    },
    {
     "name": "stdout",
     "output_type": "stream",
     "text": [
      "Accuracy: 99.80\n",
      "Training Loss: 3479.276296 \tValidation Loss: 8.991350\n",
      "\n",
      "Running epoch: 44\n"
     ]
    },
    {
     "data": {
      "application/vnd.jupyter.widget-view+json": {
       "model_id": "46acc9824fd342c9b0a3c8c9d262c2ae",
       "version_major": 2,
       "version_minor": 0
      },
      "text/plain": [
       "  0%|          | 0/200 [00:00<?, ?it/s]"
      ]
     },
     "metadata": {},
     "output_type": "display_data"
    },
    {
     "data": {
      "application/vnd.jupyter.widget-view+json": {
       "model_id": "9515ef0b29c14a29aa2dcca37d736355",
       "version_major": 2,
       "version_minor": 0
      },
      "text/plain": [
       "  0%|          | 0/50 [00:00<?, ?it/s]"
      ]
     },
     "metadata": {},
     "output_type": "display_data"
    },
    {
     "data": {
      "application/vnd.jupyter.widget-view+json": {
       "model_id": "3f6781befa204b3fad9bc9b6acf520a1",
       "version_major": 2,
       "version_minor": 0
      },
      "text/plain": [
       "  0%|          | 0/1000 [00:00<?, ?it/s]"
      ]
     },
     "metadata": {},
     "output_type": "display_data"
    },
    {
     "name": "stdout",
     "output_type": "stream",
     "text": [
      "Accuracy: 99.90\n",
      "Training Loss: 3074.183075 \tValidation Loss: 6.534674\n",
      "\n",
      "Running epoch: 45\n"
     ]
    },
    {
     "data": {
      "application/vnd.jupyter.widget-view+json": {
       "model_id": "4f05ac832fdd4f52a2d0ba08509026db",
       "version_major": 2,
       "version_minor": 0
      },
      "text/plain": [
       "  0%|          | 0/200 [00:00<?, ?it/s]"
      ]
     },
     "metadata": {},
     "output_type": "display_data"
    },
    {
     "data": {
      "application/vnd.jupyter.widget-view+json": {
       "model_id": "4e847083d8da468ab94d533ca55add30",
       "version_major": 2,
       "version_minor": 0
      },
      "text/plain": [
       "  0%|          | 0/50 [00:00<?, ?it/s]"
      ]
     },
     "metadata": {},
     "output_type": "display_data"
    },
    {
     "data": {
      "application/vnd.jupyter.widget-view+json": {
       "model_id": "6e70b75b7b794f2ca3a3b7b907e2115f",
       "version_major": 2,
       "version_minor": 0
      },
      "text/plain": [
       "  0%|          | 0/1000 [00:00<?, ?it/s]"
      ]
     },
     "metadata": {},
     "output_type": "display_data"
    },
    {
     "name": "stdout",
     "output_type": "stream",
     "text": [
      "Accuracy: 99.90\n",
      "Training Loss: 2989.011493 \tValidation Loss: 3.785263\n",
      "\n",
      "Running epoch: 46\n"
     ]
    },
    {
     "data": {
      "application/vnd.jupyter.widget-view+json": {
       "model_id": "30657b8535984fc4af7823dd8931cf42",
       "version_major": 2,
       "version_minor": 0
      },
      "text/plain": [
       "  0%|          | 0/200 [00:00<?, ?it/s]"
      ]
     },
     "metadata": {},
     "output_type": "display_data"
    },
    {
     "data": {
      "application/vnd.jupyter.widget-view+json": {
       "model_id": "acd0ee41ffb649289ddcdd6ae7cbc115",
       "version_major": 2,
       "version_minor": 0
      },
      "text/plain": [
       "  0%|          | 0/50 [00:00<?, ?it/s]"
      ]
     },
     "metadata": {},
     "output_type": "display_data"
    },
    {
     "name": "stdout",
     "output_type": "stream",
     "text": [
      "Accuracy: 98.30\n",
      "Training Loss: 10984.066589 \tValidation Loss: 64.308397\n",
      "\n",
      "Running epoch: 47\n"
     ]
    },
    {
     "data": {
      "application/vnd.jupyter.widget-view+json": {
       "model_id": "94d8d2e554af4244bce1c8e22afb5920",
       "version_major": 2,
       "version_minor": 0
      },
      "text/plain": [
       "  0%|          | 0/200 [00:00<?, ?it/s]"
      ]
     },
     "metadata": {},
     "output_type": "display_data"
    },
    {
     "data": {
      "application/vnd.jupyter.widget-view+json": {
       "model_id": "6a5f3e1851c84f05b59e7ddf68466ef8",
       "version_major": 2,
       "version_minor": 0
      },
      "text/plain": [
       "  0%|          | 0/50 [00:00<?, ?it/s]"
      ]
     },
     "metadata": {},
     "output_type": "display_data"
    },
    {
     "name": "stdout",
     "output_type": "stream",
     "text": [
      "Accuracy: 98.10\n",
      "Training Loss: 21071.041261 \tValidation Loss: 61.574689\n",
      "\n",
      "Running epoch: 48\n"
     ]
    },
    {
     "data": {
      "application/vnd.jupyter.widget-view+json": {
       "model_id": "35477b82b3ee48ae9bef3822f4ba98be",
       "version_major": 2,
       "version_minor": 0
      },
      "text/plain": [
       "  0%|          | 0/200 [00:00<?, ?it/s]"
      ]
     },
     "metadata": {},
     "output_type": "display_data"
    },
    {
     "data": {
      "application/vnd.jupyter.widget-view+json": {
       "model_id": "57ee8420e5a441a0a060f0141651f8cb",
       "version_major": 2,
       "version_minor": 0
      },
      "text/plain": [
       "  0%|          | 0/50 [00:00<?, ?it/s]"
      ]
     },
     "metadata": {},
     "output_type": "display_data"
    },
    {
     "name": "stdout",
     "output_type": "stream",
     "text": [
      "Accuracy: 99.80\n",
      "Training Loss: 8127.598616 \tValidation Loss: 7.603248\n",
      "\n",
      "Running epoch: 49\n"
     ]
    },
    {
     "data": {
      "application/vnd.jupyter.widget-view+json": {
       "model_id": "d31e5d43841c410dba4ce38b19849be0",
       "version_major": 2,
       "version_minor": 0
      },
      "text/plain": [
       "  0%|          | 0/200 [00:00<?, ?it/s]"
      ]
     },
     "metadata": {},
     "output_type": "display_data"
    },
    {
     "data": {
      "application/vnd.jupyter.widget-view+json": {
       "model_id": "76a6958a900147eab5595bf30e504a60",
       "version_major": 2,
       "version_minor": 0
      },
      "text/plain": [
       "  0%|          | 0/50 [00:00<?, ?it/s]"
      ]
     },
     "metadata": {},
     "output_type": "display_data"
    },
    {
     "name": "stdout",
     "output_type": "stream",
     "text": [
      "Accuracy: 98.60\n",
      "Training Loss: 4038.695594 \tValidation Loss: 48.977554\n",
      "\n",
      "Running epoch: 50\n"
     ]
    },
    {
     "data": {
      "application/vnd.jupyter.widget-view+json": {
       "model_id": "f27b00550ecb4fb1a8a4803010fb6cc2",
       "version_major": 2,
       "version_minor": 0
      },
      "text/plain": [
       "  0%|          | 0/200 [00:00<?, ?it/s]"
      ]
     },
     "metadata": {},
     "output_type": "display_data"
    },
    {
     "data": {
      "application/vnd.jupyter.widget-view+json": {
       "model_id": "ed975b0aae2e47e09204efa85970ecc5",
       "version_major": 2,
       "version_minor": 0
      },
      "text/plain": [
       "  0%|          | 0/50 [00:00<?, ?it/s]"
      ]
     },
     "metadata": {},
     "output_type": "display_data"
    },
    {
     "name": "stdout",
     "output_type": "stream",
     "text": [
      "Accuracy: 99.60\n",
      "Training Loss: 11344.739955 \tValidation Loss: 22.080283\n",
      "\n",
      "Running epoch: 51\n"
     ]
    },
    {
     "data": {
      "application/vnd.jupyter.widget-view+json": {
       "model_id": "9c7358b8e3ab4a089c4e149abfa5ea5a",
       "version_major": 2,
       "version_minor": 0
      },
      "text/plain": [
       "  0%|          | 0/200 [00:00<?, ?it/s]"
      ]
     },
     "metadata": {},
     "output_type": "display_data"
    },
    {
     "data": {
      "application/vnd.jupyter.widget-view+json": {
       "model_id": "2cee4369f3444857b9dc7bf908318d9e",
       "version_major": 2,
       "version_minor": 0
      },
      "text/plain": [
       "  0%|          | 0/50 [00:00<?, ?it/s]"
      ]
     },
     "metadata": {},
     "output_type": "display_data"
    },
    {
     "name": "stdout",
     "output_type": "stream",
     "text": [
      "Accuracy: 99.20\n",
      "Training Loss: 16060.029994 \tValidation Loss: 19.262695\n",
      "\n",
      "Running epoch: 52\n"
     ]
    },
    {
     "data": {
      "application/vnd.jupyter.widget-view+json": {
       "model_id": "91f8b3c7661548e9a5f37de5ccd9b7cb",
       "version_major": 2,
       "version_minor": 0
      },
      "text/plain": [
       "  0%|          | 0/200 [00:00<?, ?it/s]"
      ]
     },
     "metadata": {},
     "output_type": "display_data"
    },
    {
     "data": {
      "application/vnd.jupyter.widget-view+json": {
       "model_id": "8776fe6358cc430799f2966695ee404b",
       "version_major": 2,
       "version_minor": 0
      },
      "text/plain": [
       "  0%|          | 0/50 [00:00<?, ?it/s]"
      ]
     },
     "metadata": {},
     "output_type": "display_data"
    },
    {
     "name": "stdout",
     "output_type": "stream",
     "text": [
      "Accuracy: 99.80\n",
      "Training Loss: 6663.129939 \tValidation Loss: 4.145863\n",
      "\n",
      "Running epoch: 53\n"
     ]
    },
    {
     "data": {
      "application/vnd.jupyter.widget-view+json": {
       "model_id": "ff712b60cad545e780de0b2ea98e94b1",
       "version_major": 2,
       "version_minor": 0
      },
      "text/plain": [
       "  0%|          | 0/200 [00:00<?, ?it/s]"
      ]
     },
     "metadata": {},
     "output_type": "display_data"
    },
    {
     "data": {
      "application/vnd.jupyter.widget-view+json": {
       "model_id": "305b5c70aa244dd894891398a779aba0",
       "version_major": 2,
       "version_minor": 0
      },
      "text/plain": [
       "  0%|          | 0/50 [00:00<?, ?it/s]"
      ]
     },
     "metadata": {},
     "output_type": "display_data"
    },
    {
     "name": "stdout",
     "output_type": "stream",
     "text": [
      "Accuracy: 99.00\n",
      "Training Loss: 4792.254105 \tValidation Loss: 38.452321\n",
      "\n",
      "Running epoch: 54\n"
     ]
    },
    {
     "data": {
      "application/vnd.jupyter.widget-view+json": {
       "model_id": "c3f2e15bc6dd4421a6fbf8444c23eb7d",
       "version_major": 2,
       "version_minor": 0
      },
      "text/plain": [
       "  0%|          | 0/200 [00:00<?, ?it/s]"
      ]
     },
     "metadata": {},
     "output_type": "display_data"
    },
    {
     "data": {
      "application/vnd.jupyter.widget-view+json": {
       "model_id": "5f47a37e6a064341bab3401ea9530797",
       "version_major": 2,
       "version_minor": 0
      },
      "text/plain": [
       "  0%|          | 0/50 [00:00<?, ?it/s]"
      ]
     },
     "metadata": {},
     "output_type": "display_data"
    },
    {
     "name": "stdout",
     "output_type": "stream",
     "text": [
      "Accuracy: 99.40\n",
      "Training Loss: 5406.838576 \tValidation Loss: 19.576336\n",
      "\n",
      "Running epoch: 55\n"
     ]
    },
    {
     "data": {
      "application/vnd.jupyter.widget-view+json": {
       "model_id": "b5ffabebd39e4433a1b5a4087f87f9c3",
       "version_major": 2,
       "version_minor": 0
      },
      "text/plain": [
       "  0%|          | 0/200 [00:00<?, ?it/s]"
      ]
     },
     "metadata": {},
     "output_type": "display_data"
    },
    {
     "data": {
      "application/vnd.jupyter.widget-view+json": {
       "model_id": "278b703b5f8e4389affd4fc3fe21d879",
       "version_major": 2,
       "version_minor": 0
      },
      "text/plain": [
       "  0%|          | 0/50 [00:00<?, ?it/s]"
      ]
     },
     "metadata": {},
     "output_type": "display_data"
    },
    {
     "name": "stdout",
     "output_type": "stream",
     "text": [
      "Accuracy: 99.60\n",
      "Training Loss: 13534.852614 \tValidation Loss: 17.191700\n",
      "\n",
      "Running epoch: 56\n"
     ]
    },
    {
     "data": {
      "application/vnd.jupyter.widget-view+json": {
       "model_id": "fdc56f78d7714907828f38d2480cea04",
       "version_major": 2,
       "version_minor": 0
      },
      "text/plain": [
       "  0%|          | 0/200 [00:00<?, ?it/s]"
      ]
     },
     "metadata": {},
     "output_type": "display_data"
    },
    {
     "data": {
      "application/vnd.jupyter.widget-view+json": {
       "model_id": "59820a4056b24ef7b889d686ac2fce5a",
       "version_major": 2,
       "version_minor": 0
      },
      "text/plain": [
       "  0%|          | 0/50 [00:00<?, ?it/s]"
      ]
     },
     "metadata": {},
     "output_type": "display_data"
    },
    {
     "name": "stdout",
     "output_type": "stream",
     "text": [
      "Accuracy: 99.20\n",
      "Training Loss: 11105.810018 \tValidation Loss: 37.932942\n",
      "\n",
      "Running epoch: 57\n"
     ]
    },
    {
     "data": {
      "application/vnd.jupyter.widget-view+json": {
       "model_id": "140da8ef00ad497d8659d79b7785b266",
       "version_major": 2,
       "version_minor": 0
      },
      "text/plain": [
       "  0%|          | 0/200 [00:00<?, ?it/s]"
      ]
     },
     "metadata": {},
     "output_type": "display_data"
    },
    {
     "data": {
      "application/vnd.jupyter.widget-view+json": {
       "model_id": "ca59dfdf2db841699abed4a1a9a74190",
       "version_major": 2,
       "version_minor": 0
      },
      "text/plain": [
       "  0%|          | 0/50 [00:00<?, ?it/s]"
      ]
     },
     "metadata": {},
     "output_type": "display_data"
    },
    {
     "name": "stdout",
     "output_type": "stream",
     "text": [
      "Accuracy: 99.50\n",
      "Training Loss: 6503.562237 \tValidation Loss: 31.670315\n",
      "\n",
      "Running epoch: 58\n"
     ]
    },
    {
     "data": {
      "application/vnd.jupyter.widget-view+json": {
       "model_id": "b3792e30aedd491894ad9fe7be16cc63",
       "version_major": 2,
       "version_minor": 0
      },
      "text/plain": [
       "  0%|          | 0/200 [00:00<?, ?it/s]"
      ]
     },
     "metadata": {},
     "output_type": "display_data"
    },
    {
     "data": {
      "application/vnd.jupyter.widget-view+json": {
       "model_id": "87bf97006fa24262bb515a939549f87a",
       "version_major": 2,
       "version_minor": 0
      },
      "text/plain": [
       "  0%|          | 0/50 [00:00<?, ?it/s]"
      ]
     },
     "metadata": {},
     "output_type": "display_data"
    },
    {
     "data": {
      "application/vnd.jupyter.widget-view+json": {
       "model_id": "c996bea05e044979bfc345651f310d09",
       "version_major": 2,
       "version_minor": 0
      },
      "text/plain": [
       "  0%|          | 0/1000 [00:00<?, ?it/s]"
      ]
     },
     "metadata": {},
     "output_type": "display_data"
    },
    {
     "name": "stdout",
     "output_type": "stream",
     "text": [
      "Accuracy: 100.00\n",
      "Training Loss: 19737.256060 \tValidation Loss: 4.237096\n",
      "\n",
      "Running epoch: 59\n"
     ]
    },
    {
     "data": {
      "application/vnd.jupyter.widget-view+json": {
       "model_id": "34fd3eb998f34692a1472fbfa60be091",
       "version_major": 2,
       "version_minor": 0
      },
      "text/plain": [
       "  0%|          | 0/200 [00:00<?, ?it/s]"
      ]
     },
     "metadata": {},
     "output_type": "display_data"
    },
    {
     "data": {
      "application/vnd.jupyter.widget-view+json": {
       "model_id": "577a36d8fab54ee09721997481ae609b",
       "version_major": 2,
       "version_minor": 0
      },
      "text/plain": [
       "  0%|          | 0/50 [00:00<?, ?it/s]"
      ]
     },
     "metadata": {},
     "output_type": "display_data"
    },
    {
     "name": "stdout",
     "output_type": "stream",
     "text": [
      "Accuracy: 99.50\n",
      "Training Loss: 7170.226595 \tValidation Loss: 8.512224\n",
      "\n",
      "Running epoch: 60\n"
     ]
    },
    {
     "data": {
      "application/vnd.jupyter.widget-view+json": {
       "model_id": "877dcafa6ee642dbb01c4d91856386c4",
       "version_major": 2,
       "version_minor": 0
      },
      "text/plain": [
       "  0%|          | 0/200 [00:00<?, ?it/s]"
      ]
     },
     "metadata": {},
     "output_type": "display_data"
    },
    {
     "data": {
      "application/vnd.jupyter.widget-view+json": {
       "model_id": "d2e63f3ba28242e4bade94ce764bb28b",
       "version_major": 2,
       "version_minor": 0
      },
      "text/plain": [
       "  0%|          | 0/50 [00:00<?, ?it/s]"
      ]
     },
     "metadata": {},
     "output_type": "display_data"
    },
    {
     "data": {
      "application/vnd.jupyter.widget-view+json": {
       "model_id": "bb0a815761844c5b979639741ccb99df",
       "version_major": 2,
       "version_minor": 0
      },
      "text/plain": [
       "  0%|          | 0/1000 [00:00<?, ?it/s]"
      ]
     },
     "metadata": {},
     "output_type": "display_data"
    },
    {
     "name": "stdout",
     "output_type": "stream",
     "text": [
      "Accuracy: 100.00\n",
      "Training Loss: 4375.922073 \tValidation Loss: 3.723518\n",
      "\n",
      "Running epoch: 61\n"
     ]
    },
    {
     "data": {
      "application/vnd.jupyter.widget-view+json": {
       "model_id": "ad31635dbf4c43a1b30722edb5203068",
       "version_major": 2,
       "version_minor": 0
      },
      "text/plain": [
       "  0%|          | 0/200 [00:00<?, ?it/s]"
      ]
     },
     "metadata": {},
     "output_type": "display_data"
    },
    {
     "data": {
      "application/vnd.jupyter.widget-view+json": {
       "model_id": "36c9ca79d6444209935dba0ae4b9c988",
       "version_major": 2,
       "version_minor": 0
      },
      "text/plain": [
       "  0%|          | 0/50 [00:00<?, ?it/s]"
      ]
     },
     "metadata": {},
     "output_type": "display_data"
    },
    {
     "name": "stdout",
     "output_type": "stream",
     "text": [
      "Accuracy: 99.50\n",
      "Training Loss: 2877.532932 \tValidation Loss: 11.601207\n",
      "\n",
      "Running epoch: 62\n"
     ]
    },
    {
     "data": {
      "application/vnd.jupyter.widget-view+json": {
       "model_id": "4fd777642d4f43af8926d3d1b37a6d4d",
       "version_major": 2,
       "version_minor": 0
      },
      "text/plain": [
       "  0%|          | 0/200 [00:00<?, ?it/s]"
      ]
     },
     "metadata": {},
     "output_type": "display_data"
    },
    {
     "data": {
      "application/vnd.jupyter.widget-view+json": {
       "model_id": "326cf72e98744f098bd334adb023a408",
       "version_major": 2,
       "version_minor": 0
      },
      "text/plain": [
       "  0%|          | 0/50 [00:00<?, ?it/s]"
      ]
     },
     "metadata": {},
     "output_type": "display_data"
    },
    {
     "name": "stdout",
     "output_type": "stream",
     "text": [
      "Accuracy: 99.60\n",
      "Training Loss: 16729.108259 \tValidation Loss: 10.210016\n",
      "\n",
      "Running epoch: 63\n"
     ]
    },
    {
     "data": {
      "application/vnd.jupyter.widget-view+json": {
       "model_id": "ed95c56afebe4e80ba06dabdf26e0d14",
       "version_major": 2,
       "version_minor": 0
      },
      "text/plain": [
       "  0%|          | 0/200 [00:00<?, ?it/s]"
      ]
     },
     "metadata": {},
     "output_type": "display_data"
    },
    {
     "data": {
      "application/vnd.jupyter.widget-view+json": {
       "model_id": "48bfd09c591b44e78a53f0b561a9dc66",
       "version_major": 2,
       "version_minor": 0
      },
      "text/plain": [
       "  0%|          | 0/50 [00:00<?, ?it/s]"
      ]
     },
     "metadata": {},
     "output_type": "display_data"
    },
    {
     "name": "stdout",
     "output_type": "stream",
     "text": [
      "Accuracy: 99.70\n",
      "Training Loss: 3183.882426 \tValidation Loss: 7.589165\n",
      "\n",
      "Running epoch: 64\n"
     ]
    },
    {
     "data": {
      "application/vnd.jupyter.widget-view+json": {
       "model_id": "f802d32c88ad48a7a197b80463bd43af",
       "version_major": 2,
       "version_minor": 0
      },
      "text/plain": [
       "  0%|          | 0/200 [00:00<?, ?it/s]"
      ]
     },
     "metadata": {},
     "output_type": "display_data"
    },
    {
     "data": {
      "application/vnd.jupyter.widget-view+json": {
       "model_id": "f6d7c889abb84247a1ca8c398419b23b",
       "version_major": 2,
       "version_minor": 0
      },
      "text/plain": [
       "  0%|          | 0/50 [00:00<?, ?it/s]"
      ]
     },
     "metadata": {},
     "output_type": "display_data"
    },
    {
     "name": "stdout",
     "output_type": "stream",
     "text": [
      "Accuracy: 99.90\n",
      "Training Loss: 3441.816152 \tValidation Loss: 8.156911\n",
      "\n",
      "Running epoch: 65\n"
     ]
    },
    {
     "data": {
      "application/vnd.jupyter.widget-view+json": {
       "model_id": "681f91d444034973bda2a37c5e9abb71",
       "version_major": 2,
       "version_minor": 0
      },
      "text/plain": [
       "  0%|          | 0/200 [00:00<?, ?it/s]"
      ]
     },
     "metadata": {},
     "output_type": "display_data"
    },
    {
     "data": {
      "application/vnd.jupyter.widget-view+json": {
       "model_id": "500ac97936fa404483b000be4480caf9",
       "version_major": 2,
       "version_minor": 0
      },
      "text/plain": [
       "  0%|          | 0/50 [00:00<?, ?it/s]"
      ]
     },
     "metadata": {},
     "output_type": "display_data"
    },
    {
     "name": "stdout",
     "output_type": "stream",
     "text": [
      "Accuracy: 99.90\n",
      "Training Loss: 3547.340474 \tValidation Loss: 2.021705\n",
      "\n",
      "Running epoch: 66\n"
     ]
    },
    {
     "data": {
      "application/vnd.jupyter.widget-view+json": {
       "model_id": "7bbf2424d0d8473698a36b9d17ebd7c5",
       "version_major": 2,
       "version_minor": 0
      },
      "text/plain": [
       "  0%|          | 0/200 [00:00<?, ?it/s]"
      ]
     },
     "metadata": {},
     "output_type": "display_data"
    },
    {
     "data": {
      "application/vnd.jupyter.widget-view+json": {
       "model_id": "2c28e4d7a6bf431bb887b95025e08d1f",
       "version_major": 2,
       "version_minor": 0
      },
      "text/plain": [
       "  0%|          | 0/50 [00:00<?, ?it/s]"
      ]
     },
     "metadata": {},
     "output_type": "display_data"
    },
    {
     "data": {
      "application/vnd.jupyter.widget-view+json": {
       "model_id": "c9614232ba13457b95bf8ee79e4aef7c",
       "version_major": 2,
       "version_minor": 0
      },
      "text/plain": [
       "  0%|          | 0/1000 [00:00<?, ?it/s]"
      ]
     },
     "metadata": {},
     "output_type": "display_data"
    },
    {
     "name": "stdout",
     "output_type": "stream",
     "text": [
      "Accuracy: 100.00\n",
      "Training Loss: 1569.384677 \tValidation Loss: 0.605857\n",
      "\n",
      "Running epoch: 67\n"
     ]
    },
    {
     "data": {
      "application/vnd.jupyter.widget-view+json": {
       "model_id": "b020b4ec43a04eb7b756daad766871b1",
       "version_major": 2,
       "version_minor": 0
      },
      "text/plain": [
       "  0%|          | 0/200 [00:00<?, ?it/s]"
      ]
     },
     "metadata": {},
     "output_type": "display_data"
    },
    {
     "data": {
      "application/vnd.jupyter.widget-view+json": {
       "model_id": "ad297d9efc934bf3b6bd6cc46dba5a91",
       "version_major": 2,
       "version_minor": 0
      },
      "text/plain": [
       "  0%|          | 0/50 [00:00<?, ?it/s]"
      ]
     },
     "metadata": {},
     "output_type": "display_data"
    },
    {
     "name": "stdout",
     "output_type": "stream",
     "text": [
      "Accuracy: 99.80\n",
      "Training Loss: 1790.906634 \tValidation Loss: 4.014270\n",
      "\n",
      "early stop occured!!\n"
     ]
    },
    {
     "data": {
      "application/vnd.jupyter.widget-view+json": {
       "model_id": "c7b263f8d8214acda1792bcae7cedf09",
       "version_major": 2,
       "version_minor": 0
      },
      "text/plain": [
       "  0%|          | 0/1000 [00:00<?, ?it/s]"
      ]
     },
     "metadata": {},
     "output_type": "display_data"
    }
   ],
   "source": [
    "TOP_ACCURACY_TRACK = 5\n",
    "# max_epoch=120, top_accuracy_track=3, grandstore={},\n",
    "# minepoch=30,epochwindow=10,accwindow=0.35\n",
    "\n",
    "Grandstore=training(max_epoch=120,\n",
    "                    minepoch=30,\n",
    "                    top_accuracy_track=TOP_ACCURACY_TRACK,\n",
    "                    epochwindow=10,\n",
    "                    accwindow=0.35                  \n",
    "                   )"
   ]
  },
  {
   "cell_type": "code",
   "execution_count": 15,
   "id": "c5b45315",
   "metadata": {},
   "outputs": [
    {
     "name": "stdout",
     "output_type": "stream",
     "text": [
      "Total Run 67 epoch(s)\n",
      "Accuracy MIN: 21.64328657314629 / MAX: 100.0\n",
      "\n",
      "Top 5 performing epochs:\n",
      "#1 epoch 60\t||train_acc 100.0%\t||test100.0%\n",
      "#2 epoch 66\t||train_acc 100.0%\t||test99.9%\n",
      "#3 epoch 58\t||train_acc 100.0%\t||test99.9%\n",
      "#4 epoch 45\t||train_acc 99.8997995991984%\t||test99.7%\n",
      "#5 epoch 35\t||train_acc 99.8997995991984%\t||test99.6%\n",
      "\n",
      "Last epoch:\n",
      "epoch 67\t||train_acc 99.79959919839679%\t||test99.7%\n",
      "\n",
      "The model has parameters: 27299748\n"
     ]
    },
    {
     "data": {
      "image/png": "[encoded data removed]",
      "text/plain": [
       "<Figure size 432x288 with 1 Axes>"
      ]
     },
     "metadata": {
      "needs_background": "light"
     },
     "output_type": "display_data"
    }
   ],
   "source": [
    "print(\"Total Run {} epoch(s)\".format(Grandstore['total_epoch_run']))\n",
    "\n",
    "plt.plot(*[range(1,Grandstore['total_epoch_run']+1)],Grandstore['acclog'])\n",
    "print(\"Accuracy MIN: {} / MAX: {}\".format(Grandstore['minacc'],Grandstore['maxacc']))\n",
    "print()\n",
    "print(\"Top {} performing epochs:\".format(TOP_ACCURACY_TRACK))\n",
    "\n",
    "\n",
    "gstm=Grandstore['topmodels']\n",
    "for i in range(TOP_ACCURACY_TRACK):\n",
    "    easy=gstm[TOP_ACCURACY_TRACK-i-1]\n",
    "    print(\"#{} epoch {}\\t||train_acc {}%\\t||test{}%\".format(i+1,easy[2],easy[0],easy[1]))\n",
    "print()\n",
    "print(\"Last epoch:\")\n",
    "lsmd=Grandstore['lastmodel']\n",
    "print(\"epoch {}\\t||train_acc {}%\\t||test{}%\".format(Grandstore['total_epoch_run'],lsmd[0],lsmd[1]))\n",
    "      \n",
    "print()\n",
    "print(\"The model has parameters: {}\".format(get_n_params(model)))\n",
    "#grandstore['lastmodel']=((training_accuracy,train_epoch,thisepochtestresult))\n",
    "# grandstore['lastmodel']=(training_accuracy,thisepochtestresult,epoch+1,train_epoch)"
   ]
  },
  {
   "cell_type": "code",
   "execution_count": 14,
   "id": "ac30dfc1",
   "metadata": {},
   "outputs": [
    {
     "name": "stdout",
     "output_type": "stream",
     "text": [
      "writings done!\n",
      "Files at: grandstore/tsrd_EfficientNetb120211020203626.pkl\n"
     ]
    }
   ],
   "source": [
    "  \n",
    "f1=open(grandstore_string,\"wb\")\n",
    "pickle.dump(Grandstore,f1)\n",
    "f1.close()\n",
    "\n",
    "print(\"writings done!\")\n",
    "print(\"Files at: \"+grandstore_string)\n",
    "\n",
    "# with open(grandstore_string, 'rb') as file:\n",
    "#     myvar = pickle.load(file)\n",
    "#     print(myvar)"
   ]
  },
  {
   "cell_type": "code",
   "execution_count": null,
   "id": "8bdad976",
   "metadata": {},
   "outputs": [],
   "source": []
  }
 ],
 "metadata": {
  "kernelspec": {
   "display_name": "Python 3 (ipykernel)",
   "language": "python",
   "name": "python3"
  },
  "language_info": {
   "codemirror_mode": {
    "name": "ipython",
    "version": 3
   },
   "file_extension": ".py",
   "mimetype": "text/x-python",
   "name": "python",
   "nbconvert_exporter": "python",
   "pygments_lexer": "ipython3",
   "version": "3.7.11"
  }
 },
 "nbformat": 4,
 "nbformat_minor": 5
}
