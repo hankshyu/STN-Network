{
 "cells": [
  {
   "cell_type": "code",
   "execution_count": 1,
   "id": "db038553",
   "metadata": {},
   "outputs": [
    {
     "name": "stdout",
     "output_type": "stream",
     "text": [
      "Model: EfficientNetb1_sp with 58 classes running on: tsrd\n",
      "The input image size is:(240, 240)\n"
     ]
    }
   ],
   "source": [
    "import torch\n",
    "import torchvision \n",
    "import os\n",
    "from torch.utils import data\n",
    "from PIL import Image\n",
    "import torchvision.datasets as dset\n",
    "import numpy as np\n",
    "\n",
    "import matplotlib.pyplot as plt\n",
    "import torch.nn as nn\n",
    "import torch.optim as optim\n",
    "import torch.nn.functional as F\n",
    "import torchvision.transforms as transforms\n",
    "from tqdm.notebook import tqdm\n",
    "import torchvision.models as models\n",
    "from torch.utils.tensorboard import SummaryWriter\n",
    "from datetime import datetime\n",
    "import matplotlib.pyplot as plt\n",
    "import math\n",
    "import pickle\n",
    "from torchsummary import summary\n",
    "from math import ceil\n",
    "device=torch.device('cuda' if torch.cuda.is_available() else 'cpu')\n",
    "#vital params\n",
    "\n",
    "\n",
    "\n",
    "dataset_name=\"tsrd\"\n",
    " \n",
    "model_name=\"EfficientNetb1_sp\"\n",
    "version = \"b1\"\n",
    "\n",
    "base_model = [\n",
    "    # expand_ratio, channels, repeats, stride, kernel_size\n",
    "    [1, 16, 1, 1, 3],\n",
    "    [6, 24, 2, 2, 3],\n",
    "    [6, 40, 2, 2, 5],\n",
    "    [6, 80, 3, 2, 3],\n",
    "    [6, 112, 3, 1, 5],\n",
    "    [6, 192, 4, 2, 5],\n",
    "    [6, 320, 1, 1, 3],\n",
    "]\n",
    "\n",
    "phi_values = {\n",
    "    # tuple of: (phi_value, resolution, drop_rate)\n",
    "    \"b0\": (0, 224, 0.2),  # alpha, beta, gamma, depth = alpha ** phi\n",
    "    \"b1\": (0.5, 240, 0.2),\n",
    "    \"b2\": (1, 260, 0.3),\n",
    "    \"b3\": (2, 300, 0.3),\n",
    "    \"b4\": (3, 380, 0.4),\n",
    "    \"b5\": (4, 456, 0.4),\n",
    "    \"b6\": (5, 528, 0.5),\n",
    "    \"b7\": (6, 600, 0.5),\n",
    "}\n",
    "\n",
    "phi, res, drop_rate = phi_values[version]\n",
    "#hyperparameters\n",
    "batch_size=20\n",
    "num_classes=-1\n",
    "learning_rate=0.001\n",
    "image_size=(res,res)\n",
    "\n",
    "if dataset_name == \"tsrd\":\n",
    "    num_classes=58\n",
    "elif dataset_name == \"cifar10\":\n",
    "    num_classes=10\n",
    "\n",
    "\n",
    "print(\"Model: \"+model_name +\" with {} classes\".format(num_classes)+\n",
    "      \" running on: \"+dataset_name)\n",
    "print(\"The input image size is:{}\".format(image_size))"
   ]
  },
  {
   "cell_type": "code",
   "execution_count": 2,
   "id": "38958e92",
   "metadata": {},
   "outputs": [
    {
     "name": "stdout",
     "output_type": "stream",
     "text": [
      "{'0': 0, '1': 1, '10': 2, '11': 3, '12': 4, '13': 5, '14': 6, '15': 7, '16': 8, '17': 9, '18': 10, '19': 11, '2': 12, '20': 13, '21': 14, '22': 15, '23': 16, '24': 17, '25': 18, '26': 19, '27': 20, '28': 21, '29': 22, '3': 23, '30': 24, '31': 25, '32': 26, '33': 27, '34': 28, '35': 29, '36': 30, '37': 31, '38': 32, '39': 33, '4': 34, '40': 35, '41': 36, '42': 37, '43': 38, '44': 39, '45': 40, '46': 41, '47': 42, '48': 43, '49': 44, '5': 45, '50': 46, '51': 47, '52': 48, '53': 49, '54': 50, '55': 51, '56': 52, '57': 53, '6': 54, '7': 55, '8': 56, '9': 57}\n",
      "Dataset size: Train: 4000, Valid: 998, Test: 1000\n",
      "torch.Size([3, 240, 240])\n",
      "Datasets loaded and prepared\n"
     ]
    }
   ],
   "source": [
    "# load data through imagefolder\n",
    "if dataset_name == \"tsrd\":\n",
    "    main_transforms=transforms.Compose([\n",
    "        transforms.Resize(image_size),\n",
    "        transforms.ToTensor(),\n",
    "        transforms.Normalize(mean = [0.485, 0.456, 0.406] , std = [0.229, 0.224, 0.225]),\n",
    "\n",
    "    ])\n",
    "\n",
    "    train_dir = \"../../dataset/data\"\n",
    "    head_train_set = dset.ImageFolder(train_dir,transform=main_transforms)\n",
    "    train_set, valid_set = data.random_split(head_train_set, [5000, 998])\n",
    "    train_set, test_set = data.random_split(train_set,[4000, 1000])\n",
    "\n",
    "\n",
    "    train_dataloader=torch.utils.data.DataLoader(train_set,\n",
    "                                                 batch_size=batch_size,\n",
    "                                                 shuffle=True)\n",
    "\n",
    "    val_dataloader=torch.utils.data.DataLoader(valid_set,\n",
    "                                                 batch_size=batch_size,\n",
    "                                                 shuffle=True)\n",
    "\n",
    "    test_dataloader=torch.utils.data.DataLoader(test_set,\n",
    "                                                 batch_size=1,\n",
    "                                                 shuffle=True)\n",
    "    print(head_train_set.class_to_idx)\n",
    "elif dataset_name == \"cifar10\":\n",
    "    \n",
    "    main_transforms=transforms.Compose([\n",
    "        transforms.Resize(image_size),\n",
    "        transforms.ToTensor(),\n",
    "        transforms.Normalize(mean = [0.5, 0.5, 0.5] , std = [0.5, 0.5, 0.5]),\n",
    "\n",
    "    ])\n",
    "\n",
    "    bigtrain_set = torchvision.datasets.CIFAR10(root='./data', train=True, download=True, transform=main_transforms)\n",
    "    train_set, valid_set = data.random_split(bigtrain_set, [40000, 10000])\n",
    "    test_set = torchvision.datasets.CIFAR10(root='./data', train=False, download=True, transform=main_transforms)\n",
    "\n",
    "\n",
    "    train_dataloader = torch.utils.data.DataLoader(train_set, \n",
    "                                                   batch_size=batch_size, \n",
    "                                                   shuffle=True, num_workers=2)\n",
    "\n",
    "    val_dataloader = torch.utils.data.DataLoader(valid_set, \n",
    "                                                   batch_size=batch_size, \n",
    "                                                   shuffle=True, num_workers=2)\n",
    "\n",
    "    test_dataloader = torch.utils.data.DataLoader(test_set,\n",
    "                                                  batch_size=batch_size,\n",
    "                                                  shuffle=False, num_workers=2)\n",
    "    \n",
    "\n",
    "\n",
    "\n",
    "\n",
    "\n",
    "print(\"Dataset size: Train: {}, Valid: {}, Test: {}\"\n",
    "      .format(len(train_set),len(valid_set),len(test_set)))\n",
    "\n",
    "\n",
    "print(train_set[0][0].shape)\n",
    "print(\"Datasets loaded and prepared\")"
   ]
  },
  {
   "cell_type": "code",
   "execution_count": 3,
   "id": "7ec326fc",
   "metadata": {},
   "outputs": [
    {
     "name": "stdout",
     "output_type": "stream",
     "text": [
      "torch.Size([3, 3, 240, 240])\n",
      "torch.Size([3, 58])\n"
     ]
    },
    {
     "name": "stderr",
     "output_type": "stream",
     "text": [
      "C:\\Users\\2080Ti\\Anaconda3\\envs\\pytorch\\lib\\site-packages\\torch\\nn\\functional.py:4044: UserWarning: Default grid_sample and affine_grid behavior has changed to align_corners=False since 1.3.0. Please specify align_corners=True if the old behavior is desired. See the documentation of grid_sample for details.\n",
      "  \"Default grid_sample and affine_grid behavior has changed \"\n",
      "C:\\Users\\2080Ti\\Anaconda3\\envs\\pytorch\\lib\\site-packages\\torch\\nn\\functional.py:3982: UserWarning: Default grid_sample and affine_grid behavior has changed to align_corners=False since 1.3.0. Please specify align_corners=True if the old behavior is desired. See the documentation of grid_sample for details.\n",
      "  \"Default grid_sample and affine_grid behavior has changed \"\n"
     ]
    }
   ],
   "source": [
    "class CNNBlock(nn.Module):\n",
    "    def __init__(\n",
    "            self, in_channels, out_channels, kernel_size, stride, padding, groups=1\n",
    "    ):\n",
    "        super(CNNBlock, self).__init__()\n",
    "        self.cnn = nn.Conv2d(\n",
    "            in_channels,\n",
    "            out_channels,\n",
    "            kernel_size,\n",
    "            stride,\n",
    "            padding,\n",
    "            groups=groups,\n",
    "            bias=False,\n",
    "        )\n",
    "        self.bn = nn.BatchNorm2d(out_channels)\n",
    "        self.silu = nn.SiLU() # SiLU <-> Swish\n",
    "\n",
    "    def forward(self, x):\n",
    "        return self.silu(self.bn(self.cnn(x)))\n",
    "\n",
    "class SqueezeExcitation(nn.Module):\n",
    "    def __init__(self, in_channels, reduced_dim):\n",
    "        super(SqueezeExcitation, self).__init__()\n",
    "        self.se = nn.Sequential(\n",
    "            nn.AdaptiveAvgPool2d(1), # C x H x W -> C x 1 x 1\n",
    "            nn.Conv2d(in_channels, reduced_dim, 1),\n",
    "            nn.SiLU(),\n",
    "            nn.Conv2d(reduced_dim, in_channels, 1),\n",
    "            nn.Sigmoid(),\n",
    "        )\n",
    "\n",
    "    def forward(self, x):\n",
    "        return x * self.se(x)\n",
    "\n",
    "class InvertedResidualBlock(nn.Module):\n",
    "    def __init__(\n",
    "            self,\n",
    "            in_channels,\n",
    "            out_channels,\n",
    "            kernel_size,\n",
    "            stride,\n",
    "            padding,\n",
    "            expand_ratio,\n",
    "            reduction=4, # squeeze excitation\n",
    "            survival_prob=0.8, # for stochastic depth\n",
    "    ):\n",
    "        super(InvertedResidualBlock, self).__init__()\n",
    "        self.survival_prob = 0.8\n",
    "        self.use_residual = in_channels == out_channels and stride == 1\n",
    "        hidden_dim = in_channels * expand_ratio\n",
    "        self.expand = in_channels != hidden_dim\n",
    "        reduced_dim = int(in_channels / reduction)\n",
    "\n",
    "        if self.expand:\n",
    "            self.expand_conv = CNNBlock(\n",
    "                in_channels, hidden_dim, kernel_size=3, stride=1, padding=1,\n",
    "            )\n",
    "\n",
    "        self.conv = nn.Sequential(\n",
    "            CNNBlock(\n",
    "                hidden_dim, hidden_dim, kernel_size, stride, padding, groups=hidden_dim,\n",
    "            ),\n",
    "            SqueezeExcitation(hidden_dim, reduced_dim),\n",
    "            nn.Conv2d(hidden_dim, out_channels, 1, bias=False),\n",
    "            nn.BatchNorm2d(out_channels),\n",
    "        )\n",
    "\n",
    "    def stochastic_depth(self, x):\n",
    "        if not self.training:\n",
    "            return x\n",
    "\n",
    "        binary_tensor = torch.rand(x.shape[0], 1, 1, 1, device=x.device) < self.survival_prob\n",
    "        return torch.div(x, self.survival_prob) * binary_tensor\n",
    "\n",
    "    def forward(self, inputs):\n",
    "        x = self.expand_conv(inputs) if self.expand else inputs\n",
    "\n",
    "        if self.use_residual:\n",
    "            return self.stochastic_depth(self.conv(x)) + inputs\n",
    "        else:\n",
    "            return self.conv(x)\n",
    "\n",
    "\n",
    "class EfficientNet(nn.Module):\n",
    "    def __init__(self, version, num_classes):\n",
    "        super(EfficientNet, self).__init__()\n",
    "        width_factor, depth_factor, dropout_rate = self.calculate_factors(version)\n",
    "        last_channels = ceil(1280 * width_factor)\n",
    "        self.localization = nn.Sequential(\n",
    "            nn.Conv2d(3, 8, kernel_size=7),\n",
    "            nn.MaxPool2d(2, stride=2),\n",
    "            nn.ReLU(True),\n",
    "            nn.Conv2d(8, 10, kernel_size=5),\n",
    "            nn.MaxPool2d(2, stride=2),\n",
    "            nn.ReLU(True)\n",
    "        )\n",
    "\n",
    "        # Regressor for the 3 * 2 affine matrix\n",
    "        self.fc_loc = nn.Sequential(\n",
    "            nn.Linear(31360, 32),\n",
    "            nn.ReLU(True),\n",
    "            nn.Linear(32, 3 * 2)\n",
    "        )\n",
    "        self.pool = nn.AdaptiveAvgPool2d(1)\n",
    "        self.features = self.create_features(width_factor, depth_factor, last_channels)\n",
    "        self.classifier = nn.Sequential(\n",
    "            nn.Dropout(dropout_rate),\n",
    "            nn.Linear(last_channels, num_classes),\n",
    "        )\n",
    "        \n",
    "\n",
    "\n",
    "        # Initialize the weights/bias with identity transformation\n",
    "        self.fc_loc[2].weight.data.zero_()\n",
    "        self.fc_loc[2].bias.data.copy_(torch.tensor([1, 0, 0, 0, 1, 0], dtype=torch.float))\n",
    "\n",
    "    # Spatial transformer network forward function\n",
    "    def stn(self, x):\n",
    "        \n",
    "        xs = self.localization(x)\n",
    "        xs = xs.view(-1, 10*56*56)\n",
    "        theta = self.fc_loc(xs)\n",
    "        theta = theta.view(-1, 2, 3)\n",
    "        grid = F.affine_grid(theta, x.size())\n",
    "        x = F.grid_sample(x, grid)\n",
    "        \n",
    "        \n",
    "    def calculate_factors(self, version, alpha=1.2, beta=1.1):\n",
    "        phi, res, drop_rate = phi_values[version]\n",
    "        depth_factor = alpha ** phi\n",
    "        width_factor = beta ** phi\n",
    "        return width_factor, depth_factor, drop_rate\n",
    "\n",
    "    def create_features(self, width_factor, depth_factor, last_channels):\n",
    "        channels = int(32 * width_factor)\n",
    "        features = [CNNBlock(3, channels, 3, stride=2, padding=1)]\n",
    "        in_channels = channels\n",
    "\n",
    "        for expand_ratio, channels, repeats, stride, kernel_size in base_model:\n",
    "            out_channels = 4*ceil(int(channels*width_factor) / 4)\n",
    "            layers_repeats = ceil(repeats * depth_factor)\n",
    "\n",
    "            for layer in range(layers_repeats):\n",
    "                features.append(\n",
    "                    InvertedResidualBlock(\n",
    "                        in_channels,\n",
    "                        out_channels,\n",
    "                        expand_ratio=expand_ratio,\n",
    "                        stride = stride if layer == 0 else 1,\n",
    "                        kernel_size=kernel_size,\n",
    "                        padding=kernel_size//2, # if k=1:pad=0, k=3:pad=1, k=5:pad=2\n",
    "                    )\n",
    "                )\n",
    "                in_channels = out_channels\n",
    "\n",
    "        features.append(\n",
    "            CNNBlock(in_channels, last_channels, kernel_size=1, stride=1, padding=0)\n",
    "        )\n",
    "\n",
    "        return nn.Sequential(*features)\n",
    "\n",
    "    def forward(self, x):\n",
    "        self.stn(x)\n",
    "        x = self.pool(self.features(x))\n",
    "        \n",
    "        return self.classifier(x.view(x.shape[0], -1))\n",
    "\n",
    "\n",
    "def test():\n",
    "    device = \"cuda\" if torch.cuda.is_available() else \"cpu\"\n",
    "    version = \"b1\"\n",
    "    phi, res, drop_rate = phi_values[version]\n",
    "    num_examples = 3\n",
    "    x = torch.randn((num_examples, 3, res, res)).to(device)\n",
    "    model = EfficientNet(\n",
    "        version=version,\n",
    "        num_classes=num_classes,\n",
    "    ).to(device)\n",
    "    print(x.shape)\n",
    "    print(model(x).shape) # (num_examples, num_classes)\n",
    "\n",
    "test()\n",
    "\n",
    "#print(\"Efficient Net model defined\")"
   ]
  },
  {
   "cell_type": "code",
   "execution_count": 4,
   "id": "fe94e559",
   "metadata": {},
   "outputs": [
    {
     "name": "stdout",
     "output_type": "stream",
     "text": [
      "torch.Size([64, 3, 240, 240])\n",
      "torch.Size([64, 58])\n",
      "----------------------------------------------------------------\n",
      "        Layer (type)               Output Shape         Param #\n",
      "================================================================\n",
      "            Conv2d-1          [-1, 8, 234, 234]           1,184\n",
      "         MaxPool2d-2          [-1, 8, 117, 117]               0\n",
      "              ReLU-3          [-1, 8, 117, 117]               0\n",
      "            Conv2d-4         [-1, 10, 113, 113]           2,010\n",
      "         MaxPool2d-5           [-1, 10, 56, 56]               0\n",
      "              ReLU-6           [-1, 10, 56, 56]               0\n",
      "            Linear-7                   [-1, 32]       1,003,552\n",
      "              ReLU-8                   [-1, 32]               0\n",
      "            Linear-9                    [-1, 6]             198\n",
      "           Conv2d-10         [-1, 33, 120, 120]             891\n",
      "      BatchNorm2d-11         [-1, 33, 120, 120]              66\n",
      "             SiLU-12         [-1, 33, 120, 120]               0\n",
      "         CNNBlock-13         [-1, 33, 120, 120]               0\n",
      "           Conv2d-14         [-1, 33, 120, 120]             297\n",
      "      BatchNorm2d-15         [-1, 33, 120, 120]              66\n",
      "             SiLU-16         [-1, 33, 120, 120]               0\n",
      "         CNNBlock-17         [-1, 33, 120, 120]               0\n",
      "AdaptiveAvgPool2d-18             [-1, 33, 1, 1]               0\n",
      "           Conv2d-19              [-1, 8, 1, 1]             272\n",
      "             SiLU-20              [-1, 8, 1, 1]               0\n",
      "           Conv2d-21             [-1, 33, 1, 1]             297\n",
      "          Sigmoid-22             [-1, 33, 1, 1]               0\n",
      "SqueezeExcitation-23         [-1, 33, 120, 120]               0\n",
      "           Conv2d-24         [-1, 16, 120, 120]             528\n",
      "      BatchNorm2d-25         [-1, 16, 120, 120]              32\n",
      "InvertedResidualBlock-26         [-1, 16, 120, 120]               0\n",
      "           Conv2d-27         [-1, 16, 120, 120]             144\n",
      "      BatchNorm2d-28         [-1, 16, 120, 120]              32\n",
      "             SiLU-29         [-1, 16, 120, 120]               0\n",
      "         CNNBlock-30         [-1, 16, 120, 120]               0\n",
      "AdaptiveAvgPool2d-31             [-1, 16, 1, 1]               0\n",
      "           Conv2d-32              [-1, 4, 1, 1]              68\n",
      "             SiLU-33              [-1, 4, 1, 1]               0\n",
      "           Conv2d-34             [-1, 16, 1, 1]              80\n",
      "          Sigmoid-35             [-1, 16, 1, 1]               0\n",
      "SqueezeExcitation-36         [-1, 16, 120, 120]               0\n",
      "           Conv2d-37         [-1, 16, 120, 120]             256\n",
      "      BatchNorm2d-38         [-1, 16, 120, 120]              32\n",
      "InvertedResidualBlock-39         [-1, 16, 120, 120]               0\n",
      "           Conv2d-40         [-1, 96, 120, 120]          13,824\n",
      "      BatchNorm2d-41         [-1, 96, 120, 120]             192\n",
      "             SiLU-42         [-1, 96, 120, 120]               0\n",
      "         CNNBlock-43         [-1, 96, 120, 120]               0\n",
      "           Conv2d-44           [-1, 96, 60, 60]             864\n",
      "      BatchNorm2d-45           [-1, 96, 60, 60]             192\n",
      "             SiLU-46           [-1, 96, 60, 60]               0\n",
      "         CNNBlock-47           [-1, 96, 60, 60]               0\n",
      "AdaptiveAvgPool2d-48             [-1, 96, 1, 1]               0\n",
      "           Conv2d-49              [-1, 4, 1, 1]             388\n",
      "             SiLU-50              [-1, 4, 1, 1]               0\n",
      "           Conv2d-51             [-1, 96, 1, 1]             480\n",
      "          Sigmoid-52             [-1, 96, 1, 1]               0\n",
      "SqueezeExcitation-53           [-1, 96, 60, 60]               0\n",
      "           Conv2d-54           [-1, 28, 60, 60]           2,688\n",
      "      BatchNorm2d-55           [-1, 28, 60, 60]              56\n",
      "InvertedResidualBlock-56           [-1, 28, 60, 60]               0\n",
      "           Conv2d-57          [-1, 168, 60, 60]          42,336\n",
      "      BatchNorm2d-58          [-1, 168, 60, 60]             336\n",
      "             SiLU-59          [-1, 168, 60, 60]               0\n",
      "         CNNBlock-60          [-1, 168, 60, 60]               0\n",
      "           Conv2d-61          [-1, 168, 60, 60]           1,512\n",
      "      BatchNorm2d-62          [-1, 168, 60, 60]             336\n",
      "             SiLU-63          [-1, 168, 60, 60]               0\n",
      "         CNNBlock-64          [-1, 168, 60, 60]               0\n",
      "AdaptiveAvgPool2d-65            [-1, 168, 1, 1]               0\n",
      "           Conv2d-66              [-1, 7, 1, 1]           1,183\n",
      "             SiLU-67              [-1, 7, 1, 1]               0\n",
      "           Conv2d-68            [-1, 168, 1, 1]           1,344\n",
      "          Sigmoid-69            [-1, 168, 1, 1]               0\n",
      "SqueezeExcitation-70          [-1, 168, 60, 60]               0\n",
      "           Conv2d-71           [-1, 28, 60, 60]           4,704\n",
      "      BatchNorm2d-72           [-1, 28, 60, 60]              56\n",
      "InvertedResidualBlock-73           [-1, 28, 60, 60]               0\n",
      "           Conv2d-74          [-1, 168, 60, 60]          42,336\n",
      "      BatchNorm2d-75          [-1, 168, 60, 60]             336\n",
      "             SiLU-76          [-1, 168, 60, 60]               0\n",
      "         CNNBlock-77          [-1, 168, 60, 60]               0\n",
      "           Conv2d-78          [-1, 168, 60, 60]           1,512\n",
      "      BatchNorm2d-79          [-1, 168, 60, 60]             336\n",
      "             SiLU-80          [-1, 168, 60, 60]               0\n",
      "         CNNBlock-81          [-1, 168, 60, 60]               0\n",
      "AdaptiveAvgPool2d-82            [-1, 168, 1, 1]               0\n",
      "           Conv2d-83              [-1, 7, 1, 1]           1,183\n",
      "             SiLU-84              [-1, 7, 1, 1]               0\n",
      "           Conv2d-85            [-1, 168, 1, 1]           1,344\n",
      "          Sigmoid-86            [-1, 168, 1, 1]               0\n",
      "SqueezeExcitation-87          [-1, 168, 60, 60]               0\n",
      "           Conv2d-88           [-1, 28, 60, 60]           4,704\n",
      "      BatchNorm2d-89           [-1, 28, 60, 60]              56\n",
      "InvertedResidualBlock-90           [-1, 28, 60, 60]               0\n",
      "           Conv2d-91          [-1, 168, 60, 60]          42,336\n",
      "      BatchNorm2d-92          [-1, 168, 60, 60]             336\n",
      "             SiLU-93          [-1, 168, 60, 60]               0\n",
      "         CNNBlock-94          [-1, 168, 60, 60]               0\n",
      "           Conv2d-95          [-1, 168, 30, 30]           4,200\n",
      "      BatchNorm2d-96          [-1, 168, 30, 30]             336\n",
      "             SiLU-97          [-1, 168, 30, 30]               0\n",
      "         CNNBlock-98          [-1, 168, 30, 30]               0\n",
      "AdaptiveAvgPool2d-99            [-1, 168, 1, 1]               0\n",
      "          Conv2d-100              [-1, 7, 1, 1]           1,183\n",
      "            SiLU-101              [-1, 7, 1, 1]               0\n",
      "          Conv2d-102            [-1, 168, 1, 1]           1,344\n",
      "         Sigmoid-103            [-1, 168, 1, 1]               0\n",
      "SqueezeExcitation-104          [-1, 168, 30, 30]               0\n",
      "          Conv2d-105           [-1, 44, 30, 30]           7,392\n",
      "     BatchNorm2d-106           [-1, 44, 30, 30]              88\n",
      "InvertedResidualBlock-107           [-1, 44, 30, 30]               0\n",
      "          Conv2d-108          [-1, 264, 30, 30]         104,544\n",
      "     BatchNorm2d-109          [-1, 264, 30, 30]             528\n",
      "            SiLU-110          [-1, 264, 30, 30]               0\n",
      "        CNNBlock-111          [-1, 264, 30, 30]               0\n",
      "          Conv2d-112          [-1, 264, 30, 30]           6,600\n",
      "     BatchNorm2d-113          [-1, 264, 30, 30]             528\n",
      "            SiLU-114          [-1, 264, 30, 30]               0\n",
      "        CNNBlock-115          [-1, 264, 30, 30]               0\n",
      "AdaptiveAvgPool2d-116            [-1, 264, 1, 1]               0\n",
      "          Conv2d-117             [-1, 11, 1, 1]           2,915\n",
      "            SiLU-118             [-1, 11, 1, 1]               0\n",
      "          Conv2d-119            [-1, 264, 1, 1]           3,168\n",
      "         Sigmoid-120            [-1, 264, 1, 1]               0\n",
      "SqueezeExcitation-121          [-1, 264, 30, 30]               0\n",
      "          Conv2d-122           [-1, 44, 30, 30]          11,616\n",
      "     BatchNorm2d-123           [-1, 44, 30, 30]              88\n",
      "InvertedResidualBlock-124           [-1, 44, 30, 30]               0\n",
      "          Conv2d-125          [-1, 264, 30, 30]         104,544\n",
      "     BatchNorm2d-126          [-1, 264, 30, 30]             528\n",
      "            SiLU-127          [-1, 264, 30, 30]               0\n",
      "        CNNBlock-128          [-1, 264, 30, 30]               0\n",
      "          Conv2d-129          [-1, 264, 30, 30]           6,600\n",
      "     BatchNorm2d-130          [-1, 264, 30, 30]             528\n",
      "            SiLU-131          [-1, 264, 30, 30]               0\n",
      "        CNNBlock-132          [-1, 264, 30, 30]               0\n",
      "AdaptiveAvgPool2d-133            [-1, 264, 1, 1]               0\n",
      "          Conv2d-134             [-1, 11, 1, 1]           2,915\n",
      "            SiLU-135             [-1, 11, 1, 1]               0\n",
      "          Conv2d-136            [-1, 264, 1, 1]           3,168\n",
      "         Sigmoid-137            [-1, 264, 1, 1]               0\n",
      "SqueezeExcitation-138          [-1, 264, 30, 30]               0\n",
      "          Conv2d-139           [-1, 44, 30, 30]          11,616\n",
      "     BatchNorm2d-140           [-1, 44, 30, 30]              88\n",
      "InvertedResidualBlock-141           [-1, 44, 30, 30]               0\n",
      "          Conv2d-142          [-1, 264, 30, 30]         104,544\n",
      "     BatchNorm2d-143          [-1, 264, 30, 30]             528\n",
      "            SiLU-144          [-1, 264, 30, 30]               0\n",
      "        CNNBlock-145          [-1, 264, 30, 30]               0\n",
      "          Conv2d-146          [-1, 264, 15, 15]           2,376\n",
      "     BatchNorm2d-147          [-1, 264, 15, 15]             528\n",
      "            SiLU-148          [-1, 264, 15, 15]               0\n",
      "        CNNBlock-149          [-1, 264, 15, 15]               0\n",
      "AdaptiveAvgPool2d-150            [-1, 264, 1, 1]               0\n",
      "          Conv2d-151             [-1, 11, 1, 1]           2,915\n",
      "            SiLU-152             [-1, 11, 1, 1]               0\n",
      "          Conv2d-153            [-1, 264, 1, 1]           3,168\n",
      "         Sigmoid-154            [-1, 264, 1, 1]               0\n",
      "SqueezeExcitation-155          [-1, 264, 15, 15]               0\n",
      "          Conv2d-156           [-1, 84, 15, 15]          22,176\n",
      "     BatchNorm2d-157           [-1, 84, 15, 15]             168\n",
      "InvertedResidualBlock-158           [-1, 84, 15, 15]               0\n",
      "          Conv2d-159          [-1, 504, 15, 15]         381,024\n",
      "     BatchNorm2d-160          [-1, 504, 15, 15]           1,008\n",
      "            SiLU-161          [-1, 504, 15, 15]               0\n",
      "        CNNBlock-162          [-1, 504, 15, 15]               0\n",
      "          Conv2d-163          [-1, 504, 15, 15]           4,536\n",
      "     BatchNorm2d-164          [-1, 504, 15, 15]           1,008\n",
      "            SiLU-165          [-1, 504, 15, 15]               0\n",
      "        CNNBlock-166          [-1, 504, 15, 15]               0\n",
      "AdaptiveAvgPool2d-167            [-1, 504, 1, 1]               0\n",
      "          Conv2d-168             [-1, 21, 1, 1]          10,605\n",
      "            SiLU-169             [-1, 21, 1, 1]               0\n",
      "          Conv2d-170            [-1, 504, 1, 1]          11,088\n",
      "         Sigmoid-171            [-1, 504, 1, 1]               0\n",
      "SqueezeExcitation-172          [-1, 504, 15, 15]               0\n",
      "          Conv2d-173           [-1, 84, 15, 15]          42,336\n",
      "     BatchNorm2d-174           [-1, 84, 15, 15]             168\n",
      "InvertedResidualBlock-175           [-1, 84, 15, 15]               0\n",
      "          Conv2d-176          [-1, 504, 15, 15]         381,024\n",
      "     BatchNorm2d-177          [-1, 504, 15, 15]           1,008\n",
      "            SiLU-178          [-1, 504, 15, 15]               0\n",
      "        CNNBlock-179          [-1, 504, 15, 15]               0\n",
      "          Conv2d-180          [-1, 504, 15, 15]           4,536\n",
      "     BatchNorm2d-181          [-1, 504, 15, 15]           1,008\n",
      "            SiLU-182          [-1, 504, 15, 15]               0\n",
      "        CNNBlock-183          [-1, 504, 15, 15]               0\n",
      "AdaptiveAvgPool2d-184            [-1, 504, 1, 1]               0\n",
      "          Conv2d-185             [-1, 21, 1, 1]          10,605\n",
      "            SiLU-186             [-1, 21, 1, 1]               0\n",
      "          Conv2d-187            [-1, 504, 1, 1]          11,088\n",
      "         Sigmoid-188            [-1, 504, 1, 1]               0\n",
      "SqueezeExcitation-189          [-1, 504, 15, 15]               0\n",
      "          Conv2d-190           [-1, 84, 15, 15]          42,336\n",
      "     BatchNorm2d-191           [-1, 84, 15, 15]             168\n",
      "InvertedResidualBlock-192           [-1, 84, 15, 15]               0\n",
      "          Conv2d-193          [-1, 504, 15, 15]         381,024\n",
      "     BatchNorm2d-194          [-1, 504, 15, 15]           1,008\n",
      "            SiLU-195          [-1, 504, 15, 15]               0\n",
      "        CNNBlock-196          [-1, 504, 15, 15]               0\n",
      "          Conv2d-197          [-1, 504, 15, 15]           4,536\n",
      "     BatchNorm2d-198          [-1, 504, 15, 15]           1,008\n",
      "            SiLU-199          [-1, 504, 15, 15]               0\n",
      "        CNNBlock-200          [-1, 504, 15, 15]               0\n",
      "AdaptiveAvgPool2d-201            [-1, 504, 1, 1]               0\n",
      "          Conv2d-202             [-1, 21, 1, 1]          10,605\n",
      "            SiLU-203             [-1, 21, 1, 1]               0\n",
      "          Conv2d-204            [-1, 504, 1, 1]          11,088\n",
      "         Sigmoid-205            [-1, 504, 1, 1]               0\n",
      "SqueezeExcitation-206          [-1, 504, 15, 15]               0\n",
      "          Conv2d-207           [-1, 84, 15, 15]          42,336\n",
      "     BatchNorm2d-208           [-1, 84, 15, 15]             168\n",
      "InvertedResidualBlock-209           [-1, 84, 15, 15]               0\n",
      "          Conv2d-210          [-1, 504, 15, 15]         381,024\n",
      "     BatchNorm2d-211          [-1, 504, 15, 15]           1,008\n",
      "            SiLU-212          [-1, 504, 15, 15]               0\n",
      "        CNNBlock-213          [-1, 504, 15, 15]               0\n",
      "          Conv2d-214          [-1, 504, 15, 15]          12,600\n",
      "     BatchNorm2d-215          [-1, 504, 15, 15]           1,008\n",
      "            SiLU-216          [-1, 504, 15, 15]               0\n",
      "        CNNBlock-217          [-1, 504, 15, 15]               0\n",
      "AdaptiveAvgPool2d-218            [-1, 504, 1, 1]               0\n",
      "          Conv2d-219             [-1, 21, 1, 1]          10,605\n",
      "            SiLU-220             [-1, 21, 1, 1]               0\n",
      "          Conv2d-221            [-1, 504, 1, 1]          11,088\n",
      "         Sigmoid-222            [-1, 504, 1, 1]               0\n",
      "SqueezeExcitation-223          [-1, 504, 15, 15]               0\n",
      "          Conv2d-224          [-1, 120, 15, 15]          60,480\n",
      "     BatchNorm2d-225          [-1, 120, 15, 15]             240\n",
      "InvertedResidualBlock-226          [-1, 120, 15, 15]               0\n",
      "          Conv2d-227          [-1, 720, 15, 15]         777,600\n",
      "     BatchNorm2d-228          [-1, 720, 15, 15]           1,440\n",
      "            SiLU-229          [-1, 720, 15, 15]               0\n",
      "        CNNBlock-230          [-1, 720, 15, 15]               0\n",
      "          Conv2d-231          [-1, 720, 15, 15]          18,000\n",
      "     BatchNorm2d-232          [-1, 720, 15, 15]           1,440\n",
      "            SiLU-233          [-1, 720, 15, 15]               0\n",
      "        CNNBlock-234          [-1, 720, 15, 15]               0\n",
      "AdaptiveAvgPool2d-235            [-1, 720, 1, 1]               0\n",
      "          Conv2d-236             [-1, 30, 1, 1]          21,630\n",
      "            SiLU-237             [-1, 30, 1, 1]               0\n",
      "          Conv2d-238            [-1, 720, 1, 1]          22,320\n",
      "         Sigmoid-239            [-1, 720, 1, 1]               0\n",
      "SqueezeExcitation-240          [-1, 720, 15, 15]               0\n",
      "          Conv2d-241          [-1, 120, 15, 15]          86,400\n",
      "     BatchNorm2d-242          [-1, 120, 15, 15]             240\n",
      "InvertedResidualBlock-243          [-1, 120, 15, 15]               0\n",
      "          Conv2d-244          [-1, 720, 15, 15]         777,600\n",
      "     BatchNorm2d-245          [-1, 720, 15, 15]           1,440\n",
      "            SiLU-246          [-1, 720, 15, 15]               0\n",
      "        CNNBlock-247          [-1, 720, 15, 15]               0\n",
      "          Conv2d-248          [-1, 720, 15, 15]          18,000\n",
      "     BatchNorm2d-249          [-1, 720, 15, 15]           1,440\n",
      "            SiLU-250          [-1, 720, 15, 15]               0\n",
      "        CNNBlock-251          [-1, 720, 15, 15]               0\n",
      "AdaptiveAvgPool2d-252            [-1, 720, 1, 1]               0\n",
      "          Conv2d-253             [-1, 30, 1, 1]          21,630\n",
      "            SiLU-254             [-1, 30, 1, 1]               0\n",
      "          Conv2d-255            [-1, 720, 1, 1]          22,320\n",
      "         Sigmoid-256            [-1, 720, 1, 1]               0\n",
      "SqueezeExcitation-257          [-1, 720, 15, 15]               0\n",
      "          Conv2d-258          [-1, 120, 15, 15]          86,400\n",
      "     BatchNorm2d-259          [-1, 120, 15, 15]             240\n",
      "InvertedResidualBlock-260          [-1, 120, 15, 15]               0\n",
      "          Conv2d-261          [-1, 720, 15, 15]         777,600\n",
      "     BatchNorm2d-262          [-1, 720, 15, 15]           1,440\n",
      "            SiLU-263          [-1, 720, 15, 15]               0\n",
      "        CNNBlock-264          [-1, 720, 15, 15]               0\n",
      "          Conv2d-265          [-1, 720, 15, 15]          18,000\n",
      "     BatchNorm2d-266          [-1, 720, 15, 15]           1,440\n",
      "            SiLU-267          [-1, 720, 15, 15]               0\n",
      "        CNNBlock-268          [-1, 720, 15, 15]               0\n",
      "AdaptiveAvgPool2d-269            [-1, 720, 1, 1]               0\n",
      "          Conv2d-270             [-1, 30, 1, 1]          21,630\n",
      "            SiLU-271             [-1, 30, 1, 1]               0\n",
      "          Conv2d-272            [-1, 720, 1, 1]          22,320\n",
      "         Sigmoid-273            [-1, 720, 1, 1]               0\n",
      "SqueezeExcitation-274          [-1, 720, 15, 15]               0\n",
      "          Conv2d-275          [-1, 120, 15, 15]          86,400\n",
      "     BatchNorm2d-276          [-1, 120, 15, 15]             240\n",
      "InvertedResidualBlock-277          [-1, 120, 15, 15]               0\n",
      "          Conv2d-278          [-1, 720, 15, 15]         777,600\n",
      "     BatchNorm2d-279          [-1, 720, 15, 15]           1,440\n",
      "            SiLU-280          [-1, 720, 15, 15]               0\n",
      "        CNNBlock-281          [-1, 720, 15, 15]               0\n",
      "          Conv2d-282            [-1, 720, 8, 8]          18,000\n",
      "     BatchNorm2d-283            [-1, 720, 8, 8]           1,440\n",
      "            SiLU-284            [-1, 720, 8, 8]               0\n",
      "        CNNBlock-285            [-1, 720, 8, 8]               0\n",
      "AdaptiveAvgPool2d-286            [-1, 720, 1, 1]               0\n",
      "          Conv2d-287             [-1, 30, 1, 1]          21,630\n",
      "            SiLU-288             [-1, 30, 1, 1]               0\n",
      "          Conv2d-289            [-1, 720, 1, 1]          22,320\n",
      "         Sigmoid-290            [-1, 720, 1, 1]               0\n",
      "SqueezeExcitation-291            [-1, 720, 8, 8]               0\n",
      "          Conv2d-292            [-1, 204, 8, 8]         146,880\n",
      "     BatchNorm2d-293            [-1, 204, 8, 8]             408\n",
      "InvertedResidualBlock-294            [-1, 204, 8, 8]               0\n",
      "          Conv2d-295           [-1, 1224, 8, 8]       2,247,264\n",
      "     BatchNorm2d-296           [-1, 1224, 8, 8]           2,448\n",
      "            SiLU-297           [-1, 1224, 8, 8]               0\n",
      "        CNNBlock-298           [-1, 1224, 8, 8]               0\n",
      "          Conv2d-299           [-1, 1224, 8, 8]          30,600\n",
      "     BatchNorm2d-300           [-1, 1224, 8, 8]           2,448\n",
      "            SiLU-301           [-1, 1224, 8, 8]               0\n",
      "        CNNBlock-302           [-1, 1224, 8, 8]               0\n",
      "AdaptiveAvgPool2d-303           [-1, 1224, 1, 1]               0\n",
      "          Conv2d-304             [-1, 51, 1, 1]          62,475\n",
      "            SiLU-305             [-1, 51, 1, 1]               0\n",
      "          Conv2d-306           [-1, 1224, 1, 1]          63,648\n",
      "         Sigmoid-307           [-1, 1224, 1, 1]               0\n",
      "SqueezeExcitation-308           [-1, 1224, 8, 8]               0\n",
      "          Conv2d-309            [-1, 204, 8, 8]         249,696\n",
      "     BatchNorm2d-310            [-1, 204, 8, 8]             408\n",
      "InvertedResidualBlock-311            [-1, 204, 8, 8]               0\n",
      "          Conv2d-312           [-1, 1224, 8, 8]       2,247,264\n",
      "     BatchNorm2d-313           [-1, 1224, 8, 8]           2,448\n",
      "            SiLU-314           [-1, 1224, 8, 8]               0\n",
      "        CNNBlock-315           [-1, 1224, 8, 8]               0\n",
      "          Conv2d-316           [-1, 1224, 8, 8]          30,600\n",
      "     BatchNorm2d-317           [-1, 1224, 8, 8]           2,448\n",
      "            SiLU-318           [-1, 1224, 8, 8]               0\n",
      "        CNNBlock-319           [-1, 1224, 8, 8]               0\n",
      "AdaptiveAvgPool2d-320           [-1, 1224, 1, 1]               0\n",
      "          Conv2d-321             [-1, 51, 1, 1]          62,475\n",
      "            SiLU-322             [-1, 51, 1, 1]               0\n",
      "          Conv2d-323           [-1, 1224, 1, 1]          63,648\n",
      "         Sigmoid-324           [-1, 1224, 1, 1]               0\n",
      "SqueezeExcitation-325           [-1, 1224, 8, 8]               0\n",
      "          Conv2d-326            [-1, 204, 8, 8]         249,696\n",
      "     BatchNorm2d-327            [-1, 204, 8, 8]             408\n",
      "InvertedResidualBlock-328            [-1, 204, 8, 8]               0\n",
      "          Conv2d-329           [-1, 1224, 8, 8]       2,247,264\n",
      "     BatchNorm2d-330           [-1, 1224, 8, 8]           2,448\n",
      "            SiLU-331           [-1, 1224, 8, 8]               0\n",
      "        CNNBlock-332           [-1, 1224, 8, 8]               0\n",
      "          Conv2d-333           [-1, 1224, 8, 8]          30,600\n",
      "     BatchNorm2d-334           [-1, 1224, 8, 8]           2,448\n",
      "            SiLU-335           [-1, 1224, 8, 8]               0\n",
      "        CNNBlock-336           [-1, 1224, 8, 8]               0\n",
      "AdaptiveAvgPool2d-337           [-1, 1224, 1, 1]               0\n",
      "          Conv2d-338             [-1, 51, 1, 1]          62,475\n",
      "            SiLU-339             [-1, 51, 1, 1]               0\n",
      "          Conv2d-340           [-1, 1224, 1, 1]          63,648\n",
      "         Sigmoid-341           [-1, 1224, 1, 1]               0\n",
      "SqueezeExcitation-342           [-1, 1224, 8, 8]               0\n",
      "          Conv2d-343            [-1, 204, 8, 8]         249,696\n",
      "     BatchNorm2d-344            [-1, 204, 8, 8]             408\n",
      "InvertedResidualBlock-345            [-1, 204, 8, 8]               0\n",
      "          Conv2d-346           [-1, 1224, 8, 8]       2,247,264\n",
      "     BatchNorm2d-347           [-1, 1224, 8, 8]           2,448\n",
      "            SiLU-348           [-1, 1224, 8, 8]               0\n",
      "        CNNBlock-349           [-1, 1224, 8, 8]               0\n",
      "          Conv2d-350           [-1, 1224, 8, 8]          30,600\n",
      "     BatchNorm2d-351           [-1, 1224, 8, 8]           2,448\n",
      "            SiLU-352           [-1, 1224, 8, 8]               0\n",
      "        CNNBlock-353           [-1, 1224, 8, 8]               0\n",
      "AdaptiveAvgPool2d-354           [-1, 1224, 1, 1]               0\n",
      "          Conv2d-355             [-1, 51, 1, 1]          62,475\n",
      "            SiLU-356             [-1, 51, 1, 1]               0\n",
      "          Conv2d-357           [-1, 1224, 1, 1]          63,648\n",
      "         Sigmoid-358           [-1, 1224, 1, 1]               0\n",
      "SqueezeExcitation-359           [-1, 1224, 8, 8]               0\n",
      "          Conv2d-360            [-1, 204, 8, 8]         249,696\n",
      "     BatchNorm2d-361            [-1, 204, 8, 8]             408\n",
      "InvertedResidualBlock-362            [-1, 204, 8, 8]               0\n",
      "          Conv2d-363           [-1, 1224, 8, 8]       2,247,264\n",
      "     BatchNorm2d-364           [-1, 1224, 8, 8]           2,448\n",
      "            SiLU-365           [-1, 1224, 8, 8]               0\n",
      "        CNNBlock-366           [-1, 1224, 8, 8]               0\n",
      "          Conv2d-367           [-1, 1224, 8, 8]          11,016\n",
      "     BatchNorm2d-368           [-1, 1224, 8, 8]           2,448\n",
      "            SiLU-369           [-1, 1224, 8, 8]               0\n",
      "        CNNBlock-370           [-1, 1224, 8, 8]               0\n",
      "AdaptiveAvgPool2d-371           [-1, 1224, 1, 1]               0\n",
      "          Conv2d-372             [-1, 51, 1, 1]          62,475\n",
      "            SiLU-373             [-1, 51, 1, 1]               0\n",
      "          Conv2d-374           [-1, 1224, 1, 1]          63,648\n",
      "         Sigmoid-375           [-1, 1224, 1, 1]               0\n",
      "SqueezeExcitation-376           [-1, 1224, 8, 8]               0\n",
      "          Conv2d-377            [-1, 336, 8, 8]         411,264\n",
      "     BatchNorm2d-378            [-1, 336, 8, 8]             672\n",
      "InvertedResidualBlock-379            [-1, 336, 8, 8]               0\n",
      "          Conv2d-380           [-1, 2016, 8, 8]       6,096,384\n",
      "     BatchNorm2d-381           [-1, 2016, 8, 8]           4,032\n",
      "            SiLU-382           [-1, 2016, 8, 8]               0\n",
      "        CNNBlock-383           [-1, 2016, 8, 8]               0\n",
      "          Conv2d-384           [-1, 2016, 8, 8]          18,144\n",
      "     BatchNorm2d-385           [-1, 2016, 8, 8]           4,032\n",
      "            SiLU-386           [-1, 2016, 8, 8]               0\n",
      "        CNNBlock-387           [-1, 2016, 8, 8]               0\n",
      "AdaptiveAvgPool2d-388           [-1, 2016, 1, 1]               0\n",
      "          Conv2d-389             [-1, 84, 1, 1]         169,428\n",
      "            SiLU-390             [-1, 84, 1, 1]               0\n",
      "          Conv2d-391           [-1, 2016, 1, 1]         171,360\n",
      "         Sigmoid-392           [-1, 2016, 1, 1]               0\n",
      "SqueezeExcitation-393           [-1, 2016, 8, 8]               0\n",
      "          Conv2d-394            [-1, 336, 8, 8]         677,376\n",
      "     BatchNorm2d-395            [-1, 336, 8, 8]             672\n",
      "InvertedResidualBlock-396            [-1, 336, 8, 8]               0\n",
      "          Conv2d-397           [-1, 1343, 8, 8]         451,248\n",
      "     BatchNorm2d-398           [-1, 1343, 8, 8]           2,686\n",
      "            SiLU-399           [-1, 1343, 8, 8]               0\n",
      "        CNNBlock-400           [-1, 1343, 8, 8]               0\n",
      "AdaptiveAvgPool2d-401           [-1, 1343, 1, 1]               0\n",
      "         Dropout-402                 [-1, 1343]               0\n",
      "          Linear-403                   [-1, 58]          77,952\n",
      "================================================================\n",
      "Total params: 28,306,692\n",
      "Trainable params: 28,306,692\n",
      "Non-trainable params: 0\n",
      "----------------------------------------------------------------\n",
      "Input size (MB): 0.66\n",
      "Forward/backward pass size (MB): 389.51\n",
      "Params size (MB): 107.98\n",
      "Estimated Total Size (MB): 498.15\n",
      "----------------------------------------------------------------\n",
      "None\n",
      "model shape ready\n",
      "model initialised\n"
     ]
    }
   ],
   "source": [
    "model = EfficientNet(\n",
    "    version=version,\n",
    "    num_classes=num_classes,\n",
    ").to(device)\n",
    "\n",
    "model = model.to(device)\n",
    "\n",
    "#pretesting model for shape\n",
    "x=torch.randn(64,3,res,res)\n",
    "x=x.to(device)\n",
    "print(x.shape)\n",
    "print(model(x).shape)\n",
    "print(summary(model, input_size=(3, res, res)))\n",
    "print(\"model shape ready\")\n",
    "\n",
    "#initailise network\n",
    "\n",
    "\n",
    "#loss and optimizer\n",
    "criterion=nn.CrossEntropyLoss()\n",
    "optimizer=optim.Adam(model.parameters(),lr=learning_rate)\n",
    "\n",
    "print(\"model initialised\")"
   ]
  },
  {
   "cell_type": "code",
   "execution_count": 5,
   "id": "ee819dc9",
   "metadata": {},
   "outputs": [
    {
     "name": "stdout",
     "output_type": "stream",
     "text": [
      "test defined\n",
      "early stop defined\n"
     ]
    }
   ],
   "source": [
    "# This is the testing part\n",
    "def get_n_params(model):\n",
    "    pp=0\n",
    "    for p in list(model.parameters()):\n",
    "        nn=1\n",
    "        for s in list(p.size()):\n",
    "            nn = nn*s\n",
    "        pp += nn\n",
    "    return pp\n",
    "get_n_params(model)\n",
    "\n",
    "def test(model, test_loader, istest= False, doprint=True):\n",
    "    model.eval()\n",
    "    test_loss = 0\n",
    "    correct = 0\n",
    "    TP=0\n",
    "    TN=0\n",
    "    FN=0\n",
    "    FP=0\n",
    "    test_loss = 0.0\n",
    "    \n",
    "    with torch.no_grad(): # disable gradient calculation for efficiency\n",
    "        for data, target in tqdm(test_loader):\n",
    "            # Prediction\n",
    "            data=data.to(device=device)\n",
    "            target=target.to(device=device)\n",
    "            optimizer.zero_grad()\n",
    "            \n",
    "            output = model(data)\n",
    "            loss=criterion(output,target)\n",
    "            \n",
    "            # Compute loss & accuracy\n",
    "            test_loss+=loss.item()*data.size(0)\n",
    "\n",
    "            \n",
    "            #test_loss += F.nll_loss(output, target, reduction='sum').item()  # sum up batch loss\n",
    "            pred = output.argmax(dim=1, keepdim=True)  # get the index of the max log-probability\n",
    "            correct += pred.eq(target.view_as(pred)).sum().item() # how many predictions in this batch are correct\n",
    "            \n",
    "            #print(\"pred={} , target={} , judge={}\".format(pred.item(),target.item(),pred.eq(target.view_as(pred)).sum().item()))\n",
    "\n",
    "            \n",
    "    #test_loss /= len(test_loader.dataset)\n",
    "\n",
    "        \n",
    "    # Log testing info\n",
    "    if istest and doprint:\n",
    "        \n",
    "        print('Loss: {}   Accuracy: {}/{} ({:.3f}%)'.format(test_loss,\n",
    "        correct, len(test_loader.dataset),\n",
    "        100.000 * correct / len(test_loader.dataset)))\n",
    "        print(\"Total parameters: {}\".format(get_n_params(model)))\n",
    "    elif doprint:\n",
    "        print('Accuracy: {}/{} ({:.3f}%)'.format(\n",
    "        correct, len(test_loader.dataset),\n",
    "        100.000 * correct / len(test_loader.dataset)))\n",
    "    return 100.000 * correct / len(test_loader.dataset)\n",
    "        \n",
    "\n",
    "print(\"test defined\")\n",
    "\n",
    "def testshouldearlystop(acclist,minepoch,epochwindow,accwindow):\n",
    "    runlen=len(acclist)\n",
    "    if(runlen<minepoch):\n",
    "        return False\n",
    "    elif(acclist[-1]>acclist[-2]):\n",
    "        return False\n",
    "    \n",
    "    watchwindow=acclist[-epochwindow:]\n",
    "    shouldjump=True\n",
    "    sum=0\n",
    "    for i in watchwindow:\n",
    "        sum+=i\n",
    "    avg = sum/epochwindow\n",
    "    for i in watchwindow:\n",
    "        if abs(i-avg)>(accwindow):\n",
    "            shouldjump=False\n",
    "    return shouldjump\n",
    "print(\"early stop defined\")"
   ]
  },
  {
   "cell_type": "code",
   "execution_count": 6,
   "id": "49606c1c",
   "metadata": {},
   "outputs": [
    {
     "name": "stdout",
     "output_type": "stream",
     "text": [
      "tensorboard_string:\n",
      "runs/EfficientNetb1_sp20211030150319\n",
      "grandstore_string:\n",
      "grandstore/tsrd_EfficientNetb1_sp20211030150319.pkl\n"
     ]
    }
   ],
   "source": [
    "now=datetime.now()\n",
    "dt_string = now.strftime(\"%Y%m%d%H%M%S\")\n",
    "\n",
    "tensorboard_string=\"runs/\"+model_name+dt_string\n",
    "grandstore_string=\"grandstore/\"+dataset_name+\"_\"+model_name+dt_string+\".pkl\"\n",
    "print(\"tensorboard_string:\")\n",
    "print(tensorboard_string)\n",
    "print(\"grandstore_string:\")\n",
    "print(grandstore_string)\n",
    "\n",
    "\n",
    "writer = SummaryWriter(tensorboard_string)\n"
   ]
  },
  {
   "cell_type": "code",
   "execution_count": 7,
   "id": "7c876d58",
   "metadata": {},
   "outputs": [],
   "source": [
    "#This is the training part\n",
    "\n",
    "# Grand_store={\n",
    "#     'total_epoch_run':-1\n",
    "#     'topmodels':-1\n",
    "#     'lastmodel':-1\n",
    "#     'acclog':[]\n",
    "#     'maxacc':-1\n",
    "#     'minacc':101\n",
    "# }\n",
    "# train_epoch={\n",
    "#     \"numofepoch\":-1\n",
    "#     \"accuracy\":-1\n",
    "#     \"model_state\":model.state_dict(),\n",
    "#     \"optim_state\":optimizer.state_dict(),\n",
    "#     \"totaltrain_loss\":totaltrain_loss,\n",
    "#     \"totalvalid_loss\":totalvalid_loss\n",
    "# }\n",
    "\n",
    "def training(max_epoch=120, top_accuracy_track=3, grandstore={},\n",
    "             minepoch=30,epochwindow=10,accwindow=0.35):\n",
    "\n",
    "    grandstore['total_epoch_run']=0\n",
    "    grandstore['topmodels']=[]\n",
    "    grandstore['acclog']=[]\n",
    "    grandstore['maxacc']=-1\n",
    "    grandstore['minacc']=101\n",
    "    \n",
    "    for epoch in range(0,max_epoch):\n",
    "        \n",
    "        grandstore['total_epoch_run']=epoch+1\n",
    "        \n",
    "        train_epoch={\n",
    "        \"numofepoch\":grandstore['total_epoch_run']\n",
    "        }\n",
    "    \n",
    "        train_loss=0.0\n",
    "        valid_loss=0.0\n",
    "        print(\"Running epoch: {}\".format(epoch+1))\n",
    "\n",
    "        model.train()\n",
    "        totaltrain_loss=0\n",
    "        \n",
    "        #this is the training part\n",
    "        for data,target in tqdm(train_dataloader):\n",
    "            data=data.to(device=device)\n",
    "            target=target.to(device=device)\n",
    "            output = model(data)\n",
    "            loss = criterion(output, target)\n",
    "            optimizer.zero_grad()\n",
    "            loss.backward()\n",
    "            optimizer.step()\n",
    "            train_loss += loss.item()*data.size(0)\n",
    "            totaltrain_loss += train_loss\n",
    "\n",
    "        #this is the validation part\n",
    "        model.eval()\n",
    "        totalvalid_loss=0;\n",
    "        correct = 0\n",
    "        for data,target in tqdm(val_dataloader):\n",
    "            data=data.to(device=device)\n",
    "            target=target.to(device=device)\n",
    "            output=model(data)\n",
    "            loss=criterion(output,target)\n",
    "            valid_loss=loss.item()*data.size(0)\n",
    "            #train_loss = train_loss/len(train_dataloader.dataset)\n",
    "            #valid_loss = valid_loss/len(val_dataloader.dataset)\n",
    "            totalvalid_loss+=valid_loss\n",
    "            \n",
    "            pred = output.argmax(dim=1, keepdim=True)  # get the index of the max log-probability\n",
    "            correct += pred.eq(target.view_as(pred)).sum().item() # how many predictions in t\n",
    "        \n",
    "\n",
    "        training_accuracy=100. * correct / len(val_dataloader.dataset)\n",
    "        train_epoch[\"accuracy\"]=training_accuracy\n",
    "        train_epoch[\"totaltrain_loss\"]=totaltrain_loss\n",
    "        train_epoch[\"totalvalid_loss\"]=totalvalid_loss\n",
    "        \n",
    "        #writings to the GrandStore\n",
    "        \n",
    "        grandstore['acclog'].append(training_accuracy)\n",
    "        \n",
    "        if training_accuracy < grandstore['minacc']:\n",
    "            grandstore['minacc'] = training_accuracy\n",
    "            \n",
    "        if training_accuracy > grandstore['maxacc']:\n",
    "            grandstore['maxacc'] = training_accuracy\n",
    "        \n",
    "\n",
    "        if epoch < top_accuracy_track:\n",
    "            thisepochtestresult=test(model,test_dataloader,istest = True,doprint=False)\n",
    "            grandstore['topmodels'].append((training_accuracy,thisepochtestresult,epoch+1,train_epoch))\n",
    "            #if error print this\n",
    "            grandstore['topmodels'].sort()\n",
    "\n",
    "        elif training_accuracy > grandstore['topmodels'][0][0]:\n",
    "            thisepochtestresult=test(model,test_dataloader,istest = True,doprint=False)\n",
    "            grandstore['topmodels'][0]=(training_accuracy,thisepochtestresult,epoch+1,train_epoch)\n",
    "            #if error print this\n",
    "            grandstore['topmodels'].sort()\n",
    "\n",
    "        if epoch == (max_epoch-1):\n",
    "            thisepochtestresult=test(model,test_dataloader,istest = True,doprint=False)\n",
    "            grandstore['lastmodel']=(training_accuracy,thisepochtestresult,epoch+1,train_epoch)\n",
    "                     \n",
    "        writer.add_scalar('Training Loss',totaltrain_loss,global_step = epoch)\n",
    "        writer.add_scalar('Valid Loss',totalvalid_loss,global_step = epoch)\n",
    "        writer.add_scalar('Accuracy',training_accuracy,global_step = epoch)\n",
    "        \n",
    "        print('Accuracy: {:.3f}'.format(training_accuracy))\n",
    "        print('Training Loss: {:.4f} \\tValidation Loss: {:.4f}\\n'.format(totaltrain_loss, totalvalid_loss))\n",
    "        \n",
    "        #early stopping criteria\n",
    "        if(testshouldearlystop(acclist=grandstore['acclog'],\n",
    "                               minepoch = minepoch,\n",
    "                               epochwindow = epochwindow,\n",
    "                               accwindow = accwindow)):\n",
    "            print(\"early stop occured!!\")\n",
    "            thisepochtestresult=test(model,test_dataloader,istest = True,doprint=False)\n",
    "            grandstore['lastmodel']=(training_accuracy,thisepochtestresult,epoch+1,train_epoch)\n",
    "            return grandstore\n",
    "    \n",
    "    return grandstore\n",
    "        \n"
   ]
  },
  {
   "cell_type": "code",
   "execution_count": 8,
   "id": "d1f494cd",
   "metadata": {},
   "outputs": [
    {
     "name": "stdout",
     "output_type": "stream",
     "text": [
      "Running epoch: 1\n"
     ]
    },
    {
     "data": {
      "application/vnd.jupyter.widget-view+json": {
       "model_id": "7e9bd3e2bb624c5fa6632a603f748885",
       "version_major": 2,
       "version_minor": 0
      },
      "text/plain": [
       "  0%|          | 0/200 [00:00<?, ?it/s]"
      ]
     },
     "metadata": {},
     "output_type": "display_data"
    },
    {
     "data": {
      "application/vnd.jupyter.widget-view+json": {
       "model_id": "2962158207ab4101a75213f913bb7008",
       "version_major": 2,
       "version_minor": 0
      },
      "text/plain": [
       "  0%|          | 0/50 [00:00<?, ?it/s]"
      ]
     },
     "metadata": {},
     "output_type": "display_data"
    },
    {
     "data": {
      "application/vnd.jupyter.widget-view+json": {
       "model_id": "3273d90deec8467e80a948352399ff75",
       "version_major": 2,
       "version_minor": 0
      },
      "text/plain": [
       "  0%|          | 0/1000 [00:00<?, ?it/s]"
      ]
     },
     "metadata": {},
     "output_type": "display_data"
    },
    {
     "name": "stdout",
     "output_type": "stream",
     "text": [
      "Accuracy: 23.246\n",
      "Training Loss: 1468793.6254 \tValidation Loss: 2750.0306\n",
      "\n",
      "Running epoch: 2\n"
     ]
    },
    {
     "data": {
      "application/vnd.jupyter.widget-view+json": {
       "model_id": "ce31dfee22744d7aa0ef019cad0118ed",
       "version_major": 2,
       "version_minor": 0
      },
      "text/plain": [
       "  0%|          | 0/200 [00:00<?, ?it/s]"
      ]
     },
     "metadata": {},
     "output_type": "display_data"
    },
    {
     "data": {
      "application/vnd.jupyter.widget-view+json": {
       "model_id": "120604f545e64175a33d95c6da5166f8",
       "version_major": 2,
       "version_minor": 0
      },
      "text/plain": [
       "  0%|          | 0/50 [00:00<?, ?it/s]"
      ]
     },
     "metadata": {},
     "output_type": "display_data"
    },
    {
     "data": {
      "application/vnd.jupyter.widget-view+json": {
       "model_id": "4d96a853212e4466ba25ba1d8fd5aef0",
       "version_major": 2,
       "version_minor": 0
      },
      "text/plain": [
       "  0%|          | 0/1000 [00:00<?, ?it/s]"
      ]
     },
     "metadata": {},
     "output_type": "display_data"
    },
    {
     "name": "stdout",
     "output_type": "stream",
     "text": [
      "Accuracy: 41.483\n",
      "Training Loss: 1041922.5472 \tValidation Loss: 1793.4674\n",
      "\n",
      "Running epoch: 3\n"
     ]
    },
    {
     "data": {
      "application/vnd.jupyter.widget-view+json": {
       "model_id": "26751eb8a6e04cf9a2edd3727684d332",
       "version_major": 2,
       "version_minor": 0
      },
      "text/plain": [
       "  0%|          | 0/200 [00:00<?, ?it/s]"
      ]
     },
     "metadata": {},
     "output_type": "display_data"
    },
    {
     "data": {
      "application/vnd.jupyter.widget-view+json": {
       "model_id": "9b8ec6dd68bc436d825559706ae057e9",
       "version_major": 2,
       "version_minor": 0
      },
      "text/plain": [
       "  0%|          | 0/50 [00:00<?, ?it/s]"
      ]
     },
     "metadata": {},
     "output_type": "display_data"
    },
    {
     "data": {
      "application/vnd.jupyter.widget-view+json": {
       "model_id": "88540506555442e68e99efa97e99a202",
       "version_major": 2,
       "version_minor": 0
      },
      "text/plain": [
       "  0%|          | 0/1000 [00:00<?, ?it/s]"
      ]
     },
     "metadata": {},
     "output_type": "display_data"
    },
    {
     "name": "stdout",
     "output_type": "stream",
     "text": [
      "Accuracy: 54.309\n",
      "Training Loss: 744118.1877 \tValidation Loss: 1431.9335\n",
      "\n",
      "Running epoch: 4\n"
     ]
    },
    {
     "data": {
      "application/vnd.jupyter.widget-view+json": {
       "model_id": "d8b8a19433554f4bbb19c0e7126fc125",
       "version_major": 2,
       "version_minor": 0
      },
      "text/plain": [
       "  0%|          | 0/200 [00:00<?, ?it/s]"
      ]
     },
     "metadata": {},
     "output_type": "display_data"
    },
    {
     "data": {
      "application/vnd.jupyter.widget-view+json": {
       "model_id": "3630a7c7353e400f922a3b6acc6cda1b",
       "version_major": 2,
       "version_minor": 0
      },
      "text/plain": [
       "  0%|          | 0/50 [00:00<?, ?it/s]"
      ]
     },
     "metadata": {},
     "output_type": "display_data"
    },
    {
     "data": {
      "application/vnd.jupyter.widget-view+json": {
       "model_id": "4062f85939ad447fbd94f7ed8e9db7c2",
       "version_major": 2,
       "version_minor": 0
      },
      "text/plain": [
       "  0%|          | 0/1000 [00:00<?, ?it/s]"
      ]
     },
     "metadata": {},
     "output_type": "display_data"
    },
    {
     "name": "stdout",
     "output_type": "stream",
     "text": [
      "Accuracy: 77.956\n",
      "Training Loss: 523268.9428 \tValidation Loss: 736.9170\n",
      "\n",
      "Running epoch: 5\n"
     ]
    },
    {
     "data": {
      "application/vnd.jupyter.widget-view+json": {
       "model_id": "2410fcbad30f4dfa9a84759408331b96",
       "version_major": 2,
       "version_minor": 0
      },
      "text/plain": [
       "  0%|          | 0/200 [00:00<?, ?it/s]"
      ]
     },
     "metadata": {},
     "output_type": "display_data"
    },
    {
     "data": {
      "application/vnd.jupyter.widget-view+json": {
       "model_id": "7c0778d9d1fb4a7a9c5a3244276bc213",
       "version_major": 2,
       "version_minor": 0
      },
      "text/plain": [
       "  0%|          | 0/50 [00:00<?, ?it/s]"
      ]
     },
     "metadata": {},
     "output_type": "display_data"
    },
    {
     "data": {
      "application/vnd.jupyter.widget-view+json": {
       "model_id": "c1e75cb722db483fad4ac2c7c662aa3e",
       "version_major": 2,
       "version_minor": 0
      },
      "text/plain": [
       "  0%|          | 0/1000 [00:00<?, ?it/s]"
      ]
     },
     "metadata": {},
     "output_type": "display_data"
    },
    {
     "name": "stdout",
     "output_type": "stream",
     "text": [
      "Accuracy: 80.862\n",
      "Training Loss: 304007.7350 \tValidation Loss: 608.2921\n",
      "\n",
      "Running epoch: 6\n"
     ]
    },
    {
     "data": {
      "application/vnd.jupyter.widget-view+json": {
       "model_id": "955d96efa75b4efb927de74f4ad5ddda",
       "version_major": 2,
       "version_minor": 0
      },
      "text/plain": [
       "  0%|          | 0/200 [00:00<?, ?it/s]"
      ]
     },
     "metadata": {},
     "output_type": "display_data"
    },
    {
     "data": {
      "application/vnd.jupyter.widget-view+json": {
       "model_id": "b4a132ecc6044af380401976d92b2050",
       "version_major": 2,
       "version_minor": 0
      },
      "text/plain": [
       "  0%|          | 0/50 [00:00<?, ?it/s]"
      ]
     },
     "metadata": {},
     "output_type": "display_data"
    },
    {
     "data": {
      "application/vnd.jupyter.widget-view+json": {
       "model_id": "576bee588f3140d4947a1e5233e39935",
       "version_major": 2,
       "version_minor": 0
      },
      "text/plain": [
       "  0%|          | 0/1000 [00:00<?, ?it/s]"
      ]
     },
     "metadata": {},
     "output_type": "display_data"
    },
    {
     "name": "stdout",
     "output_type": "stream",
     "text": [
      "Accuracy: 89.379\n",
      "Training Loss: 216231.8236 \tValidation Loss: 320.2069\n",
      "\n",
      "Running epoch: 7\n"
     ]
    },
    {
     "data": {
      "application/vnd.jupyter.widget-view+json": {
       "model_id": "b7b800f7a17145008ac68e404386fc60",
       "version_major": 2,
       "version_minor": 0
      },
      "text/plain": [
       "  0%|          | 0/200 [00:00<?, ?it/s]"
      ]
     },
     "metadata": {},
     "output_type": "display_data"
    },
    {
     "data": {
      "application/vnd.jupyter.widget-view+json": {
       "model_id": "b7d383feee394dcf928a02bf155b50fa",
       "version_major": 2,
       "version_minor": 0
      },
      "text/plain": [
       "  0%|          | 0/50 [00:00<?, ?it/s]"
      ]
     },
     "metadata": {},
     "output_type": "display_data"
    },
    {
     "data": {
      "application/vnd.jupyter.widget-view+json": {
       "model_id": "35c65acbec7c454182b078390408b41a",
       "version_major": 2,
       "version_minor": 0
      },
      "text/plain": [
       "  0%|          | 0/1000 [00:00<?, ?it/s]"
      ]
     },
     "metadata": {},
     "output_type": "display_data"
    },
    {
     "name": "stdout",
     "output_type": "stream",
     "text": [
      "Accuracy: 91.383\n",
      "Training Loss: 144240.5151 \tValidation Loss: 287.1500\n",
      "\n",
      "Running epoch: 8\n"
     ]
    },
    {
     "data": {
      "application/vnd.jupyter.widget-view+json": {
       "model_id": "7159197ca2994f60ba384c7d9e8bde30",
       "version_major": 2,
       "version_minor": 0
      },
      "text/plain": [
       "  0%|          | 0/200 [00:00<?, ?it/s]"
      ]
     },
     "metadata": {},
     "output_type": "display_data"
    },
    {
     "data": {
      "application/vnd.jupyter.widget-view+json": {
       "model_id": "075b86b278154bab947faf146b94eef4",
       "version_major": 2,
       "version_minor": 0
      },
      "text/plain": [
       "  0%|          | 0/50 [00:00<?, ?it/s]"
      ]
     },
     "metadata": {},
     "output_type": "display_data"
    },
    {
     "data": {
      "application/vnd.jupyter.widget-view+json": {
       "model_id": "605e196441ec41f7ac9b74e20715afce",
       "version_major": 2,
       "version_minor": 0
      },
      "text/plain": [
       "  0%|          | 0/1000 [00:00<?, ?it/s]"
      ]
     },
     "metadata": {},
     "output_type": "display_data"
    },
    {
     "name": "stdout",
     "output_type": "stream",
     "text": [
      "Accuracy: 96.493\n",
      "Training Loss: 92350.0436 \tValidation Loss: 145.5634\n",
      "\n",
      "Running epoch: 9\n"
     ]
    },
    {
     "data": {
      "application/vnd.jupyter.widget-view+json": {
       "model_id": "27aecaca644c454eabba1b40d34d99bd",
       "version_major": 2,
       "version_minor": 0
      },
      "text/plain": [
       "  0%|          | 0/200 [00:00<?, ?it/s]"
      ]
     },
     "metadata": {},
     "output_type": "display_data"
    },
    {
     "data": {
      "application/vnd.jupyter.widget-view+json": {
       "model_id": "6ab4cda5875b4acc80c545d67a59b663",
       "version_major": 2,
       "version_minor": 0
      },
      "text/plain": [
       "  0%|          | 0/50 [00:00<?, ?it/s]"
      ]
     },
     "metadata": {},
     "output_type": "display_data"
    },
    {
     "data": {
      "application/vnd.jupyter.widget-view+json": {
       "model_id": "d75b4f76802947b6a5019667441dd502",
       "version_major": 2,
       "version_minor": 0
      },
      "text/plain": [
       "  0%|          | 0/1000 [00:00<?, ?it/s]"
      ]
     },
     "metadata": {},
     "output_type": "display_data"
    },
    {
     "name": "stdout",
     "output_type": "stream",
     "text": [
      "Accuracy: 95.491\n",
      "Training Loss: 82339.1299 \tValidation Loss: 150.7385\n",
      "\n",
      "Running epoch: 10\n"
     ]
    },
    {
     "data": {
      "application/vnd.jupyter.widget-view+json": {
       "model_id": "8ffcc133bf174f729e28e1da5a4f7552",
       "version_major": 2,
       "version_minor": 0
      },
      "text/plain": [
       "  0%|          | 0/200 [00:00<?, ?it/s]"
      ]
     },
     "metadata": {},
     "output_type": "display_data"
    },
    {
     "data": {
      "application/vnd.jupyter.widget-view+json": {
       "model_id": "07786c66ad3f4111a2949f13e94cbcec",
       "version_major": 2,
       "version_minor": 0
      },
      "text/plain": [
       "  0%|          | 0/50 [00:00<?, ?it/s]"
      ]
     },
     "metadata": {},
     "output_type": "display_data"
    },
    {
     "data": {
      "application/vnd.jupyter.widget-view+json": {
       "model_id": "c5fc6d0f1fe841cbb07555a322e83a96",
       "version_major": 2,
       "version_minor": 0
      },
      "text/plain": [
       "  0%|          | 0/1000 [00:00<?, ?it/s]"
      ]
     },
     "metadata": {},
     "output_type": "display_data"
    },
    {
     "name": "stdout",
     "output_type": "stream",
     "text": [
      "Accuracy: 97.996\n",
      "Training Loss: 59597.0723 \tValidation Loss: 97.7917\n",
      "\n",
      "Running epoch: 11\n"
     ]
    },
    {
     "data": {
      "application/vnd.jupyter.widget-view+json": {
       "model_id": "b99147e5266b4f2a8c09c845ed56a96a",
       "version_major": 2,
       "version_minor": 0
      },
      "text/plain": [
       "  0%|          | 0/200 [00:00<?, ?it/s]"
      ]
     },
     "metadata": {},
     "output_type": "display_data"
    },
    {
     "data": {
      "application/vnd.jupyter.widget-view+json": {
       "model_id": "a4f68c3e293b4e0fbb7b9d3153722f39",
       "version_major": 2,
       "version_minor": 0
      },
      "text/plain": [
       "  0%|          | 0/50 [00:00<?, ?it/s]"
      ]
     },
     "metadata": {},
     "output_type": "display_data"
    },
    {
     "data": {
      "application/vnd.jupyter.widget-view+json": {
       "model_id": "4798b12223914a9e9232f3801888cd66",
       "version_major": 2,
       "version_minor": 0
      },
      "text/plain": [
       "  0%|          | 0/1000 [00:00<?, ?it/s]"
      ]
     },
     "metadata": {},
     "output_type": "display_data"
    },
    {
     "name": "stdout",
     "output_type": "stream",
     "text": [
      "Accuracy: 98.397\n",
      "Training Loss: 51389.1888 \tValidation Loss: 85.7736\n",
      "\n",
      "Running epoch: 12\n"
     ]
    },
    {
     "data": {
      "application/vnd.jupyter.widget-view+json": {
       "model_id": "94bcf76ac2414516b286b5f1bba46a34",
       "version_major": 2,
       "version_minor": 0
      },
      "text/plain": [
       "  0%|          | 0/200 [00:00<?, ?it/s]"
      ]
     },
     "metadata": {},
     "output_type": "display_data"
    },
    {
     "data": {
      "application/vnd.jupyter.widget-view+json": {
       "model_id": "2a5f6e665b88400193e0c547f7968f3a",
       "version_major": 2,
       "version_minor": 0
      },
      "text/plain": [
       "  0%|          | 0/50 [00:00<?, ?it/s]"
      ]
     },
     "metadata": {},
     "output_type": "display_data"
    },
    {
     "data": {
      "application/vnd.jupyter.widget-view+json": {
       "model_id": "ea2bc1db702c4385a8952c366fa24df9",
       "version_major": 2,
       "version_minor": 0
      },
      "text/plain": [
       "  0%|          | 0/1000 [00:00<?, ?it/s]"
      ]
     },
     "metadata": {},
     "output_type": "display_data"
    },
    {
     "name": "stdout",
     "output_type": "stream",
     "text": [
      "Accuracy: 98.196\n",
      "Training Loss: 37650.8228 \tValidation Loss: 94.7879\n",
      "\n",
      "Running epoch: 13\n"
     ]
    },
    {
     "data": {
      "application/vnd.jupyter.widget-view+json": {
       "model_id": "b15dc329c8034011af3f3dfffe3a00ef",
       "version_major": 2,
       "version_minor": 0
      },
      "text/plain": [
       "  0%|          | 0/200 [00:00<?, ?it/s]"
      ]
     },
     "metadata": {},
     "output_type": "display_data"
    },
    {
     "data": {
      "application/vnd.jupyter.widget-view+json": {
       "model_id": "b4d58dfc551e435abc9e92fd6e945a0b",
       "version_major": 2,
       "version_minor": 0
      },
      "text/plain": [
       "  0%|          | 0/50 [00:00<?, ?it/s]"
      ]
     },
     "metadata": {},
     "output_type": "display_data"
    },
    {
     "data": {
      "application/vnd.jupyter.widget-view+json": {
       "model_id": "481a1d7d7dfd41089a73ac93c409bca6",
       "version_major": 2,
       "version_minor": 0
      },
      "text/plain": [
       "  0%|          | 0/1000 [00:00<?, ?it/s]"
      ]
     },
     "metadata": {},
     "output_type": "display_data"
    },
    {
     "name": "stdout",
     "output_type": "stream",
     "text": [
      "Accuracy: 98.196\n",
      "Training Loss: 39477.2916 \tValidation Loss: 87.1348\n",
      "\n",
      "Running epoch: 14\n"
     ]
    },
    {
     "data": {
      "application/vnd.jupyter.widget-view+json": {
       "model_id": "03f94784c4d3434ea319a8f0946208ee",
       "version_major": 2,
       "version_minor": 0
      },
      "text/plain": [
       "  0%|          | 0/200 [00:00<?, ?it/s]"
      ]
     },
     "metadata": {},
     "output_type": "display_data"
    },
    {
     "data": {
      "application/vnd.jupyter.widget-view+json": {
       "model_id": "5e98e8e49fc8416d8eb228491f394a54",
       "version_major": 2,
       "version_minor": 0
      },
      "text/plain": [
       "  0%|          | 0/50 [00:00<?, ?it/s]"
      ]
     },
     "metadata": {},
     "output_type": "display_data"
    },
    {
     "data": {
      "application/vnd.jupyter.widget-view+json": {
       "model_id": "c397bf56c4c14afa9ccbf6a148b32e83",
       "version_major": 2,
       "version_minor": 0
      },
      "text/plain": [
       "  0%|          | 0/1000 [00:00<?, ?it/s]"
      ]
     },
     "metadata": {},
     "output_type": "display_data"
    },
    {
     "name": "stdout",
     "output_type": "stream",
     "text": [
      "Accuracy: 98.697\n",
      "Training Loss: 27220.8593 \tValidation Loss: 60.8595\n",
      "\n",
      "Running epoch: 15\n"
     ]
    },
    {
     "data": {
      "application/vnd.jupyter.widget-view+json": {
       "model_id": "7c7f6d8d40554ad69a4bf50f04d7f3d3",
       "version_major": 2,
       "version_minor": 0
      },
      "text/plain": [
       "  0%|          | 0/200 [00:00<?, ?it/s]"
      ]
     },
     "metadata": {},
     "output_type": "display_data"
    },
    {
     "data": {
      "application/vnd.jupyter.widget-view+json": {
       "model_id": "ee4fa87893d0424faf1a505f412ab6e1",
       "version_major": 2,
       "version_minor": 0
      },
      "text/plain": [
       "  0%|          | 0/50 [00:00<?, ?it/s]"
      ]
     },
     "metadata": {},
     "output_type": "display_data"
    },
    {
     "data": {
      "application/vnd.jupyter.widget-view+json": {
       "model_id": "6bfd59689db34c1cab18a177906bfc8f",
       "version_major": 2,
       "version_minor": 0
      },
      "text/plain": [
       "  0%|          | 0/1000 [00:00<?, ?it/s]"
      ]
     },
     "metadata": {},
     "output_type": "display_data"
    },
    {
     "name": "stdout",
     "output_type": "stream",
     "text": [
      "Accuracy: 98.297\n",
      "Training Loss: 23067.8002 \tValidation Loss: 69.8354\n",
      "\n",
      "Running epoch: 16\n"
     ]
    },
    {
     "data": {
      "application/vnd.jupyter.widget-view+json": {
       "model_id": "98e45162c21d496a808754ba996705ef",
       "version_major": 2,
       "version_minor": 0
      },
      "text/plain": [
       "  0%|          | 0/200 [00:00<?, ?it/s]"
      ]
     },
     "metadata": {},
     "output_type": "display_data"
    },
    {
     "data": {
      "application/vnd.jupyter.widget-view+json": {
       "model_id": "2887b3ea87f34dca919dff9d678ce3f3",
       "version_major": 2,
       "version_minor": 0
      },
      "text/plain": [
       "  0%|          | 0/50 [00:00<?, ?it/s]"
      ]
     },
     "metadata": {},
     "output_type": "display_data"
    },
    {
     "name": "stdout",
     "output_type": "stream",
     "text": [
      "Accuracy: 96.894\n",
      "Training Loss: 31889.3918 \tValidation Loss: 107.3180\n",
      "\n",
      "Running epoch: 17\n"
     ]
    },
    {
     "data": {
      "application/vnd.jupyter.widget-view+json": {
       "model_id": "5232f5e9b1aa4630be791f3cfb21d6dc",
       "version_major": 2,
       "version_minor": 0
      },
      "text/plain": [
       "  0%|          | 0/200 [00:00<?, ?it/s]"
      ]
     },
     "metadata": {},
     "output_type": "display_data"
    },
    {
     "data": {
      "application/vnd.jupyter.widget-view+json": {
       "model_id": "4cf051546f444f94bf2a914ce960416c",
       "version_major": 2,
       "version_minor": 0
      },
      "text/plain": [
       "  0%|          | 0/50 [00:00<?, ?it/s]"
      ]
     },
     "metadata": {},
     "output_type": "display_data"
    },
    {
     "data": {
      "application/vnd.jupyter.widget-view+json": {
       "model_id": "0a2ef6e168df41c1aabf801a4b8a6e87",
       "version_major": 2,
       "version_minor": 0
      },
      "text/plain": [
       "  0%|          | 0/1000 [00:00<?, ?it/s]"
      ]
     },
     "metadata": {},
     "output_type": "display_data"
    },
    {
     "name": "stdout",
     "output_type": "stream",
     "text": [
      "Accuracy: 99.098\n",
      "Training Loss: 29647.1543 \tValidation Loss: 66.1017\n",
      "\n",
      "Running epoch: 18\n"
     ]
    },
    {
     "data": {
      "application/vnd.jupyter.widget-view+json": {
       "model_id": "16d9e7f56c6748c798b8b10fde4ea780",
       "version_major": 2,
       "version_minor": 0
      },
      "text/plain": [
       "  0%|          | 0/200 [00:00<?, ?it/s]"
      ]
     },
     "metadata": {},
     "output_type": "display_data"
    },
    {
     "data": {
      "application/vnd.jupyter.widget-view+json": {
       "model_id": "51dc285c7c124ff4b6f48ac513a00c80",
       "version_major": 2,
       "version_minor": 0
      },
      "text/plain": [
       "  0%|          | 0/50 [00:00<?, ?it/s]"
      ]
     },
     "metadata": {},
     "output_type": "display_data"
    },
    {
     "data": {
      "application/vnd.jupyter.widget-view+json": {
       "model_id": "e7aefbd34019486ab8bc647436090272",
       "version_major": 2,
       "version_minor": 0
      },
      "text/plain": [
       "  0%|          | 0/1000 [00:00<?, ?it/s]"
      ]
     },
     "metadata": {},
     "output_type": "display_data"
    },
    {
     "name": "stdout",
     "output_type": "stream",
     "text": [
      "Accuracy: 99.299\n",
      "Training Loss: 13830.2700 \tValidation Loss: 57.4237\n",
      "\n",
      "Running epoch: 19\n"
     ]
    },
    {
     "data": {
      "application/vnd.jupyter.widget-view+json": {
       "model_id": "1363c78474c34f62b5f3da6aac3a87ff",
       "version_major": 2,
       "version_minor": 0
      },
      "text/plain": [
       "  0%|          | 0/200 [00:00<?, ?it/s]"
      ]
     },
     "metadata": {},
     "output_type": "display_data"
    },
    {
     "data": {
      "application/vnd.jupyter.widget-view+json": {
       "model_id": "db133a544706440ba837af91bc891582",
       "version_major": 2,
       "version_minor": 0
      },
      "text/plain": [
       "  0%|          | 0/50 [00:00<?, ?it/s]"
      ]
     },
     "metadata": {},
     "output_type": "display_data"
    },
    {
     "name": "stdout",
     "output_type": "stream",
     "text": [
      "Accuracy: 97.996\n",
      "Training Loss: 28049.9297 \tValidation Loss: 73.1425\n",
      "\n",
      "Running epoch: 20\n"
     ]
    },
    {
     "data": {
      "application/vnd.jupyter.widget-view+json": {
       "model_id": "117e6425bbbd449b8985a0364c71bd30",
       "version_major": 2,
       "version_minor": 0
      },
      "text/plain": [
       "  0%|          | 0/200 [00:00<?, ?it/s]"
      ]
     },
     "metadata": {},
     "output_type": "display_data"
    },
    {
     "data": {
      "application/vnd.jupyter.widget-view+json": {
       "model_id": "a16d4115e84a46deb6bbc95fbbc6200e",
       "version_major": 2,
       "version_minor": 0
      },
      "text/plain": [
       "  0%|          | 0/50 [00:00<?, ?it/s]"
      ]
     },
     "metadata": {},
     "output_type": "display_data"
    },
    {
     "data": {
      "application/vnd.jupyter.widget-view+json": {
       "model_id": "49f7d32eb7c64c779f535105bb1c4d3b",
       "version_major": 2,
       "version_minor": 0
      },
      "text/plain": [
       "  0%|          | 0/1000 [00:00<?, ?it/s]"
      ]
     },
     "metadata": {},
     "output_type": "display_data"
    },
    {
     "name": "stdout",
     "output_type": "stream",
     "text": [
      "Accuracy: 98.497\n",
      "Training Loss: 20567.6332 \tValidation Loss: 65.7549\n",
      "\n",
      "Running epoch: 21\n"
     ]
    },
    {
     "data": {
      "application/vnd.jupyter.widget-view+json": {
       "model_id": "b4c420dcc5374a288e621eee72ffb75e",
       "version_major": 2,
       "version_minor": 0
      },
      "text/plain": [
       "  0%|          | 0/200 [00:00<?, ?it/s]"
      ]
     },
     "metadata": {},
     "output_type": "display_data"
    },
    {
     "data": {
      "application/vnd.jupyter.widget-view+json": {
       "model_id": "d68cd008ed6b40d9a96ab0589b7c9096",
       "version_major": 2,
       "version_minor": 0
      },
      "text/plain": [
       "  0%|          | 0/50 [00:00<?, ?it/s]"
      ]
     },
     "metadata": {},
     "output_type": "display_data"
    },
    {
     "data": {
      "application/vnd.jupyter.widget-view+json": {
       "model_id": "d177cd5907ac4a05a66971c4542dc474",
       "version_major": 2,
       "version_minor": 0
      },
      "text/plain": [
       "  0%|          | 0/1000 [00:00<?, ?it/s]"
      ]
     },
     "metadata": {},
     "output_type": "display_data"
    },
    {
     "name": "stdout",
     "output_type": "stream",
     "text": [
      "Accuracy: 99.299\n",
      "Training Loss: 19337.8185 \tValidation Loss: 50.8688\n",
      "\n",
      "Running epoch: 22\n"
     ]
    },
    {
     "data": {
      "application/vnd.jupyter.widget-view+json": {
       "model_id": "fe165932d8f2412aa2533e1bde4ae1b5",
       "version_major": 2,
       "version_minor": 0
      },
      "text/plain": [
       "  0%|          | 0/200 [00:00<?, ?it/s]"
      ]
     },
     "metadata": {},
     "output_type": "display_data"
    },
    {
     "data": {
      "application/vnd.jupyter.widget-view+json": {
       "model_id": "7917eccd821c4d6090f7d9980df9c0d6",
       "version_major": 2,
       "version_minor": 0
      },
      "text/plain": [
       "  0%|          | 0/50 [00:00<?, ?it/s]"
      ]
     },
     "metadata": {},
     "output_type": "display_data"
    },
    {
     "name": "stdout",
     "output_type": "stream",
     "text": [
      "Accuracy: 97.194\n",
      "Training Loss: 3935.4404 \tValidation Loss: 133.5645\n",
      "\n",
      "Running epoch: 23\n"
     ]
    },
    {
     "data": {
      "application/vnd.jupyter.widget-view+json": {
       "model_id": "6daa2da51b904fd3aa8bd7ec3776c6b5",
       "version_major": 2,
       "version_minor": 0
      },
      "text/plain": [
       "  0%|          | 0/200 [00:00<?, ?it/s]"
      ]
     },
     "metadata": {},
     "output_type": "display_data"
    },
    {
     "data": {
      "application/vnd.jupyter.widget-view+json": {
       "model_id": "0118736749ae42f2aa3b9176674ab3ac",
       "version_major": 2,
       "version_minor": 0
      },
      "text/plain": [
       "  0%|          | 0/50 [00:00<?, ?it/s]"
      ]
     },
     "metadata": {},
     "output_type": "display_data"
    },
    {
     "name": "stdout",
     "output_type": "stream",
     "text": [
      "Accuracy: 97.896\n",
      "Training Loss: 4599.6204 \tValidation Loss: 92.0542\n",
      "\n",
      "Running epoch: 24\n"
     ]
    },
    {
     "data": {
      "application/vnd.jupyter.widget-view+json": {
       "model_id": "cfdd3b56e50947a880781882e33cc2c7",
       "version_major": 2,
       "version_minor": 0
      },
      "text/plain": [
       "  0%|          | 0/200 [00:00<?, ?it/s]"
      ]
     },
     "metadata": {},
     "output_type": "display_data"
    },
    {
     "data": {
      "application/vnd.jupyter.widget-view+json": {
       "model_id": "60de64ac5cdb4044a6f8a8763f831fee",
       "version_major": 2,
       "version_minor": 0
      },
      "text/plain": [
       "  0%|          | 0/50 [00:00<?, ?it/s]"
      ]
     },
     "metadata": {},
     "output_type": "display_data"
    },
    {
     "data": {
      "application/vnd.jupyter.widget-view+json": {
       "model_id": "72f46f866014412a94d9e825c6a14f4e",
       "version_major": 2,
       "version_minor": 0
      },
      "text/plain": [
       "  0%|          | 0/1000 [00:00<?, ?it/s]"
      ]
     },
     "metadata": {},
     "output_type": "display_data"
    },
    {
     "name": "stdout",
     "output_type": "stream",
     "text": [
      "Accuracy: 99.098\n",
      "Training Loss: 22759.2967 \tValidation Loss: 44.7866\n",
      "\n",
      "Running epoch: 25\n"
     ]
    },
    {
     "data": {
      "application/vnd.jupyter.widget-view+json": {
       "model_id": "cb6477be959142d9ac6bd29cf4e84cdd",
       "version_major": 2,
       "version_minor": 0
      },
      "text/plain": [
       "  0%|          | 0/200 [00:00<?, ?it/s]"
      ]
     },
     "metadata": {},
     "output_type": "display_data"
    },
    {
     "data": {
      "application/vnd.jupyter.widget-view+json": {
       "model_id": "50dc810f26d141d89bab6174a9ee54c3",
       "version_major": 2,
       "version_minor": 0
      },
      "text/plain": [
       "  0%|          | 0/50 [00:00<?, ?it/s]"
      ]
     },
     "metadata": {},
     "output_type": "display_data"
    },
    {
     "name": "stdout",
     "output_type": "stream",
     "text": [
      "Accuracy: 97.295\n",
      "Training Loss: 25042.4140 \tValidation Loss: 84.1939\n",
      "\n",
      "Running epoch: 26\n"
     ]
    },
    {
     "data": {
      "application/vnd.jupyter.widget-view+json": {
       "model_id": "d2178d74c4c64f688fde030b0daf786a",
       "version_major": 2,
       "version_minor": 0
      },
      "text/plain": [
       "  0%|          | 0/200 [00:00<?, ?it/s]"
      ]
     },
     "metadata": {},
     "output_type": "display_data"
    },
    {
     "data": {
      "application/vnd.jupyter.widget-view+json": {
       "model_id": "fea42a7b2015477d859598a3fe9cc8fe",
       "version_major": 2,
       "version_minor": 0
      },
      "text/plain": [
       "  0%|          | 0/50 [00:00<?, ?it/s]"
      ]
     },
     "metadata": {},
     "output_type": "display_data"
    },
    {
     "name": "stdout",
     "output_type": "stream",
     "text": [
      "Accuracy: 98.096\n",
      "Training Loss: 15956.3346 \tValidation Loss: 69.1888\n",
      "\n",
      "Running epoch: 27\n"
     ]
    },
    {
     "data": {
      "application/vnd.jupyter.widget-view+json": {
       "model_id": "fe58613e4ce745edbdee95c4d9ee5ec6",
       "version_major": 2,
       "version_minor": 0
      },
      "text/plain": [
       "  0%|          | 0/200 [00:00<?, ?it/s]"
      ]
     },
     "metadata": {},
     "output_type": "display_data"
    },
    {
     "data": {
      "application/vnd.jupyter.widget-view+json": {
       "model_id": "5dee41d7e226442d82a05436417af13c",
       "version_major": 2,
       "version_minor": 0
      },
      "text/plain": [
       "  0%|          | 0/50 [00:00<?, ?it/s]"
      ]
     },
     "metadata": {},
     "output_type": "display_data"
    },
    {
     "data": {
      "application/vnd.jupyter.widget-view+json": {
       "model_id": "5fc0c5604d2a4c7dab59f17b91a85241",
       "version_major": 2,
       "version_minor": 0
      },
      "text/plain": [
       "  0%|          | 0/1000 [00:00<?, ?it/s]"
      ]
     },
     "metadata": {},
     "output_type": "display_data"
    },
    {
     "name": "stdout",
     "output_type": "stream",
     "text": [
      "Accuracy: 98.998\n",
      "Training Loss: 13539.8333 \tValidation Loss: 53.6354\n",
      "\n",
      "Running epoch: 28\n"
     ]
    },
    {
     "data": {
      "application/vnd.jupyter.widget-view+json": {
       "model_id": "a56cd01a4e6f481a9a8f9c3c83491ff2",
       "version_major": 2,
       "version_minor": 0
      },
      "text/plain": [
       "  0%|          | 0/200 [00:00<?, ?it/s]"
      ]
     },
     "metadata": {},
     "output_type": "display_data"
    },
    {
     "data": {
      "application/vnd.jupyter.widget-view+json": {
       "model_id": "9f908ed3385f44d8a724d327c921043c",
       "version_major": 2,
       "version_minor": 0
      },
      "text/plain": [
       "  0%|          | 0/50 [00:00<?, ?it/s]"
      ]
     },
     "metadata": {},
     "output_type": "display_data"
    },
    {
     "name": "stdout",
     "output_type": "stream",
     "text": [
      "Accuracy: 98.697\n",
      "Training Loss: 4966.6708 \tValidation Loss: 58.8796\n",
      "\n",
      "Running epoch: 29\n"
     ]
    },
    {
     "data": {
      "application/vnd.jupyter.widget-view+json": {
       "model_id": "282232e6df524db79e989b6ccf1b3816",
       "version_major": 2,
       "version_minor": 0
      },
      "text/plain": [
       "  0%|          | 0/200 [00:00<?, ?it/s]"
      ]
     },
     "metadata": {},
     "output_type": "display_data"
    },
    {
     "data": {
      "application/vnd.jupyter.widget-view+json": {
       "model_id": "e9618d59cd034621ac2c3a254ef2080d",
       "version_major": 2,
       "version_minor": 0
      },
      "text/plain": [
       "  0%|          | 0/50 [00:00<?, ?it/s]"
      ]
     },
     "metadata": {},
     "output_type": "display_data"
    },
    {
     "name": "stdout",
     "output_type": "stream",
     "text": [
      "Accuracy: 98.096\n",
      "Training Loss: 38503.4272 \tValidation Loss: 96.7868\n",
      "\n",
      "Running epoch: 30\n"
     ]
    },
    {
     "data": {
      "application/vnd.jupyter.widget-view+json": {
       "model_id": "9bd0c3669c5e454bb0b2e1f0ed85ed71",
       "version_major": 2,
       "version_minor": 0
      },
      "text/plain": [
       "  0%|          | 0/200 [00:00<?, ?it/s]"
      ]
     },
     "metadata": {},
     "output_type": "display_data"
    },
    {
     "data": {
      "application/vnd.jupyter.widget-view+json": {
       "model_id": "5af094dd06184b48b856945ae533a537",
       "version_major": 2,
       "version_minor": 0
      },
      "text/plain": [
       "  0%|          | 0/50 [00:00<?, ?it/s]"
      ]
     },
     "metadata": {},
     "output_type": "display_data"
    },
    {
     "name": "stdout",
     "output_type": "stream",
     "text": [
      "Accuracy: 96.593\n",
      "Training Loss: 16127.2692 \tValidation Loss: 198.6228\n",
      "\n",
      "Running epoch: 31\n"
     ]
    },
    {
     "data": {
      "application/vnd.jupyter.widget-view+json": {
       "model_id": "c64604b9fd73476b804de729295739c3",
       "version_major": 2,
       "version_minor": 0
      },
      "text/plain": [
       "  0%|          | 0/200 [00:00<?, ?it/s]"
      ]
     },
     "metadata": {},
     "output_type": "display_data"
    },
    {
     "data": {
      "application/vnd.jupyter.widget-view+json": {
       "model_id": "93177b595db448d9b78410085fe36df2",
       "version_major": 2,
       "version_minor": 0
      },
      "text/plain": [
       "  0%|          | 0/50 [00:00<?, ?it/s]"
      ]
     },
     "metadata": {},
     "output_type": "display_data"
    },
    {
     "data": {
      "application/vnd.jupyter.widget-view+json": {
       "model_id": "7e80d61bc63a4044968f652e09b8bd88",
       "version_major": 2,
       "version_minor": 0
      },
      "text/plain": [
       "  0%|          | 0/1000 [00:00<?, ?it/s]"
      ]
     },
     "metadata": {},
     "output_type": "display_data"
    },
    {
     "name": "stdout",
     "output_type": "stream",
     "text": [
      "Accuracy: 99.299\n",
      "Training Loss: 22835.8961 \tValidation Loss: 41.2067\n",
      "\n",
      "Running epoch: 32\n"
     ]
    },
    {
     "data": {
      "application/vnd.jupyter.widget-view+json": {
       "model_id": "ded3ca20d96b488692068dc7da6ab600",
       "version_major": 2,
       "version_minor": 0
      },
      "text/plain": [
       "  0%|          | 0/200 [00:00<?, ?it/s]"
      ]
     },
     "metadata": {},
     "output_type": "display_data"
    },
    {
     "data": {
      "application/vnd.jupyter.widget-view+json": {
       "model_id": "7a4328d9d67c437faac5cc0c4b34f492",
       "version_major": 2,
       "version_minor": 0
      },
      "text/plain": [
       "  0%|          | 0/50 [00:00<?, ?it/s]"
      ]
     },
     "metadata": {},
     "output_type": "display_data"
    },
    {
     "name": "stdout",
     "output_type": "stream",
     "text": [
      "Accuracy: 99.098\n",
      "Training Loss: 7116.3333 \tValidation Loss: 48.9389\n",
      "\n",
      "Running epoch: 33\n"
     ]
    },
    {
     "data": {
      "application/vnd.jupyter.widget-view+json": {
       "model_id": "bc2b63c34ee7480aa59f0a441cf93a7b",
       "version_major": 2,
       "version_minor": 0
      },
      "text/plain": [
       "  0%|          | 0/200 [00:00<?, ?it/s]"
      ]
     },
     "metadata": {},
     "output_type": "display_data"
    },
    {
     "data": {
      "application/vnd.jupyter.widget-view+json": {
       "model_id": "f9f40cfca6354c568173cf4d7c356542",
       "version_major": 2,
       "version_minor": 0
      },
      "text/plain": [
       "  0%|          | 0/50 [00:00<?, ?it/s]"
      ]
     },
     "metadata": {},
     "output_type": "display_data"
    },
    {
     "data": {
      "application/vnd.jupyter.widget-view+json": {
       "model_id": "b7672101a1474673801235e639070f1c",
       "version_major": 2,
       "version_minor": 0
      },
      "text/plain": [
       "  0%|          | 0/1000 [00:00<?, ?it/s]"
      ]
     },
     "metadata": {},
     "output_type": "display_data"
    },
    {
     "name": "stdout",
     "output_type": "stream",
     "text": [
      "Accuracy: 99.699\n",
      "Training Loss: 5705.3673 \tValidation Loss: 41.6220\n",
      "\n",
      "Running epoch: 34\n"
     ]
    },
    {
     "data": {
      "application/vnd.jupyter.widget-view+json": {
       "model_id": "84987124c64041788291b26cff1966ae",
       "version_major": 2,
       "version_minor": 0
      },
      "text/plain": [
       "  0%|          | 0/200 [00:00<?, ?it/s]"
      ]
     },
     "metadata": {},
     "output_type": "display_data"
    },
    {
     "data": {
      "application/vnd.jupyter.widget-view+json": {
       "model_id": "e54e3b46b9ce4272b6e8367c9a579c70",
       "version_major": 2,
       "version_minor": 0
      },
      "text/plain": [
       "  0%|          | 0/50 [00:00<?, ?it/s]"
      ]
     },
     "metadata": {},
     "output_type": "display_data"
    },
    {
     "data": {
      "application/vnd.jupyter.widget-view+json": {
       "model_id": "3f92dda94f77427397cd203ce3eb2665",
       "version_major": 2,
       "version_minor": 0
      },
      "text/plain": [
       "  0%|          | 0/1000 [00:00<?, ?it/s]"
      ]
     },
     "metadata": {},
     "output_type": "display_data"
    },
    {
     "name": "stdout",
     "output_type": "stream",
     "text": [
      "Accuracy: 99.499\n",
      "Training Loss: 7250.9809 \tValidation Loss: 38.7090\n",
      "\n",
      "Running epoch: 35\n"
     ]
    },
    {
     "data": {
      "application/vnd.jupyter.widget-view+json": {
       "model_id": "9ebd5e9e080143938d09dda1904ccda5",
       "version_major": 2,
       "version_minor": 0
      },
      "text/plain": [
       "  0%|          | 0/200 [00:00<?, ?it/s]"
      ]
     },
     "metadata": {},
     "output_type": "display_data"
    },
    {
     "data": {
      "application/vnd.jupyter.widget-view+json": {
       "model_id": "c581975de5594405a02df45bd9e62db8",
       "version_major": 2,
       "version_minor": 0
      },
      "text/plain": [
       "  0%|          | 0/50 [00:00<?, ?it/s]"
      ]
     },
     "metadata": {},
     "output_type": "display_data"
    },
    {
     "name": "stdout",
     "output_type": "stream",
     "text": [
      "Accuracy: 99.198\n",
      "Training Loss: 4121.8370 \tValidation Loss: 57.4170\n",
      "\n",
      "Running epoch: 36\n"
     ]
    },
    {
     "data": {
      "application/vnd.jupyter.widget-view+json": {
       "model_id": "2efe4a6a86784f89910a49738537ca33",
       "version_major": 2,
       "version_minor": 0
      },
      "text/plain": [
       "  0%|          | 0/200 [00:00<?, ?it/s]"
      ]
     },
     "metadata": {},
     "output_type": "display_data"
    },
    {
     "data": {
      "application/vnd.jupyter.widget-view+json": {
       "model_id": "a7c6c53c5e114b71bb03f5fb2b59bbe3",
       "version_major": 2,
       "version_minor": 0
      },
      "text/plain": [
       "  0%|          | 0/50 [00:00<?, ?it/s]"
      ]
     },
     "metadata": {},
     "output_type": "display_data"
    },
    {
     "name": "stdout",
     "output_type": "stream",
     "text": [
      "Accuracy: 96.393\n",
      "Training Loss: 18727.9583 \tValidation Loss: 128.0298\n",
      "\n",
      "Running epoch: 37\n"
     ]
    },
    {
     "data": {
      "application/vnd.jupyter.widget-view+json": {
       "model_id": "7031070e9f2848d2b7b8596b66f588c2",
       "version_major": 2,
       "version_minor": 0
      },
      "text/plain": [
       "  0%|          | 0/200 [00:00<?, ?it/s]"
      ]
     },
     "metadata": {},
     "output_type": "display_data"
    },
    {
     "data": {
      "application/vnd.jupyter.widget-view+json": {
       "model_id": "c45b7e50f20d453385071c98860cd9b9",
       "version_major": 2,
       "version_minor": 0
      },
      "text/plain": [
       "  0%|          | 0/50 [00:00<?, ?it/s]"
      ]
     },
     "metadata": {},
     "output_type": "display_data"
    },
    {
     "data": {
      "application/vnd.jupyter.widget-view+json": {
       "model_id": "00fa5272bdf54b8daf7414af62793015",
       "version_major": 2,
       "version_minor": 0
      },
      "text/plain": [
       "  0%|          | 0/1000 [00:00<?, ?it/s]"
      ]
     },
     "metadata": {},
     "output_type": "display_data"
    },
    {
     "name": "stdout",
     "output_type": "stream",
     "text": [
      "Accuracy: 99.399\n",
      "Training Loss: 20004.4427 \tValidation Loss: 31.8390\n",
      "\n",
      "Running epoch: 38\n"
     ]
    },
    {
     "data": {
      "application/vnd.jupyter.widget-view+json": {
       "model_id": "4acf0a729d1d4d3a8ab1e6c644aa0ba2",
       "version_major": 2,
       "version_minor": 0
      },
      "text/plain": [
       "  0%|          | 0/200 [00:00<?, ?it/s]"
      ]
     },
     "metadata": {},
     "output_type": "display_data"
    },
    {
     "data": {
      "application/vnd.jupyter.widget-view+json": {
       "model_id": "62ee13b342b041bea54320ab00d17b2d",
       "version_major": 2,
       "version_minor": 0
      },
      "text/plain": [
       "  0%|          | 0/50 [00:00<?, ?it/s]"
      ]
     },
     "metadata": {},
     "output_type": "display_data"
    },
    {
     "name": "stdout",
     "output_type": "stream",
     "text": [
      "Accuracy: 98.697\n",
      "Training Loss: 10239.2301 \tValidation Loss: 71.4965\n",
      "\n",
      "Running epoch: 39\n"
     ]
    },
    {
     "data": {
      "application/vnd.jupyter.widget-view+json": {
       "model_id": "418fb4c927fd4ed696abf96260446fb3",
       "version_major": 2,
       "version_minor": 0
      },
      "text/plain": [
       "  0%|          | 0/200 [00:00<?, ?it/s]"
      ]
     },
     "metadata": {},
     "output_type": "display_data"
    },
    {
     "data": {
      "application/vnd.jupyter.widget-view+json": {
       "model_id": "3b8be44ed73d4b26915977f00526856c",
       "version_major": 2,
       "version_minor": 0
      },
      "text/plain": [
       "  0%|          | 0/50 [00:00<?, ?it/s]"
      ]
     },
     "metadata": {},
     "output_type": "display_data"
    },
    {
     "data": {
      "application/vnd.jupyter.widget-view+json": {
       "model_id": "a4d001221a1a470aaa113442f578b76e",
       "version_major": 2,
       "version_minor": 0
      },
      "text/plain": [
       "  0%|          | 0/1000 [00:00<?, ?it/s]"
      ]
     },
     "metadata": {},
     "output_type": "display_data"
    },
    {
     "name": "stdout",
     "output_type": "stream",
     "text": [
      "Accuracy: 99.399\n",
      "Training Loss: 13766.9260 \tValidation Loss: 40.0586\n",
      "\n",
      "Running epoch: 40\n"
     ]
    },
    {
     "data": {
      "application/vnd.jupyter.widget-view+json": {
       "model_id": "5e805c2cdfba45e682d0030cc08a3c22",
       "version_major": 2,
       "version_minor": 0
      },
      "text/plain": [
       "  0%|          | 0/200 [00:00<?, ?it/s]"
      ]
     },
     "metadata": {},
     "output_type": "display_data"
    },
    {
     "data": {
      "application/vnd.jupyter.widget-view+json": {
       "model_id": "12e7b3b886c64db9b284c9cd1f190302",
       "version_major": 2,
       "version_minor": 0
      },
      "text/plain": [
       "  0%|          | 0/50 [00:00<?, ?it/s]"
      ]
     },
     "metadata": {},
     "output_type": "display_data"
    },
    {
     "name": "stdout",
     "output_type": "stream",
     "text": [
      "Accuracy: 98.998\n",
      "Training Loss: 11617.1555 \tValidation Loss: 55.3111\n",
      "\n",
      "Running epoch: 41\n"
     ]
    },
    {
     "data": {
      "application/vnd.jupyter.widget-view+json": {
       "model_id": "7015ad3372944f1a80a2f6e66e5f60d6",
       "version_major": 2,
       "version_minor": 0
      },
      "text/plain": [
       "  0%|          | 0/200 [00:00<?, ?it/s]"
      ]
     },
     "metadata": {},
     "output_type": "display_data"
    },
    {
     "data": {
      "application/vnd.jupyter.widget-view+json": {
       "model_id": "db7572702d6e4e9cbc9bb0e8075156de",
       "version_major": 2,
       "version_minor": 0
      },
      "text/plain": [
       "  0%|          | 0/50 [00:00<?, ?it/s]"
      ]
     },
     "metadata": {},
     "output_type": "display_data"
    },
    {
     "data": {
      "application/vnd.jupyter.widget-view+json": {
       "model_id": "28f4141984524ba5a87d6ad07aa9ebc6",
       "version_major": 2,
       "version_minor": 0
      },
      "text/plain": [
       "  0%|          | 0/1000 [00:00<?, ?it/s]"
      ]
     },
     "metadata": {},
     "output_type": "display_data"
    },
    {
     "name": "stdout",
     "output_type": "stream",
     "text": [
      "Accuracy: 99.399\n",
      "Training Loss: 8310.6064 \tValidation Loss: 38.3482\n",
      "\n",
      "Running epoch: 42\n"
     ]
    },
    {
     "data": {
      "application/vnd.jupyter.widget-view+json": {
       "model_id": "6646930f0c3544659a3ac80c8f11aabd",
       "version_major": 2,
       "version_minor": 0
      },
      "text/plain": [
       "  0%|          | 0/200 [00:00<?, ?it/s]"
      ]
     },
     "metadata": {},
     "output_type": "display_data"
    },
    {
     "data": {
      "application/vnd.jupyter.widget-view+json": {
       "model_id": "3e3e398512304ca78c4111eb5f70768c",
       "version_major": 2,
       "version_minor": 0
      },
      "text/plain": [
       "  0%|          | 0/50 [00:00<?, ?it/s]"
      ]
     },
     "metadata": {},
     "output_type": "display_data"
    },
    {
     "name": "stdout",
     "output_type": "stream",
     "text": [
      "Accuracy: 98.096\n",
      "Training Loss: 5075.2153 \tValidation Loss: 70.8365\n",
      "\n",
      "Running epoch: 43\n"
     ]
    },
    {
     "data": {
      "application/vnd.jupyter.widget-view+json": {
       "model_id": "4cebab38752440dd8ec0caa653aed38c",
       "version_major": 2,
       "version_minor": 0
      },
      "text/plain": [
       "  0%|          | 0/200 [00:00<?, ?it/s]"
      ]
     },
     "metadata": {},
     "output_type": "display_data"
    },
    {
     "data": {
      "application/vnd.jupyter.widget-view+json": {
       "model_id": "39d0d328b4d8447cb9d4836967f88a1e",
       "version_major": 2,
       "version_minor": 0
      },
      "text/plain": [
       "  0%|          | 0/50 [00:00<?, ?it/s]"
      ]
     },
     "metadata": {},
     "output_type": "display_data"
    },
    {
     "name": "stdout",
     "output_type": "stream",
     "text": [
      "Accuracy: 99.299\n",
      "Training Loss: 17349.2371 \tValidation Loss: 37.1940\n",
      "\n",
      "Running epoch: 44\n"
     ]
    },
    {
     "data": {
      "application/vnd.jupyter.widget-view+json": {
       "model_id": "0d87b4721cfd48e2a81f299ea724c118",
       "version_major": 2,
       "version_minor": 0
      },
      "text/plain": [
       "  0%|          | 0/200 [00:00<?, ?it/s]"
      ]
     },
     "metadata": {},
     "output_type": "display_data"
    },
    {
     "data": {
      "application/vnd.jupyter.widget-view+json": {
       "model_id": "4663ec96e6aa40cf814f381d92a04d3d",
       "version_major": 2,
       "version_minor": 0
      },
      "text/plain": [
       "  0%|          | 0/50 [00:00<?, ?it/s]"
      ]
     },
     "metadata": {},
     "output_type": "display_data"
    },
    {
     "data": {
      "application/vnd.jupyter.widget-view+json": {
       "model_id": "63f0cb5188154782bf775c16af3e4b27",
       "version_major": 2,
       "version_minor": 0
      },
      "text/plain": [
       "  0%|          | 0/1000 [00:00<?, ?it/s]"
      ]
     },
     "metadata": {},
     "output_type": "display_data"
    },
    {
     "name": "stdout",
     "output_type": "stream",
     "text": [
      "Accuracy: 99.499\n",
      "Training Loss: 4260.7138 \tValidation Loss: 37.4205\n",
      "\n",
      "Running epoch: 45\n"
     ]
    },
    {
     "data": {
      "application/vnd.jupyter.widget-view+json": {
       "model_id": "2c1c0b3ea101418fa354910e38773037",
       "version_major": 2,
       "version_minor": 0
      },
      "text/plain": [
       "  0%|          | 0/200 [00:00<?, ?it/s]"
      ]
     },
     "metadata": {},
     "output_type": "display_data"
    },
    {
     "data": {
      "application/vnd.jupyter.widget-view+json": {
       "model_id": "df4fe06f3e9646ba80a95a9356231889",
       "version_major": 2,
       "version_minor": 0
      },
      "text/plain": [
       "  0%|          | 0/50 [00:00<?, ?it/s]"
      ]
     },
     "metadata": {},
     "output_type": "display_data"
    },
    {
     "data": {
      "application/vnd.jupyter.widget-view+json": {
       "model_id": "d22edea959ec46d7b1273eb26cbe884b",
       "version_major": 2,
       "version_minor": 0
      },
      "text/plain": [
       "  0%|          | 0/1000 [00:00<?, ?it/s]"
      ]
     },
     "metadata": {},
     "output_type": "display_data"
    },
    {
     "name": "stdout",
     "output_type": "stream",
     "text": [
      "Accuracy: 99.599\n",
      "Training Loss: 5006.9086 \tValidation Loss: 34.8475\n",
      "\n",
      "Running epoch: 46\n"
     ]
    },
    {
     "data": {
      "application/vnd.jupyter.widget-view+json": {
       "model_id": "45fe9cea73564a5993a9c94cc0c077db",
       "version_major": 2,
       "version_minor": 0
      },
      "text/plain": [
       "  0%|          | 0/200 [00:00<?, ?it/s]"
      ]
     },
     "metadata": {},
     "output_type": "display_data"
    },
    {
     "data": {
      "application/vnd.jupyter.widget-view+json": {
       "model_id": "b44180ac5b91449cb975f3425818aab1",
       "version_major": 2,
       "version_minor": 0
      },
      "text/plain": [
       "  0%|          | 0/50 [00:00<?, ?it/s]"
      ]
     },
     "metadata": {},
     "output_type": "display_data"
    },
    {
     "name": "stdout",
     "output_type": "stream",
     "text": [
      "Accuracy: 98.597\n",
      "Training Loss: 2228.2349 \tValidation Loss: 74.2154\n",
      "\n",
      "Running epoch: 47\n"
     ]
    },
    {
     "data": {
      "application/vnd.jupyter.widget-view+json": {
       "model_id": "08eed6175ad5410aa26dab83f51b78db",
       "version_major": 2,
       "version_minor": 0
      },
      "text/plain": [
       "  0%|          | 0/200 [00:00<?, ?it/s]"
      ]
     },
     "metadata": {},
     "output_type": "display_data"
    },
    {
     "data": {
      "application/vnd.jupyter.widget-view+json": {
       "model_id": "2f331925a20e40f7a418967545ac5628",
       "version_major": 2,
       "version_minor": 0
      },
      "text/plain": [
       "  0%|          | 0/50 [00:00<?, ?it/s]"
      ]
     },
     "metadata": {},
     "output_type": "display_data"
    },
    {
     "name": "stdout",
     "output_type": "stream",
     "text": [
      "Accuracy: 99.299\n",
      "Training Loss: 10487.9838 \tValidation Loss: 45.9650\n",
      "\n",
      "Running epoch: 48\n"
     ]
    },
    {
     "data": {
      "application/vnd.jupyter.widget-view+json": {
       "model_id": "cde23ad0b757446481856880807b9b7c",
       "version_major": 2,
       "version_minor": 0
      },
      "text/plain": [
       "  0%|          | 0/200 [00:00<?, ?it/s]"
      ]
     },
     "metadata": {},
     "output_type": "display_data"
    },
    {
     "data": {
      "application/vnd.jupyter.widget-view+json": {
       "model_id": "d20f184db8304e0bb8ab47515ebb9157",
       "version_major": 2,
       "version_minor": 0
      },
      "text/plain": [
       "  0%|          | 0/50 [00:00<?, ?it/s]"
      ]
     },
     "metadata": {},
     "output_type": "display_data"
    },
    {
     "name": "stdout",
     "output_type": "stream",
     "text": [
      "Accuracy: 98.898\n",
      "Training Loss: 12301.6951 \tValidation Loss: 57.5227\n",
      "\n",
      "Running epoch: 49\n"
     ]
    },
    {
     "data": {
      "application/vnd.jupyter.widget-view+json": {
       "model_id": "a64d9eb97af94005aa14371c39c53ba9",
       "version_major": 2,
       "version_minor": 0
      },
      "text/plain": [
       "  0%|          | 0/200 [00:00<?, ?it/s]"
      ]
     },
     "metadata": {},
     "output_type": "display_data"
    },
    {
     "data": {
      "application/vnd.jupyter.widget-view+json": {
       "model_id": "9df8ed8ce92a4a3bbacae7ff1453f9d3",
       "version_major": 2,
       "version_minor": 0
      },
      "text/plain": [
       "  0%|          | 0/50 [00:00<?, ?it/s]"
      ]
     },
     "metadata": {},
     "output_type": "display_data"
    },
    {
     "name": "stdout",
     "output_type": "stream",
     "text": [
      "Accuracy: 99.098\n",
      "Training Loss: 17700.4110 \tValidation Loss: 62.1700\n",
      "\n",
      "Running epoch: 50\n"
     ]
    },
    {
     "data": {
      "application/vnd.jupyter.widget-view+json": {
       "model_id": "88eab1a32633490ca7b48f0a285e9fc7",
       "version_major": 2,
       "version_minor": 0
      },
      "text/plain": [
       "  0%|          | 0/200 [00:00<?, ?it/s]"
      ]
     },
     "metadata": {},
     "output_type": "display_data"
    },
    {
     "data": {
      "application/vnd.jupyter.widget-view+json": {
       "model_id": "0e0759c2130f4fde8d6d3062620680f5",
       "version_major": 2,
       "version_minor": 0
      },
      "text/plain": [
       "  0%|          | 0/50 [00:00<?, ?it/s]"
      ]
     },
     "metadata": {},
     "output_type": "display_data"
    },
    {
     "name": "stdout",
     "output_type": "stream",
     "text": [
      "Accuracy: 99.399\n",
      "Training Loss: 11166.4482 \tValidation Loss: 46.5278\n",
      "\n",
      "Running epoch: 51\n"
     ]
    },
    {
     "data": {
      "application/vnd.jupyter.widget-view+json": {
       "model_id": "a264e881d46c48b9a1781368b6b70f97",
       "version_major": 2,
       "version_minor": 0
      },
      "text/plain": [
       "  0%|          | 0/200 [00:00<?, ?it/s]"
      ]
     },
     "metadata": {},
     "output_type": "display_data"
    },
    {
     "data": {
      "application/vnd.jupyter.widget-view+json": {
       "model_id": "80f10a2a28e940b4bfc8355385694304",
       "version_major": 2,
       "version_minor": 0
      },
      "text/plain": [
       "  0%|          | 0/50 [00:00<?, ?it/s]"
      ]
     },
     "metadata": {},
     "output_type": "display_data"
    },
    {
     "data": {
      "application/vnd.jupyter.widget-view+json": {
       "model_id": "ddc5c906f3fb40549b271a5d14358d2e",
       "version_major": 2,
       "version_minor": 0
      },
      "text/plain": [
       "  0%|          | 0/1000 [00:00<?, ?it/s]"
      ]
     },
     "metadata": {},
     "output_type": "display_data"
    },
    {
     "name": "stdout",
     "output_type": "stream",
     "text": [
      "Accuracy: 99.599\n",
      "Training Loss: 4277.4670 \tValidation Loss: 44.5485\n",
      "\n",
      "Running epoch: 52\n"
     ]
    },
    {
     "data": {
      "application/vnd.jupyter.widget-view+json": {
       "model_id": "884c0d4e6d9c45d5b99314e6b3d6ede5",
       "version_major": 2,
       "version_minor": 0
      },
      "text/plain": [
       "  0%|          | 0/200 [00:00<?, ?it/s]"
      ]
     },
     "metadata": {},
     "output_type": "display_data"
    },
    {
     "data": {
      "application/vnd.jupyter.widget-view+json": {
       "model_id": "254a66f4ccdf46b18c73a7e44ae227a2",
       "version_major": 2,
       "version_minor": 0
      },
      "text/plain": [
       "  0%|          | 0/50 [00:00<?, ?it/s]"
      ]
     },
     "metadata": {},
     "output_type": "display_data"
    },
    {
     "name": "stdout",
     "output_type": "stream",
     "text": [
      "Accuracy: 99.198\n",
      "Training Loss: 12651.7095 \tValidation Loss: 51.7850\n",
      "\n",
      "Running epoch: 53\n"
     ]
    },
    {
     "data": {
      "application/vnd.jupyter.widget-view+json": {
       "model_id": "81b630b3d9ac447db84227fceb8a7ee5",
       "version_major": 2,
       "version_minor": 0
      },
      "text/plain": [
       "  0%|          | 0/200 [00:00<?, ?it/s]"
      ]
     },
     "metadata": {},
     "output_type": "display_data"
    },
    {
     "data": {
      "application/vnd.jupyter.widget-view+json": {
       "model_id": "c6ffe9b93ec045e98882ce9e632d7042",
       "version_major": 2,
       "version_minor": 0
      },
      "text/plain": [
       "  0%|          | 0/50 [00:00<?, ?it/s]"
      ]
     },
     "metadata": {},
     "output_type": "display_data"
    },
    {
     "name": "stdout",
     "output_type": "stream",
     "text": [
      "Accuracy: 98.798\n",
      "Training Loss: 7364.7251 \tValidation Loss: 86.3162\n",
      "\n",
      "Running epoch: 54\n"
     ]
    },
    {
     "data": {
      "application/vnd.jupyter.widget-view+json": {
       "model_id": "5e5aee6076264087b3ae0217ced32060",
       "version_major": 2,
       "version_minor": 0
      },
      "text/plain": [
       "  0%|          | 0/200 [00:00<?, ?it/s]"
      ]
     },
     "metadata": {},
     "output_type": "display_data"
    },
    {
     "data": {
      "application/vnd.jupyter.widget-view+json": {
       "model_id": "b6107ce8845e4a9599e5d5823f3035ad",
       "version_major": 2,
       "version_minor": 0
      },
      "text/plain": [
       "  0%|          | 0/50 [00:00<?, ?it/s]"
      ]
     },
     "metadata": {},
     "output_type": "display_data"
    },
    {
     "name": "stdout",
     "output_type": "stream",
     "text": [
      "Accuracy: 99.399\n",
      "Training Loss: 5431.6852 \tValidation Loss: 36.2874\n",
      "\n",
      "Running epoch: 55\n"
     ]
    },
    {
     "data": {
      "application/vnd.jupyter.widget-view+json": {
       "model_id": "7c6cb8325c1f4d1382cabd463af1ef28",
       "version_major": 2,
       "version_minor": 0
      },
      "text/plain": [
       "  0%|          | 0/200 [00:00<?, ?it/s]"
      ]
     },
     "metadata": {},
     "output_type": "display_data"
    },
    {
     "data": {
      "application/vnd.jupyter.widget-view+json": {
       "model_id": "6d3f5a2ddb43455d8ef5bb234411e7a6",
       "version_major": 2,
       "version_minor": 0
      },
      "text/plain": [
       "  0%|          | 0/50 [00:00<?, ?it/s]"
      ]
     },
     "metadata": {},
     "output_type": "display_data"
    },
    {
     "data": {
      "application/vnd.jupyter.widget-view+json": {
       "model_id": "82a6ad08480b4c29bb9ae6efa6c0c545",
       "version_major": 2,
       "version_minor": 0
      },
      "text/plain": [
       "  0%|          | 0/1000 [00:00<?, ?it/s]"
      ]
     },
     "metadata": {},
     "output_type": "display_data"
    },
    {
     "name": "stdout",
     "output_type": "stream",
     "text": [
      "Accuracy: 99.599\n",
      "Training Loss: 1775.2278 \tValidation Loss: 35.7058\n",
      "\n",
      "Running epoch: 56\n"
     ]
    },
    {
     "data": {
      "application/vnd.jupyter.widget-view+json": {
       "model_id": "fc86248468da43e2a59980e0ea56776f",
       "version_major": 2,
       "version_minor": 0
      },
      "text/plain": [
       "  0%|          | 0/200 [00:00<?, ?it/s]"
      ]
     },
     "metadata": {},
     "output_type": "display_data"
    },
    {
     "data": {
      "application/vnd.jupyter.widget-view+json": {
       "model_id": "e0ab0f35547c4294b1ef2be02e2c9b84",
       "version_major": 2,
       "version_minor": 0
      },
      "text/plain": [
       "  0%|          | 0/50 [00:00<?, ?it/s]"
      ]
     },
     "metadata": {},
     "output_type": "display_data"
    },
    {
     "data": {
      "application/vnd.jupyter.widget-view+json": {
       "model_id": "2ea42176404446518ac6fb6c8ada41cf",
       "version_major": 2,
       "version_minor": 0
      },
      "text/plain": [
       "  0%|          | 0/1000 [00:00<?, ?it/s]"
      ]
     },
     "metadata": {},
     "output_type": "display_data"
    },
    {
     "name": "stdout",
     "output_type": "stream",
     "text": [
      "Accuracy: 99.599\n",
      "Training Loss: 2912.8525 \tValidation Loss: 43.6727\n",
      "\n",
      "Running epoch: 57\n"
     ]
    },
    {
     "data": {
      "application/vnd.jupyter.widget-view+json": {
       "model_id": "03e6067d537e4c248649df2c29d9a9fd",
       "version_major": 2,
       "version_minor": 0
      },
      "text/plain": [
       "  0%|          | 0/200 [00:00<?, ?it/s]"
      ]
     },
     "metadata": {},
     "output_type": "display_data"
    },
    {
     "data": {
      "application/vnd.jupyter.widget-view+json": {
       "model_id": "91433b3ad85d4389830e8c6f34210f31",
       "version_major": 2,
       "version_minor": 0
      },
      "text/plain": [
       "  0%|          | 0/50 [00:00<?, ?it/s]"
      ]
     },
     "metadata": {},
     "output_type": "display_data"
    },
    {
     "name": "stdout",
     "output_type": "stream",
     "text": [
      "Accuracy: 99.599\n",
      "Training Loss: 1527.9139 \tValidation Loss: 44.7771\n",
      "\n",
      "Running epoch: 58\n"
     ]
    },
    {
     "data": {
      "application/vnd.jupyter.widget-view+json": {
       "model_id": "317cefd7538b4c9ebd46bfff39f9d737",
       "version_major": 2,
       "version_minor": 0
      },
      "text/plain": [
       "  0%|          | 0/200 [00:00<?, ?it/s]"
      ]
     },
     "metadata": {},
     "output_type": "display_data"
    },
    {
     "data": {
      "application/vnd.jupyter.widget-view+json": {
       "model_id": "d71c7e68338d4c279435e684b91b7859",
       "version_major": 2,
       "version_minor": 0
      },
      "text/plain": [
       "  0%|          | 0/50 [00:00<?, ?it/s]"
      ]
     },
     "metadata": {},
     "output_type": "display_data"
    },
    {
     "name": "stdout",
     "output_type": "stream",
     "text": [
      "Accuracy: 98.397\n",
      "Training Loss: 4255.3295 \tValidation Loss: 69.0315\n",
      "\n",
      "Running epoch: 59\n"
     ]
    },
    {
     "data": {
      "application/vnd.jupyter.widget-view+json": {
       "model_id": "40149d5772614cf497612bde5da0d829",
       "version_major": 2,
       "version_minor": 0
      },
      "text/plain": [
       "  0%|          | 0/200 [00:00<?, ?it/s]"
      ]
     },
     "metadata": {},
     "output_type": "display_data"
    },
    {
     "data": {
      "application/vnd.jupyter.widget-view+json": {
       "model_id": "4dbe86fd9f5c40f48d27c7866df46d78",
       "version_major": 2,
       "version_minor": 0
      },
      "text/plain": [
       "  0%|          | 0/50 [00:00<?, ?it/s]"
      ]
     },
     "metadata": {},
     "output_type": "display_data"
    },
    {
     "name": "stdout",
     "output_type": "stream",
     "text": [
      "Accuracy: 98.597\n",
      "Training Loss: 18425.3972 \tValidation Loss: 86.4797\n",
      "\n",
      "Running epoch: 60\n"
     ]
    },
    {
     "data": {
      "application/vnd.jupyter.widget-view+json": {
       "model_id": "35854a069d4147abb0c6c5b0e5de011b",
       "version_major": 2,
       "version_minor": 0
      },
      "text/plain": [
       "  0%|          | 0/200 [00:00<?, ?it/s]"
      ]
     },
     "metadata": {},
     "output_type": "display_data"
    },
    {
     "data": {
      "application/vnd.jupyter.widget-view+json": {
       "model_id": "ec46e7642aa7481088b1e30b53a35a24",
       "version_major": 2,
       "version_minor": 0
      },
      "text/plain": [
       "  0%|          | 0/50 [00:00<?, ?it/s]"
      ]
     },
     "metadata": {},
     "output_type": "display_data"
    },
    {
     "name": "stdout",
     "output_type": "stream",
     "text": [
      "Accuracy: 99.299\n",
      "Training Loss: 13862.9423 \tValidation Loss: 44.4555\n",
      "\n",
      "Running epoch: 61\n"
     ]
    },
    {
     "data": {
      "application/vnd.jupyter.widget-view+json": {
       "model_id": "1d17bfbd103e4af78fcc67ccc715dd8f",
       "version_major": 2,
       "version_minor": 0
      },
      "text/plain": [
       "  0%|          | 0/200 [00:00<?, ?it/s]"
      ]
     },
     "metadata": {},
     "output_type": "display_data"
    },
    {
     "data": {
      "application/vnd.jupyter.widget-view+json": {
       "model_id": "b991185d46e04afead92e54a48ceada7",
       "version_major": 2,
       "version_minor": 0
      },
      "text/plain": [
       "  0%|          | 0/50 [00:00<?, ?it/s]"
      ]
     },
     "metadata": {},
     "output_type": "display_data"
    },
    {
     "name": "stdout",
     "output_type": "stream",
     "text": [
      "Accuracy: 99.399\n",
      "Training Loss: 7612.1366 \tValidation Loss: 39.8646\n",
      "\n",
      "Running epoch: 62\n"
     ]
    },
    {
     "data": {
      "application/vnd.jupyter.widget-view+json": {
       "model_id": "e595e4929a894ad79a2f276dd882644f",
       "version_major": 2,
       "version_minor": 0
      },
      "text/plain": [
       "  0%|          | 0/200 [00:00<?, ?it/s]"
      ]
     },
     "metadata": {},
     "output_type": "display_data"
    },
    {
     "data": {
      "application/vnd.jupyter.widget-view+json": {
       "model_id": "afbde5f423ac4a00bbdf311c8edf8667",
       "version_major": 2,
       "version_minor": 0
      },
      "text/plain": [
       "  0%|          | 0/50 [00:00<?, ?it/s]"
      ]
     },
     "metadata": {},
     "output_type": "display_data"
    },
    {
     "name": "stdout",
     "output_type": "stream",
     "text": [
      "Accuracy: 99.299\n",
      "Training Loss: 3486.4757 \tValidation Loss: 39.7221\n",
      "\n",
      "Running epoch: 63\n"
     ]
    },
    {
     "data": {
      "application/vnd.jupyter.widget-view+json": {
       "model_id": "057aca7e39524b87a0ff5dc21dc0c7a9",
       "version_major": 2,
       "version_minor": 0
      },
      "text/plain": [
       "  0%|          | 0/200 [00:00<?, ?it/s]"
      ]
     },
     "metadata": {},
     "output_type": "display_data"
    },
    {
     "data": {
      "application/vnd.jupyter.widget-view+json": {
       "model_id": "91f950b3474746d9b165b7c2974447b7",
       "version_major": 2,
       "version_minor": 0
      },
      "text/plain": [
       "  0%|          | 0/50 [00:00<?, ?it/s]"
      ]
     },
     "metadata": {},
     "output_type": "display_data"
    },
    {
     "name": "stdout",
     "output_type": "stream",
     "text": [
      "Accuracy: 99.599\n",
      "Training Loss: 2111.4073 \tValidation Loss: 46.8296\n",
      "\n",
      "Running epoch: 64\n"
     ]
    },
    {
     "data": {
      "application/vnd.jupyter.widget-view+json": {
       "model_id": "cedbdeac1b6d4b819b24a545b031bac3",
       "version_major": 2,
       "version_minor": 0
      },
      "text/plain": [
       "  0%|          | 0/200 [00:00<?, ?it/s]"
      ]
     },
     "metadata": {},
     "output_type": "display_data"
    },
    {
     "data": {
      "application/vnd.jupyter.widget-view+json": {
       "model_id": "9bee1e3af9124c78b70784af2bbe4fec",
       "version_major": 2,
       "version_minor": 0
      },
      "text/plain": [
       "  0%|          | 0/50 [00:00<?, ?it/s]"
      ]
     },
     "metadata": {},
     "output_type": "display_data"
    },
    {
     "name": "stdout",
     "output_type": "stream",
     "text": [
      "Accuracy: 99.499\n",
      "Training Loss: 514.4264 \tValidation Loss: 47.7724\n",
      "\n",
      "Running epoch: 65\n"
     ]
    },
    {
     "data": {
      "application/vnd.jupyter.widget-view+json": {
       "model_id": "3f33d1bc06414da2b9f19b056980eade",
       "version_major": 2,
       "version_minor": 0
      },
      "text/plain": [
       "  0%|          | 0/200 [00:00<?, ?it/s]"
      ]
     },
     "metadata": {},
     "output_type": "display_data"
    },
    {
     "data": {
      "application/vnd.jupyter.widget-view+json": {
       "model_id": "a16817db3e644080990d31a8f0edd12d",
       "version_major": 2,
       "version_minor": 0
      },
      "text/plain": [
       "  0%|          | 0/50 [00:00<?, ?it/s]"
      ]
     },
     "metadata": {},
     "output_type": "display_data"
    },
    {
     "name": "stdout",
     "output_type": "stream",
     "text": [
      "Accuracy: 99.599\n",
      "Training Loss: 1666.3802 \tValidation Loss: 45.2025\n",
      "\n",
      "Running epoch: 66\n"
     ]
    },
    {
     "data": {
      "application/vnd.jupyter.widget-view+json": {
       "model_id": "132430faa2574f10887d17d78e552d43",
       "version_major": 2,
       "version_minor": 0
      },
      "text/plain": [
       "  0%|          | 0/200 [00:00<?, ?it/s]"
      ]
     },
     "metadata": {},
     "output_type": "display_data"
    },
    {
     "data": {
      "application/vnd.jupyter.widget-view+json": {
       "model_id": "27dacbe82a714214b366ff1a7585721a",
       "version_major": 2,
       "version_minor": 0
      },
      "text/plain": [
       "  0%|          | 0/50 [00:00<?, ?it/s]"
      ]
     },
     "metadata": {},
     "output_type": "display_data"
    },
    {
     "name": "stdout",
     "output_type": "stream",
     "text": [
      "Accuracy: 99.599\n",
      "Training Loss: 3551.6076 \tValidation Loss: 34.7583\n",
      "\n",
      "Running epoch: 67\n"
     ]
    },
    {
     "data": {
      "application/vnd.jupyter.widget-view+json": {
       "model_id": "44eaa7a01acb4735a368a1095447e6f9",
       "version_major": 2,
       "version_minor": 0
      },
      "text/plain": [
       "  0%|          | 0/200 [00:00<?, ?it/s]"
      ]
     },
     "metadata": {},
     "output_type": "display_data"
    },
    {
     "data": {
      "application/vnd.jupyter.widget-view+json": {
       "model_id": "01a753570b4c424e9b2cec2144c4d9ea",
       "version_major": 2,
       "version_minor": 0
      },
      "text/plain": [
       "  0%|          | 0/50 [00:00<?, ?it/s]"
      ]
     },
     "metadata": {},
     "output_type": "display_data"
    },
    {
     "name": "stdout",
     "output_type": "stream",
     "text": [
      "Accuracy: 99.599\n",
      "Training Loss: 688.6043 \tValidation Loss: 38.4485\n",
      "\n",
      "Running epoch: 68\n"
     ]
    },
    {
     "data": {
      "application/vnd.jupyter.widget-view+json": {
       "model_id": "19a299be2c3d4bb3bae373bceeb8a0a5",
       "version_major": 2,
       "version_minor": 0
      },
      "text/plain": [
       "  0%|          | 0/200 [00:00<?, ?it/s]"
      ]
     },
     "metadata": {},
     "output_type": "display_data"
    },
    {
     "data": {
      "application/vnd.jupyter.widget-view+json": {
       "model_id": "513f7e25bfa74f37a6aa1c2211e042a6",
       "version_major": 2,
       "version_minor": 0
      },
      "text/plain": [
       "  0%|          | 0/50 [00:00<?, ?it/s]"
      ]
     },
     "metadata": {},
     "output_type": "display_data"
    },
    {
     "name": "stdout",
     "output_type": "stream",
     "text": [
      "Accuracy: 99.599\n",
      "Training Loss: 248.5723 \tValidation Loss: 39.6909\n",
      "\n",
      "Running epoch: 69\n"
     ]
    },
    {
     "data": {
      "application/vnd.jupyter.widget-view+json": {
       "model_id": "40295536c1c44779ab67a2a51e3bcc84",
       "version_major": 2,
       "version_minor": 0
      },
      "text/plain": [
       "  0%|          | 0/200 [00:00<?, ?it/s]"
      ]
     },
     "metadata": {},
     "output_type": "display_data"
    },
    {
     "data": {
      "application/vnd.jupyter.widget-view+json": {
       "model_id": "44c2654f464e4e2eafd2bfc7b7a1a992",
       "version_major": 2,
       "version_minor": 0
      },
      "text/plain": [
       "  0%|          | 0/50 [00:00<?, ?it/s]"
      ]
     },
     "metadata": {},
     "output_type": "display_data"
    },
    {
     "name": "stdout",
     "output_type": "stream",
     "text": [
      "Accuracy: 99.499\n",
      "Training Loss: 359.8949 \tValidation Loss: 28.2053\n",
      "\n",
      "early stop occured!!\n"
     ]
    },
    {
     "data": {
      "application/vnd.jupyter.widget-view+json": {
       "model_id": "7ce9c3b29b9546e5b62112600795c695",
       "version_major": 2,
       "version_minor": 0
      },
      "text/plain": [
       "  0%|          | 0/1000 [00:00<?, ?it/s]"
      ]
     },
     "metadata": {},
     "output_type": "display_data"
    }
   ],
   "source": [
    "TOP_ACCURACY_TRACK = 5\n",
    "# max_epoch=120, top_accuracy_track=3, grandstore={},\n",
    "# minepoch=30,epochwindow=10,accwindow=0.35\n",
    "\n",
    "Grandstore=training(max_epoch=120,\n",
    "                    minepoch=30,\n",
    "                    top_accuracy_track=TOP_ACCURACY_TRACK,\n",
    "                    epochwindow=10,\n",
    "                    accwindow=0.25                  \n",
    "                   )"
   ]
  },
  {
   "cell_type": "code",
   "execution_count": 10,
   "id": "c5b45315",
   "metadata": {},
   "outputs": [
    {
     "name": "stdout",
     "output_type": "stream",
     "text": [
      "Total Run 69 epoch(s)\n",
      "Accuracy MIN: 23.246492985971944 / MAX: 99.6993987975952\n",
      "\n",
      "Top 5 performing epochs:\n",
      "#1 epoch 33\t||train_acc 99.70%\t||test 99.5%\n",
      "#2 epoch 56\t||train_acc 99.60%\t||test 99.4%\n",
      "#3 epoch 55\t||train_acc 99.60%\t||test 99.4%\n",
      "#4 epoch 45\t||train_acc 99.60%\t||test 99.4%\n",
      "#5 epoch 51\t||train_acc 99.60%\t||test 99.2%\n",
      "\n",
      "Last epoch:\n",
      "epoch 69\t||train_acc 99.50%\t||test 99.3%\n",
      "\n",
      "The model has parameters: 28306692\n"
     ]
    },
    {
     "data": {
      "image/png": "[encoded data removed]",
      "text/plain": [
       "<Figure size 432x288 with 1 Axes>"
      ]
     },
     "metadata": {
      "needs_background": "light"
     },
     "output_type": "display_data"
    }
   ],
   "source": [
    "print(\"Total Run {} epoch(s)\".format(Grandstore['total_epoch_run']))\n",
    "\n",
    "plt.plot(*[range(1,Grandstore['total_epoch_run']+1)],Grandstore['acclog'])\n",
    "print(\"Accuracy MIN: {} / MAX: {}\".format(Grandstore['minacc'],Grandstore['maxacc']))\n",
    "print()\n",
    "print(\"Top {} performing epochs:\".format(TOP_ACCURACY_TRACK))\n",
    "\n",
    "\n",
    "gstm=Grandstore['topmodels']\n",
    "for i in range(TOP_ACCURACY_TRACK):\n",
    "    easy=gstm[TOP_ACCURACY_TRACK-i-1]\n",
    "    print(\"#{} epoch {}\\t||train_acc {:.2f}%\\t||test {}%\".format(i+1,easy[2],easy[0],easy[1]))\n",
    "print()\n",
    "print(\"Last epoch:\")\n",
    "lsmd=Grandstore['lastmodel']\n",
    "print(\"epoch {}\\t||train_acc {:.2f}%\\t||test {}%\".format(Grandstore['total_epoch_run'],lsmd[0],lsmd[1]))\n",
    "      \n",
    "print()\n",
    "print(\"The model has parameters: {}\".format(get_n_params(model)))\n",
    "#grandstore['lastmodel']=((training_accuracy,train_epoch,thisepochtestresult))\n",
    "# grandstore['lastmodel']=(training_accuracy,thisepochtestresult,epoch+1,train_epoch)"
   ]
  },
  {
   "cell_type": "code",
   "execution_count": 11,
   "id": "ac30dfc1",
   "metadata": {},
   "outputs": [
    {
     "name": "stdout",
     "output_type": "stream",
     "text": [
      "writings done!\n",
      "Files at: grandstore/tsrd_EfficientNetb1_sp20211030150319.pkl\n"
     ]
    }
   ],
   "source": [
    "  \n",
    "f1=open(grandstore_string,\"wb\")\n",
    "pickle.dump(Grandstore,f1)\n",
    "f1.close()\n",
    "\n",
    "print(\"writings done!\")\n",
    "print(\"Files at: \"+grandstore_string)\n",
    "\n",
    "# with open(grandstore_string, 'rb') as file:\n",
    "#     myvar = pickle.load(file)\n",
    "#     print(myvar)"
   ]
  }
 ],
 "metadata": {
  "kernelspec": {
   "display_name": "Python 3 (ipykernel)",
   "language": "python",
   "name": "python3"
  },
  "language_info": {
   "codemirror_mode": {
    "name": "ipython",
    "version": 3
   },
   "file_extension": ".py",
   "mimetype": "text/x-python",
   "name": "python",
   "nbconvert_exporter": "python",
   "pygments_lexer": "ipython3",
   "version": "3.7.11"
  }
 },
 "nbformat": 4,
 "nbformat_minor": 5
}
