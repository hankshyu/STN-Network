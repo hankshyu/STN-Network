{
 "cells": [
  {
   "cell_type": "code",
   "execution_count": null,
   "id": "5fe6b51b",
   "metadata": {},
   "outputs": [],
   "source": [
    "# Auther: Tzu-Han Hsu\n",
    "\n",
    "# BSD 3-Clause License\n",
    "\n",
    "# Copyright (c) 2022, Anywhere Door Lab (ADL) and Tzu-Han Hsu\n",
    "# All rights reserved.\n",
    "\n",
    "# Redistribution and use in source and binary forms, with or without\n",
    "# modification, are permitted provided that the following conditions are met:\n",
    "\n",
    "# 1. Redistributions of source code must retain the above copyright notice, this\n",
    "#    list of conditions and the following disclaimer.\n",
    "\n",
    "# 2. Redistributions in binary form must reproduce the above copyright notice,\n",
    "#    this list of conditions and the following disclaimer in the documentation\n",
    "#    and/or other materials provided with the distribution.\n",
    "\n",
    "# 3. Neither the name of the copyright holder nor the names of its\n",
    "#    contributors may be used to endorse or promote products derived from\n",
    "#    this software without specific prior written permission.\n",
    "\n",
    "# THIS SOFTWARE IS PROVIDED BY THE COPYRIGHT HOLDERS AND CONTRIBUTORS \"AS IS\"\n",
    "# AND ANY EXPRESS OR IMPLIED WARRANTIES, INCLUDING, BUT NOT LIMITED TO, THE\n",
    "# IMPLIED WARRANTIES OF MERCHANTABILITY AND FITNESS FOR A PARTICULAR PURPOSE ARE\n",
    "# DISCLAIMED. IN NO EVENT SHALL THE COPYRIGHT HOLDER OR CONTRIBUTORS BE LIABLE\n",
    "# FOR ANY DIRECT, INDIRECT, INCIDENTAL, SPECIAL, EXEMPLARY, OR CONSEQUENTIAL\n",
    "# DAMAGES (INCLUDING, BUT NOT LIMITED TO, PROCUREMENT OF SUBSTITUTE GOODS OR\n",
    "# SERVICES; LOSS OF USE, DATA, OR PROFITS; OR BUSINESS INTERRUPTION) HOWEVER\n",
    "# CAUSED AND ON ANY THEORY OF LIABILITY, WHETHER IN CONTRACT, STRICT LIABILITY,\n",
    "# OR TORT (INCLUDING NEGLIGENCE OR OTHERWISE) ARISING IN ANY WAY OUT OF THE USE\n",
    "# OF THIS SOFTWARE, EVEN IF ADVISED OF THE POSSIBILITY OF SUCH DAMAGE."
   ]
  },
  {
   "cell_type": "code",
   "execution_count": 1,
   "id": "db038553",
   "metadata": {},
   "outputs": [
    {
     "name": "stdout",
     "output_type": "stream",
     "text": [
      "Model: EfficientNetb4_sp with 10 classes running on: cifar10\n",
      "The input image size is:(380, 380)\n"
     ]
    }
   ],
   "source": [
    "import torch\n",
    "import torchvision \n",
    "import os\n",
    "from torch.utils import data\n",
    "from PIL import Image\n",
    "import torchvision.datasets as dset\n",
    "import numpy as np\n",
    "\n",
    "import matplotlib.pyplot as plt\n",
    "import torch.nn as nn\n",
    "import torch.optim as optim\n",
    "import torch.nn.functional as F\n",
    "import torchvision.transforms as transforms\n",
    "from tqdm.notebook import tqdm\n",
    "import torchvision.models as models\n",
    "from torch.utils.tensorboard import SummaryWriter\n",
    "from datetime import datetime\n",
    "import matplotlib.pyplot as plt\n",
    "import math\n",
    "import pickle\n",
    "from torchsummary import summary\n",
    "from math import ceil\n",
    "device=torch.device('cuda' if torch.cuda.is_available() else 'cpu')\n",
    "#vital params\n",
    "\n",
    "\n",
    "\n",
    "dataset_name=\"cifar10\"\n",
    " \n",
    "model_name=\"EfficientNetb4_sp\"\n",
    "version = \"b4\"\n",
    "\n",
    "base_model = [\n",
    "    # expand_ratio, channels, repeats, stride, kernel_size\n",
    "    [1, 16, 1, 1, 3],\n",
    "    [6, 24, 2, 2, 3],\n",
    "    [6, 40, 2, 2, 5],\n",
    "    [6, 80, 3, 2, 3],\n",
    "    [6, 112, 3, 1, 5],\n",
    "    [6, 192, 4, 2, 5],\n",
    "    [6, 320, 1, 1, 3],\n",
    "]\n",
    "\n",
    "phi_values = {\n",
    "    # tuple of: (phi_value, resolution, drop_rate)\n",
    "    \"b0\": (0, 224, 0.2),  # alpha, beta, gamma, depth = alpha ** phi\n",
    "    \"b1\": (0.5, 240, 0.2),\n",
    "    \"b2\": (1, 260, 0.3),\n",
    "    \"b3\": (2, 300, 0.3),\n",
    "    \"b4\": (3, 380, 0.4),\n",
    "    \"b5\": (4, 456, 0.4),\n",
    "    \"b6\": (5, 528, 0.5),\n",
    "    \"b7\": (6, 600, 0.5),\n",
    "}\n",
    "\n",
    "phi, res, drop_rate = phi_values[version]\n",
    "#hyperparameters\n",
    "batch_size=10\n",
    "num_classes=-1\n",
    "learning_rate=0.001\n",
    "image_size=(res,res)\n",
    "\n",
    "if dataset_name == \"tsrd\":\n",
    "    num_classes=58\n",
    "elif dataset_name == \"cifar10\":\n",
    "    num_classes=10\n",
    "\n",
    "\n",
    "print(\"Model: \"+model_name +\" with {} classes\".format(num_classes)+\n",
    "      \" running on: \"+dataset_name)\n",
    "print(\"The input image size is:{}\".format(image_size))"
   ]
  },
  {
   "cell_type": "code",
   "execution_count": 2,
   "id": "38958e92",
   "metadata": {},
   "outputs": [
    {
     "name": "stdout",
     "output_type": "stream",
     "text": [
      "Files already downloaded and verified\n",
      "Files already downloaded and verified\n",
      "Dataset size: Train: 40000, Valid: 10000, Test: 10000\n",
      "torch.Size([3, 380, 380])\n",
      "Datasets loaded and prepared\n"
     ]
    }
   ],
   "source": [
    "# load data through imagefolder\n",
    "if dataset_name == \"tsrd\":\n",
    "    main_transforms=transforms.Compose([\n",
    "        transforms.Resize(image_size),\n",
    "        transforms.ToTensor(),\n",
    "        transforms.Normalize(mean = [0.485, 0.456, 0.406] , std = [0.229, 0.224, 0.225]),\n",
    "\n",
    "    ])\n",
    "\n",
    "    train_dir = \"../../dataset/data\"\n",
    "    head_train_set = dset.ImageFolder(train_dir,transform=main_transforms)\n",
    "    train_set, valid_set = data.random_split(head_train_set, [5000, 998])\n",
    "    train_set, test_set = data.random_split(train_set,[4000, 1000])\n",
    "\n",
    "\n",
    "    train_dataloader=torch.utils.data.DataLoader(train_set,\n",
    "                                                 batch_size=batch_size,\n",
    "                                                 shuffle=True)\n",
    "\n",
    "    val_dataloader=torch.utils.data.DataLoader(valid_set,\n",
    "                                                 batch_size=batch_size,\n",
    "                                                 shuffle=True)\n",
    "\n",
    "    test_dataloader=torch.utils.data.DataLoader(test_set,\n",
    "                                                 batch_size=1,\n",
    "                                                 shuffle=True)\n",
    "    print(head_train_set.class_to_idx)\n",
    "elif dataset_name == \"cifar10\":\n",
    "    \n",
    "    main_transforms=transforms.Compose([\n",
    "        transforms.Resize(image_size),\n",
    "        transforms.ToTensor(),\n",
    "        transforms.Normalize(mean = [0.5, 0.5, 0.5] , std = [0.5, 0.5, 0.5]),\n",
    "\n",
    "    ])\n",
    "\n",
    "    bigtrain_set = torchvision.datasets.CIFAR10(root='./data', train=True, download=True, transform=main_transforms)\n",
    "    train_set, valid_set = data.random_split(bigtrain_set, [40000, 10000])\n",
    "    test_set = torchvision.datasets.CIFAR10(root='./data', train=False, download=True, transform=main_transforms)\n",
    "\n",
    "\n",
    "    train_dataloader = torch.utils.data.DataLoader(train_set, \n",
    "                                                   batch_size=batch_size, \n",
    "                                                   shuffle=True, num_workers=2)\n",
    "\n",
    "    val_dataloader = torch.utils.data.DataLoader(valid_set, \n",
    "                                                   batch_size=batch_size, \n",
    "                                                   shuffle=True, num_workers=2)\n",
    "\n",
    "    test_dataloader = torch.utils.data.DataLoader(test_set,\n",
    "                                                  batch_size=batch_size,\n",
    "                                                  shuffle=False, num_workers=2)\n",
    "    \n",
    "\n",
    "\n",
    "\n",
    "\n",
    "\n",
    "print(\"Dataset size: Train: {}, Valid: {}, Test: {}\"\n",
    "      .format(len(train_set),len(valid_set),len(test_set)))\n",
    "\n",
    "\n",
    "print(train_set[0][0].shape)\n",
    "print(\"Datasets loaded and prepared\")"
   ]
  },
  {
   "cell_type": "code",
   "execution_count": 3,
   "id": "12b5d7b0",
   "metadata": {},
   "outputs": [],
   "source": [
    "class CNNBlock(nn.Module):\n",
    "    def __init__(\n",
    "            self, in_channels, out_channels, kernel_size, stride, padding, groups=1\n",
    "    ):\n",
    "        super(CNNBlock, self).__init__()\n",
    "        self.cnn = nn.Conv2d(\n",
    "            in_channels,\n",
    "            out_channels,\n",
    "            kernel_size,\n",
    "            stride,\n",
    "            padding,\n",
    "            groups=groups,\n",
    "            bias=False,\n",
    "        )\n",
    "        self.bn = nn.BatchNorm2d(out_channels)\n",
    "        self.silu = nn.SiLU() # SiLU <-> Swish\n",
    "\n",
    "    def forward(self, x):\n",
    "        return self.silu(self.bn(self.cnn(x)))\n",
    "\n",
    "class SqueezeExcitation(nn.Module):\n",
    "    def __init__(self, in_channels, reduced_dim):\n",
    "        super(SqueezeExcitation, self).__init__()\n",
    "        self.se = nn.Sequential(\n",
    "            nn.AdaptiveAvgPool2d(1), # C x H x W -> C x 1 x 1\n",
    "            nn.Conv2d(in_channels, reduced_dim, 1),\n",
    "            nn.SiLU(),\n",
    "            nn.Conv2d(reduced_dim, in_channels, 1),\n",
    "            nn.Sigmoid(),\n",
    "        )\n",
    "\n",
    "    def forward(self, x):\n",
    "        return x * self.se(x)\n",
    "\n",
    "class InvertedResidualBlock(nn.Module):\n",
    "    def __init__(\n",
    "            self,\n",
    "            in_channels,\n",
    "            out_channels,\n",
    "            kernel_size,\n",
    "            stride,\n",
    "            padding,\n",
    "            expand_ratio,\n",
    "            reduction=4, # squeeze excitation\n",
    "            survival_prob=0.8, # for stochastic depth\n",
    "    ):\n",
    "        super(InvertedResidualBlock, self).__init__()\n",
    "        self.survival_prob = 0.8\n",
    "        self.use_residual = in_channels == out_channels and stride == 1\n",
    "        hidden_dim = in_channels * expand_ratio\n",
    "        self.expand = in_channels != hidden_dim\n",
    "        reduced_dim = int(in_channels / reduction)\n",
    "\n",
    "        if self.expand:\n",
    "            self.expand_conv = CNNBlock(\n",
    "                in_channels, hidden_dim, kernel_size=3, stride=1, padding=1,\n",
    "            )\n",
    "\n",
    "        self.conv = nn.Sequential(\n",
    "            CNNBlock(\n",
    "                hidden_dim, hidden_dim, kernel_size, stride, padding, groups=hidden_dim,\n",
    "            ),\n",
    "            SqueezeExcitation(hidden_dim, reduced_dim),\n",
    "            nn.Conv2d(hidden_dim, out_channels, 1, bias=False),\n",
    "            nn.BatchNorm2d(out_channels),\n",
    "        )\n",
    "\n",
    "    def stochastic_depth(self, x):\n",
    "        if not self.training:\n",
    "            return x\n",
    "\n",
    "        binary_tensor = torch.rand(x.shape[0], 1, 1, 1, device=x.device) < self.survival_prob\n",
    "        return torch.div(x, self.survival_prob) * binary_tensor\n",
    "\n",
    "    def forward(self, inputs):\n",
    "        x = self.expand_conv(inputs) if self.expand else inputs\n",
    "\n",
    "        if self.use_residual:\n",
    "            return self.stochastic_depth(self.conv(x)) + inputs\n",
    "        else:\n",
    "            return self.conv(x)\n",
    "\n",
    "\n",
    "class EfficientNet(nn.Module):\n",
    "    def __init__(self, version, num_classes):\n",
    "        super(EfficientNet, self).__init__()\n",
    "        width_factor, depth_factor, dropout_rate = self.calculate_factors(version)\n",
    "        last_channels = ceil(1280 * width_factor)\n",
    "        self.localization = nn.Sequential(\n",
    "            nn.Conv2d(3, 8, kernel_size=7),\n",
    "            nn.MaxPool2d(2, stride=2),\n",
    "            nn.ReLU(True),\n",
    "            nn.Conv2d(8, 10, kernel_size=5),\n",
    "            nn.MaxPool2d(2, stride=2),\n",
    "            nn.ReLU(True)\n",
    "        )\n",
    "\n",
    "        # Regressor for the 3 * 2 affine matrix\n",
    "        self.fc_loc = nn.Sequential(\n",
    "            nn.Linear(10 * 91 * 91, 32),\n",
    "            nn.ReLU(True),\n",
    "            nn.Linear(32, 3 * 2)\n",
    "        )\n",
    "        self.pool = nn.AdaptiveAvgPool2d(1)\n",
    "        self.features = self.create_features(width_factor, depth_factor, last_channels)\n",
    "        self.classifier = nn.Sequential(\n",
    "            nn.Dropout(dropout_rate),\n",
    "            nn.Linear(last_channels, num_classes),\n",
    "        )\n",
    "        \n",
    "\n",
    "\n",
    "        # Initialize the weights/bias with identity transformation\n",
    "        self.fc_loc[2].weight.data.zero_()\n",
    "        self.fc_loc[2].bias.data.copy_(torch.tensor([1, 0, 0, 0, 1, 0], dtype=torch.float))\n",
    "\n",
    "    # Spatial transformer network forward function\n",
    "    def stn(self, x):\n",
    "\n",
    "        xs = self.localization(x)\n",
    "        xs = xs.view(-1, 10 * 91 * 91)\n",
    "        theta = self.fc_loc(xs)\n",
    "        theta = theta.view(-1, 2, 3)\n",
    "        grid = F.affine_grid(theta, x.size())\n",
    "        x = F.grid_sample(x, grid)\n",
    "        \n",
    "        \n",
    "    def calculate_factors(self, version, alpha=1.2, beta=1.1):\n",
    "        phi, res, drop_rate = phi_values[version]\n",
    "        depth_factor = alpha ** phi\n",
    "        width_factor = beta ** phi\n",
    "        return width_factor, depth_factor, drop_rate\n",
    "\n",
    "    def create_features(self, width_factor, depth_factor, last_channels):\n",
    "        channels = int(32 * width_factor)\n",
    "        features = [CNNBlock(3, channels, 3, stride=2, padding=1)]\n",
    "        in_channels = channels\n",
    "\n",
    "        for expand_ratio, channels, repeats, stride, kernel_size in base_model:\n",
    "            out_channels = 4*ceil(int(channels*width_factor) / 4)\n",
    "            layers_repeats = ceil(repeats * depth_factor)\n",
    "\n",
    "            for layer in range(layers_repeats):\n",
    "                features.append(\n",
    "                    InvertedResidualBlock(\n",
    "                        in_channels,\n",
    "                        out_channels,\n",
    "                        expand_ratio=expand_ratio,\n",
    "                        stride = stride if layer == 0 else 1,\n",
    "                        kernel_size=kernel_size,\n",
    "                        padding=kernel_size//2, # if k=1:pad=0, k=3:pad=1, k=5:pad=2\n",
    "                    )\n",
    "                )\n",
    "                in_channels = out_channels\n",
    "\n",
    "        features.append(\n",
    "            CNNBlock(in_channels, last_channels, kernel_size=1, stride=1, padding=0)\n",
    "        )\n",
    "\n",
    "        return nn.Sequential(*features)\n",
    "\n",
    "    def forward(self, x):\n",
    "        self.stn(x)\n",
    "        x = self.pool(self.features(x))\n",
    "        \n",
    "        return self.classifier(x.view(x.shape[0], -1))\n",
    "\n",
    "\n"
   ]
  },
  {
   "cell_type": "code",
   "execution_count": 4,
   "id": "fe94e559",
   "metadata": {},
   "outputs": [
    {
     "name": "stdout",
     "output_type": "stream",
     "text": [
      "torch.Size([10, 3, 380, 380])\n"
     ]
    },
    {
     "name": "stderr",
     "output_type": "stream",
     "text": [
      "C:\\Users\\2080Ti\\Anaconda3\\envs\\pytorch\\lib\\site-packages\\torch\\nn\\functional.py:4044: UserWarning: Default grid_sample and affine_grid behavior has changed to align_corners=False since 1.3.0. Please specify align_corners=True if the old behavior is desired. See the documentation of grid_sample for details.\n",
      "  \"Default grid_sample and affine_grid behavior has changed \"\n",
      "C:\\Users\\2080Ti\\Anaconda3\\envs\\pytorch\\lib\\site-packages\\torch\\nn\\functional.py:3982: UserWarning: Default grid_sample and affine_grid behavior has changed to align_corners=False since 1.3.0. Please specify align_corners=True if the old behavior is desired. See the documentation of grid_sample for details.\n",
      "  \"Default grid_sample and affine_grid behavior has changed \"\n"
     ]
    },
    {
     "name": "stdout",
     "output_type": "stream",
     "text": [
      "torch.Size([10, 10])\n",
      "----------------------------------------------------------------\n",
      "        Layer (type)               Output Shape         Param #\n",
      "================================================================\n",
      "            Conv2d-1          [-1, 8, 374, 374]           1,184\n",
      "         MaxPool2d-2          [-1, 8, 187, 187]               0\n",
      "              ReLU-3          [-1, 8, 187, 187]               0\n",
      "            Conv2d-4         [-1, 10, 183, 183]           2,010\n",
      "         MaxPool2d-5           [-1, 10, 91, 91]               0\n",
      "              ReLU-6           [-1, 10, 91, 91]               0\n",
      "            Linear-7                   [-1, 32]       2,649,952\n",
      "              ReLU-8                   [-1, 32]               0\n",
      "            Linear-9                    [-1, 6]             198\n",
      "           Conv2d-10         [-1, 42, 190, 190]           1,134\n",
      "      BatchNorm2d-11         [-1, 42, 190, 190]              84\n",
      "             SiLU-12         [-1, 42, 190, 190]               0\n",
      "         CNNBlock-13         [-1, 42, 190, 190]               0\n",
      "           Conv2d-14         [-1, 42, 190, 190]             378\n",
      "      BatchNorm2d-15         [-1, 42, 190, 190]              84\n",
      "             SiLU-16         [-1, 42, 190, 190]               0\n",
      "         CNNBlock-17         [-1, 42, 190, 190]               0\n",
      "AdaptiveAvgPool2d-18             [-1, 42, 1, 1]               0\n",
      "           Conv2d-19             [-1, 10, 1, 1]             430\n",
      "             SiLU-20             [-1, 10, 1, 1]               0\n",
      "           Conv2d-21             [-1, 42, 1, 1]             462\n",
      "          Sigmoid-22             [-1, 42, 1, 1]               0\n",
      "SqueezeExcitation-23         [-1, 42, 190, 190]               0\n",
      "           Conv2d-24         [-1, 24, 190, 190]           1,008\n",
      "      BatchNorm2d-25         [-1, 24, 190, 190]              48\n",
      "InvertedResidualBlock-26         [-1, 24, 190, 190]               0\n",
      "           Conv2d-27         [-1, 24, 190, 190]             216\n",
      "      BatchNorm2d-28         [-1, 24, 190, 190]              48\n",
      "             SiLU-29         [-1, 24, 190, 190]               0\n",
      "         CNNBlock-30         [-1, 24, 190, 190]               0\n",
      "AdaptiveAvgPool2d-31             [-1, 24, 1, 1]               0\n",
      "           Conv2d-32              [-1, 6, 1, 1]             150\n",
      "             SiLU-33              [-1, 6, 1, 1]               0\n",
      "           Conv2d-34             [-1, 24, 1, 1]             168\n",
      "          Sigmoid-35             [-1, 24, 1, 1]               0\n",
      "SqueezeExcitation-36         [-1, 24, 190, 190]               0\n",
      "           Conv2d-37         [-1, 24, 190, 190]             576\n",
      "      BatchNorm2d-38         [-1, 24, 190, 190]              48\n",
      "InvertedResidualBlock-39         [-1, 24, 190, 190]               0\n",
      "           Conv2d-40        [-1, 144, 190, 190]          31,104\n",
      "      BatchNorm2d-41        [-1, 144, 190, 190]             288\n",
      "             SiLU-42        [-1, 144, 190, 190]               0\n",
      "         CNNBlock-43        [-1, 144, 190, 190]               0\n",
      "           Conv2d-44          [-1, 144, 95, 95]           1,296\n",
      "      BatchNorm2d-45          [-1, 144, 95, 95]             288\n",
      "             SiLU-46          [-1, 144, 95, 95]               0\n",
      "         CNNBlock-47          [-1, 144, 95, 95]               0\n",
      "AdaptiveAvgPool2d-48            [-1, 144, 1, 1]               0\n",
      "           Conv2d-49              [-1, 6, 1, 1]             870\n",
      "             SiLU-50              [-1, 6, 1, 1]               0\n",
      "           Conv2d-51            [-1, 144, 1, 1]           1,008\n",
      "          Sigmoid-52            [-1, 144, 1, 1]               0\n",
      "SqueezeExcitation-53          [-1, 144, 95, 95]               0\n",
      "           Conv2d-54           [-1, 32, 95, 95]           4,608\n",
      "      BatchNorm2d-55           [-1, 32, 95, 95]              64\n",
      "InvertedResidualBlock-56           [-1, 32, 95, 95]               0\n",
      "           Conv2d-57          [-1, 192, 95, 95]          55,296\n",
      "      BatchNorm2d-58          [-1, 192, 95, 95]             384\n",
      "             SiLU-59          [-1, 192, 95, 95]               0\n",
      "         CNNBlock-60          [-1, 192, 95, 95]               0\n",
      "           Conv2d-61          [-1, 192, 95, 95]           1,728\n",
      "      BatchNorm2d-62          [-1, 192, 95, 95]             384\n",
      "             SiLU-63          [-1, 192, 95, 95]               0\n",
      "         CNNBlock-64          [-1, 192, 95, 95]               0\n",
      "AdaptiveAvgPool2d-65            [-1, 192, 1, 1]               0\n",
      "           Conv2d-66              [-1, 8, 1, 1]           1,544\n",
      "             SiLU-67              [-1, 8, 1, 1]               0\n",
      "           Conv2d-68            [-1, 192, 1, 1]           1,728\n",
      "          Sigmoid-69            [-1, 192, 1, 1]               0\n",
      "SqueezeExcitation-70          [-1, 192, 95, 95]               0\n",
      "           Conv2d-71           [-1, 32, 95, 95]           6,144\n",
      "      BatchNorm2d-72           [-1, 32, 95, 95]              64\n",
      "InvertedResidualBlock-73           [-1, 32, 95, 95]               0\n",
      "           Conv2d-74          [-1, 192, 95, 95]          55,296\n",
      "      BatchNorm2d-75          [-1, 192, 95, 95]             384\n",
      "             SiLU-76          [-1, 192, 95, 95]               0\n",
      "         CNNBlock-77          [-1, 192, 95, 95]               0\n",
      "           Conv2d-78          [-1, 192, 95, 95]           1,728\n",
      "      BatchNorm2d-79          [-1, 192, 95, 95]             384\n",
      "             SiLU-80          [-1, 192, 95, 95]               0\n",
      "         CNNBlock-81          [-1, 192, 95, 95]               0\n",
      "AdaptiveAvgPool2d-82            [-1, 192, 1, 1]               0\n",
      "           Conv2d-83              [-1, 8, 1, 1]           1,544\n",
      "             SiLU-84              [-1, 8, 1, 1]               0\n",
      "           Conv2d-85            [-1, 192, 1, 1]           1,728\n",
      "          Sigmoid-86            [-1, 192, 1, 1]               0\n",
      "SqueezeExcitation-87          [-1, 192, 95, 95]               0\n",
      "           Conv2d-88           [-1, 32, 95, 95]           6,144\n",
      "      BatchNorm2d-89           [-1, 32, 95, 95]              64\n",
      "InvertedResidualBlock-90           [-1, 32, 95, 95]               0\n",
      "           Conv2d-91          [-1, 192, 95, 95]          55,296\n",
      "      BatchNorm2d-92          [-1, 192, 95, 95]             384\n",
      "             SiLU-93          [-1, 192, 95, 95]               0\n",
      "         CNNBlock-94          [-1, 192, 95, 95]               0\n",
      "           Conv2d-95          [-1, 192, 95, 95]           1,728\n",
      "      BatchNorm2d-96          [-1, 192, 95, 95]             384\n",
      "             SiLU-97          [-1, 192, 95, 95]               0\n",
      "         CNNBlock-98          [-1, 192, 95, 95]               0\n",
      "AdaptiveAvgPool2d-99            [-1, 192, 1, 1]               0\n",
      "          Conv2d-100              [-1, 8, 1, 1]           1,544\n",
      "            SiLU-101              [-1, 8, 1, 1]               0\n",
      "          Conv2d-102            [-1, 192, 1, 1]           1,728\n",
      "         Sigmoid-103            [-1, 192, 1, 1]               0\n",
      "SqueezeExcitation-104          [-1, 192, 95, 95]               0\n",
      "          Conv2d-105           [-1, 32, 95, 95]           6,144\n",
      "     BatchNorm2d-106           [-1, 32, 95, 95]              64\n",
      "InvertedResidualBlock-107           [-1, 32, 95, 95]               0\n",
      "          Conv2d-108          [-1, 192, 95, 95]          55,296\n",
      "     BatchNorm2d-109          [-1, 192, 95, 95]             384\n",
      "            SiLU-110          [-1, 192, 95, 95]               0\n",
      "        CNNBlock-111          [-1, 192, 95, 95]               0\n",
      "          Conv2d-112          [-1, 192, 48, 48]           4,800\n",
      "     BatchNorm2d-113          [-1, 192, 48, 48]             384\n",
      "            SiLU-114          [-1, 192, 48, 48]               0\n",
      "        CNNBlock-115          [-1, 192, 48, 48]               0\n",
      "AdaptiveAvgPool2d-116            [-1, 192, 1, 1]               0\n",
      "          Conv2d-117              [-1, 8, 1, 1]           1,544\n",
      "            SiLU-118              [-1, 8, 1, 1]               0\n",
      "          Conv2d-119            [-1, 192, 1, 1]           1,728\n",
      "         Sigmoid-120            [-1, 192, 1, 1]               0\n",
      "SqueezeExcitation-121          [-1, 192, 48, 48]               0\n",
      "          Conv2d-122           [-1, 56, 48, 48]          10,752\n",
      "     BatchNorm2d-123           [-1, 56, 48, 48]             112\n",
      "InvertedResidualBlock-124           [-1, 56, 48, 48]               0\n",
      "          Conv2d-125          [-1, 336, 48, 48]         169,344\n",
      "     BatchNorm2d-126          [-1, 336, 48, 48]             672\n",
      "            SiLU-127          [-1, 336, 48, 48]               0\n",
      "        CNNBlock-128          [-1, 336, 48, 48]               0\n",
      "          Conv2d-129          [-1, 336, 48, 48]           8,400\n",
      "     BatchNorm2d-130          [-1, 336, 48, 48]             672\n",
      "            SiLU-131          [-1, 336, 48, 48]               0\n",
      "        CNNBlock-132          [-1, 336, 48, 48]               0\n",
      "AdaptiveAvgPool2d-133            [-1, 336, 1, 1]               0\n",
      "          Conv2d-134             [-1, 14, 1, 1]           4,718\n",
      "            SiLU-135             [-1, 14, 1, 1]               0\n",
      "          Conv2d-136            [-1, 336, 1, 1]           5,040\n",
      "         Sigmoid-137            [-1, 336, 1, 1]               0\n",
      "SqueezeExcitation-138          [-1, 336, 48, 48]               0\n",
      "          Conv2d-139           [-1, 56, 48, 48]          18,816\n",
      "     BatchNorm2d-140           [-1, 56, 48, 48]             112\n",
      "InvertedResidualBlock-141           [-1, 56, 48, 48]               0\n",
      "          Conv2d-142          [-1, 336, 48, 48]         169,344\n",
      "     BatchNorm2d-143          [-1, 336, 48, 48]             672\n",
      "            SiLU-144          [-1, 336, 48, 48]               0\n",
      "        CNNBlock-145          [-1, 336, 48, 48]               0\n",
      "          Conv2d-146          [-1, 336, 48, 48]           8,400\n",
      "     BatchNorm2d-147          [-1, 336, 48, 48]             672\n",
      "            SiLU-148          [-1, 336, 48, 48]               0\n",
      "        CNNBlock-149          [-1, 336, 48, 48]               0\n",
      "AdaptiveAvgPool2d-150            [-1, 336, 1, 1]               0\n",
      "          Conv2d-151             [-1, 14, 1, 1]           4,718\n",
      "            SiLU-152             [-1, 14, 1, 1]               0\n",
      "          Conv2d-153            [-1, 336, 1, 1]           5,040\n",
      "         Sigmoid-154            [-1, 336, 1, 1]               0\n",
      "SqueezeExcitation-155          [-1, 336, 48, 48]               0\n",
      "          Conv2d-156           [-1, 56, 48, 48]          18,816\n",
      "     BatchNorm2d-157           [-1, 56, 48, 48]             112\n",
      "InvertedResidualBlock-158           [-1, 56, 48, 48]               0\n",
      "          Conv2d-159          [-1, 336, 48, 48]         169,344\n",
      "     BatchNorm2d-160          [-1, 336, 48, 48]             672\n",
      "            SiLU-161          [-1, 336, 48, 48]               0\n",
      "        CNNBlock-162          [-1, 336, 48, 48]               0\n",
      "          Conv2d-163          [-1, 336, 48, 48]           8,400\n",
      "     BatchNorm2d-164          [-1, 336, 48, 48]             672\n",
      "            SiLU-165          [-1, 336, 48, 48]               0\n",
      "        CNNBlock-166          [-1, 336, 48, 48]               0\n",
      "AdaptiveAvgPool2d-167            [-1, 336, 1, 1]               0\n",
      "          Conv2d-168             [-1, 14, 1, 1]           4,718\n",
      "            SiLU-169             [-1, 14, 1, 1]               0\n",
      "          Conv2d-170            [-1, 336, 1, 1]           5,040\n",
      "         Sigmoid-171            [-1, 336, 1, 1]               0\n",
      "SqueezeExcitation-172          [-1, 336, 48, 48]               0\n",
      "          Conv2d-173           [-1, 56, 48, 48]          18,816\n",
      "     BatchNorm2d-174           [-1, 56, 48, 48]             112\n",
      "InvertedResidualBlock-175           [-1, 56, 48, 48]               0\n",
      "          Conv2d-176          [-1, 336, 48, 48]         169,344\n",
      "     BatchNorm2d-177          [-1, 336, 48, 48]             672\n",
      "            SiLU-178          [-1, 336, 48, 48]               0\n",
      "        CNNBlock-179          [-1, 336, 48, 48]               0\n",
      "          Conv2d-180          [-1, 336, 24, 24]           3,024\n",
      "     BatchNorm2d-181          [-1, 336, 24, 24]             672\n",
      "            SiLU-182          [-1, 336, 24, 24]               0\n",
      "        CNNBlock-183          [-1, 336, 24, 24]               0\n",
      "AdaptiveAvgPool2d-184            [-1, 336, 1, 1]               0\n",
      "          Conv2d-185             [-1, 14, 1, 1]           4,718\n",
      "            SiLU-186             [-1, 14, 1, 1]               0\n",
      "          Conv2d-187            [-1, 336, 1, 1]           5,040\n",
      "         Sigmoid-188            [-1, 336, 1, 1]               0\n",
      "SqueezeExcitation-189          [-1, 336, 24, 24]               0\n",
      "          Conv2d-190          [-1, 108, 24, 24]          36,288\n",
      "     BatchNorm2d-191          [-1, 108, 24, 24]             216\n",
      "InvertedResidualBlock-192          [-1, 108, 24, 24]               0\n",
      "          Conv2d-193          [-1, 648, 24, 24]         629,856\n",
      "     BatchNorm2d-194          [-1, 648, 24, 24]           1,296\n",
      "            SiLU-195          [-1, 648, 24, 24]               0\n",
      "        CNNBlock-196          [-1, 648, 24, 24]               0\n",
      "          Conv2d-197          [-1, 648, 24, 24]           5,832\n",
      "     BatchNorm2d-198          [-1, 648, 24, 24]           1,296\n",
      "            SiLU-199          [-1, 648, 24, 24]               0\n",
      "        CNNBlock-200          [-1, 648, 24, 24]               0\n",
      "AdaptiveAvgPool2d-201            [-1, 648, 1, 1]               0\n",
      "          Conv2d-202             [-1, 27, 1, 1]          17,523\n",
      "            SiLU-203             [-1, 27, 1, 1]               0\n",
      "          Conv2d-204            [-1, 648, 1, 1]          18,144\n",
      "         Sigmoid-205            [-1, 648, 1, 1]               0\n",
      "SqueezeExcitation-206          [-1, 648, 24, 24]               0\n",
      "          Conv2d-207          [-1, 108, 24, 24]          69,984\n",
      "     BatchNorm2d-208          [-1, 108, 24, 24]             216\n",
      "InvertedResidualBlock-209          [-1, 108, 24, 24]               0\n",
      "          Conv2d-210          [-1, 648, 24, 24]         629,856\n",
      "     BatchNorm2d-211          [-1, 648, 24, 24]           1,296\n",
      "            SiLU-212          [-1, 648, 24, 24]               0\n",
      "        CNNBlock-213          [-1, 648, 24, 24]               0\n",
      "          Conv2d-214          [-1, 648, 24, 24]           5,832\n",
      "     BatchNorm2d-215          [-1, 648, 24, 24]           1,296\n",
      "            SiLU-216          [-1, 648, 24, 24]               0\n",
      "        CNNBlock-217          [-1, 648, 24, 24]               0\n",
      "AdaptiveAvgPool2d-218            [-1, 648, 1, 1]               0\n",
      "          Conv2d-219             [-1, 27, 1, 1]          17,523\n",
      "            SiLU-220             [-1, 27, 1, 1]               0\n",
      "          Conv2d-221            [-1, 648, 1, 1]          18,144\n",
      "         Sigmoid-222            [-1, 648, 1, 1]               0\n",
      "SqueezeExcitation-223          [-1, 648, 24, 24]               0\n",
      "          Conv2d-224          [-1, 108, 24, 24]          69,984\n",
      "     BatchNorm2d-225          [-1, 108, 24, 24]             216\n",
      "InvertedResidualBlock-226          [-1, 108, 24, 24]               0\n",
      "          Conv2d-227          [-1, 648, 24, 24]         629,856\n",
      "     BatchNorm2d-228          [-1, 648, 24, 24]           1,296\n",
      "            SiLU-229          [-1, 648, 24, 24]               0\n",
      "        CNNBlock-230          [-1, 648, 24, 24]               0\n",
      "          Conv2d-231          [-1, 648, 24, 24]           5,832\n",
      "     BatchNorm2d-232          [-1, 648, 24, 24]           1,296\n",
      "            SiLU-233          [-1, 648, 24, 24]               0\n",
      "        CNNBlock-234          [-1, 648, 24, 24]               0\n",
      "AdaptiveAvgPool2d-235            [-1, 648, 1, 1]               0\n",
      "          Conv2d-236             [-1, 27, 1, 1]          17,523\n",
      "            SiLU-237             [-1, 27, 1, 1]               0\n",
      "          Conv2d-238            [-1, 648, 1, 1]          18,144\n",
      "         Sigmoid-239            [-1, 648, 1, 1]               0\n",
      "SqueezeExcitation-240          [-1, 648, 24, 24]               0\n",
      "          Conv2d-241          [-1, 108, 24, 24]          69,984\n",
      "     BatchNorm2d-242          [-1, 108, 24, 24]             216\n",
      "InvertedResidualBlock-243          [-1, 108, 24, 24]               0\n",
      "          Conv2d-244          [-1, 648, 24, 24]         629,856\n",
      "     BatchNorm2d-245          [-1, 648, 24, 24]           1,296\n",
      "            SiLU-246          [-1, 648, 24, 24]               0\n",
      "        CNNBlock-247          [-1, 648, 24, 24]               0\n",
      "          Conv2d-248          [-1, 648, 24, 24]           5,832\n",
      "     BatchNorm2d-249          [-1, 648, 24, 24]           1,296\n",
      "            SiLU-250          [-1, 648, 24, 24]               0\n",
      "        CNNBlock-251          [-1, 648, 24, 24]               0\n",
      "AdaptiveAvgPool2d-252            [-1, 648, 1, 1]               0\n",
      "          Conv2d-253             [-1, 27, 1, 1]          17,523\n",
      "            SiLU-254             [-1, 27, 1, 1]               0\n",
      "          Conv2d-255            [-1, 648, 1, 1]          18,144\n",
      "         Sigmoid-256            [-1, 648, 1, 1]               0\n",
      "SqueezeExcitation-257          [-1, 648, 24, 24]               0\n",
      "          Conv2d-258          [-1, 108, 24, 24]          69,984\n",
      "     BatchNorm2d-259          [-1, 108, 24, 24]             216\n",
      "InvertedResidualBlock-260          [-1, 108, 24, 24]               0\n",
      "          Conv2d-261          [-1, 648, 24, 24]         629,856\n",
      "     BatchNorm2d-262          [-1, 648, 24, 24]           1,296\n",
      "            SiLU-263          [-1, 648, 24, 24]               0\n",
      "        CNNBlock-264          [-1, 648, 24, 24]               0\n",
      "          Conv2d-265          [-1, 648, 24, 24]           5,832\n",
      "     BatchNorm2d-266          [-1, 648, 24, 24]           1,296\n",
      "            SiLU-267          [-1, 648, 24, 24]               0\n",
      "        CNNBlock-268          [-1, 648, 24, 24]               0\n",
      "AdaptiveAvgPool2d-269            [-1, 648, 1, 1]               0\n",
      "          Conv2d-270             [-1, 27, 1, 1]          17,523\n",
      "            SiLU-271             [-1, 27, 1, 1]               0\n",
      "          Conv2d-272            [-1, 648, 1, 1]          18,144\n",
      "         Sigmoid-273            [-1, 648, 1, 1]               0\n",
      "SqueezeExcitation-274          [-1, 648, 24, 24]               0\n",
      "          Conv2d-275          [-1, 108, 24, 24]          69,984\n",
      "     BatchNorm2d-276          [-1, 108, 24, 24]             216\n",
      "InvertedResidualBlock-277          [-1, 108, 24, 24]               0\n",
      "          Conv2d-278          [-1, 648, 24, 24]         629,856\n",
      "     BatchNorm2d-279          [-1, 648, 24, 24]           1,296\n",
      "            SiLU-280          [-1, 648, 24, 24]               0\n",
      "        CNNBlock-281          [-1, 648, 24, 24]               0\n",
      "          Conv2d-282          [-1, 648, 24, 24]          16,200\n",
      "     BatchNorm2d-283          [-1, 648, 24, 24]           1,296\n",
      "            SiLU-284          [-1, 648, 24, 24]               0\n",
      "        CNNBlock-285          [-1, 648, 24, 24]               0\n",
      "AdaptiveAvgPool2d-286            [-1, 648, 1, 1]               0\n",
      "          Conv2d-287             [-1, 27, 1, 1]          17,523\n",
      "            SiLU-288             [-1, 27, 1, 1]               0\n",
      "          Conv2d-289            [-1, 648, 1, 1]          18,144\n",
      "         Sigmoid-290            [-1, 648, 1, 1]               0\n",
      "SqueezeExcitation-291          [-1, 648, 24, 24]               0\n",
      "          Conv2d-292          [-1, 152, 24, 24]          98,496\n",
      "     BatchNorm2d-293          [-1, 152, 24, 24]             304\n",
      "InvertedResidualBlock-294          [-1, 152, 24, 24]               0\n",
      "          Conv2d-295          [-1, 912, 24, 24]       1,247,616\n",
      "     BatchNorm2d-296          [-1, 912, 24, 24]           1,824\n",
      "            SiLU-297          [-1, 912, 24, 24]               0\n",
      "        CNNBlock-298          [-1, 912, 24, 24]               0\n",
      "          Conv2d-299          [-1, 912, 24, 24]          22,800\n",
      "     BatchNorm2d-300          [-1, 912, 24, 24]           1,824\n",
      "            SiLU-301          [-1, 912, 24, 24]               0\n",
      "        CNNBlock-302          [-1, 912, 24, 24]               0\n",
      "AdaptiveAvgPool2d-303            [-1, 912, 1, 1]               0\n",
      "          Conv2d-304             [-1, 38, 1, 1]          34,694\n",
      "            SiLU-305             [-1, 38, 1, 1]               0\n",
      "          Conv2d-306            [-1, 912, 1, 1]          35,568\n",
      "         Sigmoid-307            [-1, 912, 1, 1]               0\n",
      "SqueezeExcitation-308          [-1, 912, 24, 24]               0\n",
      "          Conv2d-309          [-1, 152, 24, 24]         138,624\n",
      "     BatchNorm2d-310          [-1, 152, 24, 24]             304\n",
      "InvertedResidualBlock-311          [-1, 152, 24, 24]               0\n",
      "          Conv2d-312          [-1, 912, 24, 24]       1,247,616\n",
      "     BatchNorm2d-313          [-1, 912, 24, 24]           1,824\n",
      "            SiLU-314          [-1, 912, 24, 24]               0\n",
      "        CNNBlock-315          [-1, 912, 24, 24]               0\n",
      "          Conv2d-316          [-1, 912, 24, 24]          22,800\n",
      "     BatchNorm2d-317          [-1, 912, 24, 24]           1,824\n",
      "            SiLU-318          [-1, 912, 24, 24]               0\n",
      "        CNNBlock-319          [-1, 912, 24, 24]               0\n",
      "AdaptiveAvgPool2d-320            [-1, 912, 1, 1]               0\n",
      "          Conv2d-321             [-1, 38, 1, 1]          34,694\n",
      "            SiLU-322             [-1, 38, 1, 1]               0\n",
      "          Conv2d-323            [-1, 912, 1, 1]          35,568\n",
      "         Sigmoid-324            [-1, 912, 1, 1]               0\n",
      "SqueezeExcitation-325          [-1, 912, 24, 24]               0\n",
      "          Conv2d-326          [-1, 152, 24, 24]         138,624\n",
      "     BatchNorm2d-327          [-1, 152, 24, 24]             304\n",
      "InvertedResidualBlock-328          [-1, 152, 24, 24]               0\n",
      "          Conv2d-329          [-1, 912, 24, 24]       1,247,616\n",
      "     BatchNorm2d-330          [-1, 912, 24, 24]           1,824\n",
      "            SiLU-331          [-1, 912, 24, 24]               0\n",
      "        CNNBlock-332          [-1, 912, 24, 24]               0\n",
      "          Conv2d-333          [-1, 912, 24, 24]          22,800\n",
      "     BatchNorm2d-334          [-1, 912, 24, 24]           1,824\n",
      "            SiLU-335          [-1, 912, 24, 24]               0\n",
      "        CNNBlock-336          [-1, 912, 24, 24]               0\n",
      "AdaptiveAvgPool2d-337            [-1, 912, 1, 1]               0\n",
      "          Conv2d-338             [-1, 38, 1, 1]          34,694\n",
      "            SiLU-339             [-1, 38, 1, 1]               0\n",
      "          Conv2d-340            [-1, 912, 1, 1]          35,568\n",
      "         Sigmoid-341            [-1, 912, 1, 1]               0\n",
      "SqueezeExcitation-342          [-1, 912, 24, 24]               0\n",
      "          Conv2d-343          [-1, 152, 24, 24]         138,624\n",
      "     BatchNorm2d-344          [-1, 152, 24, 24]             304\n",
      "InvertedResidualBlock-345          [-1, 152, 24, 24]               0\n",
      "          Conv2d-346          [-1, 912, 24, 24]       1,247,616\n",
      "     BatchNorm2d-347          [-1, 912, 24, 24]           1,824\n",
      "            SiLU-348          [-1, 912, 24, 24]               0\n",
      "        CNNBlock-349          [-1, 912, 24, 24]               0\n",
      "          Conv2d-350          [-1, 912, 24, 24]          22,800\n",
      "     BatchNorm2d-351          [-1, 912, 24, 24]           1,824\n",
      "            SiLU-352          [-1, 912, 24, 24]               0\n",
      "        CNNBlock-353          [-1, 912, 24, 24]               0\n",
      "AdaptiveAvgPool2d-354            [-1, 912, 1, 1]               0\n",
      "          Conv2d-355             [-1, 38, 1, 1]          34,694\n",
      "            SiLU-356             [-1, 38, 1, 1]               0\n",
      "          Conv2d-357            [-1, 912, 1, 1]          35,568\n",
      "         Sigmoid-358            [-1, 912, 1, 1]               0\n",
      "SqueezeExcitation-359          [-1, 912, 24, 24]               0\n",
      "          Conv2d-360          [-1, 152, 24, 24]         138,624\n",
      "     BatchNorm2d-361          [-1, 152, 24, 24]             304\n",
      "InvertedResidualBlock-362          [-1, 152, 24, 24]               0\n",
      "          Conv2d-363          [-1, 912, 24, 24]       1,247,616\n",
      "     BatchNorm2d-364          [-1, 912, 24, 24]           1,824\n",
      "            SiLU-365          [-1, 912, 24, 24]               0\n",
      "        CNNBlock-366          [-1, 912, 24, 24]               0\n",
      "          Conv2d-367          [-1, 912, 24, 24]          22,800\n",
      "     BatchNorm2d-368          [-1, 912, 24, 24]           1,824\n",
      "            SiLU-369          [-1, 912, 24, 24]               0\n",
      "        CNNBlock-370          [-1, 912, 24, 24]               0\n",
      "AdaptiveAvgPool2d-371            [-1, 912, 1, 1]               0\n",
      "          Conv2d-372             [-1, 38, 1, 1]          34,694\n",
      "            SiLU-373             [-1, 38, 1, 1]               0\n",
      "          Conv2d-374            [-1, 912, 1, 1]          35,568\n",
      "         Sigmoid-375            [-1, 912, 1, 1]               0\n",
      "SqueezeExcitation-376          [-1, 912, 24, 24]               0\n",
      "          Conv2d-377          [-1, 152, 24, 24]         138,624\n",
      "     BatchNorm2d-378          [-1, 152, 24, 24]             304\n",
      "InvertedResidualBlock-379          [-1, 152, 24, 24]               0\n",
      "          Conv2d-380          [-1, 912, 24, 24]       1,247,616\n",
      "     BatchNorm2d-381          [-1, 912, 24, 24]           1,824\n",
      "            SiLU-382          [-1, 912, 24, 24]               0\n",
      "        CNNBlock-383          [-1, 912, 24, 24]               0\n",
      "          Conv2d-384          [-1, 912, 12, 12]          22,800\n",
      "     BatchNorm2d-385          [-1, 912, 12, 12]           1,824\n",
      "            SiLU-386          [-1, 912, 12, 12]               0\n",
      "        CNNBlock-387          [-1, 912, 12, 12]               0\n",
      "AdaptiveAvgPool2d-388            [-1, 912, 1, 1]               0\n",
      "          Conv2d-389             [-1, 38, 1, 1]          34,694\n",
      "            SiLU-390             [-1, 38, 1, 1]               0\n",
      "          Conv2d-391            [-1, 912, 1, 1]          35,568\n",
      "         Sigmoid-392            [-1, 912, 1, 1]               0\n",
      "SqueezeExcitation-393          [-1, 912, 12, 12]               0\n",
      "          Conv2d-394          [-1, 256, 12, 12]         233,472\n",
      "     BatchNorm2d-395          [-1, 256, 12, 12]             512\n",
      "InvertedResidualBlock-396          [-1, 256, 12, 12]               0\n",
      "          Conv2d-397         [-1, 1536, 12, 12]       3,538,944\n",
      "     BatchNorm2d-398         [-1, 1536, 12, 12]           3,072\n",
      "            SiLU-399         [-1, 1536, 12, 12]               0\n",
      "        CNNBlock-400         [-1, 1536, 12, 12]               0\n",
      "          Conv2d-401         [-1, 1536, 12, 12]          38,400\n",
      "     BatchNorm2d-402         [-1, 1536, 12, 12]           3,072\n",
      "            SiLU-403         [-1, 1536, 12, 12]               0\n",
      "        CNNBlock-404         [-1, 1536, 12, 12]               0\n",
      "AdaptiveAvgPool2d-405           [-1, 1536, 1, 1]               0\n",
      "          Conv2d-406             [-1, 64, 1, 1]          98,368\n",
      "            SiLU-407             [-1, 64, 1, 1]               0\n",
      "          Conv2d-408           [-1, 1536, 1, 1]          99,840\n",
      "         Sigmoid-409           [-1, 1536, 1, 1]               0\n",
      "SqueezeExcitation-410         [-1, 1536, 12, 12]               0\n",
      "          Conv2d-411          [-1, 256, 12, 12]         393,216\n",
      "     BatchNorm2d-412          [-1, 256, 12, 12]             512\n",
      "InvertedResidualBlock-413          [-1, 256, 12, 12]               0\n",
      "          Conv2d-414         [-1, 1536, 12, 12]       3,538,944\n",
      "     BatchNorm2d-415         [-1, 1536, 12, 12]           3,072\n",
      "            SiLU-416         [-1, 1536, 12, 12]               0\n",
      "        CNNBlock-417         [-1, 1536, 12, 12]               0\n",
      "          Conv2d-418         [-1, 1536, 12, 12]          38,400\n",
      "     BatchNorm2d-419         [-1, 1536, 12, 12]           3,072\n",
      "            SiLU-420         [-1, 1536, 12, 12]               0\n",
      "        CNNBlock-421         [-1, 1536, 12, 12]               0\n",
      "AdaptiveAvgPool2d-422           [-1, 1536, 1, 1]               0\n",
      "          Conv2d-423             [-1, 64, 1, 1]          98,368\n",
      "            SiLU-424             [-1, 64, 1, 1]               0\n",
      "          Conv2d-425           [-1, 1536, 1, 1]          99,840\n",
      "         Sigmoid-426           [-1, 1536, 1, 1]               0\n",
      "SqueezeExcitation-427         [-1, 1536, 12, 12]               0\n",
      "          Conv2d-428          [-1, 256, 12, 12]         393,216\n",
      "     BatchNorm2d-429          [-1, 256, 12, 12]             512\n",
      "InvertedResidualBlock-430          [-1, 256, 12, 12]               0\n",
      "          Conv2d-431         [-1, 1536, 12, 12]       3,538,944\n",
      "     BatchNorm2d-432         [-1, 1536, 12, 12]           3,072\n",
      "            SiLU-433         [-1, 1536, 12, 12]               0\n",
      "        CNNBlock-434         [-1, 1536, 12, 12]               0\n",
      "          Conv2d-435         [-1, 1536, 12, 12]          38,400\n",
      "     BatchNorm2d-436         [-1, 1536, 12, 12]           3,072\n",
      "            SiLU-437         [-1, 1536, 12, 12]               0\n",
      "        CNNBlock-438         [-1, 1536, 12, 12]               0\n",
      "AdaptiveAvgPool2d-439           [-1, 1536, 1, 1]               0\n",
      "          Conv2d-440             [-1, 64, 1, 1]          98,368\n",
      "            SiLU-441             [-1, 64, 1, 1]               0\n",
      "          Conv2d-442           [-1, 1536, 1, 1]          99,840\n",
      "         Sigmoid-443           [-1, 1536, 1, 1]               0\n",
      "SqueezeExcitation-444         [-1, 1536, 12, 12]               0\n",
      "          Conv2d-445          [-1, 256, 12, 12]         393,216\n",
      "     BatchNorm2d-446          [-1, 256, 12, 12]             512\n",
      "InvertedResidualBlock-447          [-1, 256, 12, 12]               0\n",
      "          Conv2d-448         [-1, 1536, 12, 12]       3,538,944\n",
      "     BatchNorm2d-449         [-1, 1536, 12, 12]           3,072\n",
      "            SiLU-450         [-1, 1536, 12, 12]               0\n",
      "        CNNBlock-451         [-1, 1536, 12, 12]               0\n",
      "          Conv2d-452         [-1, 1536, 12, 12]          38,400\n",
      "     BatchNorm2d-453         [-1, 1536, 12, 12]           3,072\n",
      "            SiLU-454         [-1, 1536, 12, 12]               0\n",
      "        CNNBlock-455         [-1, 1536, 12, 12]               0\n",
      "AdaptiveAvgPool2d-456           [-1, 1536, 1, 1]               0\n",
      "          Conv2d-457             [-1, 64, 1, 1]          98,368\n",
      "            SiLU-458             [-1, 64, 1, 1]               0\n",
      "          Conv2d-459           [-1, 1536, 1, 1]          99,840\n",
      "         Sigmoid-460           [-1, 1536, 1, 1]               0\n",
      "SqueezeExcitation-461         [-1, 1536, 12, 12]               0\n",
      "          Conv2d-462          [-1, 256, 12, 12]         393,216\n",
      "     BatchNorm2d-463          [-1, 256, 12, 12]             512\n",
      "InvertedResidualBlock-464          [-1, 256, 12, 12]               0\n",
      "          Conv2d-465         [-1, 1536, 12, 12]       3,538,944\n",
      "     BatchNorm2d-466         [-1, 1536, 12, 12]           3,072\n",
      "            SiLU-467         [-1, 1536, 12, 12]               0\n",
      "        CNNBlock-468         [-1, 1536, 12, 12]               0\n",
      "          Conv2d-469         [-1, 1536, 12, 12]          38,400\n",
      "     BatchNorm2d-470         [-1, 1536, 12, 12]           3,072\n",
      "            SiLU-471         [-1, 1536, 12, 12]               0\n",
      "        CNNBlock-472         [-1, 1536, 12, 12]               0\n",
      "AdaptiveAvgPool2d-473           [-1, 1536, 1, 1]               0\n",
      "          Conv2d-474             [-1, 64, 1, 1]          98,368\n",
      "            SiLU-475             [-1, 64, 1, 1]               0\n",
      "          Conv2d-476           [-1, 1536, 1, 1]          99,840\n",
      "         Sigmoid-477           [-1, 1536, 1, 1]               0\n",
      "SqueezeExcitation-478         [-1, 1536, 12, 12]               0\n",
      "          Conv2d-479          [-1, 256, 12, 12]         393,216\n",
      "     BatchNorm2d-480          [-1, 256, 12, 12]             512\n",
      "InvertedResidualBlock-481          [-1, 256, 12, 12]               0\n",
      "          Conv2d-482         [-1, 1536, 12, 12]       3,538,944\n",
      "     BatchNorm2d-483         [-1, 1536, 12, 12]           3,072\n",
      "            SiLU-484         [-1, 1536, 12, 12]               0\n",
      "        CNNBlock-485         [-1, 1536, 12, 12]               0\n",
      "          Conv2d-486         [-1, 1536, 12, 12]          38,400\n",
      "     BatchNorm2d-487         [-1, 1536, 12, 12]           3,072\n",
      "            SiLU-488         [-1, 1536, 12, 12]               0\n",
      "        CNNBlock-489         [-1, 1536, 12, 12]               0\n",
      "AdaptiveAvgPool2d-490           [-1, 1536, 1, 1]               0\n",
      "          Conv2d-491             [-1, 64, 1, 1]          98,368\n",
      "            SiLU-492             [-1, 64, 1, 1]               0\n",
      "          Conv2d-493           [-1, 1536, 1, 1]          99,840\n",
      "         Sigmoid-494           [-1, 1536, 1, 1]               0\n",
      "SqueezeExcitation-495         [-1, 1536, 12, 12]               0\n",
      "          Conv2d-496          [-1, 256, 12, 12]         393,216\n",
      "     BatchNorm2d-497          [-1, 256, 12, 12]             512\n",
      "InvertedResidualBlock-498          [-1, 256, 12, 12]               0\n",
      "          Conv2d-499         [-1, 1536, 12, 12]       3,538,944\n",
      "     BatchNorm2d-500         [-1, 1536, 12, 12]           3,072\n",
      "            SiLU-501         [-1, 1536, 12, 12]               0\n",
      "        CNNBlock-502         [-1, 1536, 12, 12]               0\n",
      "          Conv2d-503         [-1, 1536, 12, 12]          13,824\n",
      "     BatchNorm2d-504         [-1, 1536, 12, 12]           3,072\n",
      "            SiLU-505         [-1, 1536, 12, 12]               0\n",
      "        CNNBlock-506         [-1, 1536, 12, 12]               0\n",
      "AdaptiveAvgPool2d-507           [-1, 1536, 1, 1]               0\n",
      "          Conv2d-508             [-1, 64, 1, 1]          98,368\n",
      "            SiLU-509             [-1, 64, 1, 1]               0\n",
      "          Conv2d-510           [-1, 1536, 1, 1]          99,840\n",
      "         Sigmoid-511           [-1, 1536, 1, 1]               0\n",
      "SqueezeExcitation-512         [-1, 1536, 12, 12]               0\n",
      "          Conv2d-513          [-1, 428, 12, 12]         657,408\n",
      "     BatchNorm2d-514          [-1, 428, 12, 12]             856\n",
      "InvertedResidualBlock-515          [-1, 428, 12, 12]               0\n",
      "          Conv2d-516         [-1, 2568, 12, 12]       9,891,936\n",
      "     BatchNorm2d-517         [-1, 2568, 12, 12]           5,136\n",
      "            SiLU-518         [-1, 2568, 12, 12]               0\n",
      "        CNNBlock-519         [-1, 2568, 12, 12]               0\n",
      "          Conv2d-520         [-1, 2568, 12, 12]          23,112\n",
      "     BatchNorm2d-521         [-1, 2568, 12, 12]           5,136\n",
      "            SiLU-522         [-1, 2568, 12, 12]               0\n",
      "        CNNBlock-523         [-1, 2568, 12, 12]               0\n",
      "AdaptiveAvgPool2d-524           [-1, 2568, 1, 1]               0\n",
      "          Conv2d-525            [-1, 107, 1, 1]         274,883\n",
      "            SiLU-526            [-1, 107, 1, 1]               0\n",
      "          Conv2d-527           [-1, 2568, 1, 1]         277,344\n",
      "         Sigmoid-528           [-1, 2568, 1, 1]               0\n",
      "SqueezeExcitation-529         [-1, 2568, 12, 12]               0\n",
      "          Conv2d-530          [-1, 428, 12, 12]       1,099,104\n",
      "     BatchNorm2d-531          [-1, 428, 12, 12]             856\n",
      "InvertedResidualBlock-532          [-1, 428, 12, 12]               0\n",
      "          Conv2d-533         [-1, 1704, 12, 12]         729,312\n",
      "     BatchNorm2d-534         [-1, 1704, 12, 12]           3,408\n",
      "            SiLU-535         [-1, 1704, 12, 12]               0\n",
      "        CNNBlock-536         [-1, 1704, 12, 12]               0\n",
      "AdaptiveAvgPool2d-537           [-1, 1704, 1, 1]               0\n",
      "         Dropout-538                 [-1, 1704]               0\n",
      "          Linear-539                   [-1, 10]          17,050\n",
      "================================================================\n",
      "Total params: 59,111,451\n",
      "Trainable params: 59,111,451\n",
      "Non-trainable params: 0\n",
      "----------------------------------------------------------------\n",
      "Input size (MB): 1.65\n",
      "Forward/backward pass size (MB): 1581.36\n",
      "Params size (MB): 225.49\n",
      "Estimated Total Size (MB): 1808.51\n",
      "----------------------------------------------------------------\n",
      "None\n",
      "model shape ready\n",
      "model initialised\n"
     ]
    }
   ],
   "source": [
    "model = EfficientNet(\n",
    "    version=version,\n",
    "    num_classes=num_classes,\n",
    ").to(device)\n",
    "\n",
    "model = model.to(device)\n",
    "\n",
    "#pretesting model for shape\n",
    "x=torch.randn(batch_size,3,res,res)\n",
    "x=x.to(device)\n",
    "print(x.shape)\n",
    "print(model(x).shape)\n",
    "print(summary(model, input_size=(3, res, res)))\n",
    "print(\"model shape ready\")\n",
    "\n",
    "#initailise network\n",
    "\n",
    "\n",
    "#loss and optimizer\n",
    "criterion=nn.CrossEntropyLoss()\n",
    "optimizer=optim.Adam(model.parameters(),lr=learning_rate)\n",
    "\n",
    "print(\"model initialised\")"
   ]
  },
  {
   "cell_type": "code",
   "execution_count": 5,
   "id": "ee819dc9",
   "metadata": {},
   "outputs": [
    {
     "name": "stdout",
     "output_type": "stream",
     "text": [
      "test defined\n",
      "early stop defined\n"
     ]
    }
   ],
   "source": [
    "# This is the testing part\n",
    "def get_n_params(model):\n",
    "    pp=0\n",
    "    for p in list(model.parameters()):\n",
    "        nn=1\n",
    "        for s in list(p.size()):\n",
    "            nn = nn*s\n",
    "        pp += nn\n",
    "    return pp\n",
    "get_n_params(model)\n",
    "\n",
    "def test(model, test_loader, istest= False, doprint=True):\n",
    "    model.eval()\n",
    "    test_loss = 0\n",
    "    correct = 0\n",
    "    TP=0\n",
    "    TN=0\n",
    "    FN=0\n",
    "    FP=0\n",
    "    test_loss = 0.0\n",
    "    \n",
    "    with torch.no_grad(): # disable gradient calculation for efficiency\n",
    "        for data, target in tqdm(test_loader):\n",
    "            # Prediction\n",
    "            data=data.to(device=device)\n",
    "            target=target.to(device=device)\n",
    "            optimizer.zero_grad()\n",
    "            \n",
    "            output = model(data)\n",
    "            loss=criterion(output,target)\n",
    "            \n",
    "            # Compute loss & accuracy\n",
    "            test_loss+=loss.item()*data.size(0)\n",
    "\n",
    "            \n",
    "            #test_loss += F.nll_loss(output, target, reduction='sum').item()  # sum up batch loss\n",
    "            pred = output.argmax(dim=1, keepdim=True)  # get the index of the max log-probability\n",
    "            correct += pred.eq(target.view_as(pred)).sum().item() # how many predictions in this batch are correct\n",
    "            \n",
    "            #print(\"pred={} , target={} , judge={}\".format(pred.item(),target.item(),pred.eq(target.view_as(pred)).sum().item()))\n",
    "\n",
    "            \n",
    "    #test_loss /= len(test_loader.dataset)\n",
    "\n",
    "        \n",
    "    # Log testing info\n",
    "    if istest and doprint:\n",
    "        \n",
    "        print('Loss: {}   Accuracy: {}/{} ({:.3f}%)'.format(test_loss,\n",
    "        correct, len(test_loader.dataset),\n",
    "        100.000 * correct / len(test_loader.dataset)))\n",
    "        print(\"Total parameters: {}\".format(get_n_params(model)))\n",
    "    elif doprint:\n",
    "        print('Accuracy: {}/{} ({:.3f}%)'.format(\n",
    "        correct, len(test_loader.dataset),\n",
    "        100.000 * correct / len(test_loader.dataset)))\n",
    "    return 100.000 * correct / len(test_loader.dataset)\n",
    "        \n",
    "\n",
    "print(\"test defined\")\n",
    "\n",
    "def testshouldearlystop(acclist,minepoch,epochwindow,accwindow):\n",
    "    runlen=len(acclist)\n",
    "    if(runlen<minepoch):\n",
    "        return False\n",
    "    elif(acclist[-1]>acclist[-2]):\n",
    "        return False\n",
    "    \n",
    "    watchwindow=acclist[-epochwindow:]\n",
    "    shouldjump=True\n",
    "    sum=0\n",
    "    for i in watchwindow:\n",
    "        sum+=i\n",
    "    avg = sum/epochwindow\n",
    "    for i in watchwindow:\n",
    "        if abs(i-avg)>(accwindow):\n",
    "            shouldjump=False\n",
    "    return shouldjump\n",
    "print(\"early stop defined\")"
   ]
  },
  {
   "cell_type": "code",
   "execution_count": 6,
   "id": "49606c1c",
   "metadata": {},
   "outputs": [
    {
     "name": "stdout",
     "output_type": "stream",
     "text": [
      "tensorboard_string:\n",
      "runs/EfficientNetb4_sp20220115213525\n",
      "grandstore_string:\n",
      "grandstore/cifar10_EfficientNetb4_sp20220115213525.pkl\n"
     ]
    }
   ],
   "source": [
    "now=datetime.now()\n",
    "dt_string = now.strftime(\"%Y%m%d%H%M%S\")\n",
    "\n",
    "tensorboard_string=\"runs/\"+model_name+dt_string\n",
    "grandstore_string=\"grandstore/\"+dataset_name+\"_\"+model_name+dt_string+\".pkl\"\n",
    "print(\"tensorboard_string:\")\n",
    "print(tensorboard_string)\n",
    "print(\"grandstore_string:\")\n",
    "print(grandstore_string)\n",
    "\n",
    "\n",
    "writer = SummaryWriter(tensorboard_string)\n"
   ]
  },
  {
   "cell_type": "code",
   "execution_count": 7,
   "id": "7c876d58",
   "metadata": {},
   "outputs": [],
   "source": [
    "#This is the training part\n",
    "\n",
    "# Grand_store={\n",
    "#     'total_epoch_run':-1\n",
    "#     'topmodels':-1\n",
    "#     'lastmodel':-1\n",
    "#     'acclog':[]\n",
    "#     'maxacc':-1\n",
    "#     'minacc':101\n",
    "# }\n",
    "# train_epoch={\n",
    "#     \"numofepoch\":-1\n",
    "#     \"accuracy\":-1\n",
    "#     \"model_state\":model.state_dict(),\n",
    "#     \"optim_state\":optimizer.state_dict(),\n",
    "#     \"totaltrain_loss\":totaltrain_loss,\n",
    "#     \"totalvalid_loss\":totalvalid_loss\n",
    "# }\n",
    "\n",
    "def training(max_epoch=120, top_accuracy_track=3, grandstore={},\n",
    "             minepoch=30,epochwindow=10,accwindow=0.35):\n",
    "\n",
    "    grandstore['total_epoch_run']=0\n",
    "    grandstore['topmodels']=[]\n",
    "    grandstore['acclog']=[]\n",
    "    grandstore['maxacc']=-1\n",
    "    grandstore['minacc']=101\n",
    "    \n",
    "    for epoch in range(0,max_epoch):\n",
    "        \n",
    "        grandstore['total_epoch_run']=epoch+1\n",
    "        \n",
    "        train_epoch={\n",
    "        \"numofepoch\":grandstore['total_epoch_run']\n",
    "        }\n",
    "    \n",
    "        train_loss=0.0\n",
    "        valid_loss=0.0\n",
    "        print(\"Running epoch: {}\".format(epoch+1))\n",
    "\n",
    "        model.train()\n",
    "        totaltrain_loss=0\n",
    "        \n",
    "        #this is the training part\n",
    "        for data,target in tqdm(train_dataloader):\n",
    "            data=data.to(device=device)\n",
    "            target=target.to(device=device)\n",
    "            output = model(data)\n",
    "            loss = criterion(output, target)\n",
    "            optimizer.zero_grad()\n",
    "            loss.backward()\n",
    "            optimizer.step()\n",
    "            train_loss += loss.item()*data.size(0)\n",
    "            totaltrain_loss += train_loss\n",
    "\n",
    "        #this is the validation part\n",
    "        model.eval()\n",
    "        totalvalid_loss=0;\n",
    "        correct = 0\n",
    "        for data,target in tqdm(val_dataloader):\n",
    "            data=data.to(device=device)\n",
    "            target=target.to(device=device)\n",
    "            output=model(data)\n",
    "            loss=criterion(output,target)\n",
    "            valid_loss=loss.item()*data.size(0)\n",
    "            #train_loss = train_loss/len(train_dataloader.dataset)\n",
    "            #valid_loss = valid_loss/len(val_dataloader.dataset)\n",
    "            totalvalid_loss+=valid_loss\n",
    "            \n",
    "            pred = output.argmax(dim=1, keepdim=True)  # get the index of the max log-probability\n",
    "            correct += pred.eq(target.view_as(pred)).sum().item() # how many predictions in t\n",
    "        \n",
    "\n",
    "        training_accuracy=100. * correct / len(val_dataloader.dataset)\n",
    "        train_epoch[\"accuracy\"]=training_accuracy\n",
    "        train_epoch[\"totaltrain_loss\"]=totaltrain_loss\n",
    "        train_epoch[\"totalvalid_loss\"]=totalvalid_loss\n",
    "        \n",
    "        #writings to the GrandStore\n",
    "        \n",
    "        grandstore['acclog'].append(training_accuracy)\n",
    "        \n",
    "        if training_accuracy < grandstore['minacc']:\n",
    "            grandstore['minacc'] = training_accuracy\n",
    "            \n",
    "        if training_accuracy > grandstore['maxacc']:\n",
    "            grandstore['maxacc'] = training_accuracy\n",
    "        \n",
    "\n",
    "        if epoch < top_accuracy_track:\n",
    "            thisepochtestresult=test(model,test_dataloader,istest = True,doprint=False)\n",
    "            grandstore['topmodels'].append((training_accuracy,thisepochtestresult,epoch+1,train_epoch))\n",
    "            #if error print this\n",
    "            grandstore['topmodels'].sort()\n",
    "\n",
    "        elif training_accuracy > grandstore['topmodels'][0][0]:\n",
    "            thisepochtestresult=test(model,test_dataloader,istest = True,doprint=False)\n",
    "            grandstore['topmodels'][0]=(training_accuracy,thisepochtestresult,epoch+1,train_epoch)\n",
    "            #if error print this\n",
    "            grandstore['topmodels'].sort()\n",
    "\n",
    "        if epoch == (max_epoch-1):\n",
    "            thisepochtestresult=test(model,test_dataloader,istest = True,doprint=False)\n",
    "            grandstore['lastmodel']=(training_accuracy,thisepochtestresult,epoch+1,train_epoch)\n",
    "                     \n",
    "        writer.add_scalar('Training Loss',totaltrain_loss,global_step = epoch)\n",
    "        writer.add_scalar('Valid Loss',totalvalid_loss,global_step = epoch)\n",
    "        writer.add_scalar('Accuracy',training_accuracy,global_step = epoch)\n",
    "        \n",
    "        print('Accuracy: {:.3f}'.format(training_accuracy))\n",
    "        print('Training Loss: {:.4f} \\tValidation Loss: {:.4f}\\n'.format(totaltrain_loss, totalvalid_loss))\n",
    "        \n",
    "        #early stopping criteria\n",
    "        if(testshouldearlystop(acclist=grandstore['acclog'],\n",
    "                               minepoch = minepoch,\n",
    "                               epochwindow = epochwindow,\n",
    "                               accwindow = accwindow)):\n",
    "            print(\"early stop occured!!\")\n",
    "            thisepochtestresult=test(model,test_dataloader,istest = True,doprint=False)\n",
    "            grandstore['lastmodel']=(training_accuracy,thisepochtestresult,epoch+1,train_epoch)\n",
    "            return grandstore\n",
    "    \n",
    "    return grandstore\n",
    "        \n"
   ]
  },
  {
   "cell_type": "code",
   "execution_count": null,
   "id": "d1f494cd",
   "metadata": {},
   "outputs": [
    {
     "name": "stdout",
     "output_type": "stream",
     "text": [
      "Running epoch: 1\n"
     ]
    },
    {
     "data": {
      "application/vnd.jupyter.widget-view+json": {
       "model_id": "b44796c242c34dd6ab1cf104340324fd",
       "version_major": 2,
       "version_minor": 0
      },
      "text/plain": [
       "  0%|          | 0/4000 [00:00<?, ?it/s]"
      ]
     },
     "metadata": {},
     "output_type": "display_data"
    },
    {
     "data": {
      "application/vnd.jupyter.widget-view+json": {
       "model_id": "324b4ff9a50d4337b614b4ac27e6f147",
       "version_major": 2,
       "version_minor": 0
      },
      "text/plain": [
       "  0%|          | 0/1000 [00:00<?, ?it/s]"
      ]
     },
     "metadata": {},
     "output_type": "display_data"
    },
    {
     "data": {
      "application/vnd.jupyter.widget-view+json": {
       "model_id": "9b1fd4eaba714bb085dd71b758c1933f",
       "version_major": 2,
       "version_minor": 0
      },
      "text/plain": [
       "  0%|          | 0/1000 [00:00<?, ?it/s]"
      ]
     },
     "metadata": {},
     "output_type": "display_data"
    },
    {
     "name": "stdout",
     "output_type": "stream",
     "text": [
      "Accuracy: 36.220\n",
      "Training Loss: 164720809.0691 \tValidation Loss: 16568.6673\n",
      "\n",
      "Running epoch: 2\n"
     ]
    },
    {
     "data": {
      "application/vnd.jupyter.widget-view+json": {
       "model_id": "d8860f0f3f6a4ab6817797aaf8899218",
       "version_major": 2,
       "version_minor": 0
      },
      "text/plain": [
       "  0%|          | 0/4000 [00:00<?, ?it/s]"
      ]
     },
     "metadata": {},
     "output_type": "display_data"
    },
    {
     "data": {
      "application/vnd.jupyter.widget-view+json": {
       "model_id": "db2f6164366a4c689393e0dd30c3ad59",
       "version_major": 2,
       "version_minor": 0
      },
      "text/plain": [
       "  0%|          | 0/1000 [00:00<?, ?it/s]"
      ]
     },
     "metadata": {},
     "output_type": "display_data"
    },
    {
     "data": {
      "application/vnd.jupyter.widget-view+json": {
       "model_id": "3eece809c04e4c02b7fba9e6395a447d",
       "version_major": 2,
       "version_minor": 0
      },
      "text/plain": [
       "  0%|          | 0/1000 [00:00<?, ?it/s]"
      ]
     },
     "metadata": {},
     "output_type": "display_data"
    },
    {
     "name": "stdout",
     "output_type": "stream",
     "text": [
      "Accuracy: 59.240\n",
      "Training Loss: 129053968.4443 \tValidation Loss: 11240.6241\n",
      "\n",
      "Running epoch: 3\n"
     ]
    },
    {
     "data": {
      "application/vnd.jupyter.widget-view+json": {
       "model_id": "de1eee01d7c44d8484be32dc3f37269f",
       "version_major": 2,
       "version_minor": 0
      },
      "text/plain": [
       "  0%|          | 0/4000 [00:00<?, ?it/s]"
      ]
     },
     "metadata": {},
     "output_type": "display_data"
    },
    {
     "data": {
      "application/vnd.jupyter.widget-view+json": {
       "model_id": "7cb0f44ee7244b139c1244772eff0582",
       "version_major": 2,
       "version_minor": 0
      },
      "text/plain": [
       "  0%|          | 0/1000 [00:00<?, ?it/s]"
      ]
     },
     "metadata": {},
     "output_type": "display_data"
    },
    {
     "data": {
      "application/vnd.jupyter.widget-view+json": {
       "model_id": "74d8b58fb56e42da9ba71b7b91aedc0f",
       "version_major": 2,
       "version_minor": 0
      },
      "text/plain": [
       "  0%|          | 0/1000 [00:00<?, ?it/s]"
      ]
     },
     "metadata": {},
     "output_type": "display_data"
    },
    {
     "name": "stdout",
     "output_type": "stream",
     "text": [
      "Accuracy: 69.220\n",
      "Training Loss: 93399068.8662 \tValidation Loss: 8614.8654\n",
      "\n",
      "Running epoch: 4\n"
     ]
    },
    {
     "data": {
      "application/vnd.jupyter.widget-view+json": {
       "model_id": "2217ebc1bafb48b689da9b3cc0769255",
       "version_major": 2,
       "version_minor": 0
      },
      "text/plain": [
       "  0%|          | 0/4000 [00:00<?, ?it/s]"
      ]
     },
     "metadata": {},
     "output_type": "display_data"
    },
    {
     "data": {
      "application/vnd.jupyter.widget-view+json": {
       "model_id": "f150a15b4ae14c178fff2ade5aff0f41",
       "version_major": 2,
       "version_minor": 0
      },
      "text/plain": [
       "  0%|          | 0/1000 [00:00<?, ?it/s]"
      ]
     },
     "metadata": {},
     "output_type": "display_data"
    },
    {
     "data": {
      "application/vnd.jupyter.widget-view+json": {
       "model_id": "9d4ea9b094ab45438b8863b9dd4bee41",
       "version_major": 2,
       "version_minor": 0
      },
      "text/plain": [
       "  0%|          | 0/1000 [00:00<?, ?it/s]"
      ]
     },
     "metadata": {},
     "output_type": "display_data"
    },
    {
     "name": "stdout",
     "output_type": "stream",
     "text": [
      "Accuracy: 76.490\n",
      "Training Loss: 73074726.8138 \tValidation Loss: 6874.4584\n",
      "\n",
      "Running epoch: 5\n"
     ]
    },
    {
     "data": {
      "application/vnd.jupyter.widget-view+json": {
       "model_id": "561585e2969b41af8ad3d807bc4013db",
       "version_major": 2,
       "version_minor": 0
      },
      "text/plain": [
       "  0%|          | 0/4000 [00:00<?, ?it/s]"
      ]
     },
     "metadata": {},
     "output_type": "display_data"
    },
    {
     "data": {
      "application/vnd.jupyter.widget-view+json": {
       "model_id": "4b15b558f300449784f0e2ef33612c36",
       "version_major": 2,
       "version_minor": 0
      },
      "text/plain": [
       "  0%|          | 0/1000 [00:00<?, ?it/s]"
      ]
     },
     "metadata": {},
     "output_type": "display_data"
    },
    {
     "data": {
      "application/vnd.jupyter.widget-view+json": {
       "model_id": "1d011c08ca394eba8016427ae88819be",
       "version_major": 2,
       "version_minor": 0
      },
      "text/plain": [
       "  0%|          | 0/1000 [00:00<?, ?it/s]"
      ]
     },
     "metadata": {},
     "output_type": "display_data"
    },
    {
     "name": "stdout",
     "output_type": "stream",
     "text": [
      "Accuracy: 78.010\n",
      "Training Loss: 59560818.3106 \tValidation Loss: 6395.8242\n",
      "\n",
      "Running epoch: 6\n"
     ]
    },
    {
     "data": {
      "application/vnd.jupyter.widget-view+json": {
       "model_id": "7e98810fd64245a88da0392d21ecaeb4",
       "version_major": 2,
       "version_minor": 0
      },
      "text/plain": [
       "  0%|          | 0/4000 [00:00<?, ?it/s]"
      ]
     },
     "metadata": {},
     "output_type": "display_data"
    },
    {
     "data": {
      "application/vnd.jupyter.widget-view+json": {
       "model_id": "712f4d87941947a18cdeb8155052d123",
       "version_major": 2,
       "version_minor": 0
      },
      "text/plain": [
       "  0%|          | 0/1000 [00:00<?, ?it/s]"
      ]
     },
     "metadata": {},
     "output_type": "display_data"
    },
    {
     "data": {
      "application/vnd.jupyter.widget-view+json": {
       "model_id": "6408d3cd889f4efd92b16db564ec75fb",
       "version_major": 2,
       "version_minor": 0
      },
      "text/plain": [
       "  0%|          | 0/1000 [00:00<?, ?it/s]"
      ]
     },
     "metadata": {},
     "output_type": "display_data"
    },
    {
     "name": "stdout",
     "output_type": "stream",
     "text": [
      "Accuracy: 80.590\n",
      "Training Loss: 50714278.9929 \tValidation Loss: 5695.0059\n",
      "\n",
      "Running epoch: 7\n"
     ]
    },
    {
     "data": {
      "application/vnd.jupyter.widget-view+json": {
       "model_id": "adec21dded5f4711b49e57233c164d47",
       "version_major": 2,
       "version_minor": 0
      },
      "text/plain": [
       "  0%|          | 0/4000 [00:00<?, ?it/s]"
      ]
     },
     "metadata": {},
     "output_type": "display_data"
    },
    {
     "data": {
      "application/vnd.jupyter.widget-view+json": {
       "model_id": "0c3266978d044c70a68d8ba03a7ad781",
       "version_major": 2,
       "version_minor": 0
      },
      "text/plain": [
       "  0%|          | 0/1000 [00:00<?, ?it/s]"
      ]
     },
     "metadata": {},
     "output_type": "display_data"
    },
    {
     "data": {
      "application/vnd.jupyter.widget-view+json": {
       "model_id": "a3f93f41bd384ba39cc0c8568977aed9",
       "version_major": 2,
       "version_minor": 0
      },
      "text/plain": [
       "  0%|          | 0/1000 [00:00<?, ?it/s]"
      ]
     },
     "metadata": {},
     "output_type": "display_data"
    },
    {
     "name": "stdout",
     "output_type": "stream",
     "text": [
      "Accuracy: 81.440\n",
      "Training Loss: 44216511.7775 \tValidation Loss: 5463.7529\n",
      "\n",
      "Running epoch: 8\n"
     ]
    },
    {
     "data": {
      "application/vnd.jupyter.widget-view+json": {
       "model_id": "30315740322e449fa6344ab3ae4a0ff0",
       "version_major": 2,
       "version_minor": 0
      },
      "text/plain": [
       "  0%|          | 0/4000 [00:00<?, ?it/s]"
      ]
     },
     "metadata": {},
     "output_type": "display_data"
    },
    {
     "data": {
      "application/vnd.jupyter.widget-view+json": {
       "model_id": "bab1987612f44861bfd04076619a76c4",
       "version_major": 2,
       "version_minor": 0
      },
      "text/plain": [
       "  0%|          | 0/1000 [00:00<?, ?it/s]"
      ]
     },
     "metadata": {},
     "output_type": "display_data"
    },
    {
     "data": {
      "application/vnd.jupyter.widget-view+json": {
       "model_id": "d19a2195730b49c3b9e88eaab9ef5d4e",
       "version_major": 2,
       "version_minor": 0
      },
      "text/plain": [
       "  0%|          | 0/1000 [00:00<?, ?it/s]"
      ]
     },
     "metadata": {},
     "output_type": "display_data"
    },
    {
     "name": "stdout",
     "output_type": "stream",
     "text": [
      "Accuracy: 82.500\n",
      "Training Loss: 38331126.8072 \tValidation Loss: 5280.0623\n",
      "\n",
      "Running epoch: 9\n"
     ]
    },
    {
     "data": {
      "application/vnd.jupyter.widget-view+json": {
       "model_id": "67b131b6021c4a81a921374394847c8f",
       "version_major": 2,
       "version_minor": 0
      },
      "text/plain": [
       "  0%|          | 0/4000 [00:00<?, ?it/s]"
      ]
     },
     "metadata": {},
     "output_type": "display_data"
    },
    {
     "data": {
      "application/vnd.jupyter.widget-view+json": {
       "model_id": "899eb1960e444fb2862f1852149335d7",
       "version_major": 2,
       "version_minor": 0
      },
      "text/plain": [
       "  0%|          | 0/1000 [00:00<?, ?it/s]"
      ]
     },
     "metadata": {},
     "output_type": "display_data"
    },
    {
     "data": {
      "application/vnd.jupyter.widget-view+json": {
       "model_id": "5aa9b79c1c9d44f6ac87a4d72a544a1e",
       "version_major": 2,
       "version_minor": 0
      },
      "text/plain": [
       "  0%|          | 0/1000 [00:00<?, ?it/s]"
      ]
     },
     "metadata": {},
     "output_type": "display_data"
    },
    {
     "name": "stdout",
     "output_type": "stream",
     "text": [
      "Accuracy: 83.780\n",
      "Training Loss: 33933881.8383 \tValidation Loss: 4851.8528\n",
      "\n",
      "Running epoch: 10\n"
     ]
    },
    {
     "data": {
      "application/vnd.jupyter.widget-view+json": {
       "model_id": "b7d199e970db4752902a19d807602778",
       "version_major": 2,
       "version_minor": 0
      },
      "text/plain": [
       "  0%|          | 0/4000 [00:00<?, ?it/s]"
      ]
     },
     "metadata": {},
     "output_type": "display_data"
    },
    {
     "data": {
      "application/vnd.jupyter.widget-view+json": {
       "model_id": "b9cb88037acd4adfb188e154e778f271",
       "version_major": 2,
       "version_minor": 0
      },
      "text/plain": [
       "  0%|          | 0/1000 [00:00<?, ?it/s]"
      ]
     },
     "metadata": {},
     "output_type": "display_data"
    },
    {
     "data": {
      "application/vnd.jupyter.widget-view+json": {
       "model_id": "57b9a375582146c7804eb527204e49d7",
       "version_major": 2,
       "version_minor": 0
      },
      "text/plain": [
       "  0%|          | 0/1000 [00:00<?, ?it/s]"
      ]
     },
     "metadata": {},
     "output_type": "display_data"
    },
    {
     "name": "stdout",
     "output_type": "stream",
     "text": [
      "Accuracy: 83.300\n",
      "Training Loss: 29465971.4905 \tValidation Loss: 5014.3129\n",
      "\n",
      "Running epoch: 11\n"
     ]
    },
    {
     "data": {
      "application/vnd.jupyter.widget-view+json": {
       "model_id": "e731f78dd07647b48e6f86b79f3abcf2",
       "version_major": 2,
       "version_minor": 0
      },
      "text/plain": [
       "  0%|          | 0/4000 [00:00<?, ?it/s]"
      ]
     },
     "metadata": {},
     "output_type": "display_data"
    },
    {
     "data": {
      "application/vnd.jupyter.widget-view+json": {
       "model_id": "4706a438a0824717ab5dae4220ae30e8",
       "version_major": 2,
       "version_minor": 0
      },
      "text/plain": [
       "  0%|          | 0/1000 [00:00<?, ?it/s]"
      ]
     },
     "metadata": {},
     "output_type": "display_data"
    },
    {
     "data": {
      "application/vnd.jupyter.widget-view+json": {
       "model_id": "2f827be9380345af8bdeaaf7d28b23bd",
       "version_major": 2,
       "version_minor": 0
      },
      "text/plain": [
       "  0%|          | 0/1000 [00:00<?, ?it/s]"
      ]
     },
     "metadata": {},
     "output_type": "display_data"
    },
    {
     "name": "stdout",
     "output_type": "stream",
     "text": [
      "Accuracy: 83.720\n",
      "Training Loss: 25251392.5325 \tValidation Loss: 5168.6331\n",
      "\n",
      "Running epoch: 12\n"
     ]
    },
    {
     "data": {
      "application/vnd.jupyter.widget-view+json": {
       "model_id": "2d978da691f24491a5ab9b187bf9523c",
       "version_major": 2,
       "version_minor": 0
      },
      "text/plain": [
       "  0%|          | 0/4000 [00:00<?, ?it/s]"
      ]
     },
     "metadata": {},
     "output_type": "display_data"
    },
    {
     "data": {
      "application/vnd.jupyter.widget-view+json": {
       "model_id": "e2165a1fc0f142dcaf0e88769c6dd0e6",
       "version_major": 2,
       "version_minor": 0
      },
      "text/plain": [
       "  0%|          | 0/1000 [00:00<?, ?it/s]"
      ]
     },
     "metadata": {},
     "output_type": "display_data"
    },
    {
     "data": {
      "application/vnd.jupyter.widget-view+json": {
       "model_id": "7ac107b9aa384958892211af06fd2a67",
       "version_major": 2,
       "version_minor": 0
      },
      "text/plain": [
       "  0%|          | 0/1000 [00:00<?, ?it/s]"
      ]
     },
     "metadata": {},
     "output_type": "display_data"
    },
    {
     "name": "stdout",
     "output_type": "stream",
     "text": [
      "Accuracy: 84.570\n",
      "Training Loss: 21764692.0058 \tValidation Loss: 4986.9652\n",
      "\n",
      "Running epoch: 13\n"
     ]
    },
    {
     "data": {
      "application/vnd.jupyter.widget-view+json": {
       "model_id": "b75d378cde5e4d06b858045b4b082472",
       "version_major": 2,
       "version_minor": 0
      },
      "text/plain": [
       "  0%|          | 0/4000 [00:00<?, ?it/s]"
      ]
     },
     "metadata": {},
     "output_type": "display_data"
    },
    {
     "data": {
      "application/vnd.jupyter.widget-view+json": {
       "model_id": "137fec9b4c404030b32d45bdd17b4476",
       "version_major": 2,
       "version_minor": 0
      },
      "text/plain": [
       "  0%|          | 0/1000 [00:00<?, ?it/s]"
      ]
     },
     "metadata": {},
     "output_type": "display_data"
    },
    {
     "data": {
      "application/vnd.jupyter.widget-view+json": {
       "model_id": "45313843c69f4fb3bec92357adcb8c61",
       "version_major": 2,
       "version_minor": 0
      },
      "text/plain": [
       "  0%|          | 0/1000 [00:00<?, ?it/s]"
      ]
     },
     "metadata": {},
     "output_type": "display_data"
    },
    {
     "name": "stdout",
     "output_type": "stream",
     "text": [
      "Accuracy: 84.480\n",
      "Training Loss: 18982762.4983 \tValidation Loss: 5376.7721\n",
      "\n",
      "Running epoch: 14\n"
     ]
    },
    {
     "data": {
      "application/vnd.jupyter.widget-view+json": {
       "model_id": "0873beb57f7a4cc6875d49587eeb4726",
       "version_major": 2,
       "version_minor": 0
      },
      "text/plain": [
       "  0%|          | 0/4000 [00:00<?, ?it/s]"
      ]
     },
     "metadata": {},
     "output_type": "display_data"
    },
    {
     "data": {
      "application/vnd.jupyter.widget-view+json": {
       "model_id": "d0926cb24b3f458fa430ae4623945ed0",
       "version_major": 2,
       "version_minor": 0
      },
      "text/plain": [
       "  0%|          | 0/1000 [00:00<?, ?it/s]"
      ]
     },
     "metadata": {},
     "output_type": "display_data"
    },
    {
     "data": {
      "application/vnd.jupyter.widget-view+json": {
       "model_id": "f05fb09d40f84c1b9054ffc93e5d5972",
       "version_major": 2,
       "version_minor": 0
      },
      "text/plain": [
       "  0%|          | 0/1000 [00:00<?, ?it/s]"
      ]
     },
     "metadata": {},
     "output_type": "display_data"
    },
    {
     "name": "stdout",
     "output_type": "stream",
     "text": [
      "Accuracy: 84.630\n",
      "Training Loss: 16662606.2568 \tValidation Loss: 5363.8312\n",
      "\n",
      "Running epoch: 15\n"
     ]
    },
    {
     "data": {
      "application/vnd.jupyter.widget-view+json": {
       "model_id": "7fc506f1016c4647ae47287fd24923f4",
       "version_major": 2,
       "version_minor": 0
      },
      "text/plain": [
       "  0%|          | 0/4000 [00:00<?, ?it/s]"
      ]
     },
     "metadata": {},
     "output_type": "display_data"
    },
    {
     "data": {
      "application/vnd.jupyter.widget-view+json": {
       "model_id": "1f72f3d083f24c65b380d2e27e8f913c",
       "version_major": 2,
       "version_minor": 0
      },
      "text/plain": [
       "  0%|          | 0/1000 [00:00<?, ?it/s]"
      ]
     },
     "metadata": {},
     "output_type": "display_data"
    },
    {
     "data": {
      "application/vnd.jupyter.widget-view+json": {
       "model_id": "ee91d9e9e8a54c71b970f9a665d8a76b",
       "version_major": 2,
       "version_minor": 0
      },
      "text/plain": [
       "  0%|          | 0/1000 [00:00<?, ?it/s]"
      ]
     },
     "metadata": {},
     "output_type": "display_data"
    },
    {
     "name": "stdout",
     "output_type": "stream",
     "text": [
      "Accuracy: 84.270\n",
      "Training Loss: 14653875.8226 \tValidation Loss: 5661.9814\n",
      "\n",
      "Running epoch: 16\n"
     ]
    },
    {
     "data": {
      "application/vnd.jupyter.widget-view+json": {
       "model_id": "cd1306729d314555878919ff807f6a71",
       "version_major": 2,
       "version_minor": 0
      },
      "text/plain": [
       "  0%|          | 0/4000 [00:00<?, ?it/s]"
      ]
     },
     "metadata": {},
     "output_type": "display_data"
    },
    {
     "data": {
      "application/vnd.jupyter.widget-view+json": {
       "model_id": "b692c8eaba3b47a3abf0154d9c4d41aa",
       "version_major": 2,
       "version_minor": 0
      },
      "text/plain": [
       "  0%|          | 0/1000 [00:00<?, ?it/s]"
      ]
     },
     "metadata": {},
     "output_type": "display_data"
    },
    {
     "data": {
      "application/vnd.jupyter.widget-view+json": {
       "model_id": "43eb21e8c19a4a169949468afaa97ef0",
       "version_major": 2,
       "version_minor": 0
      },
      "text/plain": [
       "  0%|          | 0/1000 [00:00<?, ?it/s]"
      ]
     },
     "metadata": {},
     "output_type": "display_data"
    },
    {
     "name": "stdout",
     "output_type": "stream",
     "text": [
      "Accuracy: 85.070\n",
      "Training Loss: 13022297.4766 \tValidation Loss: 5494.4891\n",
      "\n",
      "Running epoch: 17\n"
     ]
    },
    {
     "data": {
      "application/vnd.jupyter.widget-view+json": {
       "model_id": "4211736c16894ecd8088437249e3d151",
       "version_major": 2,
       "version_minor": 0
      },
      "text/plain": [
       "  0%|          | 0/4000 [00:00<?, ?it/s]"
      ]
     },
     "metadata": {},
     "output_type": "display_data"
    },
    {
     "data": {
      "application/vnd.jupyter.widget-view+json": {
       "model_id": "f4421e61102e4bc996bdf6fb5526cf89",
       "version_major": 2,
       "version_minor": 0
      },
      "text/plain": [
       "  0%|          | 0/1000 [00:00<?, ?it/s]"
      ]
     },
     "metadata": {},
     "output_type": "display_data"
    },
    {
     "data": {
      "application/vnd.jupyter.widget-view+json": {
       "model_id": "d2b9088f0a414b29bb61ec1c9a8d8850",
       "version_major": 2,
       "version_minor": 0
      },
      "text/plain": [
       "  0%|          | 0/1000 [00:00<?, ?it/s]"
      ]
     },
     "metadata": {},
     "output_type": "display_data"
    },
    {
     "name": "stdout",
     "output_type": "stream",
     "text": [
      "Accuracy: 84.560\n",
      "Training Loss: 11678159.1266 \tValidation Loss: 5931.8200\n",
      "\n",
      "Running epoch: 18\n"
     ]
    },
    {
     "data": {
      "application/vnd.jupyter.widget-view+json": {
       "model_id": "dbb00e8485e74ac396e3e8a347e623a6",
       "version_major": 2,
       "version_minor": 0
      },
      "text/plain": [
       "  0%|          | 0/4000 [00:00<?, ?it/s]"
      ]
     },
     "metadata": {},
     "output_type": "display_data"
    },
    {
     "data": {
      "application/vnd.jupyter.widget-view+json": {
       "model_id": "cd8be91d5f694ce2ae9afc2d8f8caa28",
       "version_major": 2,
       "version_minor": 0
      },
      "text/plain": [
       "  0%|          | 0/1000 [00:00<?, ?it/s]"
      ]
     },
     "metadata": {},
     "output_type": "display_data"
    },
    {
     "data": {
      "application/vnd.jupyter.widget-view+json": {
       "model_id": "7423a8d18cab431fa12b798fb72a79c4",
       "version_major": 2,
       "version_minor": 0
      },
      "text/plain": [
       "  0%|          | 0/1000 [00:00<?, ?it/s]"
      ]
     },
     "metadata": {},
     "output_type": "display_data"
    },
    {
     "name": "stdout",
     "output_type": "stream",
     "text": [
      "Accuracy: 84.750\n",
      "Training Loss: 11039507.5267 \tValidation Loss: 5748.0217\n",
      "\n",
      "Running epoch: 19\n"
     ]
    },
    {
     "data": {
      "application/vnd.jupyter.widget-view+json": {
       "model_id": "80c3ab654d3f43778b7524046ebfb4bc",
       "version_major": 2,
       "version_minor": 0
      },
      "text/plain": [
       "  0%|          | 0/4000 [00:00<?, ?it/s]"
      ]
     },
     "metadata": {},
     "output_type": "display_data"
    },
    {
     "data": {
      "application/vnd.jupyter.widget-view+json": {
       "model_id": "6cf532d9160a41358eaa49f6d509174e",
       "version_major": 2,
       "version_minor": 0
      },
      "text/plain": [
       "  0%|          | 0/1000 [00:00<?, ?it/s]"
      ]
     },
     "metadata": {},
     "output_type": "display_data"
    },
    {
     "data": {
      "application/vnd.jupyter.widget-view+json": {
       "model_id": "daa9488c6d4944209767376365c19953",
       "version_major": 2,
       "version_minor": 0
      },
      "text/plain": [
       "  0%|          | 0/1000 [00:00<?, ?it/s]"
      ]
     },
     "metadata": {},
     "output_type": "display_data"
    },
    {
     "name": "stdout",
     "output_type": "stream",
     "text": [
      "Accuracy: 84.620\n",
      "Training Loss: 10235355.1052 \tValidation Loss: 6174.4283\n",
      "\n",
      "Running epoch: 20\n"
     ]
    },
    {
     "data": {
      "application/vnd.jupyter.widget-view+json": {
       "model_id": "4a047a8b3a954c6b964a011170c0463c",
       "version_major": 2,
       "version_minor": 0
      },
      "text/plain": [
       "  0%|          | 0/4000 [00:00<?, ?it/s]"
      ]
     },
     "metadata": {},
     "output_type": "display_data"
    },
    {
     "data": {
      "application/vnd.jupyter.widget-view+json": {
       "model_id": "3a747c7c0bbe491c96ee20f0ff14e00f",
       "version_major": 2,
       "version_minor": 0
      },
      "text/plain": [
       "  0%|          | 0/1000 [00:00<?, ?it/s]"
      ]
     },
     "metadata": {},
     "output_type": "display_data"
    },
    {
     "data": {
      "application/vnd.jupyter.widget-view+json": {
       "model_id": "320ce210af6e4441b9fbfb854edb97ea",
       "version_major": 2,
       "version_minor": 0
      },
      "text/plain": [
       "  0%|          | 0/1000 [00:00<?, ?it/s]"
      ]
     },
     "metadata": {},
     "output_type": "display_data"
    },
    {
     "name": "stdout",
     "output_type": "stream",
     "text": [
      "Accuracy: 84.780\n",
      "Training Loss: 9640629.6016 \tValidation Loss: 6296.8619\n",
      "\n",
      "Running epoch: 21\n"
     ]
    },
    {
     "data": {
      "application/vnd.jupyter.widget-view+json": {
       "model_id": "b86fe00af172482093bc6da2b79ce2e1",
       "version_major": 2,
       "version_minor": 0
      },
      "text/plain": [
       "  0%|          | 0/4000 [00:00<?, ?it/s]"
      ]
     },
     "metadata": {},
     "output_type": "display_data"
    },
    {
     "data": {
      "application/vnd.jupyter.widget-view+json": {
       "model_id": "ce79289fc9664800b45c4af797416b58",
       "version_major": 2,
       "version_minor": 0
      },
      "text/plain": [
       "  0%|          | 0/1000 [00:00<?, ?it/s]"
      ]
     },
     "metadata": {},
     "output_type": "display_data"
    },
    {
     "name": "stdout",
     "output_type": "stream",
     "text": [
      "Accuracy: 84.610\n",
      "Training Loss: 8645734.5465 \tValidation Loss: 6332.8979\n",
      "\n",
      "Running epoch: 22\n"
     ]
    },
    {
     "data": {
      "application/vnd.jupyter.widget-view+json": {
       "model_id": "f26a4b3694af4c07972b80dbda72baee",
       "version_major": 2,
       "version_minor": 0
      },
      "text/plain": [
       "  0%|          | 0/4000 [00:00<?, ?it/s]"
      ]
     },
     "metadata": {},
     "output_type": "display_data"
    },
    {
     "data": {
      "application/vnd.jupyter.widget-view+json": {
       "model_id": "bc46f512a27e43e6b69d771ef97dad22",
       "version_major": 2,
       "version_minor": 0
      },
      "text/plain": [
       "  0%|          | 0/1000 [00:00<?, ?it/s]"
      ]
     },
     "metadata": {},
     "output_type": "display_data"
    },
    {
     "data": {
      "application/vnd.jupyter.widget-view+json": {
       "model_id": "d7f4f0c9155941099ce3e3630da5f56f",
       "version_major": 2,
       "version_minor": 0
      },
      "text/plain": [
       "  0%|          | 0/1000 [00:00<?, ?it/s]"
      ]
     },
     "metadata": {},
     "output_type": "display_data"
    },
    {
     "name": "stdout",
     "output_type": "stream",
     "text": [
      "Accuracy: 84.690\n",
      "Training Loss: 7969619.4164 \tValidation Loss: 6016.5552\n",
      "\n",
      "Running epoch: 23\n"
     ]
    },
    {
     "data": {
      "application/vnd.jupyter.widget-view+json": {
       "model_id": "386b34c59c40483db3d8e90ab64de835",
       "version_major": 2,
       "version_minor": 0
      },
      "text/plain": [
       "  0%|          | 0/4000 [00:00<?, ?it/s]"
      ]
     },
     "metadata": {},
     "output_type": "display_data"
    },
    {
     "data": {
      "application/vnd.jupyter.widget-view+json": {
       "model_id": "d3eeba8fbb6d4b78ac2c83b63f624047",
       "version_major": 2,
       "version_minor": 0
      },
      "text/plain": [
       "  0%|          | 0/1000 [00:00<?, ?it/s]"
      ]
     },
     "metadata": {},
     "output_type": "display_data"
    },
    {
     "name": "stdout",
     "output_type": "stream",
     "text": [
      "Accuracy: 84.400\n",
      "Training Loss: 7516893.5999 \tValidation Loss: 6776.9583\n",
      "\n",
      "Running epoch: 24\n"
     ]
    },
    {
     "data": {
      "application/vnd.jupyter.widget-view+json": {
       "model_id": "28beb9253d594268998efb2812de2c36",
       "version_major": 2,
       "version_minor": 0
      },
      "text/plain": [
       "  0%|          | 0/4000 [00:00<?, ?it/s]"
      ]
     },
     "metadata": {},
     "output_type": "display_data"
    },
    {
     "data": {
      "application/vnd.jupyter.widget-view+json": {
       "model_id": "865266b17e4b439cbeffb67e2e0f9c42",
       "version_major": 2,
       "version_minor": 0
      },
      "text/plain": [
       "  0%|          | 0/1000 [00:00<?, ?it/s]"
      ]
     },
     "metadata": {},
     "output_type": "display_data"
    },
    {
     "data": {
      "application/vnd.jupyter.widget-view+json": {
       "model_id": "c97cef0577494fca941021cfc616bba9",
       "version_major": 2,
       "version_minor": 0
      },
      "text/plain": [
       "  0%|          | 0/1000 [00:00<?, ?it/s]"
      ]
     },
     "metadata": {},
     "output_type": "display_data"
    },
    {
     "name": "stdout",
     "output_type": "stream",
     "text": [
      "Accuracy: 85.250\n",
      "Training Loss: 7733941.6432 \tValidation Loss: 6143.6985\n",
      "\n",
      "Running epoch: 25\n"
     ]
    },
    {
     "data": {
      "application/vnd.jupyter.widget-view+json": {
       "model_id": "b4ccedbe04ae472db2e9b2dd2367832f",
       "version_major": 2,
       "version_minor": 0
      },
      "text/plain": [
       "  0%|          | 0/4000 [00:00<?, ?it/s]"
      ]
     },
     "metadata": {},
     "output_type": "display_data"
    },
    {
     "data": {
      "application/vnd.jupyter.widget-view+json": {
       "model_id": "e30cc022978d44e0a6cf3f072c7a7ffc",
       "version_major": 2,
       "version_minor": 0
      },
      "text/plain": [
       "  0%|          | 0/1000 [00:00<?, ?it/s]"
      ]
     },
     "metadata": {},
     "output_type": "display_data"
    },
    {
     "name": "stdout",
     "output_type": "stream",
     "text": [
      "Accuracy: 84.240\n",
      "Training Loss: 7472835.2211 \tValidation Loss: 6629.1580\n",
      "\n",
      "Running epoch: 26\n"
     ]
    },
    {
     "data": {
      "application/vnd.jupyter.widget-view+json": {
       "model_id": "5597c80bf29e4834bd052e4a206d6699",
       "version_major": 2,
       "version_minor": 0
      },
      "text/plain": [
       "  0%|          | 0/4000 [00:00<?, ?it/s]"
      ]
     },
     "metadata": {},
     "output_type": "display_data"
    },
    {
     "data": {
      "application/vnd.jupyter.widget-view+json": {
       "model_id": "dca4019b64da4352ab564f51fec7950d",
       "version_major": 2,
       "version_minor": 0
      },
      "text/plain": [
       "  0%|          | 0/1000 [00:00<?, ?it/s]"
      ]
     },
     "metadata": {},
     "output_type": "display_data"
    },
    {
     "data": {
      "application/vnd.jupyter.widget-view+json": {
       "model_id": "dcfb20caebf844dfb59cb6ea173fdab8",
       "version_major": 2,
       "version_minor": 0
      },
      "text/plain": [
       "  0%|          | 0/1000 [00:00<?, ?it/s]"
      ]
     },
     "metadata": {},
     "output_type": "display_data"
    },
    {
     "name": "stdout",
     "output_type": "stream",
     "text": [
      "Accuracy: 84.750\n",
      "Training Loss: 6705754.7752 \tValidation Loss: 6919.4367\n",
      "\n",
      "Running epoch: 27\n"
     ]
    },
    {
     "data": {
      "application/vnd.jupyter.widget-view+json": {
       "model_id": "32a46b34b1324ce8bca944e38f4dbbc3",
       "version_major": 2,
       "version_minor": 0
      },
      "text/plain": [
       "  0%|          | 0/4000 [00:00<?, ?it/s]"
      ]
     },
     "metadata": {},
     "output_type": "display_data"
    },
    {
     "data": {
      "application/vnd.jupyter.widget-view+json": {
       "model_id": "3a2e6bbbfb684fcc9e0d1cc476a0fd50",
       "version_major": 2,
       "version_minor": 0
      },
      "text/plain": [
       "  0%|          | 0/1000 [00:00<?, ?it/s]"
      ]
     },
     "metadata": {},
     "output_type": "display_data"
    },
    {
     "data": {
      "application/vnd.jupyter.widget-view+json": {
       "model_id": "2c97e941709b492abaeecfa496bfd103",
       "version_major": 2,
       "version_minor": 0
      },
      "text/plain": [
       "  0%|          | 0/1000 [00:00<?, ?it/s]"
      ]
     },
     "metadata": {},
     "output_type": "display_data"
    },
    {
     "name": "stdout",
     "output_type": "stream",
     "text": [
      "Accuracy: 84.920\n",
      "Training Loss: 6535763.0551 \tValidation Loss: 6790.8710\n",
      "\n",
      "Running epoch: 28\n"
     ]
    },
    {
     "data": {
      "application/vnd.jupyter.widget-view+json": {
       "model_id": "afad52b0711647d297b4704054c0546c",
       "version_major": 2,
       "version_minor": 0
      },
      "text/plain": [
       "  0%|          | 0/4000 [00:00<?, ?it/s]"
      ]
     },
     "metadata": {},
     "output_type": "display_data"
    },
    {
     "data": {
      "application/vnd.jupyter.widget-view+json": {
       "model_id": "4db3660fcf414024bc8eb749af4c8586",
       "version_major": 2,
       "version_minor": 0
      },
      "text/plain": [
       "  0%|          | 0/1000 [00:00<?, ?it/s]"
      ]
     },
     "metadata": {},
     "output_type": "display_data"
    },
    {
     "data": {
      "application/vnd.jupyter.widget-view+json": {
       "model_id": "921c6dc1a6e447b08c76f97efa69e905",
       "version_major": 2,
       "version_minor": 0
      },
      "text/plain": [
       "  0%|          | 0/1000 [00:00<?, ?it/s]"
      ]
     },
     "metadata": {},
     "output_type": "display_data"
    },
    {
     "name": "stdout",
     "output_type": "stream",
     "text": [
      "Accuracy: 85.290\n",
      "Training Loss: 5878893.2204 \tValidation Loss: 6985.1719\n",
      "\n",
      "Running epoch: 29\n"
     ]
    },
    {
     "data": {
      "application/vnd.jupyter.widget-view+json": {
       "model_id": "fa512d2c1e864b6a8247789560ac955f",
       "version_major": 2,
       "version_minor": 0
      },
      "text/plain": [
       "  0%|          | 0/4000 [00:00<?, ?it/s]"
      ]
     },
     "metadata": {},
     "output_type": "display_data"
    },
    {
     "data": {
      "application/vnd.jupyter.widget-view+json": {
       "model_id": "1f04087036404e6d9ce135d38f1bc0b6",
       "version_major": 2,
       "version_minor": 0
      },
      "text/plain": [
       "  0%|          | 0/1000 [00:00<?, ?it/s]"
      ]
     },
     "metadata": {},
     "output_type": "display_data"
    },
    {
     "name": "stdout",
     "output_type": "stream",
     "text": [
      "Accuracy: 84.400\n",
      "Training Loss: 5780314.0485 \tValidation Loss: 6585.2061\n",
      "\n",
      "Running epoch: 30\n"
     ]
    },
    {
     "data": {
      "application/vnd.jupyter.widget-view+json": {
       "model_id": "7f2a30862eec47039dac0d1689e7185f",
       "version_major": 2,
       "version_minor": 0
      },
      "text/plain": [
       "  0%|          | 0/4000 [00:00<?, ?it/s]"
      ]
     },
     "metadata": {},
     "output_type": "display_data"
    },
    {
     "data": {
      "application/vnd.jupyter.widget-view+json": {
       "model_id": "a59c54fd32574a5cb326184bac0e79f9",
       "version_major": 2,
       "version_minor": 0
      },
      "text/plain": [
       "  0%|          | 0/1000 [00:00<?, ?it/s]"
      ]
     },
     "metadata": {},
     "output_type": "display_data"
    },
    {
     "name": "stdout",
     "output_type": "stream",
     "text": [
      "Accuracy: 84.630\n",
      "Training Loss: 5742876.6241 \tValidation Loss: 6853.4261\n",
      "\n",
      "Running epoch: 31\n"
     ]
    },
    {
     "data": {
      "application/vnd.jupyter.widget-view+json": {
       "model_id": "fc0e87b7d4e147efa739f054866608d6",
       "version_major": 2,
       "version_minor": 0
      },
      "text/plain": [
       "  0%|          | 0/4000 [00:00<?, ?it/s]"
      ]
     },
     "metadata": {},
     "output_type": "display_data"
    },
    {
     "data": {
      "application/vnd.jupyter.widget-view+json": {
       "model_id": "d1154cdcea974730a5652483ca987a6b",
       "version_major": 2,
       "version_minor": 0
      },
      "text/plain": [
       "  0%|          | 0/1000 [00:00<?, ?it/s]"
      ]
     },
     "metadata": {},
     "output_type": "display_data"
    },
    {
     "name": "stdout",
     "output_type": "stream",
     "text": [
      "Accuracy: 84.440\n",
      "Training Loss: 5423164.8849 \tValidation Loss: 7520.2581\n",
      "\n",
      "Running epoch: 32\n"
     ]
    },
    {
     "data": {
      "application/vnd.jupyter.widget-view+json": {
       "model_id": "4c692c36095742919f2edf9e4cbde893",
       "version_major": 2,
       "version_minor": 0
      },
      "text/plain": [
       "  0%|          | 0/4000 [00:00<?, ?it/s]"
      ]
     },
     "metadata": {},
     "output_type": "display_data"
    },
    {
     "data": {
      "application/vnd.jupyter.widget-view+json": {
       "model_id": "e9b4b87fe5214431885504251b961d74",
       "version_major": 2,
       "version_minor": 0
      },
      "text/plain": [
       "  0%|          | 0/1000 [00:00<?, ?it/s]"
      ]
     },
     "metadata": {},
     "output_type": "display_data"
    },
    {
     "data": {
      "application/vnd.jupyter.widget-view+json": {
       "model_id": "a8d8c8a32fe2427ba23df5ae5990b15b",
       "version_major": 2,
       "version_minor": 0
      },
      "text/plain": [
       "  0%|          | 0/1000 [00:00<?, ?it/s]"
      ]
     },
     "metadata": {},
     "output_type": "display_data"
    },
    {
     "name": "stdout",
     "output_type": "stream",
     "text": [
      "Accuracy: 85.200\n",
      "Training Loss: 5703217.5973 \tValidation Loss: 6913.7886\n",
      "\n",
      "Running epoch: 33\n"
     ]
    },
    {
     "data": {
      "application/vnd.jupyter.widget-view+json": {
       "model_id": "85f99d985dad4094affcaa9405bcc588",
       "version_major": 2,
       "version_minor": 0
      },
      "text/plain": [
       "  0%|          | 0/4000 [00:00<?, ?it/s]"
      ]
     },
     "metadata": {},
     "output_type": "display_data"
    },
    {
     "data": {
      "application/vnd.jupyter.widget-view+json": {
       "model_id": "64f7b66f604d4acb88fa2469f15d1222",
       "version_major": 2,
       "version_minor": 0
      },
      "text/plain": [
       "  0%|          | 0/1000 [00:00<?, ?it/s]"
      ]
     },
     "metadata": {},
     "output_type": "display_data"
    },
    {
     "data": {
      "application/vnd.jupyter.widget-view+json": {
       "model_id": "cebf1bd093f24b7ebdf5c97dce83f846",
       "version_major": 2,
       "version_minor": 0
      },
      "text/plain": [
       "  0%|          | 0/1000 [00:00<?, ?it/s]"
      ]
     },
     "metadata": {},
     "output_type": "display_data"
    },
    {
     "name": "stdout",
     "output_type": "stream",
     "text": [
      "Accuracy: 85.370\n",
      "Training Loss: 5125972.7261 \tValidation Loss: 6861.6148\n",
      "\n",
      "Running epoch: 34\n"
     ]
    },
    {
     "data": {
      "application/vnd.jupyter.widget-view+json": {
       "model_id": "b9e0272d877940deac802f8c4a38cf18",
       "version_major": 2,
       "version_minor": 0
      },
      "text/plain": [
       "  0%|          | 0/4000 [00:00<?, ?it/s]"
      ]
     },
     "metadata": {},
     "output_type": "display_data"
    },
    {
     "data": {
      "application/vnd.jupyter.widget-view+json": {
       "model_id": "ea73c0b401724436a382059ebc72cb73",
       "version_major": 2,
       "version_minor": 0
      },
      "text/plain": [
       "  0%|          | 0/1000 [00:00<?, ?it/s]"
      ]
     },
     "metadata": {},
     "output_type": "display_data"
    },
    {
     "data": {
      "application/vnd.jupyter.widget-view+json": {
       "model_id": "73e3460a9b3f44f09d0a1e82f271a84e",
       "version_major": 2,
       "version_minor": 0
      },
      "text/plain": [
       "  0%|          | 0/1000 [00:00<?, ?it/s]"
      ]
     },
     "metadata": {},
     "output_type": "display_data"
    },
    {
     "name": "stdout",
     "output_type": "stream",
     "text": [
      "Accuracy: 85.310\n",
      "Training Loss: 5077914.0873 \tValidation Loss: 6998.0855\n",
      "\n",
      "Running epoch: 35\n"
     ]
    },
    {
     "data": {
      "application/vnd.jupyter.widget-view+json": {
       "model_id": "924e0ebe9b524879b2276d69433f53f3",
       "version_major": 2,
       "version_minor": 0
      },
      "text/plain": [
       "  0%|          | 0/4000 [00:00<?, ?it/s]"
      ]
     },
     "metadata": {},
     "output_type": "display_data"
    },
    {
     "data": {
      "application/vnd.jupyter.widget-view+json": {
       "model_id": "a8e879f7b554417a8d98d7a676103cc8",
       "version_major": 2,
       "version_minor": 0
      },
      "text/plain": [
       "  0%|          | 0/1000 [00:00<?, ?it/s]"
      ]
     },
     "metadata": {},
     "output_type": "display_data"
    },
    {
     "name": "stdout",
     "output_type": "stream",
     "text": [
      "Accuracy: 84.710\n",
      "Training Loss: 4759718.7236 \tValidation Loss: 7200.6539\n",
      "\n",
      "Running epoch: 36\n"
     ]
    },
    {
     "data": {
      "application/vnd.jupyter.widget-view+json": {
       "model_id": "36fe72c0329e4ffe9e6ec2bc640c40b4",
       "version_major": 2,
       "version_minor": 0
      },
      "text/plain": [
       "  0%|          | 0/4000 [00:00<?, ?it/s]"
      ]
     },
     "metadata": {},
     "output_type": "display_data"
    },
    {
     "data": {
      "application/vnd.jupyter.widget-view+json": {
       "model_id": "3485e99cf1e44204be27677ac84ef8a6",
       "version_major": 2,
       "version_minor": 0
      },
      "text/plain": [
       "  0%|          | 0/1000 [00:00<?, ?it/s]"
      ]
     },
     "metadata": {},
     "output_type": "display_data"
    },
    {
     "name": "stdout",
     "output_type": "stream",
     "text": [
      "Accuracy: 85.000\n",
      "Training Loss: 4654943.9803 \tValidation Loss: 7177.0007\n",
      "\n",
      "Running epoch: 37\n"
     ]
    },
    {
     "data": {
      "application/vnd.jupyter.widget-view+json": {
       "model_id": "716addf828674665b0dae2317086d3c8",
       "version_major": 2,
       "version_minor": 0
      },
      "text/plain": [
       "  0%|          | 0/4000 [00:00<?, ?it/s]"
      ]
     },
     "metadata": {},
     "output_type": "display_data"
    },
    {
     "data": {
      "application/vnd.jupyter.widget-view+json": {
       "model_id": "e47d98dea12342779c3ea172eea99dbb",
       "version_major": 2,
       "version_minor": 0
      },
      "text/plain": [
       "  0%|          | 0/1000 [00:00<?, ?it/s]"
      ]
     },
     "metadata": {},
     "output_type": "display_data"
    },
    {
     "name": "stdout",
     "output_type": "stream",
     "text": [
      "Accuracy: 85.070\n",
      "Training Loss: 4723803.5641 \tValidation Loss: 7146.6722\n",
      "\n",
      "Running epoch: 38\n"
     ]
    },
    {
     "data": {
      "application/vnd.jupyter.widget-view+json": {
       "model_id": "4ecb86dd13d64d4b931afd7edf3f07ba",
       "version_major": 2,
       "version_minor": 0
      },
      "text/plain": [
       "  0%|          | 0/4000 [00:00<?, ?it/s]"
      ]
     },
     "metadata": {},
     "output_type": "display_data"
    },
    {
     "data": {
      "application/vnd.jupyter.widget-view+json": {
       "model_id": "5bad5db410f54f7d84472aef7623b9a4",
       "version_major": 2,
       "version_minor": 0
      },
      "text/plain": [
       "  0%|          | 0/1000 [00:00<?, ?it/s]"
      ]
     },
     "metadata": {},
     "output_type": "display_data"
    },
    {
     "data": {
      "application/vnd.jupyter.widget-view+json": {
       "model_id": "f691d6c4099a4e23b000f8e7cdcad204",
       "version_major": 2,
       "version_minor": 0
      },
      "text/plain": [
       "  0%|          | 0/1000 [00:00<?, ?it/s]"
      ]
     },
     "metadata": {},
     "output_type": "display_data"
    },
    {
     "name": "stdout",
     "output_type": "stream",
     "text": [
      "Accuracy: 86.250\n",
      "Training Loss: 4435258.0496 \tValidation Loss: 7098.1611\n",
      "\n",
      "Running epoch: 39\n"
     ]
    },
    {
     "data": {
      "application/vnd.jupyter.widget-view+json": {
       "model_id": "368a354bfb93455b991f2f74f5d3323a",
       "version_major": 2,
       "version_minor": 0
      },
      "text/plain": [
       "  0%|          | 0/4000 [00:00<?, ?it/s]"
      ]
     },
     "metadata": {},
     "output_type": "display_data"
    },
    {
     "data": {
      "application/vnd.jupyter.widget-view+json": {
       "model_id": "f49b3c2adb2441d3a66047975fcc4727",
       "version_major": 2,
       "version_minor": 0
      },
      "text/plain": [
       "  0%|          | 0/1000 [00:00<?, ?it/s]"
      ]
     },
     "metadata": {},
     "output_type": "display_data"
    },
    {
     "name": "stdout",
     "output_type": "stream",
     "text": [
      "Accuracy: 84.010\n",
      "Training Loss: 4596724.4313 \tValidation Loss: 7834.9512\n",
      "\n",
      "Running epoch: 40\n"
     ]
    },
    {
     "data": {
      "application/vnd.jupyter.widget-view+json": {
       "model_id": "5f1aaf544d3942fbb77e3641252d23ae",
       "version_major": 2,
       "version_minor": 0
      },
      "text/plain": [
       "  0%|          | 0/4000 [00:00<?, ?it/s]"
      ]
     },
     "metadata": {},
     "output_type": "display_data"
    },
    {
     "data": {
      "application/vnd.jupyter.widget-view+json": {
       "model_id": "cc05f43ccf4240899eefd8e2fe922d02",
       "version_major": 2,
       "version_minor": 0
      },
      "text/plain": [
       "  0%|          | 0/1000 [00:00<?, ?it/s]"
      ]
     },
     "metadata": {},
     "output_type": "display_data"
    },
    {
     "name": "stdout",
     "output_type": "stream",
     "text": [
      "Accuracy: 85.170\n",
      "Training Loss: 4173930.8684 \tValidation Loss: 7657.5303\n",
      "\n",
      "Running epoch: 41\n"
     ]
    },
    {
     "data": {
      "application/vnd.jupyter.widget-view+json": {
       "model_id": "00082041ae5547789781b2e6f2529897",
       "version_major": 2,
       "version_minor": 0
      },
      "text/plain": [
       "  0%|          | 0/4000 [00:00<?, ?it/s]"
      ]
     },
     "metadata": {},
     "output_type": "display_data"
    },
    {
     "data": {
      "application/vnd.jupyter.widget-view+json": {
       "model_id": "c772e50be5444e4e88301dbd9f7436f5",
       "version_major": 2,
       "version_minor": 0
      },
      "text/plain": [
       "  0%|          | 0/1000 [00:00<?, ?it/s]"
      ]
     },
     "metadata": {},
     "output_type": "display_data"
    },
    {
     "data": {
      "application/vnd.jupyter.widget-view+json": {
       "model_id": "4dec71e340e44df184ffc880aeb00924",
       "version_major": 2,
       "version_minor": 0
      },
      "text/plain": [
       "  0%|          | 0/1000 [00:00<?, ?it/s]"
      ]
     },
     "metadata": {},
     "output_type": "display_data"
    },
    {
     "name": "stdout",
     "output_type": "stream",
     "text": [
      "Accuracy: 85.300\n",
      "Training Loss: 4031667.1410 \tValidation Loss: 7293.3299\n",
      "\n",
      "Running epoch: 42\n"
     ]
    },
    {
     "data": {
      "application/vnd.jupyter.widget-view+json": {
       "model_id": "f8cf4aed90be4ea2b26841e94e19cd4a",
       "version_major": 2,
       "version_minor": 0
      },
      "text/plain": [
       "  0%|          | 0/4000 [00:00<?, ?it/s]"
      ]
     },
     "metadata": {},
     "output_type": "display_data"
    },
    {
     "data": {
      "application/vnd.jupyter.widget-view+json": {
       "model_id": "5827d42ea3804c7b82417584e755504d",
       "version_major": 2,
       "version_minor": 0
      },
      "text/plain": [
       "  0%|          | 0/1000 [00:00<?, ?it/s]"
      ]
     },
     "metadata": {},
     "output_type": "display_data"
    },
    {
     "data": {
      "application/vnd.jupyter.widget-view+json": {
       "model_id": "0d6ef6c46d494612b96758cac202233b",
       "version_major": 2,
       "version_minor": 0
      },
      "text/plain": [
       "  0%|          | 0/1000 [00:00<?, ?it/s]"
      ]
     },
     "metadata": {},
     "output_type": "display_data"
    },
    {
     "name": "stdout",
     "output_type": "stream",
     "text": [
      "Accuracy: 85.410\n",
      "Training Loss: 3926014.0795 \tValidation Loss: 7570.2363\n",
      "\n",
      "Running epoch: 43\n"
     ]
    },
    {
     "data": {
      "application/vnd.jupyter.widget-view+json": {
       "model_id": "22011be4a0f04461a79f186cb7cc7752",
       "version_major": 2,
       "version_minor": 0
      },
      "text/plain": [
       "  0%|          | 0/4000 [00:00<?, ?it/s]"
      ]
     },
     "metadata": {},
     "output_type": "display_data"
    },
    {
     "data": {
      "application/vnd.jupyter.widget-view+json": {
       "model_id": "0350802581444e3b83320788a48254d8",
       "version_major": 2,
       "version_minor": 0
      },
      "text/plain": [
       "  0%|          | 0/1000 [00:00<?, ?it/s]"
      ]
     },
     "metadata": {},
     "output_type": "display_data"
    },
    {
     "data": {
      "application/vnd.jupyter.widget-view+json": {
       "model_id": "a139c81d5aaa412f9d4d9b65e4cc62bb",
       "version_major": 2,
       "version_minor": 0
      },
      "text/plain": [
       "  0%|          | 0/1000 [00:00<?, ?it/s]"
      ]
     },
     "metadata": {},
     "output_type": "display_data"
    },
    {
     "name": "stdout",
     "output_type": "stream",
     "text": [
      "Accuracy: 85.330\n",
      "Training Loss: 4322037.8056 \tValidation Loss: 7512.3337\n",
      "\n",
      "Running epoch: 44\n"
     ]
    },
    {
     "data": {
      "application/vnd.jupyter.widget-view+json": {
       "model_id": "dbfa42e222124736bb3c87d51b52490c",
       "version_major": 2,
       "version_minor": 0
      },
      "text/plain": [
       "  0%|          | 0/4000 [00:00<?, ?it/s]"
      ]
     },
     "metadata": {},
     "output_type": "display_data"
    },
    {
     "data": {
      "application/vnd.jupyter.widget-view+json": {
       "model_id": "194a77de471042c3a06c256cdae87de6",
       "version_major": 2,
       "version_minor": 0
      },
      "text/plain": [
       "  0%|          | 0/1000 [00:00<?, ?it/s]"
      ]
     },
     "metadata": {},
     "output_type": "display_data"
    },
    {
     "name": "stdout",
     "output_type": "stream",
     "text": [
      "Accuracy: 85.140\n",
      "Training Loss: 4050537.7994 \tValidation Loss: 7272.7720\n",
      "\n",
      "Running epoch: 45\n"
     ]
    },
    {
     "data": {
      "application/vnd.jupyter.widget-view+json": {
       "model_id": "57b1ca5bb3a34680bcd65e9da4d8bc5d",
       "version_major": 2,
       "version_minor": 0
      },
      "text/plain": [
       "  0%|          | 0/4000 [00:00<?, ?it/s]"
      ]
     },
     "metadata": {},
     "output_type": "display_data"
    },
    {
     "data": {
      "application/vnd.jupyter.widget-view+json": {
       "model_id": "32e5e49dbace4663bc9410edbf545ad6",
       "version_major": 2,
       "version_minor": 0
      },
      "text/plain": [
       "  0%|          | 0/1000 [00:00<?, ?it/s]"
      ]
     },
     "metadata": {},
     "output_type": "display_data"
    },
    {
     "name": "stdout",
     "output_type": "stream",
     "text": [
      "Accuracy: 84.480\n",
      "Training Loss: 3681327.3018 \tValidation Loss: 7834.2180\n",
      "\n",
      "Running epoch: 46\n"
     ]
    },
    {
     "data": {
      "application/vnd.jupyter.widget-view+json": {
       "model_id": "f21bba4a7380442eb58413df6341ea4b",
       "version_major": 2,
       "version_minor": 0
      },
      "text/plain": [
       "  0%|          | 0/4000 [00:00<?, ?it/s]"
      ]
     },
     "metadata": {},
     "output_type": "display_data"
    }
   ],
   "source": [
    "TOP_ACCURACY_TRACK = 5\n",
    "# max_epoch=120, top_accuracy_track=3, grandstore={},\n",
    "# minepoch=30,epochwindow=10,accwindow=0.35\n",
    "\n",
    "Grandstore=training(max_epoch=240,\n",
    "                    minepoch=120,\n",
    "                    top_accuracy_track=TOP_ACCURACY_TRACK,\n",
    "                    epochwindow=10,\n",
    "                    accwindow=0.25\n",
    "                   )"
   ]
  },
  {
   "cell_type": "code",
   "execution_count": 14,
   "id": "c5b45315",
   "metadata": {},
   "outputs": [
    {
     "name": "stdout",
     "output_type": "stream",
     "text": [
      "Total Run 120 epoch(s)\n",
      "Accuracy MIN: 44.38 / MAX: 87.12\n",
      "\n",
      "Top 5 performing epochs:\n",
      "#1 epoch 117\t||train_acc 87.12%\t||test 86.96%\n",
      "#2 epoch 84\t||train_acc 87.11%\t||test 86.17%\n",
      "#3 epoch 95\t||train_acc 86.91%\t||test 86.62%\n",
      "#4 epoch 78\t||train_acc 86.89%\t||test 86.67%\n",
      "#5 epoch 101\t||train_acc 86.83%\t||test 86.39%\n",
      "\n",
      "Last epoch:\n",
      "epoch 120\t||train_acc 86.71%\t||test 86.89%\n",
      "\n",
      "The model has parameters: 42265050\n"
     ]
    },
    {
     "data": {
      "image/png": "[encoded data removed]",
      "text/plain": [
       "<Figure size 432x288 with 1 Axes>"
      ]
     },
     "metadata": {
      "needs_background": "light"
     },
     "output_type": "display_data"
    }
   ],
   "source": [
    "print(\"Total Run {} epoch(s)\".format(Grandstore['total_epoch_run']))\n",
    "\n",
    "plt.plot(*[range(1,Grandstore['total_epoch_run']+1)],Grandstore['acclog'])\n",
    "print(\"Accuracy MIN: {} / MAX: {}\".format(Grandstore['minacc'],Grandstore['maxacc']))\n",
    "print()\n",
    "print(\"Top {} performing epochs:\".format(TOP_ACCURACY_TRACK))\n",
    "\n",
    "\n",
    "gstm=Grandstore['topmodels']\n",
    "for i in range(TOP_ACCURACY_TRACK):\n",
    "    easy=gstm[TOP_ACCURACY_TRACK-i-1]\n",
    "    print(\"#{} epoch {}\\t||train_acc {}%\\t||test {}%\".format(i+1,easy[2],easy[0],easy[1]))\n",
    "print()\n",
    "print(\"Last epoch:\")\n",
    "lsmd=Grandstore['lastmodel']\n",
    "print(\"epoch {}\\t||train_acc {}%\\t||test {}%\".format(Grandstore['total_epoch_run'],lsmd[0],lsmd[1]))\n",
    "      \n",
    "print()\n",
    "print(\"The model has parameters: {}\".format(get_n_params(model)))\n",
    "#grandstore['lastmodel']=((training_accuracy,train_epoch,thisepochtestresult))\n",
    "# grandstore['lastmodel']=(training_accuracy,thisepochtestresult,epoch+1,train_epoch)"
   ]
  },
  {
   "cell_type": "code",
   "execution_count": 15,
   "id": "ac30dfc1",
   "metadata": {},
   "outputs": [
    {
     "name": "stdout",
     "output_type": "stream",
     "text": [
      "writings done!\n",
      "Files at: grandstore/cifar10_EfficientNetb3_sp20211025023836.pkl\n"
     ]
    }
   ],
   "source": [
    "  \n",
    "f1=open(grandstore_string,\"wb\")\n",
    "pickle.dump(Grandstore,f1)\n",
    "f1.close()\n",
    "\n",
    "print(\"writings done!\")\n",
    "print(\"Files at: \"+grandstore_string)\n",
    "\n",
    "# with open(grandstore_string, 'rb') as file:\n",
    "#     myvar = pickle.load(file)\n",
    "#     print(myvar)"
   ]
  },
  {
   "cell_type": "code",
   "execution_count": null,
   "id": "0a341d62",
   "metadata": {},
   "outputs": [],
   "source": []
  }
 ],
 "metadata": {
  "kernelspec": {
   "display_name": "Python 3 (ipykernel)",
   "language": "python",
   "name": "python3"
  },
  "language_info": {
   "codemirror_mode": {
    "name": "ipython",
    "version": 3
   },
   "file_extension": ".py",
   "mimetype": "text/x-python",
   "name": "python",
   "nbconvert_exporter": "python",
   "pygments_lexer": "ipython3",
   "version": "3.7.11"
  }
 },
 "nbformat": 4,
 "nbformat_minor": 5
}
